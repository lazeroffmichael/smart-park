{
 "cells": [
  {
   "cell_type": "markdown",
   "metadata": {
    "collapsed": true,
    "pycharm": {
     "name": "#%% md\n"
    }
   },
   "source": [
    "4 Coordinate Model Using Full Paths"
   ]
  },
  {
   "cell_type": "code",
   "execution_count": 121,
   "outputs": [],
   "source": [
    "import pandas as pd\n",
    "import numpy as np\n",
    "import tensorflow as tf\n",
    "from matplotlib import pyplot as plt\n",
    "from tensorflow.keras.models import Sequential\n",
    "from tensorflow.keras.layers import Dense, Dropout\n",
    "from tensorflow.keras.callbacks import EarlyStopping\n",
    "from sklearn.preprocessing import MinMaxScaler\n",
    "from sklearn.metrics import classification_report, confusion_matrix\n",
    "from sklearn.model_selection import train_test_split\n",
    "from sklearn.metrics import classification_report, confusion_matrix"
   ],
   "metadata": {
    "collapsed": false,
    "pycharm": {
     "name": "#%%\n"
    }
   }
  },
  {
   "cell_type": "code",
   "execution_count": 122,
   "outputs": [],
   "source": [
    "# get the main paths\n",
    "df = pd.read_csv('../simulations/data/paths.csv')"
   ],
   "metadata": {
    "collapsed": false,
    "pycharm": {
     "name": "#%%\n"
    }
   }
  },
  {
   "cell_type": "code",
   "execution_count": 123,
   "outputs": [
    {
     "name": "stdout",
     "output_type": "stream",
     "text": [
      "<class 'pandas.core.frame.DataFrame'>\n",
      "RangeIndex: 104 entries, 0 to 103\n",
      "Data columns (total 43 columns):\n",
      " #   Column         Non-Null Count  Dtype  \n",
      "---  ------         --------------  -----  \n",
      " 0   Unnamed: 0     104 non-null    int64  \n",
      " 1   name           104 non-null    object \n",
      " 2   latitude_1     104 non-null    float64\n",
      " 3   longitude_1    104 non-null    float64\n",
      " 4   latitude_2     104 non-null    float64\n",
      " 5   longitude_2    104 non-null    float64\n",
      " 6   latitude_3     104 non-null    float64\n",
      " 7   longitude_3    104 non-null    float64\n",
      " 8   latitude_4     104 non-null    float64\n",
      " 9   longitude_4    104 non-null    float64\n",
      " 10  latitude_5     104 non-null    float64\n",
      " 11  longitude_5    104 non-null    float64\n",
      " 12  latitude_6     104 non-null    float64\n",
      " 13  longitude_6    104 non-null    float64\n",
      " 14  latitude_7     104 non-null    float64\n",
      " 15  longitude_7    104 non-null    float64\n",
      " 16  latitude_8     104 non-null    float64\n",
      " 17  longitude_8    104 non-null    float64\n",
      " 18  latitude_9     104 non-null    float64\n",
      " 19  longitude_9    104 non-null    float64\n",
      " 20  latitude_10    104 non-null    float64\n",
      " 21  longitude_10   104 non-null    float64\n",
      " 22  latitude_11    104 non-null    float64\n",
      " 23  longitude_11   104 non-null    float64\n",
      " 24  latitude_12    104 non-null    float64\n",
      " 25  longitude_12   104 non-null    float64\n",
      " 26  latitude_13    104 non-null    float64\n",
      " 27  longitude_13   104 non-null    float64\n",
      " 28  latitude_14    104 non-null    float64\n",
      " 29  longitude_14   104 non-null    float64\n",
      " 30  latitude_15    104 non-null    float64\n",
      " 31  longitude_15   104 non-null    float64\n",
      " 32  latitude_16    104 non-null    float64\n",
      " 33  longitude_16   104 non-null    float64\n",
      " 34  latitude_17    104 non-null    float64\n",
      " 35  longitude_17   104 non-null    float64\n",
      " 36  latitude_18    104 non-null    float64\n",
      " 37  longitude_18   104 non-null    float64\n",
      " 38  latitude_19    104 non-null    float64\n",
      " 39  longitude_19   104 non-null    float64\n",
      " 40  latitude_20    104 non-null    float64\n",
      " 41  longitude_20   104 non-null    float64\n",
      " 42  enter-parking  104 non-null    int64  \n",
      "dtypes: float64(40), int64(2), object(1)\n",
      "memory usage: 35.1+ KB\n"
     ]
    }
   ],
   "source": [
    "df.info()"
   ],
   "metadata": {
    "collapsed": false,
    "pycharm": {
     "name": "#%%\n"
    }
   }
  },
  {
   "cell_type": "code",
   "execution_count": 124,
   "outputs": [
    {
     "data": {
      "text/plain": "   Unnamed: 0            name  latitude_1  longitude_1  latitude_2  \\\n0           0  1_A_Box_Missed   36.111427  -115.141162   36.111381   \n1           1  1_B_Box_Missed   36.109570  -115.139090   36.109629   \n2           2  2_A_Box_Missed   36.109683  -115.140953   36.109689   \n3           3  2_B_Box_Missed   36.111253  -115.139070   36.111180   \n4           4  3_A_Box_Missed   36.109685  -115.141624   36.109745   \n\n   longitude_2  latitude_3  longitude_3  latitude_4  longitude_4  ...  \\\n0  -115.141091   36.111347  -115.141023   36.111308  -115.140967  ...   \n1  -115.139097   36.109682  -115.139100   36.109740  -115.139112  ...   \n2  -115.140888   36.109761  -115.140867   36.109833  -115.140864  ...   \n3  -115.139069   36.111115  -115.139067   36.111023  -115.139059  ...   \n4  -115.141608   36.109776  -115.141538   36.109845  -115.141524  ...   \n\n   longitude_16  latitude_17  longitude_17  latitude_18  longitude_18  \\\n0   -115.140629    36.110556   -115.140430    36.110567   -115.140288   \n1   -115.139466    36.110436   -115.139576    36.110543   -115.139585   \n2   -115.140517    36.110554   -115.140408    36.110570   -115.140231   \n3   -115.139501    36.110641   -115.139535    36.110612   -115.139602   \n4   -115.140643    36.110548   -115.140502    36.110564   -115.140311   \n\n   latitude_19  longitude_19  latitude_20  longitude_20  enter-parking  \n0    36.110562   -115.140142    36.110603   -115.139945              0  \n1    36.110584   -115.139662    36.110601   -115.139848              0  \n2    36.110578   -115.140061    36.110599   -115.139937              0  \n3    36.110591   -115.139709    36.110601   -115.139859              0  \n4    36.110570   -115.140084    36.110597   -115.139945              0  \n\n[5 rows x 43 columns]",
      "text/html": "<div>\n<style scoped>\n    .dataframe tbody tr th:only-of-type {\n        vertical-align: middle;\n    }\n\n    .dataframe tbody tr th {\n        vertical-align: top;\n    }\n\n    .dataframe thead th {\n        text-align: right;\n    }\n</style>\n<table border=\"1\" class=\"dataframe\">\n  <thead>\n    <tr style=\"text-align: right;\">\n      <th></th>\n      <th>Unnamed: 0</th>\n      <th>name</th>\n      <th>latitude_1</th>\n      <th>longitude_1</th>\n      <th>latitude_2</th>\n      <th>longitude_2</th>\n      <th>latitude_3</th>\n      <th>longitude_3</th>\n      <th>latitude_4</th>\n      <th>longitude_4</th>\n      <th>...</th>\n      <th>longitude_16</th>\n      <th>latitude_17</th>\n      <th>longitude_17</th>\n      <th>latitude_18</th>\n      <th>longitude_18</th>\n      <th>latitude_19</th>\n      <th>longitude_19</th>\n      <th>latitude_20</th>\n      <th>longitude_20</th>\n      <th>enter-parking</th>\n    </tr>\n  </thead>\n  <tbody>\n    <tr>\n      <th>0</th>\n      <td>0</td>\n      <td>1_A_Box_Missed</td>\n      <td>36.111427</td>\n      <td>-115.141162</td>\n      <td>36.111381</td>\n      <td>-115.141091</td>\n      <td>36.111347</td>\n      <td>-115.141023</td>\n      <td>36.111308</td>\n      <td>-115.140967</td>\n      <td>...</td>\n      <td>-115.140629</td>\n      <td>36.110556</td>\n      <td>-115.140430</td>\n      <td>36.110567</td>\n      <td>-115.140288</td>\n      <td>36.110562</td>\n      <td>-115.140142</td>\n      <td>36.110603</td>\n      <td>-115.139945</td>\n      <td>0</td>\n    </tr>\n    <tr>\n      <th>1</th>\n      <td>1</td>\n      <td>1_B_Box_Missed</td>\n      <td>36.109570</td>\n      <td>-115.139090</td>\n      <td>36.109629</td>\n      <td>-115.139097</td>\n      <td>36.109682</td>\n      <td>-115.139100</td>\n      <td>36.109740</td>\n      <td>-115.139112</td>\n      <td>...</td>\n      <td>-115.139466</td>\n      <td>36.110436</td>\n      <td>-115.139576</td>\n      <td>36.110543</td>\n      <td>-115.139585</td>\n      <td>36.110584</td>\n      <td>-115.139662</td>\n      <td>36.110601</td>\n      <td>-115.139848</td>\n      <td>0</td>\n    </tr>\n    <tr>\n      <th>2</th>\n      <td>2</td>\n      <td>2_A_Box_Missed</td>\n      <td>36.109683</td>\n      <td>-115.140953</td>\n      <td>36.109689</td>\n      <td>-115.140888</td>\n      <td>36.109761</td>\n      <td>-115.140867</td>\n      <td>36.109833</td>\n      <td>-115.140864</td>\n      <td>...</td>\n      <td>-115.140517</td>\n      <td>36.110554</td>\n      <td>-115.140408</td>\n      <td>36.110570</td>\n      <td>-115.140231</td>\n      <td>36.110578</td>\n      <td>-115.140061</td>\n      <td>36.110599</td>\n      <td>-115.139937</td>\n      <td>0</td>\n    </tr>\n    <tr>\n      <th>3</th>\n      <td>3</td>\n      <td>2_B_Box_Missed</td>\n      <td>36.111253</td>\n      <td>-115.139070</td>\n      <td>36.111180</td>\n      <td>-115.139069</td>\n      <td>36.111115</td>\n      <td>-115.139067</td>\n      <td>36.111023</td>\n      <td>-115.139059</td>\n      <td>...</td>\n      <td>-115.139501</td>\n      <td>36.110641</td>\n      <td>-115.139535</td>\n      <td>36.110612</td>\n      <td>-115.139602</td>\n      <td>36.110591</td>\n      <td>-115.139709</td>\n      <td>36.110601</td>\n      <td>-115.139859</td>\n      <td>0</td>\n    </tr>\n    <tr>\n      <th>4</th>\n      <td>4</td>\n      <td>3_A_Box_Missed</td>\n      <td>36.109685</td>\n      <td>-115.141624</td>\n      <td>36.109745</td>\n      <td>-115.141608</td>\n      <td>36.109776</td>\n      <td>-115.141538</td>\n      <td>36.109845</td>\n      <td>-115.141524</td>\n      <td>...</td>\n      <td>-115.140643</td>\n      <td>36.110548</td>\n      <td>-115.140502</td>\n      <td>36.110564</td>\n      <td>-115.140311</td>\n      <td>36.110570</td>\n      <td>-115.140084</td>\n      <td>36.110597</td>\n      <td>-115.139945</td>\n      <td>0</td>\n    </tr>\n  </tbody>\n</table>\n<p>5 rows × 43 columns</p>\n</div>"
     },
     "execution_count": 124,
     "metadata": {},
     "output_type": "execute_result"
    }
   ],
   "source": [
    "df.head()"
   ],
   "metadata": {
    "collapsed": false,
    "pycharm": {
     "name": "#%%\n"
    }
   }
  },
  {
   "cell_type": "code",
   "execution_count": 125,
   "outputs": [],
   "source": [
    "# Split up\n",
    "def split_data(amount, data):\n",
    "    \"\"\"\n",
    "    Splits the columns of the data and returns a new data frame\n",
    "    Args:\n",
    "        amount:\n",
    "\n",
    "    Returns:\n",
    "\n",
    "    \"\"\"\n",
    "    # Create dataframe columns first\n",
    "    columns = []\n",
    "    for index in range(1, amount + 1):\n",
    "        latitude = 'latitude_' + str(index)\n",
    "        longitude = 'longitude_' + str(index)\n",
    "        columns.append(latitude)\n",
    "        columns.append(longitude)\n",
    "\n",
    "    columns.append('enter-parking')\n",
    "\n",
    "    coord1 = data[data.columns[2:10]].values\n",
    "    coord1 = np.column_stack((coord1, data['enter-parking'].values))\n",
    "\n",
    "    coord2 = data[data.columns[10:18]].values\n",
    "    coord2 = np.column_stack((coord2, data['enter-parking'].values))\n",
    "\n",
    "    coord3 = data[data.columns[18:26]].values\n",
    "    coord3 = np.column_stack((coord3, data['enter-parking'].values))\n",
    "\n",
    "    coord4 = data[data.columns[26:34]].values\n",
    "    coord4 = np.column_stack((coord4, data['enter-parking'].values))\n",
    "\n",
    "    coord5 = data[data.columns[34:42]].values\n",
    "    coord5 = np.column_stack((coord5, data['enter-parking'].values))\n",
    "\n",
    "    all_coords = np.concatenate((coord1, coord2, coord3, coord4, coord5), axis=0)\n",
    "\n",
    "    new_data = pd.DataFrame(all_coords, columns=columns)\n",
    "\n",
    "    new_data = new_data.astype({'enter-parking': np.int})\n",
    "\n",
    "    return new_data\n",
    "\n",
    "new_df = split_data(4, df)\n",
    "\n",
    "pass"
   ],
   "metadata": {
    "collapsed": false,
    "pycharm": {
     "name": "#%%\n"
    }
   }
  },
  {
   "cell_type": "code",
   "execution_count": 126,
   "outputs": [],
   "source": [
    "# Get The cordinates for x\n",
    "x = new_df[new_df.columns[:8]]\n",
    "\n",
    "# Get the last coordinate\n",
    "y = new_df['enter-parking'].values"
   ],
   "metadata": {
    "collapsed": false,
    "pycharm": {
     "name": "#%%\n"
    }
   }
  },
  {
   "cell_type": "code",
   "execution_count": 127,
   "outputs": [
    {
     "name": "stdout",
     "output_type": "stream",
     "text": [
      "     latitude_1  longitude_1  latitude_2  longitude_2  latitude_3  \\\n",
      "0     36.111427  -115.141162   36.111381  -115.141091   36.111347   \n",
      "1     36.109570  -115.139090   36.109629  -115.139097   36.109682   \n",
      "2     36.109683  -115.140953   36.109689  -115.140888   36.109761   \n",
      "3     36.111253  -115.139070   36.111180  -115.139069   36.111115   \n",
      "4     36.109685  -115.141624   36.109745  -115.141608   36.109776   \n",
      "..          ...          ...         ...          ...         ...   \n",
      "515   36.110576  -115.140061   36.110574  -115.140131   36.110587   \n",
      "516   36.111006  -115.140741   36.110878  -115.140732   36.110878   \n",
      "517   36.111812  -115.139628   36.111784  -115.139642   36.111769   \n",
      "518   36.111811  -115.139468   36.111814  -115.139531   36.111802   \n",
      "519   36.111771  -115.139575   36.111792  -115.139598   36.111792   \n",
      "\n",
      "     longitude_3  latitude_4  longitude_4  \n",
      "0    -115.141023   36.111308  -115.140967  \n",
      "1    -115.139100   36.109740  -115.139112  \n",
      "2    -115.140867   36.109833  -115.140864  \n",
      "3    -115.139067   36.111023  -115.139059  \n",
      "4    -115.141538   36.109845  -115.141524  \n",
      "..           ...         ...          ...  \n",
      "515  -115.140196   36.110641  -115.140216  \n",
      "516  -115.140690   36.110871  -115.140648  \n",
      "517  -115.139659   36.111750  -115.139684  \n",
      "518  -115.139618   36.111759  -115.139671  \n",
      "519  -115.139644   36.111757  -115.139671  \n",
      "\n",
      "[520 rows x 8 columns]\n",
      "[0 0 0 0 0 0 0 0 0 0 0 0 0 0 0 0 0 0 0 0 0 0 0 0 0 0 0 0 0 0 0 0 0 0 0 0 0\n",
      " 0 0 0 0 0 0 0 0 1 1 1 1 1 1 1 1 1 1 1 1 1 1 1 1 1 1 1 1 1 1 1 1 1 1 1 1 1\n",
      " 1 1 1 1 1 1 1 1 1 1 1 1 1 1 1 1 1 1 1 1 1 1 1 1 1 1 1 1 1 1 0 0 0 0 0 0 0\n",
      " 0 0 0 0 0 0 0 0 0 0 0 0 0 0 0 0 0 0 0 0 0 0 0 0 0 0 0 0 0 0 0 0 0 0 0 0 0\n",
      " 0 1 1 1 1 1 1 1 1 1 1 1 1 1 1 1 1 1 1 1 1 1 1 1 1 1 1 1 1 1 1 1 1 1 1 1 1\n",
      " 1 1 1 1 1 1 1 1 1 1 1 1 1 1 1 1 1 1 1 1 1 1 1 0 0 0 0 0 0 0 0 0 0 0 0 0 0\n",
      " 0 0 0 0 0 0 0 0 0 0 0 0 0 0 0 0 0 0 0 0 0 0 0 0 0 0 0 0 0 0 0 1 1 1 1 1 1\n",
      " 1 1 1 1 1 1 1 1 1 1 1 1 1 1 1 1 1 1 1 1 1 1 1 1 1 1 1 1 1 1 1 1 1 1 1 1 1\n",
      " 1 1 1 1 1 1 1 1 1 1 1 1 1 1 1 1 0 0 0 0 0 0 0 0 0 0 0 0 0 0 0 0 0 0 0 0 0\n",
      " 0 0 0 0 0 0 0 0 0 0 0 0 0 0 0 0 0 0 0 0 0 0 0 0 1 1 1 1 1 1 1 1 1 1 1 1 1\n",
      " 1 1 1 1 1 1 1 1 1 1 1 1 1 1 1 1 1 1 1 1 1 1 1 1 1 1 1 1 1 1 1 1 1 1 1 1 1\n",
      " 1 1 1 1 1 1 1 1 1 0 0 0 0 0 0 0 0 0 0 0 0 0 0 0 0 0 0 0 0 0 0 0 0 0 0 0 0\n",
      " 0 0 0 0 0 0 0 0 0 0 0 0 0 0 0 0 0 1 1 1 1 1 1 1 1 1 1 1 1 1 1 1 1 1 1 1 1\n",
      " 1 1 1 1 1 1 1 1 1 1 1 1 1 1 1 1 1 1 1 1 1 1 1 1 1 1 1 1 1 1 1 1 1 1 1 1 1\n",
      " 1 1]\n"
     ]
    }
   ],
   "source": [
    "print(x)\n",
    "print(y)"
   ],
   "metadata": {
    "collapsed": false,
    "pycharm": {
     "name": "#%%\n"
    }
   }
  },
  {
   "cell_type": "code",
   "execution_count": 128,
   "outputs": [],
   "source": [
    "x_train, x_test, y_train, y_test = train_test_split(x, y, test_size=0.25, random_state=63)"
   ],
   "metadata": {
    "collapsed": false,
    "pycharm": {
     "name": "#%%\n"
    }
   }
  },
  {
   "cell_type": "code",
   "execution_count": 129,
   "outputs": [],
   "source": [
    "# Scale data\n",
    "scaler = MinMaxScaler()\n",
    "\n",
    "x_train = scaler.fit_transform(x_train)\n",
    "\n",
    "x_test = scaler.transform(x_test)"
   ],
   "metadata": {
    "collapsed": false,
    "pycharm": {
     "name": "#%%\n"
    }
   }
  },
  {
   "cell_type": "code",
   "execution_count": 130,
   "outputs": [
    {
     "data": {
      "text/plain": "(390, 8)"
     },
     "execution_count": 130,
     "metadata": {},
     "output_type": "execute_result"
    }
   ],
   "source": [
    "x_train.shape"
   ],
   "metadata": {
    "collapsed": false,
    "pycharm": {
     "name": "#%%\n"
    }
   }
  },
  {
   "cell_type": "code",
   "execution_count": 131,
   "outputs": [
    {
     "name": "stderr",
     "output_type": "stream",
     "text": [
      "/home/mikey/PycharmProjects/smart-park/venv/lib/python3.8/site-packages/tensorflow/python/keras/optimizer_v2/optimizer_v2.py:374: UserWarning: The `lr` argument is deprecated, use `learning_rate` instead.\n",
      "  warnings.warn(\n"
     ]
    }
   ],
   "source": [
    "early_stop = EarlyStopping(monitor='val_loss', mode='min', verbose=1, patience=15)\n",
    "\n",
    "# Model creation\n",
    "model = Sequential()\n",
    "\n",
    "# 8 neurons for input layer\n",
    "model.add(Dense(8, activation='relu'))\n",
    "\n",
    "model.add(Dense(6, activation='relu'))\n",
    "\n",
    "# Binary classification\n",
    "model.add(Dense(1, activation='sigmoid'))\n",
    "\n",
    "model.compile(loss='binary_crossentropy',\n",
    "              optimizer=tf.keras.optimizers.Adam(lr=0.01),\n",
    "              metrics=['accuracy'])"
   ],
   "metadata": {
    "collapsed": false,
    "pycharm": {
     "name": "#%%\n"
    }
   }
  },
  {
   "cell_type": "code",
   "execution_count": 132,
   "outputs": [
    {
     "name": "stdout",
     "output_type": "stream",
     "text": [
      "Epoch 1/250\n",
      "13/13 [==============================] - 1s 17ms/step - loss: 0.6882 - accuracy: 0.5000 - val_loss: 0.6720 - val_accuracy: 0.5846\b\b\b\b\b\b\b\b\b\b\b\b\b\b\b\b\b\b\b\b\b\b\b\b\b\b\b\b\b\b\b\b\b\b\b\n",
      "Epoch 2/250\n",
      "13/13 [==============================] - 0s 3ms/step - loss: 0.6783 - accuracy: 0.5615 - val_loss: 0.6688 - val_accuracy: 0.5846\b\b\b\b\b\b\b\b\b\b\b\b\b\b\b\b\b\b\b\b\b\b\b\b\b\b\b\b\b\b\b\b\b\b\b\b\n",
      "Epoch 3/250\n",
      "13/13 [==============================] - 0s 2ms/step - loss: 0.6734 - accuracy: 0.5615 - val_loss: 0.6703 - val_accuracy: 0.5846\b\b\b\b\b\b\b\b\b\b\b\b\b\b\b\b\b\b\b\b\b\b\b\b\b\b\b\b\b\b\b\b\b\b\b\b\n",
      "Epoch 4/250\n",
      "13/13 [==============================] - 0s 2ms/step - loss: 0.6717 - accuracy: 0.5615 - val_loss: 0.6648 - val_accuracy: 0.5846\b\b\b\b\b\b\b\b\b\b\b\b\b\b\b\b\b\b\b\b\b\b\b\b\b\b\b\b\b\b\b\b\b\b\b\b\n",
      "Epoch 5/250\n",
      "13/13 [==============================] - 0s 2ms/step - loss: 0.6681 - accuracy: 0.5615 - val_loss: 0.6660 - val_accuracy: 0.5846\b\b\b\b\b\b\b\b\b\b\b\b\b\b\b\b\b\b\b\b\b\b\b\b\b\b\b\b\b\b\b\b\b\b\b\b\n",
      "Epoch 6/250\n",
      "13/13 [==============================] - 0s 3ms/step - loss: 0.6728 - accuracy: 0.5718 - val_loss: 0.6720 - val_accuracy: 0.5385\b\b\b\b\b\b\b\b\b\b\b\b\b\b\b\b\b\b\b\b\b\b\b\b\b\b\b\b\b\b\b\b\b\b\b\b\n",
      "Epoch 7/250\n",
      "13/13 [==============================] - 0s 2ms/step - loss: 0.6669 - accuracy: 0.6179 - val_loss: 0.6643 - val_accuracy: 0.6077\b\b\b\b\b\b\b\b\b\b\b\b\b\b\b\b\b\b\b\b\b\b\b\b\b\b\b\b\b\b\b\b\b\b\b\b\n",
      "Epoch 8/250\n",
      "13/13 [==============================] - 0s 2ms/step - loss: 0.6729 - accuracy: 0.5846 - val_loss: 0.6640 - val_accuracy: 0.6000\b\b\b\b\b\b\b\b\b\b\b\b\b\b\b\b\b\b\b\b\b\b\b\b\b\b\b\b\b\b\b\b\b\b\b\b\n",
      "Epoch 9/250\n",
      "13/13 [==============================] - 0s 3ms/step - loss: 0.6672 - accuracy: 0.6077 - val_loss: 0.6653 - val_accuracy: 0.5923\b\b\b\b\b\b\b\b\b\b\b\b\b\b\b\b\b\b\b\b\b\b\b\b\b\b\b\b\b\b\b\b\b\b\b\b\n",
      "Epoch 10/250\n",
      "13/13 [==============================] - 0s 3ms/step - loss: 0.6676 - accuracy: 0.6051 - val_loss: 0.6632 - val_accuracy: 0.5846\b\b\b\b\b\b\b\b\b\b\b\b\b\b\b\b\b\b\b\b\b\b\b\b\b\b\b\b\b\b\b\b\b\b\b\b\n",
      "Epoch 11/250\n",
      "13/13 [==============================] - 0s 2ms/step - loss: 0.6703 - accuracy: 0.5949 - val_loss: 0.6683 - val_accuracy: 0.5769\b\b\b\b\b\b\b\b\b\b\b\b\b\b\b\b\b\b\b\b\b\b\b\b\b\b\b\b\b\b\b\b\b\b\b\b\n",
      "Epoch 12/250\n",
      "13/13 [==============================] - 0s 2ms/step - loss: 0.6673 - accuracy: 0.6000 - val_loss: 0.6611 - val_accuracy: 0.6077\b\b\b\b\b\b\b\b\b\b\b\b\b\b\b\b\b\b\b\b\b\b\b\b\b\b\b\b\b\b\b\b\b\b\b\b\n",
      "Epoch 13/250\n",
      "13/13 [==============================] - 0s 2ms/step - loss: 0.6647 - accuracy: 0.6128 - val_loss: 0.6631 - val_accuracy: 0.6000\b\b\b\b\b\b\b\b\b\b\b\b\b\b\b\b\b\b\b\b\b\b\b\b\b\b\b\b\b\b\b\b\b\b\b\b\n",
      "Epoch 14/250\n",
      "13/13 [==============================] - 0s 3ms/step - loss: 0.6640 - accuracy: 0.6205 - val_loss: 0.6612 - val_accuracy: 0.6000\b\b\b\b\b\b\b\b\b\b\b\b\b\b\b\b\b\b\b\b\b\b\b\b\b\b\b\b\b\b\b\b\b\b\b\b\n",
      "Epoch 15/250\n",
      "13/13 [==============================] - 0s 2ms/step - loss: 0.6631 - accuracy: 0.6103 - val_loss: 0.6645 - val_accuracy: 0.5846\b\b\b\b\b\b\b\b\b\b\b\b\b\b\b\b\b\b\b\b\b\b\b\b\b\b\b\b\b\b\b\b\b\b\b\b\n",
      "Epoch 16/250\n",
      "13/13 [==============================] - 0s 2ms/step - loss: 0.6643 - accuracy: 0.6103 - val_loss: 0.6605 - val_accuracy: 0.6000\b\b\b\b\b\b\b\b\b\b\b\b\b\b\b\b\b\b\b\b\b\b\b\b\b\b\b\b\b\b\b\b\b\b\b\b\n",
      "Epoch 17/250\n",
      "13/13 [==============================] - 0s 3ms/step - loss: 0.6630 - accuracy: 0.6154 - val_loss: 0.6602 - val_accuracy: 0.6000\b\b\b\b\b\b\b\b\b\b\b\b\b\b\b\b\b\b\b\b\b\b\b\b\b\b\b\b\b\b\b\b\b\b\b\b\n",
      "Epoch 18/250\n",
      "13/13 [==============================] - 0s 3ms/step - loss: 0.6622 - accuracy: 0.6051 - val_loss: 0.6608 - val_accuracy: 0.5923\b\b\b\b\b\b\b\b\b\b\b\b\b\b\b\b\b\b\b\b\b\b\b\b\b\b\b\b\b\b\b\b\b\b\b\b\n",
      "Epoch 19/250\n",
      "13/13 [==============================] - 0s 3ms/step - loss: 0.6634 - accuracy: 0.6179 - val_loss: 0.6605 - val_accuracy: 0.5923\b\b\b\b\b\b\b\b\b\b\b\b\b\b\b\b\b\b\b\b\b\b\b\b\b\b\b\b\b\b\b\b\b\b\b\b\n",
      "Epoch 20/250\n",
      "13/13 [==============================] - 0s 3ms/step - loss: 0.6635 - accuracy: 0.6179 - val_loss: 0.6607 - val_accuracy: 0.5923\b\b\b\b\b\b\b\b\b\b\b\b\b\b\b\b\b\b\b\b\b\b\b\b\b\b\b\b\b\b\b\b\b\b\b\b\n",
      "Epoch 21/250\n",
      "13/13 [==============================] - 0s 3ms/step - loss: 0.6615 - accuracy: 0.6179 - val_loss: 0.6605 - val_accuracy: 0.5769\b\b\b\b\b\b\b\b\b\b\b\b\b\b\b\b\b\b\b\b\b\b\b\b\b\b\b\b\b\b\b\b\b\b\b\b\n",
      "Epoch 22/250\n",
      "13/13 [==============================] - 0s 2ms/step - loss: 0.6617 - accuracy: 0.6256 - val_loss: 0.6619 - val_accuracy: 0.5846\b\b\b\b\b\b\b\b\b\b\b\b\b\b\b\b\b\b\b\b\b\b\b\b\b\b\b\b\b\b\b\b\b\b\b\b\n",
      "Epoch 23/250\n",
      "13/13 [==============================] - 0s 2ms/step - loss: 0.6603 - accuracy: 0.6179 - val_loss: 0.6598 - val_accuracy: 0.5769\b\b\b\b\b\b\b\b\b\b\b\b\b\b\b\b\b\b\b\b\b\b\b\b\b\b\b\b\b\b\b\b\b\b\b\b\n",
      "Epoch 24/250\n",
      "13/13 [==============================] - 0s 2ms/step - loss: 0.6613 - accuracy: 0.6308 - val_loss: 0.6592 - val_accuracy: 0.5769\b\b\b\b\b\b\b\b\b\b\b\b\b\b\b\b\b\b\b\b\b\b\b\b\b\b\b\b\b\b\b\b\b\b\b\b\n",
      "Epoch 25/250\n",
      "13/13 [==============================] - 0s 3ms/step - loss: 0.6610 - accuracy: 0.6256 - val_loss: 0.6585 - val_accuracy: 0.6000\b\b\b\b\b\b\b\b\b\b\b\b\b\b\b\b\b\b\b\b\b\b\b\b\b\b\b\b\b\b\b\b\b\b\b\b\n",
      "Epoch 26/250\n",
      "13/13 [==============================] - 0s 3ms/step - loss: 0.6612 - accuracy: 0.6359 - val_loss: 0.6600 - val_accuracy: 0.6000\b\b\b\b\b\b\b\b\b\b\b\b\b\b\b\b\b\b\b\b\b\b\b\b\b\b\b\b\b\b\b\b\b\b\b\b\n",
      "Epoch 27/250\n",
      "13/13 [==============================] - 0s 3ms/step - loss: 0.6601 - accuracy: 0.6282 - val_loss: 0.6585 - val_accuracy: 0.6000\b\b\b\b\b\b\b\b\b\b\b\b\b\b\b\b\b\b\b\b\b\b\b\b\b\b\b\b\b\b\b\b\b\b\b\b\n",
      "Epoch 28/250\n",
      "13/13 [==============================] - 0s 3ms/step - loss: 0.6624 - accuracy: 0.6256 - val_loss: 0.6598 - val_accuracy: 0.6000\b\b\b\b\b\b\b\b\b\b\b\b\b\b\b\b\b\b\b\b\b\b\b\b\b\b\b\b\b\b\b\b\b\b\b\b\n",
      "Epoch 29/250\n",
      "13/13 [==============================] - 0s 3ms/step - loss: 0.6612 - accuracy: 0.6256 - val_loss: 0.6564 - val_accuracy: 0.5923\b\b\b\b\b\b\b\b\b\b\b\b\b\b\b\b\b\b\b\b\b\b\b\b\b\b\b\b\b\b\b\b\b\b\b\b\n",
      "Epoch 30/250\n",
      "13/13 [==============================] - 0s 3ms/step - loss: 0.6586 - accuracy: 0.6385 - val_loss: 0.6581 - val_accuracy: 0.6077\b\b\b\b\b\b\b\b\b\b\b\b\b\b\b\b\b\b\b\b\b\b\b\b\b\b\b\b\b\b\b\b\b\b\b\b\n",
      "Epoch 31/250\n",
      "13/13 [==============================] - 0s 3ms/step - loss: 0.6582 - accuracy: 0.6359 - val_loss: 0.6575 - val_accuracy: 0.6154\b\b\b\b\b\b\b\b\b\b\b\b\b\b\b\b\b\b\b\b\b\b\b\b\b\b\b\b\b\b\b\b\b\b\b\b\n",
      "Epoch 32/250\n",
      "13/13 [==============================] - 0s 3ms/step - loss: 0.6603 - accuracy: 0.6333 - val_loss: 0.6588 - val_accuracy: 0.6077\b\b\b\b\b\b\b\b\b\b\b\b\b\b\b\b\b\b\b\b\b\b\b\b\b\b\b\b\b\b\b\b\b\b\b\b\n",
      "Epoch 33/250\n",
      "13/13 [==============================] - 0s 4ms/step - loss: 0.6590 - accuracy: 0.6256 - val_loss: 0.6568 - val_accuracy: 0.6000\b\b\b\b\b\b\b\b\b\b\b\b\b\b\b\b\b\b\b\b\b\b\b\b\b\b\b\b\b\b\b\b\b\b\b\b\n",
      "Epoch 34/250\n",
      "13/13 [==============================] - 0s 3ms/step - loss: 0.6577 - accuracy: 0.6256 - val_loss: 0.6614 - val_accuracy: 0.6154\b\b\b\b\b\b\b\b\b\b\b\b\b\b\b\b\b\b\b\b\b\b\b\b\b\b\b\b\b\b\b\b\b\b\b\b\n",
      "Epoch 35/250\n",
      "13/13 [==============================] - 0s 2ms/step - loss: 0.6645 - accuracy: 0.6154 - val_loss: 0.6605 - val_accuracy: 0.6077\b\b\b\b\b\b\b\b\b\b\b\b\b\b\b\b\b\b\b\b\b\b\b\b\b\b\b\b\b\b\b\b\b\b\b\b\n",
      "Epoch 36/250\n",
      "13/13 [==============================] - 0s 3ms/step - loss: 0.6579 - accuracy: 0.6359 - val_loss: 0.6585 - val_accuracy: 0.5923\b\b\b\b\b\b\b\b\b\b\b\b\b\b\b\b\b\b\b\b\b\b\b\b\b\b\b\b\b\b\b\b\b\b\b\b\n",
      "Epoch 37/250\n",
      "13/13 [==============================] - 0s 3ms/step - loss: 0.6587 - accuracy: 0.6333 - val_loss: 0.6592 - val_accuracy: 0.6077\b\b\b\b\b\b\b\b\b\b\b\b\b\b\b\b\b\b\b\b\b\b\b\b\b\b\b\b\b\b\b\b\b\b\b\b\n",
      "Epoch 38/250\n",
      "13/13 [==============================] - 0s 2ms/step - loss: 0.6564 - accuracy: 0.6256 - val_loss: 0.6567 - val_accuracy: 0.6154\b\b\b\b\b\b\b\b\b\b\b\b\b\b\b\b\b\b\b\b\b\b\b\b\b\b\b\b\b\b\b\b\b\b\b\b\n",
      "Epoch 39/250\n",
      "13/13 [==============================] - 0s 2ms/step - loss: 0.6572 - accuracy: 0.6333 - val_loss: 0.6565 - val_accuracy: 0.6154\b\b\b\b\b\b\b\b\b\b\b\b\b\b\b\b\b\b\b\b\b\b\b\b\b\b\b\b\b\b\b\b\b\b\b\b\n",
      "Epoch 40/250\n",
      "13/13 [==============================] - 0s 2ms/step - loss: 0.6578 - accuracy: 0.6333 - val_loss: 0.6583 - val_accuracy: 0.6077\b\b\b\b\b\b\b\b\b\b\b\b\b\b\b\b\b\b\b\b\b\b\b\b\b\b\b\b\b\b\b\b\b\b\b\b\n",
      "Epoch 41/250\n",
      "13/13 [==============================] - 0s 3ms/step - loss: 0.6570 - accuracy: 0.6308 - val_loss: 0.6569 - val_accuracy: 0.6231\b\b\b\b\b\b\b\b\b\b\b\b\b\b\b\b\b\b\b\b\b\b\b\b\b\b\b\b\b\b\b\b\b\b\b\b\n",
      "Epoch 42/250\n",
      "13/13 [==============================] - 0s 3ms/step - loss: 0.6621 - accuracy: 0.6256 - val_loss: 0.6556 - val_accuracy: 0.6231\b\b\b\b\b\b\b\b\b\b\b\b\b\b\b\b\b\b\b\b\b\b\b\b\b\b\b\b\b\b\b\b\b\b\b\b\n",
      "Epoch 43/250\n",
      "13/13 [==============================] - 0s 2ms/step - loss: 0.6608 - accuracy: 0.6308 - val_loss: 0.6596 - val_accuracy: 0.6231\b\b\b\b\b\b\b\b\b\b\b\b\b\b\b\b\b\b\b\b\b\b\b\b\b\b\b\b\b\b\b\b\b\b\b\b\n",
      "Epoch 44/250\n",
      "13/13 [==============================] - 0s 3ms/step - loss: 0.6585 - accuracy: 0.6410 - val_loss: 0.6543 - val_accuracy: 0.6231\b\b\b\b\b\b\b\b\b\b\b\b\b\b\b\b\b\b\b\b\b\b\b\b\b\b\b\b\b\b\b\b\b\b\b\b\n",
      "Epoch 45/250\n",
      "13/13 [==============================] - 0s 4ms/step - loss: 0.6562 - accuracy: 0.6205 - val_loss: 0.6596 - val_accuracy: 0.6077\b\b\b\b\b\b\b\b\b\b\b\b\b\b\b\b\b\b\b\b\b\b\b\b\b\b\b\b\b\b\b\b\b\b\b\b\n",
      "Epoch 46/250\n",
      "13/13 [==============================] - 0s 5ms/step - loss: 0.6552 - accuracy: 0.6282 - val_loss: 0.6570 - val_accuracy: 0.6231\b\b\b\b\b\b\b\b\b\b\b\b\b\b\b\b\b\b\b\b\b\b\b\b\b\b\b\b\b\b\b\b\b\b\b\b\n",
      "Epoch 47/250\n",
      "13/13 [==============================] - 0s 3ms/step - loss: 0.6551 - accuracy: 0.6308 - val_loss: 0.6587 - val_accuracy: 0.5923\b\b\b\b\b\b\b\b\b\b\b\b\b\b\b\b\b\b\b\b\b\b\b\b\b\b\b\b\b\b\b\b\b\b\b\b\n",
      "Epoch 48/250\n",
      "13/13 [==============================] - 0s 2ms/step - loss: 0.6545 - accuracy: 0.6308 - val_loss: 0.6591 - val_accuracy: 0.6000\b\b\b\b\b\b\b\b\b\b\b\b\b\b\b\b\b\b\b\b\b\b\b\b\b\b\b\b\b\b\b\b\b\b\b\b\n",
      "Epoch 49/250\n",
      "13/13 [==============================] - 0s 4ms/step - loss: 0.6559 - accuracy: 0.6333 - val_loss: 0.6591 - val_accuracy: 0.6077\b\b\b\b\b\b\b\b\b\b\b\b\b\b\b\b\b\b\b\b\b\b\b\b\b\b\b\b\b\b\b\b\b\b\b\b\n",
      "Epoch 50/250\n",
      "13/13 [==============================] - 0s 2ms/step - loss: 0.6560 - accuracy: 0.6308 - val_loss: 0.6561 - val_accuracy: 0.6154\b\b\b\b\b\b\b\b\b\b\b\b\b\b\b\b\b\b\b\b\b\b\b\b\b\b\b\b\b\b\b\b\b\b\b\b\n",
      "Epoch 51/250\n",
      "13/13 [==============================] - 0s 4ms/step - loss: 0.6542 - accuracy: 0.6410 - val_loss: 0.6590 - val_accuracy: 0.6154\b\b\b\b\b\b\b\b\b\b\b\b\b\b\b\b\b\b\b\b\b\b\b\b\b\b\b\b\b\b\b\b\b\b\b\b\n",
      "Epoch 52/250\n",
      "13/13 [==============================] - 0s 3ms/step - loss: 0.6565 - accuracy: 0.6231 - val_loss: 0.6571 - val_accuracy: 0.5923\b\b\b\b\b\b\b\b\b\b\b\b\b\b\b\b\b\b\b\b\b\b\b\b\b\b\b\b\b\b\b\b\b\b\b\b\n",
      "Epoch 53/250\n",
      "13/13 [==============================] - 0s 3ms/step - loss: 0.6566 - accuracy: 0.6231 - val_loss: 0.6595 - val_accuracy: 0.6077\b\b\b\b\b\b\b\b\b\b\b\b\b\b\b\b\b\b\b\b\b\b\b\b\b\b\b\b\b\b\b\b\b\b\b\b\n",
      "Epoch 54/250\n",
      "13/13 [==============================] - 0s 3ms/step - loss: 0.6542 - accuracy: 0.6333 - val_loss: 0.6583 - val_accuracy: 0.6077\b\b\b\b\b\b\b\b\b\b\b\b\b\b\b\b\b\b\b\b\b\b\b\b\b\b\b\b\b\b\b\b\b\b\b\b\n",
      "Epoch 55/250\n",
      "13/13 [==============================] - 0s 3ms/step - loss: 0.6526 - accuracy: 0.6333 - val_loss: 0.6577 - val_accuracy: 0.6000\b\b\b\b\b\b\b\b\b\b\b\b\b\b\b\b\b\b\b\b\b\b\b\b\b\b\b\b\b\b\b\b\b\b\b\b\n",
      "Epoch 56/250\n",
      "13/13 [==============================] - 0s 2ms/step - loss: 0.6539 - accuracy: 0.6385 - val_loss: 0.6556 - val_accuracy: 0.6231\b\b\b\b\b\b\b\b\b\b\b\b\b\b\b\b\b\b\b\b\b\b\b\b\b\b\b\b\b\b\b\b\b\b\b\b\n",
      "Epoch 57/250\n",
      "13/13 [==============================] - 0s 3ms/step - loss: 0.6549 - accuracy: 0.6410 - val_loss: 0.6547 - val_accuracy: 0.6154\b\b\b\b\b\b\b\b\b\b\b\b\b\b\b\b\b\b\b\b\b\b\b\b\b\b\b\b\b\b\b\b\b\b\b\b\n",
      "Epoch 58/250\n",
      "13/13 [==============================] - 0s 3ms/step - loss: 0.6538 - accuracy: 0.6359 - val_loss: 0.6547 - val_accuracy: 0.6231\b\b\b\b\b\b\b\b\b\b\b\b\b\b\b\b\b\b\b\b\b\b\b\b\b\b\b\b\b\b\b\b\b\b\b\b\n",
      "Epoch 59/250\n",
      "13/13 [==============================] - 0s 3ms/step - loss: 0.6539 - accuracy: 0.6359 - val_loss: 0.6579 - val_accuracy: 0.6154\b\b\b\b\b\b\b\b\b\b\b\b\b\b\b\b\b\b\b\b\b\b\b\b\b\b\b\b\b\b\b\b\b\b\b\b\n",
      "Epoch 00059: early stopping\n"
     ]
    }
   ],
   "source": [
    "history = model.fit(x=x_train,\n",
    "                    y=y_train,\n",
    "                    epochs=250,\n",
    "                    validation_data=(x_test, y_test),\n",
    "                    callbacks=early_stop,\n",
    "                    shuffle=True)"
   ],
   "metadata": {
    "collapsed": false,
    "pycharm": {
     "name": "#%%\n"
    }
   }
  },
  {
   "cell_type": "code",
   "execution_count": 133,
   "outputs": [],
   "source": [
    "losses = pd.DataFrame(model.history.history)"
   ],
   "metadata": {
    "collapsed": false,
    "pycharm": {
     "name": "#%%\n"
    }
   }
  },
  {
   "cell_type": "code",
   "execution_count": 134,
   "outputs": [
    {
     "data": {
      "text/plain": "dict_keys(['loss', 'accuracy', 'val_loss', 'val_accuracy'])"
     },
     "execution_count": 134,
     "metadata": {},
     "output_type": "execute_result"
    }
   ],
   "source": [
    "history.history.keys()"
   ],
   "metadata": {
    "collapsed": false,
    "pycharm": {
     "name": "#%%\n"
    }
   }
  },
  {
   "cell_type": "code",
   "execution_count": 135,
   "outputs": [
    {
     "data": {
      "text/plain": "<Figure size 432x288 with 1 Axes>",
      "image/png": "[encoded data removed]"
     },
     "metadata": {
      "needs_background": "light"
     },
     "output_type": "display_data"
    }
   ],
   "source": [
    "# Plot accuracy\n",
    "plt.plot(history.history['accuracy'])\n",
    "plt.plot(history.history['val_accuracy'])\n",
    "plt.title('Model Accuracy')\n",
    "plt.ylabel('accuracy')\n",
    "plt.xlabel('epoch')\n",
    "plt.legend(['train', 'val'], loc='upper left')\n",
    "plt.show()"
   ],
   "metadata": {
    "collapsed": false,
    "pycharm": {
     "name": "#%%\n"
    }
   }
  },
  {
   "cell_type": "code",
   "execution_count": 136,
   "outputs": [
    {
     "data": {
      "text/plain": "<Figure size 432x288 with 1 Axes>",
      "image/png": "[encoded data removed]"
     },
     "metadata": {
      "needs_background": "light"
     },
     "output_type": "display_data"
    }
   ],
   "source": [
    "# Plot loss\n",
    "plt.plot(history.history['loss'])\n",
    "plt.plot(history.history['val_loss'])\n",
    "plt.title('model loss')\n",
    "plt.ylabel('loss')\n",
    "plt.xlabel('epoch')\n",
    "plt.legend(['train', 'val'], loc='upper left')\n",
    "plt.show()"
   ],
   "metadata": {
    "collapsed": false,
    "pycharm": {
     "name": "#%%\n"
    }
   }
  },
  {
   "cell_type": "code",
   "execution_count": 137,
   "outputs": [],
   "source": [
    "test_df = pd.read_csv('../simulations/data/test_paths.csv')"
   ],
   "metadata": {
    "collapsed": false,
    "pycharm": {
     "name": "#%%\n"
    }
   }
  },
  {
   "cell_type": "code",
   "execution_count": 138,
   "outputs": [],
   "source": [
    "new_test_df = split_data(4, test_df)"
   ],
   "metadata": {
    "collapsed": false,
    "pycharm": {
     "name": "#%%\n"
    }
   }
  },
  {
   "cell_type": "code",
   "execution_count": 139,
   "outputs": [],
   "source": [
    "test_x = new_test_df[new_test_df.columns[:8]]\n",
    "\n",
    "test_y = new_test_df['enter-parking'].values"
   ],
   "metadata": {
    "collapsed": false,
    "pycharm": {
     "name": "#%%\n"
    }
   }
  },
  {
   "cell_type": "code",
   "execution_count": 140,
   "outputs": [],
   "source": [
    "test_x = scaler.transform(test_x)"
   ],
   "metadata": {
    "collapsed": false,
    "pycharm": {
     "name": "#%%\n"
    }
   }
  },
  {
   "cell_type": "code",
   "execution_count": 141,
   "outputs": [
    {
     "name": "stdout",
     "output_type": "stream",
     "text": [
      "[[ 0.04716029  0.27982232  0.04495955  0.2696266   0.06253496  0.27115027\n",
      "   0.10946606  0.26108723]\n",
      " [ 0.07032255  0.45830735  0.07502504  0.44340168  0.09901646  0.42775204\n",
      "   0.13523126  0.41605639]\n",
      " [ 0.06618357  0.30868953  0.06957432  0.29352063  0.09290333  0.27746338\n",
      "   0.13311249  0.26472266]\n",
      " [ 0.09274035  0.11021142  0.09765134  0.10610434  0.12286627  0.09228599\n",
      "   0.16302348  0.08345448]\n",
      " [ 0.08372213  0.77789553  0.07874341  0.76868905  0.10112551  0.75763749\n",
      "   0.13749377  0.7501938 ]\n",
      " [ 0.09064393  0.78854514  0.09530416  0.77859079  0.12237703  0.76957295\n",
      "   0.16135469  0.76695737]\n",
      " [ 0.07338572  0.42091724  0.05854336  0.3831001   0.08002516  0.35336058\n",
      "   0.11646365  0.32653674]\n",
      " [ 0.36153614  0.69925281  0.3706195   0.68988745  0.39152137  0.68416116\n",
      "   0.42801661  0.68147808]\n",
      " [ 0.77497896 -0.08036575  0.77568034 -0.0746618   0.78545886 -0.07084196\n",
      "   0.79695308 -0.06209578]\n",
      " [ 0.07348944  0.50801797  0.08134554  0.46595911  0.11471895  0.43459107\n",
      "   0.15628993  0.41539356]\n",
      " [ 0.01680969  0.28257976  0.02402488  0.2651869   0.05196272  0.25940336\n",
      "   0.08434909  0.26379959]\n",
      " [ 0.00928643  0.81782531  0.01586867  0.81150315  0.045087    0.80579422\n",
      "   0.0866153   0.80265913]\n",
      " [ 0.06651723  0.08822334  0.07449494  0.0743859   0.10218044  0.06906001\n",
      "   0.14282369  0.06327055]\n",
      " [ 0.72975869  0.30470335  0.69054713  0.29366676  0.67082562  0.28007135\n",
      "   0.65283827  0.26836782]\n",
      " [ 0.38007732  0.20804505  0.34977847  0.1914764   0.33428117  0.17748156\n",
      "   0.33872106  0.17796582]\n",
      " [ 0.11408749  0.30296372  0.12463944  0.28683877  0.15427688  0.27161338\n",
      "   0.19691554  0.26120269]\n",
      " [ 0.13634742  0.44712535  0.14109145  0.43167975  0.16029198  0.41025777\n",
      "   0.19598717  0.40035467]\n",
      " [ 0.13703562  0.30494207  0.14482659  0.28820872  0.17300615  0.26825238\n",
      "   0.21649021  0.24756702]\n",
      " [ 0.16031853  0.15456267  0.16398442  0.15176087  0.19205357  0.14424311\n",
      "   0.22548408  0.14726289]\n",
      " [ 0.1400319   0.76260827  0.14274579  0.75187854  0.17044512  0.74497796\n",
      "   0.20800749  0.73952848]\n",
      " [ 0.16730573  0.77742731  0.17521009  0.76889655  0.20462331  0.76005601\n",
      "   0.24799751  0.75215425]\n",
      " [ 0.1131539   0.35191796  0.11446296  0.32837629  0.13900084  0.30553827\n",
      "   0.1767867   0.28323859]\n",
      " [ 0.42865108  0.69710874  0.44640674  0.69001097  0.47886363  0.68086218\n",
      "   0.51881281  0.67586889]\n",
      " [ 0.77057789  0.024852    0.77246454  0.03811904  0.78287634  0.05315531\n",
      "   0.79631659  0.06217748]\n",
      " [ 0.15759709  0.4336514   0.1636722   0.40279482  0.19152902  0.3829715\n",
      "   0.23556449  0.37038995]\n",
      " [ 0.09124627  0.3039491   0.09766684  0.28974148  0.1282154   0.27570473\n",
      "   0.16944094  0.25774074]\n",
      " [ 0.08856782  0.80395244  0.09063265  0.78457996  0.11661669  0.77561431\n",
      "   0.15523048  0.771661  ]\n",
      " [ 0.14024703  0.13146607  0.14575333  0.13617008  0.17595904  0.13304283\n",
      "   0.21267909  0.128979  ]\n",
      " [ 0.58836262  0.31425021  0.55095569  0.29891906  0.53011044  0.28739815\n",
      "   0.52279497  0.26937342]\n",
      " [ 0.31063216  0.24040088  0.27681937  0.23797402  0.25741675  0.23469837\n",
      "   0.25093498  0.23532819]\n",
      " [ 0.1971131   0.30684761  0.20288051  0.30067029  0.23045458  0.29447961\n",
      "   0.26906261  0.28785375]\n",
      " [ 0.1907755   0.4226543   0.19315263  0.39910278  0.21768084  0.38012237\n",
      "   0.25155782  0.35372211]\n",
      " [ 0.22787279  0.28702009  0.24414332  0.27004792  0.27424217  0.25592306\n",
      "   0.31459088  0.24344836]\n",
      " [ 0.21554996  0.22324801  0.21262451  0.22614104  0.23600193  0.23309317\n",
      "   0.27699584  0.23820989]\n",
      " [ 0.20915974  0.75371547  0.21642483  0.74505819  0.24351806  0.7394591\n",
      "   0.28530369  0.7341316 ]\n",
      " [ 0.2472624   0.76126346  0.25634316  0.74468739  0.28446402  0.72939267\n",
      "   0.32001221  0.71107938]\n",
      " [ 0.17666385  0.33264236  0.18487099  0.32432069  0.21125193  0.30981691\n",
      "   0.25241838  0.29309174]\n",
      " [ 0.51934417  0.69012652  0.53488459  0.68151457  0.56609552  0.67350951\n",
      "   0.60779986  0.66706943]\n",
      " [ 0.76932601  0.14117222  0.77182347  0.1466471   0.7809458   0.1506175\n",
      "   0.79440983  0.15692893]\n",
      " [ 0.23291083  0.39447997  0.24013719  0.35842087  0.26549363  0.32691841\n",
      "   0.30189562  0.30866195]\n",
      " [ 0.17760256  0.29701313  0.19075289  0.272829    0.22654756  0.24915571\n",
      "   0.27336155  0.22122682]\n",
      " [ 0.15631418  0.78457061  0.1593882   0.77772954  0.18410177  0.7722586\n",
      "   0.22029621  0.76829053]\n",
      " [ 0.20895203  0.19974851  0.20378876  0.21380987  0.22436897  0.22292608\n",
      "   0.26307463  0.22738928]\n",
      " [ 0.45776902  0.30907609  0.41952077  0.2908205   0.39797634  0.26320118\n",
      "   0.39150231  0.24217304]\n",
      " [ 0.20612425  0.28883066  0.1653101   0.28240652  0.14710401  0.26980231\n",
      "   0.13810585  0.26255464]\n",
      " [ 0.26790854  0.33374868  0.27399319  0.32417851  0.30107789  0.31804957\n",
      "   0.33278122  0.31541688]\n",
      " [ 0.24391459  0.36937797  0.25002262  0.34414627  0.27746566  0.32188049\n",
      "   0.31885683  0.30630571]\n",
      " [ 0.30754276  0.29881333  0.3019146   0.30051036  0.31462621  0.30345815\n",
      "   0.33857103  0.30917378]\n",
      " [ 0.28581611  0.2890644   0.29812585  0.2809222   0.31537389  0.29303379\n",
      "   0.34145482  0.30682374]\n",
      " [ 0.27778529  0.74851892  0.28034963  0.73341763  0.30320464  0.71045517\n",
      "   0.33760073  0.69036861]\n",
      " [ 0.31804023  0.71358899  0.3210655   0.69503033  0.34287033  0.67618722\n",
      "   0.36995512  0.65863706]\n",
      " [ 0.25698447  0.32984848  0.26949863  0.32192782  0.29224838  0.31699338\n",
      "   0.33159958  0.31657669]\n",
      " [ 0.61086291  0.68454037  0.63621687  0.67636457  0.66740922  0.66850955\n",
      "   0.70582393  0.66293357]\n",
      " [ 0.7655835   0.22849599  0.76990304  0.23133416  0.7790206   0.23222265\n",
      "   0.78683493  0.24632051]\n",
      " [ 0.30622953  0.34206657  0.31322712  0.30933104  0.33336513  0.27499332\n",
      "   0.37103315  0.24866631]\n",
      " [ 0.27519593  0.25404944  0.28377181  0.22917975  0.31061281  0.20626697\n",
      "   0.34153967  0.17918288]\n",
      " [ 0.21682874  0.77440383  0.22607569  0.7588245   0.25397916  0.75179244\n",
      "   0.29614084  0.74878495]\n",
      " [ 0.26463936  0.28376032  0.28033846  0.27523127  0.31587086  0.26281216\n",
      "   0.35804249  0.24351514]\n",
      " [ 0.33788804  0.276393    0.30177371  0.24876199  0.29328008  0.22213331\n",
      "   0.28163555  0.19930455]\n",
      " [ 0.09267482  0.304875    0.0544231   0.296073    0.05920353  0.30828094\n",
      "   0.08153181  0.31867544]\n",
      " [ 0.31782922  0.37045686  0.3308554   0.36862574  0.34991626  0.37261072\n",
      "   0.38315016  0.37182427]\n",
      " [ 0.31466276  0.36190052  0.32267661  0.36443812  0.34511364  0.36621641\n",
      "   0.38357719  0.37082821]\n",
      " [ 0.325895    0.36414496  0.32724673  0.36121123  0.34617922  0.36667159\n",
      "   0.38261115  0.36948396]\n",
      " [ 0.32857952  0.36726858  0.33072025  0.36891114  0.35045008  0.36998999\n",
      "   0.38552016  0.36842476]\n",
      " [ 0.34039683  0.69481685  0.34468165  0.67178244  0.3672834   0.65174279\n",
      "   0.40126149  0.63308853]\n",
      " [ 0.36011295  0.66734763  0.36145588  0.65419472  0.37898382  0.63666022\n",
      "   0.40681492  0.62687219]\n",
      " [ 0.3254818   0.37260396  0.33073735  0.37517947  0.34990362  0.37482407\n",
      "   0.38442964  0.36949588]\n",
      " [ 0.71067482  0.67927248  0.74124638  0.6660832   0.76617995  0.64741701\n",
      "   0.76759444  0.63043044]\n",
      " [ 0.74235643  0.30962913  0.71822203  0.31821297  0.71079687  0.31554418\n",
      "   0.71660277  0.31846121]\n",
      " [ 0.36790435  0.28592498  0.37502181  0.26077795  0.39254783  0.23566926\n",
      "   0.4201514   0.21500896]\n",
      " [ 0.33923634  0.21458165  0.34826908  0.19681494  0.37083503  0.18114605\n",
      "   0.40827411  0.17235629]\n",
      " [ 0.2904321   0.77235379  0.29090593  0.77501442  0.31107264  0.77948626\n",
      "   0.3415491   0.78881155]\n",
      " [ 0.3567068   0.2864824   0.36333766  0.26585826  0.38424619  0.24158325\n",
      "   0.41749198  0.21552628]\n",
      " [ 0.23196366  0.24670852  0.20559568  0.22184688  0.20709592  0.1693928\n",
      "   0.20217201  0.12040224]\n",
      " [ 0.06854312  0.39164918  0.05526805  0.41256064  0.06428489  0.42394056\n",
      "   0.08655522  0.44049867]]\n",
      "[1 1 1 1 1 1 1 1 1 0 0 0 0 0 0 1 1 1 1 1 1 1 1 1 0 0 0 0 0 0 1 1 1 1 1 1 1\n",
      " 1 1 0 0 0 0 0 0 1 1 1 1 1 1 1 1 1 0 0 0 0 0 0 1 1 1 1 1 1 1 1 1 0 0 0 0 0\n",
      " 0]\n"
     ]
    }
   ],
   "source": [
    "print(test_x)\n",
    "\n",
    "print(test_y)"
   ],
   "metadata": {
    "collapsed": false,
    "pycharm": {
     "name": "#%%\n"
    }
   }
  },
  {
   "cell_type": "code",
   "execution_count": 142,
   "outputs": [
    {
     "name": "stdout",
     "output_type": "stream",
     "text": [
      "WARNING:tensorflow:5 out of the last 13 calls to <function Model.make_predict_function.<locals>.predict_function at 0x7f64bc2cf3a0> triggered tf.function retracing. Tracing is expensive and the excessive number of tracings could be due to (1) creating @tf.function repeatedly in a loop, (2) passing tensors with different shapes, (3) passing Python objects instead of tensors. For (1), please define your @tf.function outside of the loop. For (2), @tf.function has experimental_relax_shapes=True option that relaxes argument shapes that can avoid unnecessary retracing. For (3), please refer to https://www.tensorflow.org/guide/function#controlling_retracing and https://www.tensorflow.org/api_docs/python/tf/function for  more details.\n",
      "[[0]\n",
      " [0]\n",
      " [0]\n",
      " [0]\n",
      " [0]\n",
      " [0]\n",
      " [0]\n",
      " [1]\n",
      " [1]\n",
      " [0]\n",
      " [0]\n",
      " [0]\n",
      " [0]\n",
      " [1]\n",
      " [1]\n",
      " [0]\n",
      " [0]\n",
      " [0]\n",
      " [0]\n",
      " [0]\n",
      " [0]\n",
      " [0]\n",
      " [1]\n",
      " [1]\n",
      " [0]\n",
      " [0]\n",
      " [0]\n",
      " [0]\n",
      " [1]\n",
      " [1]\n",
      " [1]\n",
      " [0]\n",
      " [1]\n",
      " [1]\n",
      " [0]\n",
      " [1]\n",
      " [0]\n",
      " [1]\n",
      " [1]\n",
      " [1]\n",
      " [1]\n",
      " [0]\n",
      " [1]\n",
      " [1]\n",
      " [0]\n",
      " [1]\n",
      " [1]\n",
      " [1]\n",
      " [1]\n",
      " [1]\n",
      " [1]\n",
      " [1]\n",
      " [1]\n",
      " [1]\n",
      " [1]\n",
      " [1]\n",
      " [0]\n",
      " [1]\n",
      " [1]\n",
      " [0]\n",
      " [1]\n",
      " [1]\n",
      " [1]\n",
      " [1]\n",
      " [1]\n",
      " [1]\n",
      " [1]\n",
      " [1]\n",
      " [1]\n",
      " [1]\n",
      " [1]\n",
      " [1]\n",
      " [1]\n",
      " [0]\n",
      " [0]]\n"
     ]
    }
   ],
   "source": [
    "predictions = (model.predict(test_x) > 0.5).astype(\"int32\")\n",
    "\n",
    "print(predictions)"
   ],
   "metadata": {
    "collapsed": false,
    "pycharm": {
     "name": "#%%\n"
    }
   }
  },
  {
   "cell_type": "code",
   "execution_count": 143,
   "outputs": [
    {
     "name": "stdout",
     "output_type": "stream",
     "text": [
      "              precision    recall  f1-score   support\n",
      "\n",
      "           0       0.45      0.47      0.46        30\n",
      "           1       0.64      0.62      0.63        45\n",
      "\n",
      "    accuracy                           0.56        75\n",
      "   macro avg       0.54      0.54      0.54        75\n",
      "weighted avg       0.56      0.56      0.56        75\n",
      "\n"
     ]
    }
   ],
   "source": [
    "print(classification_report(test_y, predictions))"
   ],
   "metadata": {
    "collapsed": false,
    "pycharm": {
     "name": "#%%\n"
    }
   }
  },
  {
   "cell_type": "code",
   "execution_count": 144,
   "outputs": [
    {
     "name": "stdout",
     "output_type": "stream",
     "text": [
      "[[14 16]\n",
      " [17 28]]\n"
     ]
    }
   ],
   "source": [
    "print(confusion_matrix(test_y, predictions))"
   ],
   "metadata": {
    "collapsed": false,
    "pycharm": {
     "name": "#%%\n"
    }
   }
  },
  {
   "cell_type": "code",
   "execution_count": 144,
   "outputs": [],
   "source": [],
   "metadata": {
    "collapsed": false,
    "pycharm": {
     "name": "#%%\n"
    }
   }
  }
 ],
 "metadata": {
  "kernelspec": {
   "display_name": "Python 3",
   "language": "python",
   "name": "python3"
  },
  "language_info": {
   "codemirror_mode": {
    "name": "ipython",
    "version": 2
   },
   "file_extension": ".py",
   "mimetype": "text/x-python",
   "name": "python",
   "nbconvert_exporter": "python",
   "pygments_lexer": "ipython2",
   "version": "2.7.6"
  }
 },
 "nbformat": 4,
 "nbformat_minor": 0
}