{
 "cells": [
  {
   "cell_type": "markdown",
   "metadata": {
    "collapsed": true,
    "pycharm": {
     "name": "#%% md\n"
    }
   },
   "source": [
    "4 Coordinate Model Using Full Paths"
   ]
  },
  {
   "cell_type": "code",
   "execution_count": 1,
   "outputs": [],
   "source": [
    "import pandas as pd\n",
    "import numpy as np\n",
    "import tensorflow as tf\n",
    "from matplotlib import pyplot as plt\n",
    "from tensorflow.keras.models import Sequential\n",
    "from tensorflow.keras.layers import Dense, Dropout\n",
    "from tensorflow.keras.callbacks import EarlyStopping\n",
    "from sklearn.preprocessing import MinMaxScaler\n",
    "from sklearn.metrics import classification_report, confusion_matrix\n",
    "from sklearn.model_selection import train_test_split\n",
    "from sklearn.metrics import classification_report, confusion_matrix"
   ],
   "metadata": {
    "collapsed": false,
    "pycharm": {
     "name": "#%%\n"
    }
   }
  },
  {
   "cell_type": "code",
   "execution_count": 2,
   "outputs": [],
   "source": [
    "# get the main paths\n",
    "df = pd.read_csv('../simulations/data/paths.csv')"
   ],
   "metadata": {
    "collapsed": false,
    "pycharm": {
     "name": "#%%\n"
    }
   }
  },
  {
   "cell_type": "code",
   "execution_count": 3,
   "outputs": [
    {
     "name": "stdout",
     "output_type": "stream",
     "text": [
      "<class 'pandas.core.frame.DataFrame'>\n",
      "RangeIndex: 104 entries, 0 to 103\n",
      "Data columns (total 43 columns):\n",
      " #   Column         Non-Null Count  Dtype  \n",
      "---  ------         --------------  -----  \n",
      " 0   Unnamed: 0     104 non-null    int64  \n",
      " 1   name           104 non-null    object \n",
      " 2   latitude_1     104 non-null    float64\n",
      " 3   longitude_1    104 non-null    float64\n",
      " 4   latitude_2     104 non-null    float64\n",
      " 5   longitude_2    104 non-null    float64\n",
      " 6   latitude_3     104 non-null    float64\n",
      " 7   longitude_3    104 non-null    float64\n",
      " 8   latitude_4     104 non-null    float64\n",
      " 9   longitude_4    104 non-null    float64\n",
      " 10  latitude_5     104 non-null    float64\n",
      " 11  longitude_5    104 non-null    float64\n",
      " 12  latitude_6     104 non-null    float64\n",
      " 13  longitude_6    104 non-null    float64\n",
      " 14  latitude_7     104 non-null    float64\n",
      " 15  longitude_7    104 non-null    float64\n",
      " 16  latitude_8     104 non-null    float64\n",
      " 17  longitude_8    104 non-null    float64\n",
      " 18  latitude_9     104 non-null    float64\n",
      " 19  longitude_9    104 non-null    float64\n",
      " 20  latitude_10    104 non-null    float64\n",
      " 21  longitude_10   104 non-null    float64\n",
      " 22  latitude_11    104 non-null    float64\n",
      " 23  longitude_11   104 non-null    float64\n",
      " 24  latitude_12    104 non-null    float64\n",
      " 25  longitude_12   104 non-null    float64\n",
      " 26  latitude_13    104 non-null    float64\n",
      " 27  longitude_13   104 non-null    float64\n",
      " 28  latitude_14    104 non-null    float64\n",
      " 29  longitude_14   104 non-null    float64\n",
      " 30  latitude_15    104 non-null    float64\n",
      " 31  longitude_15   104 non-null    float64\n",
      " 32  latitude_16    104 non-null    float64\n",
      " 33  longitude_16   104 non-null    float64\n",
      " 34  latitude_17    104 non-null    float64\n",
      " 35  longitude_17   104 non-null    float64\n",
      " 36  latitude_18    104 non-null    float64\n",
      " 37  longitude_18   104 non-null    float64\n",
      " 38  latitude_19    104 non-null    float64\n",
      " 39  longitude_19   104 non-null    float64\n",
      " 40  latitude_20    104 non-null    float64\n",
      " 41  longitude_20   104 non-null    float64\n",
      " 42  enter-parking  104 non-null    int64  \n",
      "dtypes: float64(40), int64(2), object(1)\n",
      "memory usage: 35.1+ KB\n"
     ]
    }
   ],
   "source": [
    "df.info()"
   ],
   "metadata": {
    "collapsed": false,
    "pycharm": {
     "name": "#%%\n"
    }
   }
  },
  {
   "cell_type": "code",
   "execution_count": 4,
   "outputs": [
    {
     "data": {
      "text/plain": "   Unnamed: 0        name  latitude_1  longitude_1  latitude_2  longitude_2  \\\n0           0  1_A_Missed   36.109640  -115.140945   36.109676  -115.140893   \n1           1  2_A_Missed   36.109705  -115.140733   36.109702  -115.140785   \n2           2  3_A_Missed   36.109626  -115.140134   36.109675  -115.140140   \n3           3  4_A_Missed   36.109592  -115.140132   36.109662  -115.140159   \n4           4  5_A_Missed   36.109642  -115.141901   36.109649  -115.141793   \n\n   latitude_3  longitude_3  latitude_4  longitude_4  ...  longitude_16  \\\n0   36.109710  -115.140870   36.109762  -115.140860  ...   -115.140923   \n1   36.109699  -115.140841   36.109741  -115.140857  ...   -115.141093   \n2   36.109724  -115.140166   36.109730  -115.140230  ...   -115.140790   \n3   36.109716  -115.140219   36.109716  -115.140310  ...   -115.140889   \n4   36.109654  -115.141658   36.109711  -115.141601  ...   -115.140886   \n\n   latitude_17  longitude_17  latitude_18  longitude_18  latitude_19  \\\n0    36.110641   -115.140944    36.110660   -115.140983    36.110684   \n1    36.110496   -115.141143    36.110548   -115.141190    36.110591   \n2    36.110555   -115.140896    36.110686   -115.140910    36.110808   \n3    36.110771   -115.140861    36.110981   -115.140853    36.111165   \n4    36.110796   -115.140852    36.110958   -115.140852    36.111102   \n\n   longitude_19  latitude_20  longitude_20  enter-parking  \n0   -115.141025    36.110713   -115.141055              0  \n1   -115.141199    36.110651   -115.141182              0  \n2   -115.140852    36.111009   -115.140862              0  \n3   -115.140856    36.111302   -115.140917              0  \n4   -115.140854    36.111243   -115.140892              0  \n\n[5 rows x 43 columns]",
      "text/html": "<div>\n<style scoped>\n    .dataframe tbody tr th:only-of-type {\n        vertical-align: middle;\n    }\n\n    .dataframe tbody tr th {\n        vertical-align: top;\n    }\n\n    .dataframe thead th {\n        text-align: right;\n    }\n</style>\n<table border=\"1\" class=\"dataframe\">\n  <thead>\n    <tr style=\"text-align: right;\">\n      <th></th>\n      <th>Unnamed: 0</th>\n      <th>name</th>\n      <th>latitude_1</th>\n      <th>longitude_1</th>\n      <th>latitude_2</th>\n      <th>longitude_2</th>\n      <th>latitude_3</th>\n      <th>longitude_3</th>\n      <th>latitude_4</th>\n      <th>longitude_4</th>\n      <th>...</th>\n      <th>longitude_16</th>\n      <th>latitude_17</th>\n      <th>longitude_17</th>\n      <th>latitude_18</th>\n      <th>longitude_18</th>\n      <th>latitude_19</th>\n      <th>longitude_19</th>\n      <th>latitude_20</th>\n      <th>longitude_20</th>\n      <th>enter-parking</th>\n    </tr>\n  </thead>\n  <tbody>\n    <tr>\n      <th>0</th>\n      <td>0</td>\n      <td>1_A_Missed</td>\n      <td>36.109640</td>\n      <td>-115.140945</td>\n      <td>36.109676</td>\n      <td>-115.140893</td>\n      <td>36.109710</td>\n      <td>-115.140870</td>\n      <td>36.109762</td>\n      <td>-115.140860</td>\n      <td>...</td>\n      <td>-115.140923</td>\n      <td>36.110641</td>\n      <td>-115.140944</td>\n      <td>36.110660</td>\n      <td>-115.140983</td>\n      <td>36.110684</td>\n      <td>-115.141025</td>\n      <td>36.110713</td>\n      <td>-115.141055</td>\n      <td>0</td>\n    </tr>\n    <tr>\n      <th>1</th>\n      <td>1</td>\n      <td>2_A_Missed</td>\n      <td>36.109705</td>\n      <td>-115.140733</td>\n      <td>36.109702</td>\n      <td>-115.140785</td>\n      <td>36.109699</td>\n      <td>-115.140841</td>\n      <td>36.109741</td>\n      <td>-115.140857</td>\n      <td>...</td>\n      <td>-115.141093</td>\n      <td>36.110496</td>\n      <td>-115.141143</td>\n      <td>36.110548</td>\n      <td>-115.141190</td>\n      <td>36.110591</td>\n      <td>-115.141199</td>\n      <td>36.110651</td>\n      <td>-115.141182</td>\n      <td>0</td>\n    </tr>\n    <tr>\n      <th>2</th>\n      <td>2</td>\n      <td>3_A_Missed</td>\n      <td>36.109626</td>\n      <td>-115.140134</td>\n      <td>36.109675</td>\n      <td>-115.140140</td>\n      <td>36.109724</td>\n      <td>-115.140166</td>\n      <td>36.109730</td>\n      <td>-115.140230</td>\n      <td>...</td>\n      <td>-115.140790</td>\n      <td>36.110555</td>\n      <td>-115.140896</td>\n      <td>36.110686</td>\n      <td>-115.140910</td>\n      <td>36.110808</td>\n      <td>-115.140852</td>\n      <td>36.111009</td>\n      <td>-115.140862</td>\n      <td>0</td>\n    </tr>\n    <tr>\n      <th>3</th>\n      <td>3</td>\n      <td>4_A_Missed</td>\n      <td>36.109592</td>\n      <td>-115.140132</td>\n      <td>36.109662</td>\n      <td>-115.140159</td>\n      <td>36.109716</td>\n      <td>-115.140219</td>\n      <td>36.109716</td>\n      <td>-115.140310</td>\n      <td>...</td>\n      <td>-115.140889</td>\n      <td>36.110771</td>\n      <td>-115.140861</td>\n      <td>36.110981</td>\n      <td>-115.140853</td>\n      <td>36.111165</td>\n      <td>-115.140856</td>\n      <td>36.111302</td>\n      <td>-115.140917</td>\n      <td>0</td>\n    </tr>\n    <tr>\n      <th>4</th>\n      <td>4</td>\n      <td>5_A_Missed</td>\n      <td>36.109642</td>\n      <td>-115.141901</td>\n      <td>36.109649</td>\n      <td>-115.141793</td>\n      <td>36.109654</td>\n      <td>-115.141658</td>\n      <td>36.109711</td>\n      <td>-115.141601</td>\n      <td>...</td>\n      <td>-115.140886</td>\n      <td>36.110796</td>\n      <td>-115.140852</td>\n      <td>36.110958</td>\n      <td>-115.140852</td>\n      <td>36.111102</td>\n      <td>-115.140854</td>\n      <td>36.111243</td>\n      <td>-115.140892</td>\n      <td>0</td>\n    </tr>\n  </tbody>\n</table>\n<p>5 rows × 43 columns</p>\n</div>"
     },
     "execution_count": 4,
     "metadata": {},
     "output_type": "execute_result"
    }
   ],
   "source": [
    "df.head()"
   ],
   "metadata": {
    "collapsed": false,
    "pycharm": {
     "name": "#%%\n"
    }
   }
  },
  {
   "cell_type": "code",
   "execution_count": 5,
   "outputs": [
    {
     "name": "stderr",
     "output_type": "stream",
     "text": [
      "/var/folders/wk/h60chv5j375gp16jtms5f00r0000gn/T/ipykernel_77076/1238765685.py:40: DeprecationWarning: `np.int` is a deprecated alias for the builtin `int`. To silence this warning, use `int` by itself. Doing this will not modify any behavior and is safe. When replacing `np.int`, you may wish to use e.g. `np.int64` or `np.int32` to specify the precision. If you wish to review your current use, check the release note link for additional information.\n",
      "Deprecated in NumPy 1.20; for more details and guidance: https://numpy.org/devdocs/release/1.20.0-notes.html#deprecations\n",
      "  new_data = new_data.astype({'enter-parking': np.int})\n"
     ]
    }
   ],
   "source": [
    "# Split up\n",
    "def split_data(amount, data):\n",
    "    \"\"\"\n",
    "    Splits the columns of the data and returns a new data frame\n",
    "    Args:\n",
    "        amount:\n",
    "\n",
    "    Returns:\n",
    "\n",
    "    \"\"\"\n",
    "    # Create dataframe columns first\n",
    "    columns = []\n",
    "    for index in range(1, amount + 1):\n",
    "        latitude = 'latitude_' + str(index)\n",
    "        longitude = 'longitude_' + str(index)\n",
    "        columns.append(latitude)\n",
    "        columns.append(longitude)\n",
    "\n",
    "    columns.append('enter-parking')\n",
    "\n",
    "    coord1 = data[data.columns[2:10]].values\n",
    "    coord1 = np.column_stack((coord1, data['enter-parking'].values))\n",
    "\n",
    "    coord2 = data[data.columns[10:18]].values\n",
    "    coord2 = np.column_stack((coord2, data['enter-parking'].values))\n",
    "\n",
    "    coord3 = data[data.columns[18:26]].values\n",
    "    coord3 = np.column_stack((coord3, data['enter-parking'].values))\n",
    "\n",
    "    coord4 = data[data.columns[26:34]].values\n",
    "    coord4 = np.column_stack((coord4, data['enter-parking'].values))\n",
    "\n",
    "    coord5 = data[data.columns[34:42]].values\n",
    "    coord5 = np.column_stack((coord5, data['enter-parking'].values))\n",
    "\n",
    "    all_coords = np.concatenate((coord1, coord2, coord3, coord4, coord5), axis=0)\n",
    "\n",
    "    new_data = pd.DataFrame(all_coords, columns=columns)\n",
    "\n",
    "    new_data = new_data.astype({'enter-parking': np.int})\n",
    "\n",
    "    return new_data\n",
    "\n",
    "new_df = split_data(4, df)\n",
    "\n",
    "pass"
   ],
   "metadata": {
    "collapsed": false,
    "pycharm": {
     "name": "#%%\n"
    }
   }
  },
  {
   "cell_type": "code",
   "execution_count": 6,
   "outputs": [],
   "source": [
    "# Get The cordinates for x\n",
    "x = new_df[new_df.columns[:8]]\n",
    "\n",
    "# Get the last coordinate\n",
    "y = new_df['enter-parking'].values"
   ],
   "metadata": {
    "collapsed": false,
    "pycharm": {
     "name": "#%%\n"
    }
   }
  },
  {
   "cell_type": "code",
   "execution_count": 7,
   "outputs": [
    {
     "name": "stdout",
     "output_type": "stream",
     "text": [
      "     latitude_1  longitude_1  latitude_2  longitude_2  latitude_3  \\\n",
      "0     36.109640  -115.140945   36.109676  -115.140893   36.109710   \n",
      "1     36.109705  -115.140733   36.109702  -115.140785   36.109699   \n",
      "2     36.109626  -115.140134   36.109675  -115.140140   36.109724   \n",
      "3     36.109592  -115.140132   36.109662  -115.140159   36.109716   \n",
      "4     36.109642  -115.141901   36.109649  -115.141793   36.109654   \n",
      "..          ...          ...         ...          ...         ...   \n",
      "515   36.110666  -115.139378   36.110664  -115.139467   36.110665   \n",
      "516   36.111015  -115.139487   36.110961  -115.139489   36.110940   \n",
      "517   36.110554  -115.139594   36.110592  -115.139721   36.110595   \n",
      "518   36.110684  -115.139396   36.110775  -115.139442   36.110864   \n",
      "519   36.110582  -115.139857   36.110582  -115.139943   36.110609   \n",
      "\n",
      "     longitude_3  latitude_4  longitude_4  \n",
      "0    -115.140870   36.109762  -115.140860  \n",
      "1    -115.140841   36.109741  -115.140857  \n",
      "2    -115.140166   36.109730  -115.140230  \n",
      "3    -115.140219   36.109716  -115.140310  \n",
      "4    -115.141658   36.109711  -115.141601  \n",
      "..           ...         ...          ...  \n",
      "515  -115.139567   36.110671  -115.139664  \n",
      "516  -115.139523   36.110938  -115.139585  \n",
      "517  -115.139786   36.110655  -115.139813  \n",
      "518  -115.139464   36.110929  -115.139591  \n",
      "519  -115.139986   36.110655  -115.139993  \n",
      "\n",
      "[520 rows x 8 columns]\n",
      "[0 0 0 0 0 0 0 0 0 0 0 0 0 0 0 0 0 0 0 0 1 1 1 1 1 1 1 1 1 0 0 0 0 0 0 1 1\n",
      " 1 1 1 1 1 1 1 1 1 1 1 1 1 1 1 1 1 1 1 1 1 1 1 0 0 0 0 0 0 0 0 0 0 0 0 0 0\n",
      " 0 0 0 0 0 1 1 1 1 1 1 1 1 1 1 1 1 1 1 1 1 1 1 1 1 1 1 1 1 1 0 0 0 0 0 0 0\n",
      " 0 0 0 0 0 0 0 0 0 0 0 0 0 1 1 1 1 1 1 1 1 1 0 0 0 0 0 0 1 1 1 1 1 1 1 1 1\n",
      " 1 1 1 1 1 1 1 1 1 1 1 1 1 1 1 1 0 0 0 0 0 0 0 0 0 0 0 0 0 0 0 0 0 0 0 1 1\n",
      " 1 1 1 1 1 1 1 1 1 1 1 1 1 1 1 1 1 1 1 1 1 1 1 0 0 0 0 0 0 0 0 0 0 0 0 0 0\n",
      " 0 0 0 0 0 0 1 1 1 1 1 1 1 1 1 0 0 0 0 0 0 1 1 1 1 1 1 1 1 1 1 1 1 1 1 1 1\n",
      " 1 1 1 1 1 1 1 1 1 0 0 0 0 0 0 0 0 0 0 0 0 0 0 0 0 0 0 0 1 1 1 1 1 1 1 1 1\n",
      " 1 1 1 1 1 1 1 1 1 1 1 1 1 1 1 1 0 0 0 0 0 0 0 0 0 0 0 0 0 0 0 0 0 0 0 0 1\n",
      " 1 1 1 1 1 1 1 1 0 0 0 0 0 0 1 1 1 1 1 1 1 1 1 1 1 1 1 1 1 1 1 1 1 1 1 1 1\n",
      " 1 1 0 0 0 0 0 0 0 0 0 0 0 0 0 0 0 0 0 0 0 1 1 1 1 1 1 1 1 1 1 1 1 1 1 1 1\n",
      " 1 1 1 1 1 1 1 1 1 0 0 0 0 0 0 0 0 0 0 0 0 0 0 0 0 0 0 0 0 1 1 1 1 1 1 1 1\n",
      " 1 0 0 0 0 0 0 1 1 1 1 1 1 1 1 1 1 1 1 1 1 1 1 1 1 1 1 1 1 1 1 1 0 0 0 0 0\n",
      " 0 0 0 0 0 0 0 0 0 0 0 0 0 0 1 1 1 1 1 1 1 1 1 1 1 1 1 1 1 1 1 1 1 1 1 1 1\n",
      " 1 1]\n"
     ]
    }
   ],
   "source": [
    "print(x)\n",
    "print(y)"
   ],
   "metadata": {
    "collapsed": false,
    "pycharm": {
     "name": "#%%\n"
    }
   }
  },
  {
   "cell_type": "code",
   "execution_count": 8,
   "outputs": [],
   "source": [
    "x_train, x_test, y_train, y_test = train_test_split(x, y, test_size=0.25, random_state=63)"
   ],
   "metadata": {
    "collapsed": false,
    "pycharm": {
     "name": "#%%\n"
    }
   }
  },
  {
   "cell_type": "code",
   "execution_count": 9,
   "outputs": [],
   "source": [
    "# Scale data\n",
    "scaler = MinMaxScaler()\n",
    "\n",
    "x_train = scaler.fit_transform(x_train)\n",
    "\n",
    "x_test = scaler.transform(x_test)"
   ],
   "metadata": {
    "collapsed": false,
    "pycharm": {
     "name": "#%%\n"
    }
   }
  },
  {
   "cell_type": "code",
   "execution_count": 10,
   "outputs": [
    {
     "data": {
      "text/plain": "(390, 8)"
     },
     "execution_count": 10,
     "metadata": {},
     "output_type": "execute_result"
    }
   ],
   "source": [
    "x_train.shape"
   ],
   "metadata": {
    "collapsed": false,
    "pycharm": {
     "name": "#%%\n"
    }
   }
  },
  {
   "cell_type": "code",
   "execution_count": 11,
   "outputs": [],
   "source": [
    "early_stop = EarlyStopping(monitor='val_loss', mode='min', verbose=1, patience=20)\n",
    "\n",
    "# Model creation\n",
    "model = Sequential()\n",
    "\n",
    "# 8 neurons for input layer\n",
    "model.add(Dense(8, activation='relu'))\n",
    "model.add(Dropout(0.3))\n",
    "\n",
    "model.add(Dense(6, activation='relu'))\n",
    "model.add(Dropout(0.3))\n",
    "\n",
    "# Binary classification\n",
    "model.add(Dense(1, activation='sigmoid'))\n",
    "\n",
    "model.compile(loss='binary_crossentropy',\n",
    "              optimizer=tf.keras.optimizers.Adam(lr=0.01),\n",
    "              metrics=['accuracy'])"
   ],
   "metadata": {
    "collapsed": false,
    "pycharm": {
     "name": "#%%\n"
    }
   }
  },
  {
   "cell_type": "code",
   "execution_count": 12,
   "outputs": [
    {
     "name": "stdout",
     "output_type": "stream",
     "text": [
      "Epoch 1/250\n",
      "WARNING:tensorflow:AutoGraph could not transform <function Model.make_train_function.<locals>.train_function at 0x1516e8dc0> and will run it as-is.\n",
      "Please report this to the TensorFlow team. When filing the bug, set the verbosity to 10 (on Linux, `export AUTOGRAPH_VERBOSITY=10`) and attach the full output.\n",
      "Cause: unsupported operand type(s) for -: 'NoneType' and 'int'\n",
      "To silence this warning, decorate the function with @tf.autograph.experimental.do_not_convert\n",
      "WARNING: AutoGraph could not transform <function Model.make_train_function.<locals>.train_function at 0x1516e8dc0> and will run it as-is.\n",
      "Please report this to the TensorFlow team. When filing the bug, set the verbosity to 10 (on Linux, `export AUTOGRAPH_VERBOSITY=10`) and attach the full output.\n",
      "Cause: unsupported operand type(s) for -: 'NoneType' and 'int'\n",
      "To silence this warning, decorate the function with @tf.autograph.experimental.do_not_convert\n"
     ]
    },
    {
     "name": "stderr",
     "output_type": "stream",
     "text": [
      "2021-07-14 22:24:51.880617: I tensorflow/compiler/mlir/mlir_graph_optimization_pass.cc:116] None of the MLIR optimization passes are enabled (registered 2)\n",
      "2021-07-14 22:24:51.880898: W tensorflow/core/platform/profile_utils/cpu_utils.cc:126] Failed to get CPU frequency: 0 Hz\n"
     ]
    },
    {
     "name": "stdout",
     "output_type": "stream",
     "text": [
      " 1/13 [=>............................] - ETA: 2s - loss: 0.6734 - accuracy: 0.6562WARNING:tensorflow:AutoGraph could not transform <function Model.make_test_function.<locals>.test_function at 0x15607b5e0> and will run it as-is.\n",
      "Please report this to the TensorFlow team. When filing the bug, set the verbosity to 10 (on Linux, `export AUTOGRAPH_VERBOSITY=10`) and attach the full output.\n",
      "Cause: unsupported operand type(s) for -: 'NoneType' and 'int'\n",
      "To silence this warning, decorate the function with @tf.autograph.experimental.do_not_convert\n",
      "WARNING: AutoGraph could not transform <function Model.make_test_function.<locals>.test_function at 0x15607b5e0> and will run it as-is.\n",
      "Please report this to the TensorFlow team. When filing the bug, set the verbosity to 10 (on Linux, `export AUTOGRAPH_VERBOSITY=10`) and attach the full output.\n",
      "Cause: unsupported operand type(s) for -: 'NoneType' and 'int'\n",
      "To silence this warning, decorate the function with @tf.autograph.experimental.do_not_convert\n",
      "13/13 [==============================] - 0s 23ms/step - loss: 0.7052 - accuracy: 0.5243 - val_loss: 0.7256 - val_accuracy: 0.5846\n",
      "Epoch 2/250\n",
      "13/13 [==============================] - 0s 2ms/step - loss: 0.6707 - accuracy: 0.5920 - val_loss: 0.7061 - val_accuracy: 0.5769\b\b\b\b\b\b\b\b\b\b\b\b\b\b\b\b\b\b\b\b\b\b\b\b\b\b\b\b\b\b\b\b\b\b\b\b\n",
      "Epoch 3/250\n",
      "13/13 [==============================] - 0s 2ms/step - loss: 0.7142 - accuracy: 0.5273 - val_loss: 0.7339 - val_accuracy: 0.4846\b\b\b\b\b\b\b\b\b\b\b\b\b\b\b\b\b\b\b\b\b\b\b\b\b\b\b\b\b\b\b\b\b\b\b\b\n",
      "Epoch 4/250\n",
      "13/13 [==============================] - 0s 2ms/step - loss: 0.6916 - accuracy: 0.5512 - val_loss: 0.6986 - val_accuracy: 0.5692\b\b\b\b\b\b\b\b\b\b\b\b\b\b\b\b\b\b\b\b\b\b\b\b\b\b\b\b\b\b\b\b\b\b\b\b\n",
      "Epoch 5/250\n",
      "13/13 [==============================] - 0s 2ms/step - loss: 0.6974 - accuracy: 0.5505 - val_loss: 0.6995 - val_accuracy: 0.5846\b\b\b\b\b\b\b\b\b\b\b\b\b\b\b\b\b\b\b\b\b\b\b\b\b\b\b\b\b\b\b\b\b\b\b\b\n",
      "Epoch 6/250\n",
      "13/13 [==============================] - 0s 2ms/step - loss: 0.6896 - accuracy: 0.5386 - val_loss: 0.6776 - val_accuracy: 0.5692\b\b\b\b\b\b\b\b\b\b\b\b\b\b\b\b\b\b\b\b\b\b\b\b\b\b\b\b\b\b\b\b\b\b\b\b\n",
      "Epoch 7/250\n",
      "13/13 [==============================] - 0s 2ms/step - loss: 0.6867 - accuracy: 0.5519 - val_loss: 0.6786 - val_accuracy: 0.5923\b\b\b\b\b\b\b\b\b\b\b\b\b\b\b\b\b\b\b\b\b\b\b\b\b\b\b\b\b\b\b\b\b\b\b\b\n",
      "Epoch 8/250\n",
      "13/13 [==============================] - 0s 2ms/step - loss: 0.7007 - accuracy: 0.4990 - val_loss: 0.7126 - val_accuracy: 0.5000\b\b\b\b\b\b\b\b\b\b\b\b\b\b\b\b\b\b\b\b\b\b\b\b\b\b\b\b\b\b\b\b\b\b\b\b\n",
      "Epoch 9/250\n",
      "13/13 [==============================] - 0s 2ms/step - loss: 0.6855 - accuracy: 0.5411 - val_loss: 0.6845 - val_accuracy: 0.6077\b\b\b\b\b\b\b\b\b\b\b\b\b\b\b\b\b\b\b\b\b\b\b\b\b\b\b\b\b\b\b\b\b\b\b\b\n",
      "Epoch 10/250\n",
      "13/13 [==============================] - 0s 2ms/step - loss: 0.6706 - accuracy: 0.6055 - val_loss: 0.7037 - val_accuracy: 0.5462\b\b\b\b\b\b\b\b\b\b\b\b\b\b\b\b\b\b\b\b\b\b\b\b\b\b\b\b\b\b\b\b\b\b\b\b\n",
      "Epoch 11/250\n",
      "13/13 [==============================] - 0s 2ms/step - loss: 0.6667 - accuracy: 0.5871 - val_loss: 0.6882 - val_accuracy: 0.6077\b\b\b\b\b\b\b\b\b\b\b\b\b\b\b\b\b\b\b\b\b\b\b\b\b\b\b\b\b\b\b\b\b\b\b\b\n",
      "Epoch 12/250\n",
      "13/13 [==============================] - 0s 2ms/step - loss: 0.6716 - accuracy: 0.5833 - val_loss: 0.6977 - val_accuracy: 0.5692\b\b\b\b\b\b\b\b\b\b\b\b\b\b\b\b\b\b\b\b\b\b\b\b\b\b\b\b\b\b\b\b\b\b\b\b\n",
      "Epoch 13/250\n",
      "13/13 [==============================] - 0s 2ms/step - loss: 0.6615 - accuracy: 0.6070 - val_loss: 0.7020 - val_accuracy: 0.5846\b\b\b\b\b\b\b\b\b\b\b\b\b\b\b\b\b\b\b\b\b\b\b\b\b\b\b\b\b\b\b\b\b\b\b\b\n",
      "Epoch 14/250\n",
      "13/13 [==============================] - 0s 2ms/step - loss: 0.6802 - accuracy: 0.5798 - val_loss: 0.6797 - val_accuracy: 0.5769\b\b\b\b\b\b\b\b\b\b\b\b\b\b\b\b\b\b\b\b\b\b\b\b\b\b\b\b\b\b\b\b\b\b\b\b\n",
      "Epoch 15/250\n",
      "13/13 [==============================] - 0s 2ms/step - loss: 0.6776 - accuracy: 0.5625 - val_loss: 0.7127 - val_accuracy: 0.5308\b\b\b\b\b\b\b\b\b\b\b\b\b\b\b\b\b\b\b\b\b\b\b\b\b\b\b\b\b\b\b\b\b\b\b\b\n",
      "Epoch 16/250\n",
      "13/13 [==============================] - 0s 2ms/step - loss: 0.6746 - accuracy: 0.5782 - val_loss: 0.7008 - val_accuracy: 0.5769\b\b\b\b\b\b\b\b\b\b\b\b\b\b\b\b\b\b\b\b\b\b\b\b\b\b\b\b\b\b\b\b\b\b\b\b\n",
      "Epoch 17/250\n",
      "13/13 [==============================] - 0s 2ms/step - loss: 0.6664 - accuracy: 0.5692 - val_loss: 0.7211 - val_accuracy: 0.5538\b\b\b\b\b\b\b\b\b\b\b\b\b\b\b\b\b\b\b\b\b\b\b\b\b\b\b\b\b\b\b\b\b\b\b\b\n",
      "Epoch 18/250\n",
      "13/13 [==============================] - 0s 2ms/step - loss: 0.6961 - accuracy: 0.5465 - val_loss: 0.7024 - val_accuracy: 0.5538\b\b\b\b\b\b\b\b\b\b\b\b\b\b\b\b\b\b\b\b\b\b\b\b\b\b\b\b\b\b\b\b\b\b\b\b\n",
      "Epoch 19/250\n",
      "13/13 [==============================] - 0s 2ms/step - loss: 0.6770 - accuracy: 0.5841 - val_loss: 0.7092 - val_accuracy: 0.5385\b\b\b\b\b\b\b\b\b\b\b\b\b\b\b\b\b\b\b\b\b\b\b\b\b\b\b\b\b\b\b\b\b\b\b\b\n",
      "Epoch 20/250\n",
      "13/13 [==============================] - 0s 2ms/step - loss: 0.6737 - accuracy: 0.5663 - val_loss: 0.7086 - val_accuracy: 0.5846\b\b\b\b\b\b\b\b\b\b\b\b\b\b\b\b\b\b\b\b\b\b\b\b\b\b\b\b\b\b\b\b\b\b\b\b\n",
      "Epoch 21/250\n",
      "13/13 [==============================] - 0s 2ms/step - loss: 0.6780 - accuracy: 0.5832 - val_loss: 0.6819 - val_accuracy: 0.5692\b\b\b\b\b\b\b\b\b\b\b\b\b\b\b\b\b\b\b\b\b\b\b\b\b\b\b\b\b\b\b\b\b\b\b\b\n",
      "Epoch 22/250\n",
      "13/13 [==============================] - 0s 2ms/step - loss: 0.6708 - accuracy: 0.5852 - val_loss: 0.7023 - val_accuracy: 0.5769\b\b\b\b\b\b\b\b\b\b\b\b\b\b\b\b\b\b\b\b\b\b\b\b\b\b\b\b\b\b\b\b\b\b\b\b\n",
      "Epoch 23/250\n",
      "13/13 [==============================] - 0s 2ms/step - loss: 0.6795 - accuracy: 0.5787 - val_loss: 0.6939 - val_accuracy: 0.5846\b\b\b\b\b\b\b\b\b\b\b\b\b\b\b\b\b\b\b\b\b\b\b\b\b\b\b\b\b\b\b\b\b\b\b\b\n",
      "Epoch 24/250\n",
      "13/13 [==============================] - 0s 2ms/step - loss: 0.6662 - accuracy: 0.5748 - val_loss: 0.6926 - val_accuracy: 0.5692\b\b\b\b\b\b\b\b\b\b\b\b\b\b\b\b\b\b\b\b\b\b\b\b\b\b\b\b\b\b\b\b\b\b\b\b\n",
      "Epoch 25/250\n",
      "13/13 [==============================] - 0s 2ms/step - loss: 0.6959 - accuracy: 0.5199 - val_loss: 0.6796 - val_accuracy: 0.5769\b\b\b\b\b\b\b\b\b\b\b\b\b\b\b\b\b\b\b\b\b\b\b\b\b\b\b\b\b\b\b\b\b\b\b\b\n",
      "Epoch 26/250\n",
      "13/13 [==============================] - 0s 2ms/step - loss: 0.6793 - accuracy: 0.5535 - val_loss: 0.6880 - val_accuracy: 0.5846\b\b\b\b\b\b\b\b\b\b\b\b\b\b\b\b\b\b\b\b\b\b\b\b\b\b\b\b\b\b\b\b\b\b\b\b\n",
      "Epoch 00026: early stopping\n"
     ]
    }
   ],
   "source": [
    "history = model.fit(x=x_train,\n",
    "                    y=y_train,\n",
    "                    epochs=250,\n",
    "                    validation_data=(x_test, y_test),\n",
    "                    callbacks=early_stop,\n",
    "                    shuffle=True)"
   ],
   "metadata": {
    "collapsed": false,
    "pycharm": {
     "name": "#%%\n"
    }
   }
  },
  {
   "cell_type": "code",
   "execution_count": 13,
   "outputs": [],
   "source": [
    "losses = pd.DataFrame(model.history.history)"
   ],
   "metadata": {
    "collapsed": false,
    "pycharm": {
     "name": "#%%\n"
    }
   }
  },
  {
   "cell_type": "code",
   "execution_count": 14,
   "outputs": [
    {
     "data": {
      "text/plain": "dict_keys(['loss', 'accuracy', 'val_loss', 'val_accuracy'])"
     },
     "execution_count": 14,
     "metadata": {},
     "output_type": "execute_result"
    }
   ],
   "source": [
    "history.history.keys()"
   ],
   "metadata": {
    "collapsed": false,
    "pycharm": {
     "name": "#%%\n"
    }
   }
  },
  {
   "cell_type": "code",
   "execution_count": 15,
   "outputs": [
    {
     "data": {
      "text/plain": "<Figure size 432x288 with 1 Axes>",
      "image/png": "[encoded data removed]"
     },
     "metadata": {
      "needs_background": "light"
     },
     "output_type": "display_data"
    }
   ],
   "source": [
    "# Plot accuracy\n",
    "plt.plot(history.history['accuracy'])\n",
    "plt.plot(history.history['val_accuracy'])\n",
    "plt.title('Model Accuracy')\n",
    "plt.ylabel('accuracy')\n",
    "plt.xlabel('epoch')\n",
    "plt.legend(['train', 'val'], loc='upper left')\n",
    "plt.show()"
   ],
   "metadata": {
    "collapsed": false,
    "pycharm": {
     "name": "#%%\n"
    }
   }
  },
  {
   "cell_type": "code",
   "execution_count": 16,
   "outputs": [
    {
     "data": {
      "text/plain": "<Figure size 432x288 with 1 Axes>",
      "image/png": "[encoded data removed]"
     },
     "metadata": {
      "needs_background": "light"
     },
     "output_type": "display_data"
    }
   ],
   "source": [
    "# Plot loss\n",
    "plt.plot(history.history['loss'])\n",
    "plt.plot(history.history['val_loss'])\n",
    "plt.title('model loss')\n",
    "plt.ylabel('loss')\n",
    "plt.xlabel('epoch')\n",
    "plt.legend(['train', 'val'], loc='upper left')\n",
    "plt.show()"
   ],
   "metadata": {
    "collapsed": false,
    "pycharm": {
     "name": "#%%\n"
    }
   }
  },
  {
   "cell_type": "code",
   "execution_count": 17,
   "outputs": [],
   "source": [
    "test_df = pd.read_csv('../simulations/data/test_paths.csv')"
   ],
   "metadata": {
    "collapsed": false,
    "pycharm": {
     "name": "#%%\n"
    }
   }
  },
  {
   "cell_type": "code",
   "execution_count": 18,
   "outputs": [
    {
     "name": "stderr",
     "output_type": "stream",
     "text": [
      "/var/folders/wk/h60chv5j375gp16jtms5f00r0000gn/T/ipykernel_77076/1238765685.py:40: DeprecationWarning: `np.int` is a deprecated alias for the builtin `int`. To silence this warning, use `int` by itself. Doing this will not modify any behavior and is safe. When replacing `np.int`, you may wish to use e.g. `np.int64` or `np.int32` to specify the precision. If you wish to review your current use, check the release note link for additional information.\n",
      "Deprecated in NumPy 1.20; for more details and guidance: https://numpy.org/devdocs/release/1.20.0-notes.html#deprecations\n",
      "  new_data = new_data.astype({'enter-parking': np.int})\n"
     ]
    }
   ],
   "source": [
    "new_test_df = split_data(4, test_df)"
   ],
   "metadata": {
    "collapsed": false,
    "pycharm": {
     "name": "#%%\n"
    }
   }
  },
  {
   "cell_type": "code",
   "execution_count": 19,
   "outputs": [],
   "source": [
    "test_x = new_test_df[new_test_df.columns[:8]]\n",
    "\n",
    "test_y = new_test_df['enter-parking'].values"
   ],
   "metadata": {
    "collapsed": false,
    "pycharm": {
     "name": "#%%\n"
    }
   }
  },
  {
   "cell_type": "code",
   "execution_count": 20,
   "outputs": [],
   "source": [
    "test_x = scaler.transform(test_x)"
   ],
   "metadata": {
    "collapsed": false,
    "pycharm": {
     "name": "#%%\n"
    }
   }
  },
  {
   "cell_type": "code",
   "execution_count": 21,
   "outputs": [
    {
     "name": "stdout",
     "output_type": "stream",
     "text": [
      "[[ 0.04716029  0.27907406  0.04434847  0.26916168  0.06253496  0.27091275\n",
      "   0.10946606  0.26053305]\n",
      " [ 0.07032255  0.45708181  0.07443321  0.44263712  0.09901646  0.42737734\n",
      "   0.13523126  0.41517327]\n",
      " [ 0.06618357  0.30786408  0.068979    0.29301451  0.09290333  0.27722033\n",
      "   0.13311249  0.26416077]\n",
      " [ 0.09274035  0.10991671  0.09707398  0.10592138  0.12286627  0.09220515\n",
      "   0.16302348  0.08327734]\n",
      " [ 0.08372213  0.77581539  0.07815396  0.76736359  0.10112551  0.75697382\n",
      "   0.13749377  0.74860145]\n",
      " [ 0.09064393  0.78643653  0.0947253   0.77724825  0.12237703  0.76889883\n",
      "   0.16135469  0.76532944]\n",
      " [ 0.07338572  0.41979169  0.05794098  0.38243952  0.08002516  0.35305104\n",
      "   0.11646365  0.32584364]\n",
      " [ 0.36153614  0.69738297  0.3702168   0.68869786  0.39152137  0.68356185\n",
      "   0.42801661  0.68003158]\n",
      " [ 0.77497896 -0.08015084  0.77553681 -0.07453306  0.78545886 -0.0707799\n",
      "   0.79695308 -0.06196397]\n",
      " [ 0.07348944  0.5066595   0.08075775  0.46515565  0.11471895  0.43421038\n",
      "   0.15628993  0.41451185]\n",
      " [ 0.01680969  0.28182412  0.02340041  0.26472964  0.05196272  0.25917613\n",
      "   0.08434909  0.26323965]\n",
      " [ 0.00928643  0.81563841  0.01523898  0.81010387  0.045087    0.80508837\n",
      "   0.0866153   0.80095542]\n",
      " [ 0.06651723  0.08798742  0.07390277  0.07425764  0.10218044  0.06899952\n",
      "   0.14282369  0.06313625]\n",
      " [ 0.72975869  0.30388856  0.69034913  0.29316039  0.67082562  0.27982602\n",
      "   0.65283827  0.26779819]\n",
      " [ 0.38007732  0.20748873  0.34936243  0.19114623  0.33428117  0.1773261\n",
      "   0.33872106  0.17758808]\n",
      " [ 0.11408749  0.30215357  0.12407935  0.28634417  0.15427688  0.27137545\n",
      "   0.19691554  0.26064826]\n",
      " [ 0.13634742  0.44592971  0.14054189  0.4309354   0.16029198  0.40989839\n",
      "   0.19598717  0.39950488]\n",
      " [ 0.13703562  0.30412664  0.14427942  0.28771176  0.17300615  0.26801739\n",
      "   0.21649021  0.24704154]\n",
      " [ 0.16031853  0.15414936  0.1634495   0.15149918  0.19205357  0.14411675\n",
      "   0.22548408  0.14695031]\n",
      " [ 0.1400319   0.76056902  0.14219728  0.75058206  0.17044512  0.74432538\n",
      "   0.20800749  0.73795877]\n",
      " [ 0.16730573  0.77534843  0.17468236  0.76757073  0.20462331  0.75939022\n",
      "   0.24799751  0.75055774]\n",
      " [ 0.1131539   0.35097692  0.11389636  0.32781007  0.13900084  0.30527063\n",
      "   0.1767867   0.28263739]\n",
      " [ 0.42865108  0.69524464  0.44605253  0.68882118  0.47886363  0.68026576\n",
      "   0.51881281  0.6744343 ]\n",
      " [ 0.77057789  0.02478554  0.77231896  0.03805331  0.78287634  0.05310875\n",
      "   0.79631659  0.06204551]\n",
      " [ 0.15759709  0.43249179  0.16313709  0.40210027  0.19152902  0.38263602\n",
      "   0.23556449  0.36960377]\n",
      " [ 0.09124627  0.30313632  0.09708949  0.28924187  0.1282154   0.27546322\n",
      "   0.16944094  0.25719366]\n",
      " [ 0.08856782  0.80180263  0.0900508   0.78322709  0.11661669  0.77493489\n",
      "   0.15523048  0.77002308]\n",
      " [ 0.14024703  0.13111452  0.14520675  0.13593528  0.17595904  0.13292629\n",
      "   0.21267909  0.12870523]\n",
      " [ 0.58836262  0.31340989  0.55066837  0.29840363  0.53011044  0.2871464\n",
      "   0.52279497  0.26880165]\n",
      " [ 0.31063216  0.23975804  0.27635665  0.23756368  0.25741675  0.23449278\n",
      "   0.25093498  0.23482869]\n",
      " [ 0.1971131   0.30602708  0.20237048  0.30015184  0.23045458  0.29422165\n",
      "   0.26906261  0.28724276]\n",
      " [ 0.1907755   0.4215241   0.19263638  0.39841461  0.21768084  0.3797894\n",
      "   0.25155782  0.35297131]\n",
      " [ 0.22787279  0.28625259  0.2436597   0.26958227  0.27424217  0.25569888\n",
      "   0.31459088  0.24293162]\n",
      " [ 0.21554996  0.22265103  0.21212071  0.2257511   0.23600193  0.23288899\n",
      "   0.27699584  0.23770427]\n",
      " [ 0.20915974  0.75169999  0.21592347  0.74377348  0.24351806  0.73881135\n",
      "   0.28530369  0.73257334]\n",
      " [ 0.2472624   0.7592278   0.25586734  0.74340332  0.28446402  0.72875374\n",
      "   0.32001221  0.70957005]\n",
      " [ 0.17666385  0.33175285  0.18434944  0.32376145  0.21125193  0.30954551\n",
      "   0.25241838  0.29246963]\n",
      " [ 0.51934417  0.68828109  0.53458699  0.68033942  0.56609552  0.67291953\n",
      "   0.60779986  0.66565352]\n",
      " [ 0.76932601  0.14079472  0.77167747  0.14639424  0.7809458   0.15048556\n",
      "   0.79440983  0.15659583]\n",
      " [ 0.23291083  0.39342511  0.239651    0.35780284  0.26549363  0.32663204\n",
      "   0.30189562  0.30800679]\n",
      " [ 0.17760256  0.2962189   0.19023511  0.27235856  0.22654756  0.24893746\n",
      "   0.27336155  0.22075725]\n",
      " [ 0.15631418  0.78247262  0.15885035  0.77638849  0.18410177  0.77158212\n",
      "   0.22029621  0.76665977]\n",
      " [ 0.20895203  0.19921437  0.20327931  0.2134412   0.22436897  0.2227308\n",
      "   0.26307463  0.22690662]\n",
      " [ 0.45776902  0.3082496   0.41914935  0.29031904  0.39797634  0.26297063\n",
      "   0.39150231  0.24165901]\n",
      " [ 0.20612425  0.28805831  0.16477603  0.28191956  0.14710401  0.26956597\n",
      "   0.13810585  0.26199734]\n",
      " [ 0.26790854  0.33285621  0.27352866  0.32361953  0.30107789  0.31777097\n",
      "   0.33278122  0.31474738]\n",
      " [ 0.24391459  0.36839024  0.24954276  0.34355285  0.27746566  0.32159853\n",
      "   0.31885683  0.30565555]\n",
      " [ 0.30754276  0.29801429  0.30146794  0.29999219  0.31462621  0.30319233\n",
      "   0.33857103  0.30851753]\n",
      " [ 0.28581611  0.28829142  0.29767676  0.2804378   0.31537389  0.2927771\n",
      "   0.34145482  0.30617248]\n",
      " [ 0.27778529  0.74651735  0.27988917  0.73215299  0.30320464  0.70983283\n",
      "   0.33760073  0.68890324]\n",
      " [ 0.31804023  0.71168082  0.32063109  0.69383188  0.34287033  0.6755949\n",
      "   0.36995512  0.65723904]\n",
      " [ 0.25698447  0.32896645  0.26903122  0.32137272  0.29224838  0.31671571\n",
      "   0.33159958  0.31590472]\n",
      " [ 0.61086291  0.68270988  0.63598411  0.6751983   0.66740922  0.66792395\n",
      "   0.70582393  0.66152643]\n",
      " [ 0.7655835   0.22788498  0.76975581  0.23093527  0.7790206   0.23201923\n",
      "   0.78683493  0.24579768]\n",
      " [ 0.30622953  0.34115187  0.3127877   0.30879766  0.33336513  0.27475243\n",
      "   0.37103315  0.2481385 ]\n",
      " [ 0.27519593  0.2533701   0.28331354  0.22878457  0.31061281  0.20608629\n",
      "   0.34153967  0.17880255]\n",
      " [ 0.21682874  0.77233303  0.2255805   0.75751605  0.25397916  0.75113389\n",
      "   0.29614084  0.74719558]\n",
      " [ 0.26463936  0.28300153  0.27987799  0.27475668  0.31587086  0.26258195\n",
      "   0.35804249  0.24299825]\n",
      " [ 0.33788804  0.27565391  0.30132696  0.24833304  0.29328008  0.22193873\n",
      "   0.28163555  0.1988815 ]\n",
      " [ 0.09267482  0.30405975  0.05381808  0.29556248  0.05920353  0.3080109\n",
      "   0.08153181  0.31799902]\n",
      " [ 0.31782922  0.36946624  0.33042726  0.36799011  0.34991626  0.37228433\n",
      "   0.38315016  0.37103504]\n",
      " [ 0.31466276  0.36093278  0.32224324  0.36380971  0.34511364  0.36589562\n",
      "   0.38357719  0.37004109]\n",
      " [ 0.325895    0.36317122  0.32681628  0.36058838  0.34617922  0.3663504\n",
      "   0.38261115  0.3686997 ]\n",
      " [ 0.32857952  0.36628649  0.33029202  0.36827502  0.35045008  0.36966588\n",
      "   0.38552016  0.36764275]\n",
      " [ 0.34039683  0.69295888  0.34426235  0.67062407  0.3672834   0.65117188\n",
      "   0.40126149  0.63174474]\n",
      " [ 0.36011295  0.66556311  0.36104732  0.65306668  0.37898382  0.63610253\n",
      "   0.40681492  0.6255416 ]\n",
      " [ 0.3254818   0.3716076   0.33030913  0.37453254  0.34990362  0.37449573\n",
      "   0.38442964  0.36871159]\n",
      " [ 0.71067482  0.67745607  0.74108082  0.66493467  0.76617995  0.64684989\n",
      "   0.76759444  0.62909229]\n",
      " [ 0.74235643  0.30880117  0.71804174  0.31766427  0.71079687  0.31526777\n",
      "   0.71660277  0.31778525]\n",
      " [ 0.36790435  0.2851604   0.37462193  0.26032829  0.39254783  0.23546282\n",
      "   0.4201514   0.21455258]\n",
      " [ 0.33923634  0.21400785  0.34785207  0.19647557  0.37083503  0.18098737\n",
      "   0.40827411  0.17199045]\n",
      " [ 0.2904321   0.77028848  0.29045223  0.77367805  0.31107264  0.77880345\n",
      "   0.3415491   0.78713723]\n",
      " [ 0.3567068   0.28571633  0.3629303   0.26539983  0.38424619  0.24137163\n",
      "   0.41749198  0.2150688 ]\n",
      " [ 0.23196366  0.24604881  0.20508739  0.22146435  0.20709592  0.16924442\n",
      "   0.20217201  0.12014668]\n",
      " [ 0.06854312  0.39060189  0.05466357  0.41184925  0.06428489  0.42356919\n",
      "   0.08655522  0.43956367]]\n",
      "[1 1 1 1 1 1 1 1 1 0 0 0 0 0 0 1 1 1 1 1 1 1 1 1 0 0 0 0 0 0 1 1 1 1 1 1 1\n",
      " 1 1 0 0 0 0 0 0 1 1 1 1 1 1 1 1 1 0 0 0 0 0 0 1 1 1 1 1 1 1 1 1 0 0 0 0 0\n",
      " 0]\n"
     ]
    }
   ],
   "source": [
    "print(test_x)\n",
    "\n",
    "print(test_y)"
   ],
   "metadata": {
    "collapsed": false,
    "pycharm": {
     "name": "#%%\n"
    }
   }
  },
  {
   "cell_type": "code",
   "execution_count": 22,
   "outputs": [
    {
     "name": "stdout",
     "output_type": "stream",
     "text": [
      "WARNING:tensorflow:AutoGraph could not transform <function Model.make_predict_function.<locals>.predict_function at 0x15628d550> and will run it as-is.\n",
      "Please report this to the TensorFlow team. When filing the bug, set the verbosity to 10 (on Linux, `export AUTOGRAPH_VERBOSITY=10`) and attach the full output.\n",
      "Cause: unsupported operand type(s) for -: 'NoneType' and 'int'\n",
      "To silence this warning, decorate the function with @tf.autograph.experimental.do_not_convert\n",
      "WARNING: AutoGraph could not transform <function Model.make_predict_function.<locals>.predict_function at 0x15628d550> and will run it as-is.\n",
      "Please report this to the TensorFlow team. When filing the bug, set the verbosity to 10 (on Linux, `export AUTOGRAPH_VERBOSITY=10`) and attach the full output.\n",
      "Cause: unsupported operand type(s) for -: 'NoneType' and 'int'\n",
      "To silence this warning, decorate the function with @tf.autograph.experimental.do_not_convert\n",
      "[[1]\n",
      " [1]\n",
      " [1]\n",
      " [1]\n",
      " [0]\n",
      " [0]\n",
      " [0]\n",
      " [1]\n",
      " [1]\n",
      " [1]\n",
      " [1]\n",
      " [1]\n",
      " [1]\n",
      " [1]\n",
      " [1]\n",
      " [1]\n",
      " [1]\n",
      " [1]\n",
      " [1]\n",
      " [0]\n",
      " [1]\n",
      " [1]\n",
      " [1]\n",
      " [0]\n",
      " [1]\n",
      " [1]\n",
      " [1]\n",
      " [1]\n",
      " [0]\n",
      " [0]\n",
      " [1]\n",
      " [1]\n",
      " [1]\n",
      " [1]\n",
      " [1]\n",
      " [1]\n",
      " [1]\n",
      " [1]\n",
      " [0]\n",
      " [1]\n",
      " [1]\n",
      " [1]\n",
      " [1]\n",
      " [1]\n",
      " [1]\n",
      " [1]\n",
      " [1]\n",
      " [1]\n",
      " [1]\n",
      " [1]\n",
      " [1]\n",
      " [0]\n",
      " [1]\n",
      " [1]\n",
      " [1]\n",
      " [0]\n",
      " [1]\n",
      " [1]\n",
      " [1]\n",
      " [1]\n",
      " [0]\n",
      " [0]\n",
      " [1]\n",
      " [1]\n",
      " [1]\n",
      " [1]\n",
      " [1]\n",
      " [1]\n",
      " [1]\n",
      " [1]\n",
      " [0]\n",
      " [1]\n",
      " [1]\n",
      " [1]\n",
      " [1]]\n"
     ]
    }
   ],
   "source": [
    "predictions = (model.predict(test_x) > 0.5).astype(\"int32\")\n",
    "\n",
    "print(predictions)"
   ],
   "metadata": {
    "collapsed": false,
    "pycharm": {
     "name": "#%%\n"
    }
   }
  },
  {
   "cell_type": "code",
   "execution_count": 23,
   "outputs": [
    {
     "name": "stdout",
     "output_type": "stream",
     "text": [
      "              precision    recall  f1-score   support\n",
      "\n",
      "           0       0.31      0.13      0.19        30\n",
      "           1       0.58      0.80      0.67        45\n",
      "\n",
      "    accuracy                           0.53        75\n",
      "   macro avg       0.44      0.47      0.43        75\n",
      "weighted avg       0.47      0.53      0.48        75\n",
      "\n"
     ]
    }
   ],
   "source": [
    "print(classification_report(test_y, predictions))"
   ],
   "metadata": {
    "collapsed": false,
    "pycharm": {
     "name": "#%%\n"
    }
   }
  },
  {
   "cell_type": "code",
   "execution_count": 24,
   "outputs": [
    {
     "name": "stdout",
     "output_type": "stream",
     "text": [
      "[[ 4 26]\n",
      " [ 9 36]]\n"
     ]
    }
   ],
   "source": [
    "print(confusion_matrix(test_y, predictions))"
   ],
   "metadata": {
    "collapsed": false,
    "pycharm": {
     "name": "#%%\n"
    }
   }
  },
  {
   "cell_type": "code",
   "execution_count": 24,
   "outputs": [],
   "source": [],
   "metadata": {
    "collapsed": false,
    "pycharm": {
     "name": "#%%\n"
    }
   }
  }
 ],
 "metadata": {
  "kernelspec": {
   "display_name": "Python 3",
   "language": "python",
   "name": "python3"
  },
  "language_info": {
   "codemirror_mode": {
    "name": "ipython",
    "version": 2
   },
   "file_extension": ".py",
   "mimetype": "text/x-python",
   "name": "python",
   "nbconvert_exporter": "python",
   "pygments_lexer": "ipython2",
   "version": "2.7.6"
  }
 },
 "nbformat": 4,
 "nbformat_minor": 0
}