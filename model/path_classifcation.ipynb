{
 "cells": [
  {
   "cell_type": "markdown",
   "metadata": {
    "pycharm": {
     "name": "#%% md\n"
    }
   },
   "source": [
    "# Garage Classifcation Model\n",
    "\n",
    "\n",
    "\n",
    "## Goal: Given coordinate points along a path, classify whether the points are headed towards the garage.\n",
    "\n",
    "## This notebook shows the results of training the model with 20 coordinate trajectories.\n",
    "\n",
    "---"
   ]
  },
  {
   "cell_type": "code",
   "execution_count": 22,
   "metadata": {
    "pycharm": {
     "name": "#%%\n"
    }
   },
   "outputs": [],
   "source": [
    "# Imports\n",
    "\n",
    "import pandas as pd\n",
    "from tensorflow.keras.models import Sequential\n",
    "from tensorflow.keras.layers import Dense, Dropout\n",
    "from tensorflow.keras.callbacks import EarlyStopping\n",
    "from sklearn.preprocessing import MinMaxScaler\n",
    "from sklearn.model_selection import train_test_split\n",
    "from sklearn.metrics import classification_report, confusion_matrix"
   ]
  },
  {
   "cell_type": "code",
   "execution_count": 23,
   "metadata": {
    "pycharm": {
     "name": "#%%\n"
    }
   },
   "outputs": [],
   "source": [
    "# get the main paths\n",
    "df = pd.read_csv('../simulations/data/paths.csv')"
   ]
  },
  {
   "cell_type": "code",
   "execution_count": 24,
   "metadata": {
    "pycharm": {
     "name": "#%%\n"
    }
   },
   "outputs": [
    {
     "name": "stdout",
     "output_type": "stream",
     "text": [
      "<class 'pandas.core.frame.DataFrame'>\n",
      "RangeIndex: 104 entries, 0 to 103\n",
      "Data columns (total 63 columns):\n",
      " #   Column                          Non-Null Count  Dtype  \n",
      "---  ------                          --------------  -----  \n",
      " 0   Unnamed: 0                      104 non-null    int64  \n",
      " 1   name                            104 non-null    object \n",
      " 2   latitude_1                      104 non-null    float64\n",
      " 3   longitude_1                     104 non-null    float64\n",
      " 4   altitude_relative_to_ground_1   104 non-null    float64\n",
      " 5   latitude_2                      104 non-null    float64\n",
      " 6   longitude_2                     104 non-null    float64\n",
      " 7   altitude_relative_to_ground_2   104 non-null    float64\n",
      " 8   latitude_3                      104 non-null    float64\n",
      " 9   longitude_3                     104 non-null    float64\n",
      " 10  altitude_relative_to_ground_3   104 non-null    float64\n",
      " 11  latitude_4                      104 non-null    float64\n",
      " 12  longitude_4                     104 non-null    float64\n",
      " 13  altitude_relative_to_ground_4   104 non-null    float64\n",
      " 14  latitude_5                      104 non-null    float64\n",
      " 15  longitude_5                     104 non-null    float64\n",
      " 16  altitude_relative_to_ground_5   104 non-null    float64\n",
      " 17  latitude_6                      104 non-null    float64\n",
      " 18  longitude_6                     104 non-null    float64\n",
      " 19  altitude_relative_to_ground_6   104 non-null    float64\n",
      " 20  latitude_7                      104 non-null    float64\n",
      " 21  longitude_7                     104 non-null    float64\n",
      " 22  altitude_relative_to_ground_7   104 non-null    float64\n",
      " 23  latitude_8                      104 non-null    float64\n",
      " 24  longitude_8                     104 non-null    float64\n",
      " 25  altitude_relative_to_ground_8   104 non-null    float64\n",
      " 26  latitude_9                      104 non-null    float64\n",
      " 27  longitude_9                     104 non-null    float64\n",
      " 28  altitude_relative_to_ground_9   104 non-null    float64\n",
      " 29  latitude_10                     104 non-null    float64\n",
      " 30  longitude_10                    104 non-null    float64\n",
      " 31  altitude_relative_to_ground_10  104 non-null    float64\n",
      " 32  latitude_11                     104 non-null    float64\n",
      " 33  longitude_11                    104 non-null    float64\n",
      " 34  altitude_relative_to_ground_11  104 non-null    float64\n",
      " 35  latitude_12                     104 non-null    float64\n",
      " 36  longitude_12                    104 non-null    float64\n",
      " 37  altitude_relative_to_ground_12  104 non-null    float64\n",
      " 38  latitude_13                     104 non-null    float64\n",
      " 39  longitude_13                    104 non-null    float64\n",
      " 40  altitude_relative_to_ground_13  104 non-null    float64\n",
      " 41  latitude_14                     104 non-null    float64\n",
      " 42  longitude_14                    104 non-null    float64\n",
      " 43  altitude_relative_to_ground_14  104 non-null    float64\n",
      " 44  latitude_15                     104 non-null    float64\n",
      " 45  longitude_15                    104 non-null    float64\n",
      " 46  altitude_relative_to_ground_15  104 non-null    float64\n",
      " 47  latitude_16                     104 non-null    float64\n",
      " 48  longitude_16                    104 non-null    float64\n",
      " 49  altitude_relative_to_ground_16  104 non-null    float64\n",
      " 50  latitude_17                     104 non-null    float64\n",
      " 51  longitude_17                    104 non-null    float64\n",
      " 52  altitude_relative_to_ground_17  104 non-null    float64\n",
      " 53  latitude_18                     104 non-null    float64\n",
      " 54  longitude_18                    104 non-null    float64\n",
      " 55  altitude_relative_to_ground_18  104 non-null    float64\n",
      " 56  latitude_19                     104 non-null    float64\n",
      " 57  longitude_19                    104 non-null    float64\n",
      " 58  altitude_relative_to_ground_19  104 non-null    float64\n",
      " 59  latitude_20                     104 non-null    float64\n",
      " 60  longitude_20                    104 non-null    float64\n",
      " 61  altitude_relative_to_ground_20  104 non-null    float64\n",
      " 62  enter-parking                   104 non-null    int64  \n",
      "dtypes: float64(60), int64(2), object(1)\n",
      "memory usage: 51.3+ KB\n"
     ]
    }
   ],
   "source": [
    "df.info()"
   ]
  },
  {
   "cell_type": "code",
   "execution_count": 25,
   "metadata": {
    "pycharm": {
     "name": "#%%\n"
    }
   },
   "outputs": [
    {
     "data": {
      "text/plain": "   Unnamed: 0        name  latitude_1  longitude_1  \\\n0           0  1_A_Missed   36.109640  -115.140945   \n1           1  2_A_Missed   36.109705  -115.140733   \n2           2  3_A_Missed   36.109626  -115.140134   \n3           3  4_A_Missed   36.109592  -115.140132   \n4           4  5_A_Missed   36.109642  -115.141901   \n\n   altitude_relative_to_ground_1  latitude_2  longitude_2  \\\n0                            0.0   36.109676  -115.140893   \n1                            0.0   36.109702  -115.140785   \n2                            0.0   36.109675  -115.140140   \n3                            0.0   36.109662  -115.140159   \n4                            0.0   36.109649  -115.141793   \n\n   altitude_relative_to_ground_2  latitude_3  longitude_3  ...  latitude_18  \\\n0                            0.0   36.109710  -115.140870  ...    36.110660   \n1                            0.0   36.109699  -115.140841  ...    36.110548   \n2                            0.0   36.109724  -115.140166  ...    36.110686   \n3                            0.0   36.109716  -115.140219  ...    36.110981   \n4                            0.0   36.109654  -115.141658  ...    36.110958   \n\n   longitude_18  altitude_relative_to_ground_18  latitude_19  longitude_19  \\\n0   -115.140983                             0.0    36.110684   -115.141025   \n1   -115.141190                             0.0    36.110591   -115.141199   \n2   -115.140910                             0.0    36.110808   -115.140852   \n3   -115.140853                             0.0    36.111165   -115.140856   \n4   -115.140852                             0.0    36.111102   -115.140854   \n\n   altitude_relative_to_ground_19  latitude_20  longitude_20  \\\n0                             0.0    36.110713   -115.141055   \n1                             0.0    36.110651   -115.141182   \n2                             0.0    36.111009   -115.140862   \n3                             0.0    36.111302   -115.140917   \n4                             0.0    36.111243   -115.140892   \n\n   altitude_relative_to_ground_20  enter-parking  \n0                             0.0              0  \n1                             0.0              0  \n2                             0.0              0  \n3                             0.0              0  \n4                             0.0              0  \n\n[5 rows x 63 columns]",
      "text/html": "<div>\n<style scoped>\n    .dataframe tbody tr th:only-of-type {\n        vertical-align: middle;\n    }\n\n    .dataframe tbody tr th {\n        vertical-align: top;\n    }\n\n    .dataframe thead th {\n        text-align: right;\n    }\n</style>\n<table border=\"1\" class=\"dataframe\">\n  <thead>\n    <tr style=\"text-align: right;\">\n      <th></th>\n      <th>Unnamed: 0</th>\n      <th>name</th>\n      <th>latitude_1</th>\n      <th>longitude_1</th>\n      <th>altitude_relative_to_ground_1</th>\n      <th>latitude_2</th>\n      <th>longitude_2</th>\n      <th>altitude_relative_to_ground_2</th>\n      <th>latitude_3</th>\n      <th>longitude_3</th>\n      <th>...</th>\n      <th>latitude_18</th>\n      <th>longitude_18</th>\n      <th>altitude_relative_to_ground_18</th>\n      <th>latitude_19</th>\n      <th>longitude_19</th>\n      <th>altitude_relative_to_ground_19</th>\n      <th>latitude_20</th>\n      <th>longitude_20</th>\n      <th>altitude_relative_to_ground_20</th>\n      <th>enter-parking</th>\n    </tr>\n  </thead>\n  <tbody>\n    <tr>\n      <th>0</th>\n      <td>0</td>\n      <td>1_A_Missed</td>\n      <td>36.109640</td>\n      <td>-115.140945</td>\n      <td>0.0</td>\n      <td>36.109676</td>\n      <td>-115.140893</td>\n      <td>0.0</td>\n      <td>36.109710</td>\n      <td>-115.140870</td>\n      <td>...</td>\n      <td>36.110660</td>\n      <td>-115.140983</td>\n      <td>0.0</td>\n      <td>36.110684</td>\n      <td>-115.141025</td>\n      <td>0.0</td>\n      <td>36.110713</td>\n      <td>-115.141055</td>\n      <td>0.0</td>\n      <td>0</td>\n    </tr>\n    <tr>\n      <th>1</th>\n      <td>1</td>\n      <td>2_A_Missed</td>\n      <td>36.109705</td>\n      <td>-115.140733</td>\n      <td>0.0</td>\n      <td>36.109702</td>\n      <td>-115.140785</td>\n      <td>0.0</td>\n      <td>36.109699</td>\n      <td>-115.140841</td>\n      <td>...</td>\n      <td>36.110548</td>\n      <td>-115.141190</td>\n      <td>0.0</td>\n      <td>36.110591</td>\n      <td>-115.141199</td>\n      <td>0.0</td>\n      <td>36.110651</td>\n      <td>-115.141182</td>\n      <td>0.0</td>\n      <td>0</td>\n    </tr>\n    <tr>\n      <th>2</th>\n      <td>2</td>\n      <td>3_A_Missed</td>\n      <td>36.109626</td>\n      <td>-115.140134</td>\n      <td>0.0</td>\n      <td>36.109675</td>\n      <td>-115.140140</td>\n      <td>0.0</td>\n      <td>36.109724</td>\n      <td>-115.140166</td>\n      <td>...</td>\n      <td>36.110686</td>\n      <td>-115.140910</td>\n      <td>0.0</td>\n      <td>36.110808</td>\n      <td>-115.140852</td>\n      <td>0.0</td>\n      <td>36.111009</td>\n      <td>-115.140862</td>\n      <td>0.0</td>\n      <td>0</td>\n    </tr>\n    <tr>\n      <th>3</th>\n      <td>3</td>\n      <td>4_A_Missed</td>\n      <td>36.109592</td>\n      <td>-115.140132</td>\n      <td>0.0</td>\n      <td>36.109662</td>\n      <td>-115.140159</td>\n      <td>0.0</td>\n      <td>36.109716</td>\n      <td>-115.140219</td>\n      <td>...</td>\n      <td>36.110981</td>\n      <td>-115.140853</td>\n      <td>0.0</td>\n      <td>36.111165</td>\n      <td>-115.140856</td>\n      <td>0.0</td>\n      <td>36.111302</td>\n      <td>-115.140917</td>\n      <td>0.0</td>\n      <td>0</td>\n    </tr>\n    <tr>\n      <th>4</th>\n      <td>4</td>\n      <td>5_A_Missed</td>\n      <td>36.109642</td>\n      <td>-115.141901</td>\n      <td>0.0</td>\n      <td>36.109649</td>\n      <td>-115.141793</td>\n      <td>0.0</td>\n      <td>36.109654</td>\n      <td>-115.141658</td>\n      <td>...</td>\n      <td>36.110958</td>\n      <td>-115.140852</td>\n      <td>0.0</td>\n      <td>36.111102</td>\n      <td>-115.140854</td>\n      <td>0.0</td>\n      <td>36.111243</td>\n      <td>-115.140892</td>\n      <td>0.0</td>\n      <td>0</td>\n    </tr>\n  </tbody>\n</table>\n<p>5 rows × 63 columns</p>\n</div>"
     },
     "execution_count": 25,
     "metadata": {},
     "output_type": "execute_result"
    }
   ],
   "source": [
    "df.head()"
   ]
  },
  {
   "cell_type": "code",
   "execution_count": 26,
   "metadata": {
    "pycharm": {
     "name": "#%%\n"
    }
   },
   "outputs": [],
   "source": [
    "# Get First Coordinate Pair Only\n",
    "x = df[df.columns[2:62]]\n",
    "\n",
    "y = df['enter-parking'].values"
   ]
  },
  {
   "cell_type": "code",
   "execution_count": 27,
   "metadata": {
    "pycharm": {
     "name": "#%%\n"
    }
   },
   "outputs": [
    {
     "name": "stdout",
     "output_type": "stream",
     "text": [
      "     latitude_1  longitude_1  altitude_relative_to_ground_1  latitude_2  \\\n",
      "0     36.109640  -115.140945                            0.0   36.109676   \n",
      "1     36.109705  -115.140733                            0.0   36.109702   \n",
      "2     36.109626  -115.140134                            0.0   36.109675   \n",
      "3     36.109592  -115.140132                            0.0   36.109662   \n",
      "4     36.109642  -115.141901                            0.0   36.109649   \n",
      "..          ...          ...                            ...         ...   \n",
      "99    36.111300  -115.139089                            0.0   36.111263   \n",
      "100   36.111882  -115.140172                            0.0   36.111877   \n",
      "101   36.109772  -115.139249                            0.0   36.109826   \n",
      "102   36.109605  -115.139093                            0.0   36.109654   \n",
      "103   36.109786  -115.139246                            0.0   36.109842   \n",
      "\n",
      "     longitude_2  altitude_relative_to_ground_2  latitude_3  longitude_3  \\\n",
      "0    -115.140893                            0.0   36.109710  -115.140870   \n",
      "1    -115.140785                            0.0   36.109699  -115.140841   \n",
      "2    -115.140140                            0.0   36.109724  -115.140166   \n",
      "3    -115.140159                            0.0   36.109716  -115.140219   \n",
      "4    -115.141793                            0.0   36.109654  -115.141658   \n",
      "..           ...                            ...         ...          ...   \n",
      "99   -115.139084                            0.0   36.111214  -115.139078   \n",
      "100  -115.140039                            0.0   36.111872  -115.139883   \n",
      "101  -115.139255                            0.0   36.109871  -115.139266   \n",
      "102  -115.139101                            0.0   36.109713  -115.139107   \n",
      "103  -115.139259                            0.0   36.109894  -115.139270   \n",
      "\n",
      "     altitude_relative_to_ground_3  latitude_4  ...  \\\n",
      "0                              0.0   36.109762  ...   \n",
      "1                              0.0   36.109741  ...   \n",
      "2                              0.0   36.109730  ...   \n",
      "3                              0.0   36.109716  ...   \n",
      "4                              0.0   36.109711  ...   \n",
      "..                             ...         ...  ...   \n",
      "99                             0.0   36.111171  ...   \n",
      "100                            0.0   36.111832  ...   \n",
      "101                            0.0   36.109923  ...   \n",
      "102                            0.0   36.109753  ...   \n",
      "103                            0.0   36.109950  ...   \n",
      "\n",
      "     altitude_relative_to_ground_17  latitude_18  longitude_18  \\\n",
      "0                               0.0    36.110660   -115.140983   \n",
      "1                               0.0    36.110548   -115.141190   \n",
      "2                               0.0    36.110686   -115.140910   \n",
      "3                               0.0    36.110981   -115.140853   \n",
      "4                               0.0    36.110958   -115.140852   \n",
      "..                              ...          ...           ...   \n",
      "99                              0.0    36.110664   -115.139467   \n",
      "100                             0.0    36.110961   -115.139489   \n",
      "101                             0.0    36.110592   -115.139721   \n",
      "102                             0.0    36.110775   -115.139442   \n",
      "103                             0.0    36.110582   -115.139943   \n",
      "\n",
      "     altitude_relative_to_ground_18  latitude_19  longitude_19  \\\n",
      "0                               0.0    36.110684   -115.141025   \n",
      "1                               0.0    36.110591   -115.141199   \n",
      "2                               0.0    36.110808   -115.140852   \n",
      "3                               0.0    36.111165   -115.140856   \n",
      "4                               0.0    36.111102   -115.140854   \n",
      "..                              ...          ...           ...   \n",
      "99                              0.0    36.110665   -115.139567   \n",
      "100                             0.0    36.110940   -115.139523   \n",
      "101                             0.0    36.110595   -115.139786   \n",
      "102                             0.0    36.110864   -115.139464   \n",
      "103                             0.0    36.110609   -115.139986   \n",
      "\n",
      "     altitude_relative_to_ground_19  latitude_20  longitude_20  \\\n",
      "0                               0.0    36.110713   -115.141055   \n",
      "1                               0.0    36.110651   -115.141182   \n",
      "2                               0.0    36.111009   -115.140862   \n",
      "3                               0.0    36.111302   -115.140917   \n",
      "4                               0.0    36.111243   -115.140892   \n",
      "..                              ...          ...           ...   \n",
      "99                              0.0    36.110671   -115.139664   \n",
      "100                             0.0    36.110938   -115.139585   \n",
      "101                             0.0    36.110655   -115.139813   \n",
      "102                             0.0    36.110929   -115.139591   \n",
      "103                             0.0    36.110655   -115.139993   \n",
      "\n",
      "     altitude_relative_to_ground_20  \n",
      "0                               0.0  \n",
      "1                               0.0  \n",
      "2                               0.0  \n",
      "3                               0.0  \n",
      "4                               0.0  \n",
      "..                              ...  \n",
      "99                              0.0  \n",
      "100                             0.0  \n",
      "101                             0.0  \n",
      "102                             0.0  \n",
      "103                             0.0  \n",
      "\n",
      "[104 rows x 60 columns]\n",
      "[0 0 0 0 0 0 0 0 0 0 0 0 0 0 0 0 0 0 0 0 1 1 1 1 1 1 1 1 1 0 0 0 0 0 0 1 1\n",
      " 1 1 1 1 1 1 1 1 1 1 1 1 1 1 1 1 1 1 1 1 1 1 1 0 0 0 0 0 0 0 0 0 0 0 0 0 0\n",
      " 0 0 0 0 0 1 1 1 1 1 1 1 1 1 1 1 1 1 1 1 1 1 1 1 1 1 1 1 1 1]\n"
     ]
    }
   ],
   "source": [
    "print(x)\n",
    "print(y)\n"
   ]
  },
  {
   "cell_type": "code",
   "execution_count": 28,
   "outputs": [],
   "source": [
    "x_train, x_test, y_train, y_test = train_test_split(x, y, test_size=0.30, random_state=95)"
   ],
   "metadata": {
    "collapsed": false,
    "pycharm": {
     "name": "#%%\n"
    }
   }
  },
  {
   "cell_type": "code",
   "execution_count": 29,
   "metadata": {
    "pycharm": {
     "name": "#%%\n"
    }
   },
   "outputs": [],
   "source": [
    "# Scale data\n",
    "scaler = MinMaxScaler()\n",
    "\n",
    "x_train = scaler.fit_transform(x_train)\n",
    "\n",
    "x_test = scaler.transform(x_test)"
   ]
  },
  {
   "cell_type": "code",
   "execution_count": 30,
   "metadata": {
    "pycharm": {
     "name": "#%%\n"
    }
   },
   "outputs": [
    {
     "data": {
      "text/plain": "(72, 60)"
     },
     "execution_count": 30,
     "metadata": {},
     "output_type": "execute_result"
    }
   ],
   "source": [
    "x_train.shape"
   ]
  },
  {
   "cell_type": "code",
   "execution_count": 31,
   "metadata": {
    "pycharm": {
     "name": "#%%\n"
    }
   },
   "outputs": [],
   "source": [
    "early_stop = EarlyStopping(monitor='val_loss', mode='min', verbose=1, patience=15)\n",
    "\n",
    "# Model creation\n",
    "model = Sequential()\n",
    "\n",
    "# 6 neurons for input layer\n",
    "model.add(Dense(60, activation='relu'))\n",
    "\n",
    "model.add(Dense(30, activation='relu'))\n",
    "\n",
    "model.add(Dense(15, activation='relu'))\n",
    "\n",
    "# Binary classification\n",
    "model.add(Dense(1, activation='sigmoid'))\n",
    "\n",
    "model.compile(loss='binary_crossentropy',\n",
    "              optimizer='adam')"
   ]
  },
  {
   "cell_type": "code",
   "execution_count": 32,
   "metadata": {
    "pycharm": {
     "name": "#%%\n"
    }
   },
   "outputs": [
    {
     "name": "stdout",
     "output_type": "stream",
     "text": [
      "Epoch 1/300\n",
      "3/3 [==============================] - 1s 63ms/step - loss: 0.7043 - val_loss: 0.6923\b\b\b\b\b\b\b\b\b\b\b\b\b\b\b\b\b\b\b\b\b\b\b\b\b\b\b\b\b\b\b\b\b\b\b\b\b\n",
      "Epoch 2/300\n",
      "3/3 [==============================] - 0s 8ms/step - loss: 0.6818 - val_loss: 0.6904\b\b\b\b\b\b\b\b\b\b\b\b\b\b\b\b\b\b\b\b\b\b\b\b\b\b\b\b\b\b\b\b\b\b\b\b\b\b\n",
      "Epoch 3/300\n",
      "3/3 [==============================] - 0s 8ms/step - loss: 0.6694 - val_loss: 0.6912\b\b\b\b\b\b\b\b\b\b\b\b\b\b\b\b\b\b\b\b\b\b\b\b\b\b\b\b\b\b\b\b\b\b\b\b\b\b\n",
      "Epoch 4/300\n",
      "3/3 [==============================] - 0s 9ms/step - loss: 0.6595 - val_loss: 0.6948\b\b\b\b\b\b\b\b\b\b\b\b\b\b\b\b\b\b\b\b\b\b\b\b\b\b\b\b\b\b\b\b\b\b\b\b\b\b\n",
      "Epoch 5/300\n",
      "3/3 [==============================] - 0s 10ms/step - loss: 0.6565 - val_loss: 0.7018\b\b\b\b\b\b\b\b\b\b\b\b\b\b\b\b\b\b\b\b\b\b\b\b\b\b\b\b\b\b\b\b\b\b\b\b\b\n",
      "Epoch 6/300\n",
      "3/3 [==============================] - 0s 9ms/step - loss: 0.6538 - val_loss: 0.7064\b\b\b\b\b\b\b\b\b\b\b\b\b\b\b\b\b\b\b\b\b\b\b\b\b\b\b\b\b\b\b\b\b\b\b\b\b\b\n",
      "Epoch 7/300\n",
      "3/3 [==============================] - 0s 8ms/step - loss: 0.6528 - val_loss: 0.7093\b\b\b\b\b\b\b\b\b\b\b\b\b\b\b\b\b\b\b\b\b\b\b\b\b\b\b\b\b\b\b\b\b\b\b\b\b\b\n",
      "Epoch 8/300\n",
      "3/3 [==============================] - 0s 9ms/step - loss: 0.6516 - val_loss: 0.7088\b\b\b\b\b\b\b\b\b\b\b\b\b\b\b\b\b\b\b\b\b\b\b\b\b\b\b\b\b\b\b\b\b\b\b\b\b\b\n",
      "Epoch 9/300\n",
      "3/3 [==============================] - 0s 20ms/step - loss: 0.6505 - val_loss: 0.7093\b\b\b\b\b\b\b\b\b\b\b\b\b\b\b\b\b\b\b\b\b\b\b\b\b\b\b\b\b\b\b\b\b\b\b\b\b\n",
      "Epoch 10/300\n",
      "3/3 [==============================] - 0s 12ms/step - loss: 0.6509 - val_loss: 0.7133\b\b\b\b\b\b\b\b\b\b\b\b\b\b\b\b\b\b\b\b\b\b\b\b\b\b\b\b\b\b\b\b\b\b\b\b\b\n",
      "Epoch 11/300\n",
      "3/3 [==============================] - 0s 9ms/step - loss: 0.6491 - val_loss: 0.7098\b\b\b\b\b\b\b\b\b\b\b\b\b\b\b\b\b\b\b\b\b\b\b\b\b\b\b\b\b\b\b\b\b\b\b\b\b\b\n",
      "Epoch 12/300\n",
      "3/3 [==============================] - 0s 11ms/step - loss: 0.6475 - val_loss: 0.7048\b\b\b\b\b\b\b\b\b\b\b\b\b\b\b\b\b\b\b\b\b\b\b\b\b\b\b\b\b\b\b\b\b\b\b\b\b\n",
      "Epoch 13/300\n",
      "3/3 [==============================] - 0s 8ms/step - loss: 0.6450 - val_loss: 0.6955\b\b\b\b\b\b\b\b\b\b\b\b\b\b\b\b\b\b\b\b\b\b\b\b\b\b\b\b\b\b\b\b\b\b\b\b\b\b\n",
      "Epoch 14/300\n",
      "3/3 [==============================] - 0s 8ms/step - loss: 0.6454 - val_loss: 0.6895\b\b\b\b\b\b\b\b\b\b\b\b\b\b\b\b\b\b\b\b\b\b\b\b\b\b\b\b\b\b\b\b\b\b\b\b\b\b\n",
      "Epoch 15/300\n",
      "3/3 [==============================] - 0s 7ms/step - loss: 0.6420 - val_loss: 0.6899\b\b\b\b\b\b\b\b\b\b\b\b\b\b\b\b\b\b\b\b\b\b\b\b\b\b\b\b\b\b\b\b\b\b\b\b\b\b\n",
      "Epoch 16/300\n",
      "3/3 [==============================] - 0s 7ms/step - loss: 0.6412 - val_loss: 0.6912\b\b\b\b\b\b\b\b\b\b\b\b\b\b\b\b\b\b\b\b\b\b\b\b\b\b\b\b\b\b\b\b\b\b\b\b\b\b\n",
      "Epoch 17/300\n",
      "3/3 [==============================] - 0s 9ms/step - loss: 0.6394 - val_loss: 0.6901\b\b\b\b\b\b\b\b\b\b\b\b\b\b\b\b\b\b\b\b\b\b\b\b\b\b\b\b\b\b\b\b\b\b\b\b\b\b\n",
      "Epoch 18/300\n",
      "3/3 [==============================] - 0s 7ms/step - loss: 0.6384 - val_loss: 0.6917\b\b\b\b\b\b\b\b\b\b\b\b\b\b\b\b\b\b\b\b\b\b\b\b\b\b\b\b\b\b\b\b\b\b\b\b\b\b\n",
      "Epoch 19/300\n",
      "3/3 [==============================] - 0s 8ms/step - loss: 0.6368 - val_loss: 0.6926\b\b\b\b\b\b\b\b\b\b\b\b\b\b\b\b\b\b\b\b\b\b\b\b\b\b\b\b\b\b\b\b\b\b\b\b\b\b\n",
      "Epoch 20/300\n",
      "3/3 [==============================] - 0s 8ms/step - loss: 0.6354 - val_loss: 0.6942\b\b\b\b\b\b\b\b\b\b\b\b\b\b\b\b\b\b\b\b\b\b\b\b\b\b\b\b\b\b\b\b\b\b\b\b\b\b\n",
      "Epoch 21/300\n",
      "3/3 [==============================] - 0s 7ms/step - loss: 0.6349 - val_loss: 0.6930\b\b\b\b\b\b\b\b\b\b\b\b\b\b\b\b\b\b\b\b\b\b\b\b\b\b\b\b\b\b\b\b\b\b\b\b\b\b\n",
      "Epoch 22/300\n",
      "3/3 [==============================] - 0s 8ms/step - loss: 0.6333 - val_loss: 0.6858\b\b\b\b\b\b\b\b\b\b\b\b\b\b\b\b\b\b\b\b\b\b\b\b\b\b\b\b\b\b\b\b\b\b\b\b\b\b\n",
      "Epoch 23/300\n",
      "3/3 [==============================] - 0s 8ms/step - loss: 0.6327 - val_loss: 0.6739\b\b\b\b\b\b\b\b\b\b\b\b\b\b\b\b\b\b\b\b\b\b\b\b\b\b\b\b\b\b\b\b\b\b\b\b\b\b\n",
      "Epoch 24/300\n",
      "3/3 [==============================] - 0s 7ms/step - loss: 0.6312 - val_loss: 0.6695\b\b\b\b\b\b\b\b\b\b\b\b\b\b\b\b\b\b\b\b\b\b\b\b\b\b\b\b\b\b\b\b\b\b\b\b\b\b\n",
      "Epoch 25/300\n",
      "3/3 [==============================] - 0s 9ms/step - loss: 0.6295 - val_loss: 0.6688\b\b\b\b\b\b\b\b\b\b\b\b\b\b\b\b\b\b\b\b\b\b\b\b\b\b\b\b\b\b\b\b\b\b\b\b\b\b\n",
      "Epoch 26/300\n",
      "3/3 [==============================] - 0s 9ms/step - loss: 0.6269 - val_loss: 0.6701\b\b\b\b\b\b\b\b\b\b\b\b\b\b\b\b\b\b\b\b\b\b\b\b\b\b\b\b\b\b\b\b\b\b\b\b\b\b\n",
      "Epoch 27/300\n",
      "3/3 [==============================] - 0s 8ms/step - loss: 0.6247 - val_loss: 0.6717\b\b\b\b\b\b\b\b\b\b\b\b\b\b\b\b\b\b\b\b\b\b\b\b\b\b\b\b\b\b\b\b\b\b\b\b\b\b\n",
      "Epoch 28/300\n",
      "3/3 [==============================] - 0s 10ms/step - loss: 0.6247 - val_loss: 0.6732\b\b\b\b\b\b\b\b\b\b\b\b\b\b\b\b\b\b\b\b\b\b\b\b\b\b\b\b\b\b\b\b\b\b\b\b\b\n",
      "Epoch 29/300\n",
      "3/3 [==============================] - 0s 8ms/step - loss: 0.6230 - val_loss: 0.6674\b\b\b\b\b\b\b\b\b\b\b\b\b\b\b\b\b\b\b\b\b\b\b\b\b\b\b\b\b\b\b\b\b\b\b\b\b\b\n",
      "Epoch 30/300\n",
      "3/3 [==============================] - 0s 9ms/step - loss: 0.6210 - val_loss: 0.6583\b\b\b\b\b\b\b\b\b\b\b\b\b\b\b\b\b\b\b\b\b\b\b\b\b\b\b\b\b\b\b\b\b\b\b\b\b\b\n",
      "Epoch 31/300\n",
      "3/3 [==============================] - 0s 8ms/step - loss: 0.6198 - val_loss: 0.6587\b\b\b\b\b\b\b\b\b\b\b\b\b\b\b\b\b\b\b\b\b\b\b\b\b\b\b\b\b\b\b\b\b\b\b\b\b\b\n",
      "Epoch 32/300\n",
      "3/3 [==============================] - 0s 9ms/step - loss: 0.6190 - val_loss: 0.6645\b\b\b\b\b\b\b\b\b\b\b\b\b\b\b\b\b\b\b\b\b\b\b\b\b\b\b\b\b\b\b\b\b\b\b\b\b\b\n",
      "Epoch 33/300\n",
      "3/3 [==============================] - 0s 7ms/step - loss: 0.6154 - val_loss: 0.6649\b\b\b\b\b\b\b\b\b\b\b\b\b\b\b\b\b\b\b\b\b\b\b\b\b\b\b\b\b\b\b\b\b\b\b\b\b\b\n",
      "Epoch 34/300\n",
      "3/3 [==============================] - 0s 8ms/step - loss: 0.6146 - val_loss: 0.6618\b\b\b\b\b\b\b\b\b\b\b\b\b\b\b\b\b\b\b\b\b\b\b\b\b\b\b\b\b\b\b\b\b\b\b\b\b\b\n",
      "Epoch 35/300\n",
      "3/3 [==============================] - 0s 9ms/step - loss: 0.6128 - val_loss: 0.6556\b\b\b\b\b\b\b\b\b\b\b\b\b\b\b\b\b\b\b\b\b\b\b\b\b\b\b\b\b\b\b\b\b\b\b\b\b\b\n",
      "Epoch 36/300\n",
      "3/3 [==============================] - 0s 8ms/step - loss: 0.6104 - val_loss: 0.6594\b\b\b\b\b\b\b\b\b\b\b\b\b\b\b\b\b\b\b\b\b\b\b\b\b\b\b\b\b\b\b\b\b\b\b\b\b\b\n",
      "Epoch 37/300\n",
      "3/3 [==============================] - 0s 8ms/step - loss: 0.6088 - val_loss: 0.6633\b\b\b\b\b\b\b\b\b\b\b\b\b\b\b\b\b\b\b\b\b\b\b\b\b\b\b\b\b\b\b\b\b\b\b\b\b\b\n",
      "Epoch 38/300\n",
      "3/3 [==============================] - 0s 9ms/step - loss: 0.6071 - val_loss: 0.6643\b\b\b\b\b\b\b\b\b\b\b\b\b\b\b\b\b\b\b\b\b\b\b\b\b\b\b\b\b\b\b\b\b\b\b\b\b\b\n",
      "Epoch 39/300\n",
      "3/3 [==============================] - 0s 7ms/step - loss: 0.6054 - val_loss: 0.6589\b\b\b\b\b\b\b\b\b\b\b\b\b\b\b\b\b\b\b\b\b\b\b\b\b\b\b\b\b\b\b\b\b\b\b\b\b\b\n",
      "Epoch 40/300\n",
      "3/3 [==============================] - 0s 8ms/step - loss: 0.6034 - val_loss: 0.6527\b\b\b\b\b\b\b\b\b\b\b\b\b\b\b\b\b\b\b\b\b\b\b\b\b\b\b\b\b\b\b\b\b\b\b\b\b\b\n",
      "Epoch 41/300\n",
      "3/3 [==============================] - 0s 7ms/step - loss: 0.6010 - val_loss: 0.6442\b\b\b\b\b\b\b\b\b\b\b\b\b\b\b\b\b\b\b\b\b\b\b\b\b\b\b\b\b\b\b\b\b\b\b\b\b\b\n",
      "Epoch 42/300\n",
      "3/3 [==============================] - 0s 7ms/step - loss: 0.6021 - val_loss: 0.6307\b\b\b\b\b\b\b\b\b\b\b\b\b\b\b\b\b\b\b\b\b\b\b\b\b\b\b\b\b\b\b\b\b\b\b\b\b\b\n",
      "Epoch 43/300\n",
      "3/3 [==============================] - 0s 9ms/step - loss: 0.5988 - val_loss: 0.6305\b\b\b\b\b\b\b\b\b\b\b\b\b\b\b\b\b\b\b\b\b\b\b\b\b\b\b\b\b\b\b\b\b\b\b\b\b\b\n",
      "Epoch 44/300\n",
      "3/3 [==============================] - 0s 9ms/step - loss: 0.5959 - val_loss: 0.6413\b\b\b\b\b\b\b\b\b\b\b\b\b\b\b\b\b\b\b\b\b\b\b\b\b\b\b\b\b\b\b\b\b\b\b\b\b\b\n",
      "Epoch 45/300\n",
      "3/3 [==============================] - 0s 8ms/step - loss: 0.5942 - val_loss: 0.6381\b\b\b\b\b\b\b\b\b\b\b\b\b\b\b\b\b\b\b\b\b\b\b\b\b\b\b\b\b\b\b\b\b\b\b\b\b\b\n",
      "Epoch 46/300\n",
      "3/3 [==============================] - 0s 14ms/step - loss: 0.5929 - val_loss: 0.6319\b\b\b\b\b\b\b\b\b\b\b\b\b\b\b\b\b\b\b\b\b\b\b\b\b\b\b\b\b\b\b\b\b\b\b\b\b\n",
      "Epoch 47/300\n",
      "3/3 [==============================] - 0s 9ms/step - loss: 0.5931 - val_loss: 0.6267\b\b\b\b\b\b\b\b\b\b\b\b\b\b\b\b\b\b\b\b\b\b\b\b\b\b\b\b\b\b\b\b\b\b\b\b\b\b\n",
      "Epoch 48/300\n",
      "3/3 [==============================] - 0s 11ms/step - loss: 0.5906 - val_loss: 0.6285\b\b\b\b\b\b\b\b\b\b\b\b\b\b\b\b\b\b\b\b\b\b\b\b\b\b\b\b\b\b\b\b\b\b\b\b\b\n",
      "Epoch 49/300\n",
      "3/3 [==============================] - 0s 10ms/step - loss: 0.5859 - val_loss: 0.6338\b\b\b\b\b\b\b\b\b\b\b\b\b\b\b\b\b\b\b\b\b\b\b\b\b\b\b\b\b\b\b\b\b\b\b\b\b\n",
      "Epoch 50/300\n",
      "3/3 [==============================] - 0s 9ms/step - loss: 0.5879 - val_loss: 0.6413\b\b\b\b\b\b\b\b\b\b\b\b\b\b\b\b\b\b\b\b\b\b\b\b\b\b\b\b\b\b\b\b\b\b\b\b\b\b\n",
      "Epoch 51/300\n",
      "3/3 [==============================] - 0s 9ms/step - loss: 0.5861 - val_loss: 0.6390\b\b\b\b\b\b\b\b\b\b\b\b\b\b\b\b\b\b\b\b\b\b\b\b\b\b\b\b\b\b\b\b\b\b\b\b\b\b\n",
      "Epoch 52/300\n",
      "3/3 [==============================] - 0s 9ms/step - loss: 0.5845 - val_loss: 0.6377\b\b\b\b\b\b\b\b\b\b\b\b\b\b\b\b\b\b\b\b\b\b\b\b\b\b\b\b\b\b\b\b\b\b\b\b\b\b\n",
      "Epoch 53/300\n",
      "3/3 [==============================] - 0s 9ms/step - loss: 0.5822 - val_loss: 0.6373\b\b\b\b\b\b\b\b\b\b\b\b\b\b\b\b\b\b\b\b\b\b\b\b\b\b\b\b\b\b\b\b\b\b\b\b\b\b\n",
      "Epoch 54/300\n",
      "3/3 [==============================] - 0s 8ms/step - loss: 0.5829 - val_loss: 0.6258\b\b\b\b\b\b\b\b\b\b\b\b\b\b\b\b\b\b\b\b\b\b\b\b\b\b\b\b\b\b\b\b\b\b\b\b\b\b\n",
      "Epoch 55/300\n",
      "3/3 [==============================] - 0s 7ms/step - loss: 0.5781 - val_loss: 0.6056\b\b\b\b\b\b\b\b\b\b\b\b\b\b\b\b\b\b\b\b\b\b\b\b\b\b\b\b\b\b\b\b\b\b\b\b\b\b\n",
      "Epoch 56/300\n",
      "3/3 [==============================] - 0s 7ms/step - loss: 0.5740 - val_loss: 0.5946\b\b\b\b\b\b\b\b\b\b\b\b\b\b\b\b\b\b\b\b\b\b\b\b\b\b\b\b\b\b\b\b\b\b\b\b\b\b\n",
      "Epoch 57/300\n",
      "3/3 [==============================] - 0s 8ms/step - loss: 0.5737 - val_loss: 0.5875\b\b\b\b\b\b\b\b\b\b\b\b\b\b\b\b\b\b\b\b\b\b\b\b\b\b\b\b\b\b\b\b\b\b\b\b\b\b\n",
      "Epoch 58/300\n",
      "3/3 [==============================] - 0s 8ms/step - loss: 0.5747 - val_loss: 0.5921\b\b\b\b\b\b\b\b\b\b\b\b\b\b\b\b\b\b\b\b\b\b\b\b\b\b\b\b\b\b\b\b\b\b\b\b\b\b\n",
      "Epoch 59/300\n",
      "3/3 [==============================] - 0s 8ms/step - loss: 0.5720 - val_loss: 0.5933\b\b\b\b\b\b\b\b\b\b\b\b\b\b\b\b\b\b\b\b\b\b\b\b\b\b\b\b\b\b\b\b\b\b\b\b\b\b\n",
      "Epoch 60/300\n",
      "3/3 [==============================] - 0s 8ms/step - loss: 0.5678 - val_loss: 0.5921\b\b\b\b\b\b\b\b\b\b\b\b\b\b\b\b\b\b\b\b\b\b\b\b\b\b\b\b\b\b\b\b\b\b\b\b\b\b\n",
      "Epoch 61/300\n",
      "3/3 [==============================] - 0s 9ms/step - loss: 0.5642 - val_loss: 0.5913\b\b\b\b\b\b\b\b\b\b\b\b\b\b\b\b\b\b\b\b\b\b\b\b\b\b\b\b\b\b\b\b\b\b\b\b\b\b\n",
      "Epoch 62/300\n",
      "3/3 [==============================] - 0s 7ms/step - loss: 0.5623 - val_loss: 0.5866\b\b\b\b\b\b\b\b\b\b\b\b\b\b\b\b\b\b\b\b\b\b\b\b\b\b\b\b\b\b\b\b\b\b\b\b\b\b\n",
      "Epoch 63/300\n",
      "3/3 [==============================] - 0s 8ms/step - loss: 0.5592 - val_loss: 0.5972\b\b\b\b\b\b\b\b\b\b\b\b\b\b\b\b\b\b\b\b\b\b\b\b\b\b\b\b\b\b\b\b\b\b\b\b\b\b\n",
      "Epoch 64/300\n",
      "3/3 [==============================] - 0s 8ms/step - loss: 0.5553 - val_loss: 0.5994\b\b\b\b\b\b\b\b\b\b\b\b\b\b\b\b\b\b\b\b\b\b\b\b\b\b\b\b\b\b\b\b\b\b\b\b\b\b\n",
      "Epoch 65/300\n",
      "3/3 [==============================] - 0s 7ms/step - loss: 0.5553 - val_loss: 0.5834\b\b\b\b\b\b\b\b\b\b\b\b\b\b\b\b\b\b\b\b\b\b\b\b\b\b\b\b\b\b\b\b\b\b\b\b\b\b\n",
      "Epoch 66/300\n",
      "3/3 [==============================] - 0s 8ms/step - loss: 0.5535 - val_loss: 0.5750\b\b\b\b\b\b\b\b\b\b\b\b\b\b\b\b\b\b\b\b\b\b\b\b\b\b\b\b\b\b\b\b\b\b\b\b\b\b\n",
      "Epoch 67/300\n",
      "3/3 [==============================] - 0s 8ms/step - loss: 0.5480 - val_loss: 0.5753\b\b\b\b\b\b\b\b\b\b\b\b\b\b\b\b\b\b\b\b\b\b\b\b\b\b\b\b\b\b\b\b\b\b\b\b\b\b\n",
      "Epoch 68/300\n",
      "3/3 [==============================] - 0s 9ms/step - loss: 0.5457 - val_loss: 0.5693\b\b\b\b\b\b\b\b\b\b\b\b\b\b\b\b\b\b\b\b\b\b\b\b\b\b\b\b\b\b\b\b\b\b\b\b\b\b\n",
      "Epoch 69/300\n",
      "3/3 [==============================] - 0s 10ms/step - loss: 0.5428 - val_loss: 0.5696\b\b\b\b\b\b\b\b\b\b\b\b\b\b\b\b\b\b\b\b\b\b\b\b\b\b\b\b\b\b\b\b\b\b\b\b\b\n",
      "Epoch 70/300\n",
      "3/3 [==============================] - 0s 8ms/step - loss: 0.5386 - val_loss: 0.5634\b\b\b\b\b\b\b\b\b\b\b\b\b\b\b\b\b\b\b\b\b\b\b\b\b\b\b\b\b\b\b\b\b\b\b\b\b\b\n",
      "Epoch 71/300\n",
      "3/3 [==============================] - 0s 9ms/step - loss: 0.5373 - val_loss: 0.5643\b\b\b\b\b\b\b\b\b\b\b\b\b\b\b\b\b\b\b\b\b\b\b\b\b\b\b\b\b\b\b\b\b\b\b\b\b\b\n",
      "Epoch 72/300\n",
      "3/3 [==============================] - 0s 7ms/step - loss: 0.5339 - val_loss: 0.5526\b\b\b\b\b\b\b\b\b\b\b\b\b\b\b\b\b\b\b\b\b\b\b\b\b\b\b\b\b\b\b\b\b\b\b\b\b\b\n",
      "Epoch 73/300\n",
      "3/3 [==============================] - 0s 8ms/step - loss: 0.5330 - val_loss: 0.5437\b\b\b\b\b\b\b\b\b\b\b\b\b\b\b\b\b\b\b\b\b\b\b\b\b\b\b\b\b\b\b\b\b\b\b\b\b\b\n",
      "Epoch 74/300\n",
      "3/3 [==============================] - 0s 8ms/step - loss: 0.5277 - val_loss: 0.5554\b\b\b\b\b\b\b\b\b\b\b\b\b\b\b\b\b\b\b\b\b\b\b\b\b\b\b\b\b\b\b\b\b\b\b\b\b\b\n",
      "Epoch 75/300\n",
      "3/3 [==============================] - 0s 8ms/step - loss: 0.5323 - val_loss: 0.5655\b\b\b\b\b\b\b\b\b\b\b\b\b\b\b\b\b\b\b\b\b\b\b\b\b\b\b\b\b\b\b\b\b\b\b\b\b\b\n",
      "Epoch 76/300\n",
      "3/3 [==============================] - 0s 8ms/step - loss: 0.5265 - val_loss: 0.5508\b\b\b\b\b\b\b\b\b\b\b\b\b\b\b\b\b\b\b\b\b\b\b\b\b\b\b\b\b\b\b\b\b\b\b\b\b\b\n",
      "Epoch 77/300\n",
      "3/3 [==============================] - 0s 8ms/step - loss: 0.5240 - val_loss: 0.5412\b\b\b\b\b\b\b\b\b\b\b\b\b\b\b\b\b\b\b\b\b\b\b\b\b\b\b\b\b\b\b\b\b\b\b\b\b\b\n",
      "Epoch 78/300\n",
      "3/3 [==============================] - 0s 7ms/step - loss: 0.5206 - val_loss: 0.5404\b\b\b\b\b\b\b\b\b\b\b\b\b\b\b\b\b\b\b\b\b\b\b\b\b\b\b\b\b\b\b\b\b\b\b\b\b\b\n",
      "Epoch 79/300\n",
      "3/3 [==============================] - 0s 13ms/step - loss: 0.5203 - val_loss: 0.5437\b\b\b\b\b\b\b\b\b\b\b\b\b\b\b\b\b\b\b\b\b\b\b\b\b\b\b\b\b\b\b\b\b\b\b\b\b\n",
      "Epoch 80/300\n",
      "3/3 [==============================] - 0s 8ms/step - loss: 0.5165 - val_loss: 0.5472\b\b\b\b\b\b\b\b\b\b\b\b\b\b\b\b\b\b\b\b\b\b\b\b\b\b\b\b\b\b\b\b\b\b\b\b\b\b\n",
      "Epoch 81/300\n",
      "3/3 [==============================] - 0s 8ms/step - loss: 0.5126 - val_loss: 0.5445\b\b\b\b\b\b\b\b\b\b\b\b\b\b\b\b\b\b\b\b\b\b\b\b\b\b\b\b\b\b\b\b\b\b\b\b\b\b\n",
      "Epoch 82/300\n",
      "3/3 [==============================] - 0s 10ms/step - loss: 0.5094 - val_loss: 0.5331\b\b\b\b\b\b\b\b\b\b\b\b\b\b\b\b\b\b\b\b\b\b\b\b\b\b\b\b\b\b\b\b\b\b\b\b\b\n",
      "Epoch 83/300\n",
      "3/3 [==============================] - 0s 14ms/step - loss: 0.5075 - val_loss: 0.5247\b\b\b\b\b\b\b\b\b\b\b\b\b\b\b\b\b\b\b\b\b\b\b\b\b\b\b\b\b\b\b\b\b\b\b\b\b\n",
      "Epoch 84/300\n",
      "3/3 [==============================] - 0s 10ms/step - loss: 0.5025 - val_loss: 0.5227\b\b\b\b\b\b\b\b\b\b\b\b\b\b\b\b\b\b\b\b\b\b\b\b\b\b\b\b\b\b\b\b\b\b\b\b\b\n",
      "Epoch 85/300\n",
      "3/3 [==============================] - 0s 9ms/step - loss: 0.5023 - val_loss: 0.5255\b\b\b\b\b\b\b\b\b\b\b\b\b\b\b\b\b\b\b\b\b\b\b\b\b\b\b\b\b\b\b\b\b\b\b\b\b\b\n",
      "Epoch 86/300\n",
      "3/3 [==============================] - 0s 9ms/step - loss: 0.4997 - val_loss: 0.5146\b\b\b\b\b\b\b\b\b\b\b\b\b\b\b\b\b\b\b\b\b\b\b\b\b\b\b\b\b\b\b\b\b\b\b\b\b\b\n",
      "Epoch 87/300\n",
      "3/3 [==============================] - 0s 11ms/step - loss: 0.5009 - val_loss: 0.5090\b\b\b\b\b\b\b\b\b\b\b\b\b\b\b\b\b\b\b\b\b\b\b\b\b\b\b\b\b\b\b\b\b\b\b\b\b\n",
      "Epoch 88/300\n",
      "3/3 [==============================] - 0s 8ms/step - loss: 0.4971 - val_loss: 0.5025\b\b\b\b\b\b\b\b\b\b\b\b\b\b\b\b\b\b\b\b\b\b\b\b\b\b\b\b\b\b\b\b\b\b\b\b\b\b\n",
      "Epoch 89/300\n",
      "3/3 [==============================] - 0s 7ms/step - loss: 0.4889 - val_loss: 0.5054\b\b\b\b\b\b\b\b\b\b\b\b\b\b\b\b\b\b\b\b\b\b\b\b\b\b\b\b\b\b\b\b\b\b\b\b\b\b\n",
      "Epoch 90/300\n",
      "3/3 [==============================] - 0s 9ms/step - loss: 0.4893 - val_loss: 0.5081\b\b\b\b\b\b\b\b\b\b\b\b\b\b\b\b\b\b\b\b\b\b\b\b\b\b\b\b\b\b\b\b\b\b\b\b\b\b\n",
      "Epoch 91/300\n",
      "3/3 [==============================] - 0s 7ms/step - loss: 0.4865 - val_loss: 0.4952\b\b\b\b\b\b\b\b\b\b\b\b\b\b\b\b\b\b\b\b\b\b\b\b\b\b\b\b\b\b\b\b\b\b\b\b\b\b\n",
      "Epoch 92/300\n",
      "3/3 [==============================] - 0s 7ms/step - loss: 0.4833 - val_loss: 0.4898\b\b\b\b\b\b\b\b\b\b\b\b\b\b\b\b\b\b\b\b\b\b\b\b\b\b\b\b\b\b\b\b\b\b\b\b\b\b\n",
      "Epoch 93/300\n",
      "3/3 [==============================] - 0s 7ms/step - loss: 0.4846 - val_loss: 0.4965\b\b\b\b\b\b\b\b\b\b\b\b\b\b\b\b\b\b\b\b\b\b\b\b\b\b\b\b\b\b\b\b\b\b\b\b\b\b\n",
      "Epoch 94/300\n",
      "3/3 [==============================] - 0s 8ms/step - loss: 0.4808 - val_loss: 0.5026\b\b\b\b\b\b\b\b\b\b\b\b\b\b\b\b\b\b\b\b\b\b\b\b\b\b\b\b\b\b\b\b\b\b\b\b\b\b\n",
      "Epoch 95/300\n",
      "3/3 [==============================] - 0s 7ms/step - loss: 0.4732 - val_loss: 0.5234\b\b\b\b\b\b\b\b\b\b\b\b\b\b\b\b\b\b\b\b\b\b\b\b\b\b\b\b\b\b\b\b\b\b\b\b\b\b\n",
      "Epoch 96/300\n",
      "3/3 [==============================] - 0s 8ms/step - loss: 0.4832 - val_loss: 0.5379\b\b\b\b\b\b\b\b\b\b\b\b\b\b\b\b\b\b\b\b\b\b\b\b\b\b\b\b\b\b\b\b\b\b\b\b\b\b\n",
      "Epoch 97/300\n",
      "3/3 [==============================] - 0s 8ms/step - loss: 0.4844 - val_loss: 0.4986\b\b\b\b\b\b\b\b\b\b\b\b\b\b\b\b\b\b\b\b\b\b\b\b\b\b\b\b\b\b\b\b\b\b\b\b\b\b\n",
      "Epoch 98/300\n",
      "3/3 [==============================] - 0s 8ms/step - loss: 0.4651 - val_loss: 0.4688\b\b\b\b\b\b\b\b\b\b\b\b\b\b\b\b\b\b\b\b\b\b\b\b\b\b\b\b\b\b\b\b\b\b\b\b\b\b\n",
      "Epoch 99/300\n",
      "3/3 [==============================] - 0s 9ms/step - loss: 0.4690 - val_loss: 0.4578\b\b\b\b\b\b\b\b\b\b\b\b\b\b\b\b\b\b\b\b\b\b\b\b\b\b\b\b\b\b\b\b\b\b\b\b\b\b\n",
      "Epoch 100/300\n",
      "3/3 [==============================] - 0s 10ms/step - loss: 0.4808 - val_loss: 0.4474\b\b\b\b\b\b\b\b\b\b\b\b\b\b\b\b\b\b\b\b\b\b\b\b\b\b\b\b\b\b\b\b\b\b\b\b\b\n",
      "Epoch 101/300\n",
      "3/3 [==============================] - 0s 8ms/step - loss: 0.4685 - val_loss: 0.4480\b\b\b\b\b\b\b\b\b\b\b\b\b\b\b\b\b\b\b\b\b\b\b\b\b\b\b\b\b\b\b\b\b\b\b\b\b\b\n",
      "Epoch 102/300\n",
      "3/3 [==============================] - 0s 9ms/step - loss: 0.4630 - val_loss: 0.4530\b\b\b\b\b\b\b\b\b\b\b\b\b\b\b\b\b\b\b\b\b\b\b\b\b\b\b\b\b\b\b\b\b\b\b\b\b\b\n",
      "Epoch 103/300\n",
      "3/3 [==============================] - 0s 22ms/step - loss: 0.4610 - val_loss: 0.4573\b\b\b\b\b\b\b\b\b\b\b\b\b\b\b\b\b\b\b\b\b\b\b\b\b\b\b\b\b\b\b\b\b\b\b\b\b\n",
      "Epoch 104/300\n",
      "3/3 [==============================] - 0s 14ms/step - loss: 0.4577 - val_loss: 0.4546\b\b\b\b\b\b\b\b\b\b\b\b\b\b\b\b\b\b\b\b\b\b\b\b\b\b\b\b\b\b\b\b\b\b\b\b\b\n",
      "Epoch 105/300\n",
      "3/3 [==============================] - 0s 19ms/step - loss: 0.4578 - val_loss: 0.4538\b\b\b\b\b\b\b\b\b\b\b\b\b\b\b\b\b\b\b\b\b\b\b\b\b\b\b\b\b\b\b\b\b\b\b\b\b\n",
      "Epoch 106/300\n",
      "3/3 [==============================] - 0s 22ms/step - loss: 0.4580 - val_loss: 0.4486\b\b\b\b\b\b\b\b\b\b\b\b\b\b\b\b\b\b\b\b\b\b\b\b\b\b\b\b\b\b\b\b\b\b\b\b\b\n",
      "Epoch 107/300\n",
      "3/3 [==============================] - 0s 18ms/step - loss: 0.4491 - val_loss: 0.4420\b\b\b\b\b\b\b\b\b\b\b\b\b\b\b\b\b\b\b\b\b\b\b\b\b\b\b\b\b\b\b\b\b\b\b\b\b\n",
      "Epoch 108/300\n",
      "3/3 [==============================] - 0s 7ms/step - loss: 0.4435 - val_loss: 0.4383\b\b\b\b\b\b\b\b\b\b\b\b\b\b\b\b\b\b\b\b\b\b\b\b\b\b\b\b\b\b\b\b\b\b\b\b\b\b\n",
      "Epoch 109/300\n",
      "3/3 [==============================] - 0s 8ms/step - loss: 0.4451 - val_loss: 0.4337\b\b\b\b\b\b\b\b\b\b\b\b\b\b\b\b\b\b\b\b\b\b\b\b\b\b\b\b\b\b\b\b\b\b\b\b\b\b\n",
      "Epoch 110/300\n",
      "3/3 [==============================] - 0s 8ms/step - loss: 0.4411 - val_loss: 0.4414\b\b\b\b\b\b\b\b\b\b\b\b\b\b\b\b\b\b\b\b\b\b\b\b\b\b\b\b\b\b\b\b\b\b\b\b\b\b\n",
      "Epoch 111/300\n",
      "3/3 [==============================] - 0s 7ms/step - loss: 0.4428 - val_loss: 0.4638\b\b\b\b\b\b\b\b\b\b\b\b\b\b\b\b\b\b\b\b\b\b\b\b\b\b\b\b\b\b\b\b\b\b\b\b\b\b\n",
      "Epoch 112/300\n",
      "3/3 [==============================] - 0s 8ms/step - loss: 0.4596 - val_loss: 0.4417\b\b\b\b\b\b\b\b\b\b\b\b\b\b\b\b\b\b\b\b\b\b\b\b\b\b\b\b\b\b\b\b\b\b\b\b\b\b\n",
      "Epoch 113/300\n",
      "3/3 [==============================] - 0s 8ms/step - loss: 0.4389 - val_loss: 0.4174\b\b\b\b\b\b\b\b\b\b\b\b\b\b\b\b\b\b\b\b\b\b\b\b\b\b\b\b\b\b\b\b\b\b\b\b\b\b\n",
      "Epoch 114/300\n",
      "3/3 [==============================] - 0s 20ms/step - loss: 0.4506 - val_loss: 0.4201\b\b\b\b\b\b\b\b\b\b\b\b\b\b\b\b\b\b\b\b\b\b\b\b\b\b\b\b\b\b\b\b\b\b\b\b\b\n",
      "Epoch 115/300\n",
      "3/3 [==============================] - 0s 11ms/step - loss: 0.4315 - val_loss: 0.4165\b\b\b\b\b\b\b\b\b\b\b\b\b\b\b\b\b\b\b\b\b\b\b\b\b\b\b\b\b\b\b\b\b\b\b\b\b\n",
      "Epoch 116/300\n",
      "3/3 [==============================] - 0s 9ms/step - loss: 0.4320 - val_loss: 0.4314\b\b\b\b\b\b\b\b\b\b\b\b\b\b\b\b\b\b\b\b\b\b\b\b\b\b\b\b\b\b\b\b\b\b\b\b\b\b\n",
      "Epoch 117/300\n",
      "3/3 [==============================] - 0s 8ms/step - loss: 0.4408 - val_loss: 0.4203\b\b\b\b\b\b\b\b\b\b\b\b\b\b\b\b\b\b\b\b\b\b\b\b\b\b\b\b\b\b\b\b\b\b\b\b\b\b\n",
      "Epoch 118/300\n",
      "3/3 [==============================] - 0s 8ms/step - loss: 0.4276 - val_loss: 0.4083\b\b\b\b\b\b\b\b\b\b\b\b\b\b\b\b\b\b\b\b\b\b\b\b\b\b\b\b\b\b\b\b\b\b\b\b\b\b\n",
      "Epoch 119/300\n",
      "3/3 [==============================] - 0s 9ms/step - loss: 0.4325 - val_loss: 0.4238\b\b\b\b\b\b\b\b\b\b\b\b\b\b\b\b\b\b\b\b\b\b\b\b\b\b\b\b\b\b\b\b\b\b\b\b\b\b\n",
      "Epoch 120/300\n",
      "3/3 [==============================] - 0s 8ms/step - loss: 0.4265 - val_loss: 0.4088\b\b\b\b\b\b\b\b\b\b\b\b\b\b\b\b\b\b\b\b\b\b\b\b\b\b\b\b\b\b\b\b\b\b\b\b\b\b\n",
      "Epoch 121/300\n",
      "3/3 [==============================] - 0s 8ms/step - loss: 0.4096 - val_loss: 0.4043\b\b\b\b\b\b\b\b\b\b\b\b\b\b\b\b\b\b\b\b\b\b\b\b\b\b\b\b\b\b\b\b\b\b\b\b\b\b\n",
      "Epoch 122/300\n",
      "3/3 [==============================] - 0s 8ms/step - loss: 0.4135 - val_loss: 0.3968\b\b\b\b\b\b\b\b\b\b\b\b\b\b\b\b\b\b\b\b\b\b\b\b\b\b\b\b\b\b\b\b\b\b\b\b\b\b\n",
      "Epoch 123/300\n",
      "3/3 [==============================] - 0s 8ms/step - loss: 0.4124 - val_loss: 0.3889\b\b\b\b\b\b\b\b\b\b\b\b\b\b\b\b\b\b\b\b\b\b\b\b\b\b\b\b\b\b\b\b\b\b\b\b\b\b\n",
      "Epoch 124/300\n",
      "3/3 [==============================] - 0s 13ms/step - loss: 0.4063 - val_loss: 0.3882\b\b\b\b\b\b\b\b\b\b\b\b\b\b\b\b\b\b\b\b\b\b\b\b\b\b\b\b\b\b\b\b\b\b\b\b\b\n",
      "Epoch 125/300\n",
      "3/3 [==============================] - 0s 11ms/step - loss: 0.4078 - val_loss: 0.3902\b\b\b\b\b\b\b\b\b\b\b\b\b\b\b\b\b\b\b\b\b\b\b\b\b\b\b\b\b\b\b\b\b\b\b\b\b\n",
      "Epoch 126/300\n",
      "3/3 [==============================] - 0s 11ms/step - loss: 0.4096 - val_loss: 0.3872\b\b\b\b\b\b\b\b\b\b\b\b\b\b\b\b\b\b\b\b\b\b\b\b\b\b\b\b\b\b\b\b\b\b\b\b\b\n",
      "Epoch 127/300\n",
      "3/3 [==============================] - 0s 9ms/step - loss: 0.3993 - val_loss: 0.3873\b\b\b\b\b\b\b\b\b\b\b\b\b\b\b\b\b\b\b\b\b\b\b\b\b\b\b\b\b\b\b\b\b\b\b\b\b\b\n",
      "Epoch 128/300\n",
      "3/3 [==============================] - 0s 9ms/step - loss: 0.4030 - val_loss: 0.3906\b\b\b\b\b\b\b\b\b\b\b\b\b\b\b\b\b\b\b\b\b\b\b\b\b\b\b\b\b\b\b\b\b\b\b\b\b\b\n",
      "Epoch 129/300\n",
      "3/3 [==============================] - 0s 10ms/step - loss: 0.3999 - val_loss: 0.3982\b\b\b\b\b\b\b\b\b\b\b\b\b\b\b\b\b\b\b\b\b\b\b\b\b\b\b\b\b\b\b\b\b\b\b\b\b\n",
      "Epoch 130/300\n",
      "3/3 [==============================] - 0s 9ms/step - loss: 0.3968 - val_loss: 0.3901\b\b\b\b\b\b\b\b\b\b\b\b\b\b\b\b\b\b\b\b\b\b\b\b\b\b\b\b\b\b\b\b\b\b\b\b\b\b\n",
      "Epoch 131/300\n",
      "3/3 [==============================] - 0s 11ms/step - loss: 0.3934 - val_loss: 0.3915\b\b\b\b\b\b\b\b\b\b\b\b\b\b\b\b\b\b\b\b\b\b\b\b\b\b\b\b\b\b\b\b\b\b\b\b\b\n",
      "Epoch 132/300\n",
      "3/3 [==============================] - 0s 10ms/step - loss: 0.3931 - val_loss: 0.3813\b\b\b\b\b\b\b\b\b\b\b\b\b\b\b\b\b\b\b\b\b\b\b\b\b\b\b\b\b\b\b\b\b\b\b\b\b\n",
      "Epoch 133/300\n",
      "3/3 [==============================] - 0s 12ms/step - loss: 0.3929 - val_loss: 0.3790\b\b\b\b\b\b\b\b\b\b\b\b\b\b\b\b\b\b\b\b\b\b\b\b\b\b\b\b\b\b\b\b\b\b\b\b\b\n",
      "Epoch 134/300\n",
      "3/3 [==============================] - 0s 10ms/step - loss: 0.3883 - val_loss: 0.3878\b\b\b\b\b\b\b\b\b\b\b\b\b\b\b\b\b\b\b\b\b\b\b\b\b\b\b\b\b\b\b\b\b\b\b\b\b\n",
      "Epoch 135/300\n",
      "3/3 [==============================] - 0s 9ms/step - loss: 0.3881 - val_loss: 0.3814\b\b\b\b\b\b\b\b\b\b\b\b\b\b\b\b\b\b\b\b\b\b\b\b\b\b\b\b\b\b\b\b\b\b\b\b\b\b\n",
      "Epoch 136/300\n",
      "3/3 [==============================] - 0s 12ms/step - loss: 0.3767 - val_loss: 0.3842\b\b\b\b\b\b\b\b\b\b\b\b\b\b\b\b\b\b\b\b\b\b\b\b\b\b\b\b\b\b\b\b\b\b\b\b\b\n",
      "Epoch 137/300\n",
      "3/3 [==============================] - 0s 9ms/step - loss: 0.3835 - val_loss: 0.3951\b\b\b\b\b\b\b\b\b\b\b\b\b\b\b\b\b\b\b\b\b\b\b\b\b\b\b\b\b\b\b\b\b\b\b\b\b\b\n",
      "Epoch 138/300\n",
      "3/3 [==============================] - 0s 8ms/step - loss: 0.3913 - val_loss: 0.3827\b\b\b\b\b\b\b\b\b\b\b\b\b\b\b\b\b\b\b\b\b\b\b\b\b\b\b\b\b\b\b\b\b\b\b\b\b\b\n",
      "Epoch 139/300\n",
      "3/3 [==============================] - 0s 8ms/step - loss: 0.3764 - val_loss: 0.3808\b\b\b\b\b\b\b\b\b\b\b\b\b\b\b\b\b\b\b\b\b\b\b\b\b\b\b\b\b\b\b\b\b\b\b\b\b\b\n",
      "Epoch 140/300\n",
      "3/3 [==============================] - 0s 9ms/step - loss: 0.3931 - val_loss: 0.3918\b\b\b\b\b\b\b\b\b\b\b\b\b\b\b\b\b\b\b\b\b\b\b\b\b\b\b\b\b\b\b\b\b\b\b\b\b\b\n",
      "Epoch 141/300\n",
      "3/3 [==============================] - 0s 8ms/step - loss: 0.3770 - val_loss: 0.3722\b\b\b\b\b\b\b\b\b\b\b\b\b\b\b\b\b\b\b\b\b\b\b\b\b\b\b\b\b\b\b\b\b\b\b\b\b\b\n",
      "Epoch 142/300\n",
      "3/3 [==============================] - 0s 8ms/step - loss: 0.3751 - val_loss: 0.3923\b\b\b\b\b\b\b\b\b\b\b\b\b\b\b\b\b\b\b\b\b\b\b\b\b\b\b\b\b\b\b\b\b\b\b\b\b\b\n",
      "Epoch 143/300\n",
      "3/3 [==============================] - 0s 8ms/step - loss: 0.3798 - val_loss: 0.3776\b\b\b\b\b\b\b\b\b\b\b\b\b\b\b\b\b\b\b\b\b\b\b\b\b\b\b\b\b\b\b\b\b\b\b\b\b\b\n",
      "Epoch 144/300\n",
      "3/3 [==============================] - 0s 7ms/step - loss: 0.3685 - val_loss: 0.3691\b\b\b\b\b\b\b\b\b\b\b\b\b\b\b\b\b\b\b\b\b\b\b\b\b\b\b\b\b\b\b\b\b\b\b\b\b\b\n",
      "Epoch 145/300\n",
      "3/3 [==============================] - 0s 7ms/step - loss: 0.3645 - val_loss: 0.3758\b\b\b\b\b\b\b\b\b\b\b\b\b\b\b\b\b\b\b\b\b\b\b\b\b\b\b\b\b\b\b\b\b\b\b\b\b\b\n",
      "Epoch 146/300\n",
      "3/3 [==============================] - 0s 8ms/step - loss: 0.3638 - val_loss: 0.3779\b\b\b\b\b\b\b\b\b\b\b\b\b\b\b\b\b\b\b\b\b\b\b\b\b\b\b\b\b\b\b\b\b\b\b\b\b\b\n",
      "Epoch 147/300\n",
      "3/3 [==============================] - 0s 8ms/step - loss: 0.3613 - val_loss: 0.3838\b\b\b\b\b\b\b\b\b\b\b\b\b\b\b\b\b\b\b\b\b\b\b\b\b\b\b\b\b\b\b\b\b\b\b\b\b\b\n",
      "Epoch 148/300\n",
      "3/3 [==============================] - 0s 8ms/step - loss: 0.3568 - val_loss: 0.3809\b\b\b\b\b\b\b\b\b\b\b\b\b\b\b\b\b\b\b\b\b\b\b\b\b\b\b\b\b\b\b\b\b\b\b\b\b\b\n",
      "Epoch 149/300\n",
      "3/3 [==============================] - 0s 11ms/step - loss: 0.3519 - val_loss: 0.3751\b\b\b\b\b\b\b\b\b\b\b\b\b\b\b\b\b\b\b\b\b\b\b\b\b\b\b\b\b\b\b\b\b\b\b\b\b\n",
      "Epoch 150/300\n",
      "3/3 [==============================] - 0s 7ms/step - loss: 0.3500 - val_loss: 0.3660\b\b\b\b\b\b\b\b\b\b\b\b\b\b\b\b\b\b\b\b\b\b\b\b\b\b\b\b\b\b\b\b\b\b\b\b\b\b\n",
      "Epoch 151/300\n",
      "3/3 [==============================] - 0s 8ms/step - loss: 0.3488 - val_loss: 0.3601\b\b\b\b\b\b\b\b\b\b\b\b\b\b\b\b\b\b\b\b\b\b\b\b\b\b\b\b\b\b\b\b\b\b\b\b\b\b\n",
      "Epoch 152/300\n",
      "3/3 [==============================] - 0s 10ms/step - loss: 0.3474 - val_loss: 0.3671\b\b\b\b\b\b\b\b\b\b\b\b\b\b\b\b\b\b\b\b\b\b\b\b\b\b\b\b\b\b\b\b\b\b\b\b\b\n",
      "Epoch 153/300\n",
      "3/3 [==============================] - 0s 11ms/step - loss: 0.3419 - val_loss: 0.3693\b\b\b\b\b\b\b\b\b\b\b\b\b\b\b\b\b\b\b\b\b\b\b\b\b\b\b\b\b\b\b\b\b\b\b\b\b\n",
      "Epoch 154/300\n",
      "3/3 [==============================] - 0s 9ms/step - loss: 0.3441 - val_loss: 0.3714\b\b\b\b\b\b\b\b\b\b\b\b\b\b\b\b\b\b\b\b\b\b\b\b\b\b\b\b\b\b\b\b\b\b\b\b\b\b\n",
      "Epoch 155/300\n",
      "3/3 [==============================] - 0s 10ms/step - loss: 0.3407 - val_loss: 0.3817\b\b\b\b\b\b\b\b\b\b\b\b\b\b\b\b\b\b\b\b\b\b\b\b\b\b\b\b\b\b\b\b\b\b\b\b\b\n",
      "Epoch 156/300\n",
      "3/3 [==============================] - 0s 9ms/step - loss: 0.3415 - val_loss: 0.3744\b\b\b\b\b\b\b\b\b\b\b\b\b\b\b\b\b\b\b\b\b\b\b\b\b\b\b\b\b\b\b\b\b\b\b\b\b\b\n",
      "Epoch 157/300\n",
      "3/3 [==============================] - 0s 9ms/step - loss: 0.3382 - val_loss: 0.3586\b\b\b\b\b\b\b\b\b\b\b\b\b\b\b\b\b\b\b\b\b\b\b\b\b\b\b\b\b\b\b\b\b\b\b\b\b\b\n",
      "Epoch 158/300\n",
      "3/3 [==============================] - 0s 10ms/step - loss: 0.3382 - val_loss: 0.3467\b\b\b\b\b\b\b\b\b\b\b\b\b\b\b\b\b\b\b\b\b\b\b\b\b\b\b\b\b\b\b\b\b\b\b\b\b\n",
      "Epoch 159/300\n",
      "3/3 [==============================] - 0s 8ms/step - loss: 0.3365 - val_loss: 0.3448\b\b\b\b\b\b\b\b\b\b\b\b\b\b\b\b\b\b\b\b\b\b\b\b\b\b\b\b\b\b\b\b\b\b\b\b\b\b\n",
      "Epoch 160/300\n",
      "3/3 [==============================] - 0s 9ms/step - loss: 0.3267 - val_loss: 0.3611\b\b\b\b\b\b\b\b\b\b\b\b\b\b\b\b\b\b\b\b\b\b\b\b\b\b\b\b\b\b\b\b\b\b\b\b\b\b\n",
      "Epoch 161/300\n",
      "3/3 [==============================] - 0s 12ms/step - loss: 0.3295 - val_loss: 0.3680\b\b\b\b\b\b\b\b\b\b\b\b\b\b\b\b\b\b\b\b\b\b\b\b\b\b\b\b\b\b\b\b\b\b\b\b\b\n",
      "Epoch 162/300\n",
      "3/3 [==============================] - 0s 11ms/step - loss: 0.3347 - val_loss: 0.3665\b\b\b\b\b\b\b\b\b\b\b\b\b\b\b\b\b\b\b\b\b\b\b\b\b\b\b\b\b\b\b\b\b\b\b\b\b\n",
      "Epoch 163/300\n",
      "3/3 [==============================] - 0s 9ms/step - loss: 0.3428 - val_loss: 0.3835\b\b\b\b\b\b\b\b\b\b\b\b\b\b\b\b\b\b\b\b\b\b\b\b\b\b\b\b\b\b\b\b\b\b\b\b\b\b\n",
      "Epoch 164/300\n",
      "3/3 [==============================] - 0s 9ms/step - loss: 0.3432 - val_loss: 0.3829\b\b\b\b\b\b\b\b\b\b\b\b\b\b\b\b\b\b\b\b\b\b\b\b\b\b\b\b\b\b\b\b\b\b\b\b\b\b\n",
      "Epoch 165/300\n",
      "3/3 [==============================] - 0s 9ms/step - loss: 0.3287 - val_loss: 0.4034\b\b\b\b\b\b\b\b\b\b\b\b\b\b\b\b\b\b\b\b\b\b\b\b\b\b\b\b\b\b\b\b\b\b\b\b\b\b\n",
      "Epoch 166/300\n",
      "3/3 [==============================] - 0s 8ms/step - loss: 0.3346 - val_loss: 0.3982\b\b\b\b\b\b\b\b\b\b\b\b\b\b\b\b\b\b\b\b\b\b\b\b\b\b\b\b\b\b\b\b\b\b\b\b\b\b\n",
      "Epoch 167/300\n",
      "3/3 [==============================] - 0s 7ms/step - loss: 0.3231 - val_loss: 0.3765\b\b\b\b\b\b\b\b\b\b\b\b\b\b\b\b\b\b\b\b\b\b\b\b\b\b\b\b\b\b\b\b\b\b\b\b\b\b\n",
      "Epoch 168/300\n",
      "3/3 [==============================] - 0s 7ms/step - loss: 0.3222 - val_loss: 0.3696\b\b\b\b\b\b\b\b\b\b\b\b\b\b\b\b\b\b\b\b\b\b\b\b\b\b\b\b\b\b\b\b\b\b\b\b\b\b\n",
      "Epoch 169/300\n",
      "3/3 [==============================] - 0s 7ms/step - loss: 0.3188 - val_loss: 0.3731\b\b\b\b\b\b\b\b\b\b\b\b\b\b\b\b\b\b\b\b\b\b\b\b\b\b\b\b\b\b\b\b\b\b\b\b\b\b\n",
      "Epoch 170/300\n",
      "3/3 [==============================] - 0s 9ms/step - loss: 0.3124 - val_loss: 0.3717\b\b\b\b\b\b\b\b\b\b\b\b\b\b\b\b\b\b\b\b\b\b\b\b\b\b\b\b\b\b\b\b\b\b\b\b\b\b\n",
      "Epoch 171/300\n",
      "3/3 [==============================] - 0s 8ms/step - loss: 0.3105 - val_loss: 0.3674\b\b\b\b\b\b\b\b\b\b\b\b\b\b\b\b\b\b\b\b\b\b\b\b\b\b\b\b\b\b\b\b\b\b\b\b\b\b\n",
      "Epoch 172/300\n",
      "3/3 [==============================] - 0s 9ms/step - loss: 0.3089 - val_loss: 0.3697\b\b\b\b\b\b\b\b\b\b\b\b\b\b\b\b\b\b\b\b\b\b\b\b\b\b\b\b\b\b\b\b\b\b\b\b\b\b\n",
      "Epoch 173/300\n",
      "3/3 [==============================] - 0s 9ms/step - loss: 0.3076 - val_loss: 0.3596\b\b\b\b\b\b\b\b\b\b\b\b\b\b\b\b\b\b\b\b\b\b\b\b\b\b\b\b\b\b\b\b\b\b\b\b\b\b\n",
      "Epoch 174/300\n",
      "3/3 [==============================] - 0s 11ms/step - loss: 0.3048 - val_loss: 0.3510\b\b\b\b\b\b\b\b\b\b\b\b\b\b\b\b\b\b\b\b\b\b\b\b\b\b\b\b\b\b\b\b\b\b\b\b\b\n",
      "Epoch 00174: early stopping\n"
     ]
    },
    {
     "data": {
      "text/plain": "<tensorflow.python.keras.callbacks.History at 0x7fbb54166a30>"
     },
     "execution_count": 32,
     "metadata": {},
     "output_type": "execute_result"
    }
   ],
   "source": [
    "model.fit(x=x_train,\n",
    "          y=y_train,\n",
    "          epochs=300,\n",
    "          validation_data=(x_test, y_test),\n",
    "          callbacks=early_stop)"
   ]
  },
  {
   "cell_type": "code",
   "execution_count": 33,
   "metadata": {
    "pycharm": {
     "name": "#%%\n"
    }
   },
   "outputs": [],
   "source": [
    "losses = pd.DataFrame(model.history.history)"
   ]
  },
  {
   "cell_type": "code",
   "execution_count": 34,
   "metadata": {
    "pycharm": {
     "name": "#%%\n"
    }
   },
   "outputs": [
    {
     "data": {
      "text/plain": "<AxesSubplot:>"
     },
     "execution_count": 34,
     "metadata": {},
     "output_type": "execute_result"
    },
    {
     "data": {
      "text/plain": "<Figure size 432x288 with 1 Axes>",
      "image/png": "[encoded data removed]"
     },
     "metadata": {
      "needs_background": "light"
     },
     "output_type": "display_data"
    }
   ],
   "source": [
    "losses.plot()"
   ]
  },
  {
   "cell_type": "code",
   "execution_count": 35,
   "outputs": [],
   "source": [
    "# get the training paths\n",
    "test_df = pd.read_csv('../simulations/data/test_paths.csv')"
   ],
   "metadata": {
    "collapsed": false,
    "pycharm": {
     "name": "#%%\n"
    }
   }
  },
  {
   "cell_type": "code",
   "execution_count": 36,
   "outputs": [],
   "source": [
    "# get the training paths\n",
    "test_x = test_df[test_df.columns[2:62]]\n",
    "\n",
    "test_y = test_df['enter-parking'].values"
   ],
   "metadata": {
    "collapsed": false,
    "pycharm": {
     "name": "#%%\n"
    }
   }
  },
  {
   "cell_type": "code",
   "execution_count": 37,
   "outputs": [],
   "source": [
    "test_x = scaler.transform(test_x)"
   ],
   "metadata": {
    "collapsed": false,
    "pycharm": {
     "name": "#%%\n"
    }
   }
  },
  {
   "cell_type": "code",
   "execution_count": 38,
   "outputs": [
    {
     "name": "stdout",
     "output_type": "stream",
     "text": [
      "[[ 0.08309383  0.27907406  0.          0.0847541   0.26916168  0.\n",
      "   0.08424359  0.27091275  0.          0.10185985  0.26053305  0.\n",
      "   0.11443243  0.24796299  0.          0.13076447  0.23828275  0.\n",
      "   0.13804985  0.22145182  0.          0.13919562  0.21255668  0.\n",
      "   0.14191511  0.20598149  0.          0.15599738  0.19829772  0.\n",
      "   0.17322882  0.200434    0.          0.18702714  0.23252138  0.\n",
      "   0.24086467  0.25765083  0.          0.29330415  0.28253905  0.\n",
      "   0.32500031  0.30797846  0.          0.35237926  0.34384957  0.\n",
      "   0.3755847   0.37685436  0.          0.42168233  0.38634985  0.\n",
      "   0.45166237  0.40609338  0.          0.48530517  0.41183012  0.        ]\n",
      " [ 0.1053826   0.45708181  0.          0.11356683  0.44263712  0.\n",
      "   0.1198803   0.42737734  0.          0.12784511  0.41517327  0.\n",
      "   0.13778709  0.40634578  0.          0.14802496  0.40237595  0.\n",
      "   0.14455081  0.38345365  0.          0.13813612  0.37873786  0.\n",
      "   0.13425692  0.35972749  0.          0.14415255  0.33316848  0.\n",
      "   0.1571912   0.32044904  0.          0.16404776  0.3228254   0.\n",
      "   0.2088714   0.31001615  0.          0.26228798  0.31148001  0.\n",
      "   0.29356589  0.31332424  0.          0.33293266  0.33181665  0.\n",
      "   0.37114441  0.36523817  0.          0.41079604  0.38084223  0.\n",
      "   0.44546327  0.39795551  0.          0.48584605  0.41060612  0.        ]\n",
      " [ 0.1013997   0.30786408  0.          0.10834323  0.29301451  0.\n",
      "   0.11390872  0.27722033  0.          0.12570824  0.26416077  0.\n",
      "   0.13850914  0.2501365   0.          0.15194366  0.23983479  0.\n",
      "   0.15829195  0.2175246   0.          0.16153534  0.1962724   0.\n",
      "   0.17908433  0.17965831  0.          0.20623971  0.15633939  0.\n",
      "   0.22820477  0.14640298  0.          0.24679428  0.1716426   0.\n",
      "   0.29371252  0.20630543  0.          0.32943243  0.2482348   0.\n",
      "   0.34303688  0.28761714  0.          0.36046522  0.33560444  0.\n",
      "   0.38689524  0.36828526  0.          0.41687905  0.37659819  0.\n",
      "   0.44683871  0.39853481  0.          0.48462245  0.40895425  0.        ]\n",
      " [ 0.12695497  0.10991671  0.          0.13525034  0.10592138  0.\n",
      "   0.14317782  0.09220515  0.          0.15587471  0.08327734  0.\n",
      "   0.16293708  0.08492258  0.          0.17204293  0.08525032  0.\n",
      "   0.1788779   0.07262347  0.          0.17179966  0.07648496  0.\n",
      "   0.16419374  0.09499392  0.          0.16786185  0.09617882  0.\n",
      "   0.1801936   0.11441044  0.          0.19744147  0.16446078  0.\n",
      "   0.26474243  0.19197716  0.          0.32453006  0.219844    0.\n",
      "   0.34403225  0.27307068  0.          0.36449269  0.33250081  0.\n",
      "   0.3906597   0.37252592  0.          0.42150244  0.38672522  0.\n",
      "   0.45235142  0.40275804  0.          0.48830706  0.40765265  0.        ]\n",
      " [ 0.11827685  0.77581539  0.          0.11713027  0.76736359  0.\n",
      "   0.1219405   0.75697382  0.          0.13012694  0.74860145  0.\n",
      "   0.14165278  0.75295023  0.          0.1497606   0.7651355   0.\n",
      "   0.15552405  0.77456419  0.          0.15185437  0.78379354  0.\n",
      "   0.15647196  0.79924726  0.          0.17248919  0.80719152  0.\n",
      "   0.1896302   0.82400365  0.          0.20834759  0.84435815  0.\n",
      "   0.25403422  0.86724966  0.          0.30152892  0.87568395  0.\n",
      "   0.32783161  0.85555313  0.          0.35911012  0.83903973  0.\n",
      "   0.40723095  0.81720919  0.          0.44008561  0.78506538  0.\n",
      "   0.47407941  0.7613372   0.          0.50824532  0.7328842   0.        ]\n",
      " [ 0.12493761  0.78643653  0.          0.13300096  0.77724825  0.\n",
      "   0.14269992  0.76889883  0.          0.15419166  0.76532944  0.\n",
      "   0.17026791  0.76923113  0.          0.18382026  0.78441554  0.\n",
      "   0.19246295  0.79218243  0.          0.19749325  0.79887177  0.\n",
      "   0.20251424  0.80926804  0.          0.22109444  0.80668345  0.\n",
      "   0.24103845  0.80989712  0.          0.25391112  0.81275407  0.\n",
      "   0.30770972  0.81591222  0.          0.3542123   0.82004598  0.\n",
      "   0.38063764  0.80773459  0.          0.4042958   0.7971326   0.\n",
      "   0.43487859  0.77991667  0.          0.46241278  0.76193379  0.\n",
      "   0.48918199  0.74214203  0.          0.5152794   0.72524526  0.        ]\n",
      " [ 0.10833024  0.41979169  0.          0.09777191  0.38243952  0.\n",
      "   0.10132877  0.35305104  0.          0.1089172   0.32584364  0.\n",
      "   0.11345293  0.30174644  0.          0.12008789  0.28534142  0.\n",
      "   0.1215399   0.26109205  0.          0.11622344  0.23887288  0.\n",
      "   0.11720476  0.24022684  0.          0.13406868  0.23070314  0.\n",
      "   0.14911961  0.22192684  0.          0.16517746  0.23970254  0.\n",
      "   0.22629863  0.25191861  0.          0.28748852  0.27927693  0.\n",
      "   0.31324579  0.30650462  0.          0.350729    0.34538129  0.\n",
      "   0.38631581  0.37976929  0.          0.4215252   0.3949694   0.\n",
      "   0.45164606  0.40891024  0.          0.48692579  0.40896889  0.        ]\n",
      " [ 0.38561392  0.69738297  0.          0.39684448  0.68869786  0.\n",
      "   0.40561175  0.68356185  0.          0.42313119  0.68003158  0.\n",
      "   0.44446603  0.68098935  0.          0.46834405  0.69504451  0.\n",
      "   0.48885471  0.69964681  0.          0.50656304  0.70776857  0.\n",
      "   0.53129086  0.71482601  0.          0.56025135  0.72012497  0.\n",
      "   0.59463088  0.73158554  0.          0.6317038   0.75241744  0.\n",
      "   0.69815634  0.77321869  0.          0.76199526  0.79299211  0.\n",
      "   0.81268891  0.79702094  0.          0.87336534  0.8028069   0.\n",
      "   0.92646672  0.79610597  0.          0.96792885  0.77756967  0.\n",
      "   0.9889642   0.75583189  0.          0.9722495   0.72961781  0.        ]\n",
      " [ 0.78346497 -0.08015084  0.          0.78502728 -0.07453306  0.\n",
      "   0.79042693 -0.0707799   0.          0.79521882 -0.06196397  0.\n",
      "   0.80320853 -0.05758369  0.          0.81042497 -0.04349676  0.\n",
      "   0.81742369 -0.03380989  0.          0.82326609 -0.02512762  0.\n",
      "   0.8333625  -0.01397063  0.          0.84875226 -0.0127426   0.\n",
      "   0.86437851 -0.00116641  0.          0.87667567  0.05302643  0.\n",
      "   0.90445913  0.10295817  0.          0.93497543  0.14797187  0.\n",
      "   0.96127461  0.18821297  0.          0.98650414  0.25259557  0.\n",
      "   0.9708934   0.29427394  0.          0.93728253  0.32004633  0.\n",
      "   0.91747722  0.33346633  0.          0.90766249  0.34625503  0.        ]\n",
      " [ 0.10843005  0.5066595   0.          0.11962397  0.46515565  0.\n",
      "   0.13521916  0.43421038  0.          0.14908365  0.41451185  0.\n",
      "   0.1600818   0.39154265  0.          0.17171538  0.36965165  0.\n",
      "   0.17831099  0.35157046  0.          0.18330399  0.34295273  0.\n",
      "   0.18517217  0.322323    0.          0.20136177  0.27742671  0.\n",
      "   0.21722085  0.24589194  0.          0.23012861  0.26104895  0.\n",
      "   0.29196146  0.26987586  0.          0.34407001  0.26101935  0.\n",
      "   0.36798358  0.24789645  0.          0.40580136  0.25569362  0.\n",
      "   0.44580437  0.26209291  0.          0.48046956  0.24450708  0.\n",
      "   0.50669003  0.23181169  0.          0.53217164  0.21912793  0.        ]\n",
      " [ 0.05388782  0.28182412  0.          0.06469174  0.26472964  0.\n",
      "   0.07391616  0.25917613  0.          0.07652835  0.26323965  0.\n",
      "   0.0904679   0.24904557  0.          0.10246638  0.24157128  0.\n",
      "   0.10988328  0.22623245  0.          0.10784005  0.20842228  0.\n",
      "   0.11833907  0.19292516  0.          0.14123059  0.16014999  0.\n",
      "   0.1683235   0.1369196   0.          0.19267056  0.14117738  0.\n",
      "   0.2505816   0.14051474  0.          0.30595698  0.1448493   0.\n",
      "   0.33769393  0.15199363  0.          0.36461119  0.16392845  0.\n",
      "   0.40560361  0.16523639  0.          0.44486062  0.16038211  0.\n",
      "   0.47866375  0.16242147  0.          0.51712763  0.16671429  0.        ]\n",
      " [ 0.04664828  0.81563841  0.          0.05687538  0.81010387  0.\n",
      "   0.06719966  0.80508837  0.          0.07881391  0.80095542  0.\n",
      "   0.08765773  0.79837289  0.          0.09508652  0.80218358  0.\n",
      "   0.0973477   0.81036184  0.          0.09162226  0.82216755  0.\n",
      "   0.09261475  0.84021082  0.          0.1030404   0.85195732  0.\n",
      "   0.1150322   0.86996705  0.          0.12300914  0.89118926  0.\n",
      "   0.17275541  0.9052934   0.          0.23130239  0.91250826  0.\n",
      "   0.26229884  0.91323641  0.          0.30120784  0.91618885  0.\n",
      "   0.3371661   0.92247423  0.          0.36850802  0.92083739  0.\n",
      "   0.40152409  0.92391286  0.          0.43261248  0.92424414  0.        ]\n",
      " [ 0.10172078  0.08798742  0.          0.11305882  0.07425764  0.\n",
      "   0.12297101  0.06899952  0.          0.13550239  0.06313625  0.\n",
      "   0.14187848  0.05954756  0.          0.15291593  0.0675872   0.\n",
      "   0.16148336  0.05953628  0.          0.15718588  0.05464957  0.\n",
      "   0.15622097  0.06379577  0.          0.15710329  0.07928284  0.\n",
      "   0.16558825  0.10016284  0.          0.17916643  0.14962596  0.\n",
      "   0.23650558  0.18418162  0.          0.30151447  0.21159566  0.\n",
      "   0.34469386  0.2308985   0.          0.38765879  0.24889058  0.\n",
      "   0.4301022   0.26284967  0.          0.4649175   0.25118875  0.\n",
      "   0.4959745   0.23933826  0.          0.52880317  0.21976364  0.        ]\n",
      " [ 0.73995004  0.30388856  0.          0.70344139  0.29316039  0.\n",
      "   0.67844822  0.27982602  0.          0.6498731   0.26779819  0.\n",
      "   0.61203205  0.26036287  0.          0.57803074  0.25196874  0.\n",
      "   0.54424092  0.23989586  0.          0.5111077   0.22231451  0.\n",
      "   0.45688503  0.20894005  0.          0.41978235  0.18480168  0.\n",
      "   0.38355482  0.15660214  0.          0.34775961  0.16989417  0.\n",
      "   0.33417459  0.17335368  0.          0.32925012  0.17323149  0.\n",
      "   0.31461926  0.174134    0.          0.28094996  0.19050266  0.\n",
      "   0.2551766   0.2088522   0.          0.25495673  0.19330444  0.\n",
      "   0.26731377  0.14746343  0.          0.25607486  0.10287066  0.        ]\n",
      " [ 0.40345588  0.20748873  0.          0.37687185  0.19114623  0.\n",
      "   0.34969704  0.1773261   0.          0.33307296  0.17758808  0.\n",
      "   0.32064302  0.1792285   0.          0.29042282  0.1829229   0.\n",
      "   0.24952072  0.17831774  0.          0.20084566  0.18165627  0.\n",
      "   0.15280395  0.18206203  0.          0.110251    0.17327296  0.\n",
      "   0.06858097  0.16585259  0.          0.01511391  0.19783688  0.\n",
      "   0.0072099   0.21521442  0.          0.00919643  0.24180334  0.\n",
      "   0.00299846  0.29434701  0.          0.00148795  0.34815307  0.\n",
      "   0.02601422  0.4056253   0.          0.05486474  0.44413358  0.\n",
      "   0.08297719  0.47141946  0.          0.10963246  0.49622053  0.        ]]\n",
      "[1 1 1 1 1 1 1 1 1 0 0 0 0 0 0]\n"
     ]
    }
   ],
   "source": [
    "print(test_x)\n",
    "\n",
    "print(test_y)"
   ],
   "metadata": {
    "collapsed": false,
    "pycharm": {
     "name": "#%%\n"
    }
   }
  },
  {
   "cell_type": "code",
   "execution_count": 39,
   "metadata": {
    "pycharm": {
     "name": "#%%\n"
    }
   },
   "outputs": [
    {
     "name": "stdout",
     "output_type": "stream",
     "text": [
      "[[1]\n",
      " [1]\n",
      " [1]\n",
      " [1]\n",
      " [1]\n",
      " [1]\n",
      " [1]\n",
      " [1]\n",
      " [1]\n",
      " [0]\n",
      " [0]\n",
      " [0]\n",
      " [0]\n",
      " [0]\n",
      " [0]]\n"
     ]
    }
   ],
   "source": [
    "predictions = (model.predict(test_x) > 0.5).astype(\"int32\")\n",
    "\n",
    "print(predictions)"
   ]
  },
  {
   "cell_type": "code",
   "execution_count": 40,
   "metadata": {
    "pycharm": {
     "name": "#%%\n"
    }
   },
   "outputs": [
    {
     "name": "stdout",
     "output_type": "stream",
     "text": [
      "              precision    recall  f1-score   support\n",
      "\n",
      "           0       1.00      1.00      1.00         6\n",
      "           1       1.00      1.00      1.00         9\n",
      "\n",
      "    accuracy                           1.00        15\n",
      "   macro avg       1.00      1.00      1.00        15\n",
      "weighted avg       1.00      1.00      1.00        15\n",
      "\n"
     ]
    }
   ],
   "source": [
    "print(classification_report(test_y, predictions))"
   ]
  },
  {
   "cell_type": "code",
   "execution_count": 41,
   "metadata": {
    "pycharm": {
     "name": "#%%\n"
    }
   },
   "outputs": [
    {
     "name": "stdout",
     "output_type": "stream",
     "text": [
      "[[6 0]\n",
      " [0 9]]\n"
     ]
    }
   ],
   "source": [
    "print(confusion_matrix(test_y, predictions))"
   ]
  },
  {
   "cell_type": "code",
   "execution_count": 42,
   "metadata": {
    "pycharm": {
     "name": "#%%\n"
    }
   },
   "outputs": [],
   "source": [
    "# model.save('saved_model')"
   ]
  }
 ],
 "metadata": {
  "kernelspec": {
   "display_name": "Python 3",
   "language": "python",
   "name": "python3"
  },
  "language_info": {
   "codemirror_mode": {
    "name": "ipython",
    "version": 3
   },
   "file_extension": ".py",
   "mimetype": "text/x-python",
   "name": "python",
   "nbconvert_exporter": "python",
   "pygments_lexer": "ipython3",
   "version": "3.8.10"
  }
 },
 "nbformat": 4,
 "nbformat_minor": 1
}