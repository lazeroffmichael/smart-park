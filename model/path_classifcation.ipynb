{
 "cells": [
  {
   "cell_type": "code",
   "execution_count": 1,
   "metadata": {
    "collapsed": true
   },
   "outputs": [],
   "source": []
  },
  {
   "cell_type": "markdown",
   "source": [
    "# Garage Classifcation Model\n",
    "\n",
    "## Goal: Given coordinate points along a path, classify whether a person is headed towards the garage.\n",
    "\n",
    "---"
   ],
   "metadata": {
    "collapsed": false
   }
  },
  {
   "cell_type": "code",
   "execution_count": 2,
   "outputs": [],
   "source": [
    "import pandas as pd\n",
    "import numpy as np"
   ],
   "metadata": {
    "collapsed": false,
    "pycharm": {
     "name": "#%%\n"
    }
   }
  },
  {
   "cell_type": "code",
   "execution_count": 3,
   "outputs": [],
   "source": [
    "df = pd.read_csv('../simulations/csv_paths/cottage_grove_paths.csv')"
   ],
   "metadata": {
    "collapsed": false,
    "pycharm": {
     "name": "#%%\n"
    }
   }
  },
  {
   "cell_type": "code",
   "execution_count": 4,
   "outputs": [
    {
     "name": "stdout",
     "output_type": "stream",
     "text": [
      "<class 'pandas.core.frame.DataFrame'>\n",
      "RangeIndex: 92 entries, 0 to 91\n",
      "Data columns (total 62 columns):\n",
      " #   Column                          Non-Null Count  Dtype  \n",
      "---  ------                          --------------  -----  \n",
      " 0   Unnamed: 0                      92 non-null     object \n",
      " 1   latitude_1                      92 non-null     float64\n",
      " 2   longitude_1                     92 non-null     float64\n",
      " 3   altitude_relative_to_ground_1   92 non-null     float64\n",
      " 4   latitude_2                      92 non-null     float64\n",
      " 5   longitude_2                     92 non-null     float64\n",
      " 6   altitude_relative_to_ground_2   92 non-null     float64\n",
      " 7   latitude_3                      92 non-null     float64\n",
      " 8   longitude_3                     92 non-null     float64\n",
      " 9   altitude_relative_to_ground_3   92 non-null     float64\n",
      " 10  latitude_4                      92 non-null     float64\n",
      " 11  longitude_4                     92 non-null     float64\n",
      " 12  altitude_relative_to_ground_4   92 non-null     float64\n",
      " 13  latitude_5                      92 non-null     float64\n",
      " 14  longitude_5                     92 non-null     float64\n",
      " 15  altitude_relative_to_ground_5   92 non-null     float64\n",
      " 16  latitude_6                      92 non-null     float64\n",
      " 17  longitude_6                     92 non-null     float64\n",
      " 18  altitude_relative_to_ground_6   92 non-null     float64\n",
      " 19  latitude_7                      92 non-null     float64\n",
      " 20  longitude_7                     92 non-null     float64\n",
      " 21  altitude_relative_to_ground_7   92 non-null     float64\n",
      " 22  latitude_8                      92 non-null     float64\n",
      " 23  longitude_8                     92 non-null     float64\n",
      " 24  altitude_relative_to_ground_8   92 non-null     float64\n",
      " 25  latitude_9                      92 non-null     float64\n",
      " 26  longitude_9                     92 non-null     float64\n",
      " 27  altitude_relative_to_ground_9   92 non-null     float64\n",
      " 28  latitude_10                     92 non-null     float64\n",
      " 29  longitude_10                    92 non-null     float64\n",
      " 30  altitude_relative_to_ground_10  92 non-null     float64\n",
      " 31  latitude_11                     92 non-null     float64\n",
      " 32  longitude_11                    92 non-null     float64\n",
      " 33  altitude_relative_to_ground_11  92 non-null     float64\n",
      " 34  latitude_12                     92 non-null     float64\n",
      " 35  longitude_12                    92 non-null     float64\n",
      " 36  altitude_relative_to_ground_12  92 non-null     float64\n",
      " 37  latitude_13                     92 non-null     float64\n",
      " 38  longitude_13                    92 non-null     float64\n",
      " 39  altitude_relative_to_ground_13  92 non-null     float64\n",
      " 40  latitude_14                     92 non-null     float64\n",
      " 41  longitude_14                    92 non-null     float64\n",
      " 42  altitude_relative_to_ground_14  92 non-null     float64\n",
      " 43  latitude_15                     92 non-null     float64\n",
      " 44  longitude_15                    92 non-null     float64\n",
      " 45  altitude_relative_to_ground_15  92 non-null     float64\n",
      " 46  latitude_16                     92 non-null     float64\n",
      " 47  longitude_16                    92 non-null     float64\n",
      " 48  altitude_relative_to_ground_16  92 non-null     float64\n",
      " 49  latitude_17                     92 non-null     float64\n",
      " 50  longitude_17                    92 non-null     float64\n",
      " 51  altitude_relative_to_ground_17  92 non-null     float64\n",
      " 52  latitude_18                     92 non-null     float64\n",
      " 53  longitude_18                    92 non-null     float64\n",
      " 54  altitude_relative_to_ground_18  92 non-null     float64\n",
      " 55  latitude_19                     92 non-null     float64\n",
      " 56  longitude_19                    92 non-null     float64\n",
      " 57  altitude_relative_to_ground_19  92 non-null     float64\n",
      " 58  latitude_20                     92 non-null     float64\n",
      " 59  longitude_20                    92 non-null     float64\n",
      " 60  altitude_relative_to_ground_20  92 non-null     float64\n",
      " 61  enter-parking                   92 non-null     int64  \n",
      "dtypes: float64(60), int64(1), object(1)\n",
      "memory usage: 44.7+ KB\n"
     ]
    }
   ],
   "source": [
    "df.info()"
   ],
   "metadata": {
    "collapsed": false,
    "pycharm": {
     "name": "#%%\n"
    }
   }
  },
  {
   "cell_type": "code",
   "execution_count": 5,
   "outputs": [
    {
     "data": {
      "text/plain": "        Unnamed: 0  latitude_1  longitude_1  altitude_relative_to_ground_1  \\\n0         10_A.xml   36.111200  -115.141654                            0.0   \n1  10_A_Missed.xml   36.109699  -115.140636                            0.0   \n2         10_B.xml   36.110692  -115.141014                            0.0   \n3  10_B_Missed.xml   36.110448  -115.139256                            0.0   \n4         11_A.xml   36.109695  -115.140862                            0.0   \n\n   latitude_2  longitude_2  altitude_relative_to_ground_2  latitude_3  \\\n0   36.111206  -115.141554                            0.0   36.111211   \n1   36.109756  -115.140660                            0.0   36.109795   \n2   36.110658  -115.140986                            0.0   36.110627   \n3   36.110419  -115.139264                            0.0   36.110380   \n4   36.109748  -115.140871                            0.0   36.109808   \n\n   longitude_3  altitude_relative_to_ground_3  ...  latitude_18  longitude_18  \\\n0  -115.141400                            0.0  ...    36.110529   -115.140651   \n1  -115.140685                            0.0  ...    36.110881   -115.140836   \n2  -115.140952                            0.0  ...    36.110594   -115.139715   \n3  -115.139272                            0.0  ...    36.109740   -115.139144   \n4  -115.140878                            0.0  ...    36.110561   -115.140546   \n\n   altitude_relative_to_ground_18  latitude_19  longitude_19  \\\n0                             0.0    36.110555   -115.140550   \n1                             0.0    36.110995   -115.140851   \n2                             0.0    36.110633   -115.139636   \n3                             0.0    36.109708   -115.139112   \n4                             0.0    36.110599   -115.140523   \n\n   altitude_relative_to_ground_19  latitude_20  longitude_20  \\\n0                             0.0    36.110629   -115.140521   \n1                             0.0    36.111160   -115.140860   \n2                             0.0    36.110667   -115.139667   \n3                             0.0    36.109650   -115.139100   \n4                             0.0    36.110638   -115.140528   \n\n   altitude_relative_to_ground_20  enter-parking  \n0                             0.0              1  \n1                             0.0              0  \n2                             0.0              1  \n3                             0.0              0  \n4                             0.0              1  \n\n[5 rows x 62 columns]",
      "text/html": "<div>\n<style scoped>\n    .dataframe tbody tr th:only-of-type {\n        vertical-align: middle;\n    }\n\n    .dataframe tbody tr th {\n        vertical-align: top;\n    }\n\n    .dataframe thead th {\n        text-align: right;\n    }\n</style>\n<table border=\"1\" class=\"dataframe\">\n  <thead>\n    <tr style=\"text-align: right;\">\n      <th></th>\n      <th>Unnamed: 0</th>\n      <th>latitude_1</th>\n      <th>longitude_1</th>\n      <th>altitude_relative_to_ground_1</th>\n      <th>latitude_2</th>\n      <th>longitude_2</th>\n      <th>altitude_relative_to_ground_2</th>\n      <th>latitude_3</th>\n      <th>longitude_3</th>\n      <th>altitude_relative_to_ground_3</th>\n      <th>...</th>\n      <th>latitude_18</th>\n      <th>longitude_18</th>\n      <th>altitude_relative_to_ground_18</th>\n      <th>latitude_19</th>\n      <th>longitude_19</th>\n      <th>altitude_relative_to_ground_19</th>\n      <th>latitude_20</th>\n      <th>longitude_20</th>\n      <th>altitude_relative_to_ground_20</th>\n      <th>enter-parking</th>\n    </tr>\n  </thead>\n  <tbody>\n    <tr>\n      <th>0</th>\n      <td>10_A.xml</td>\n      <td>36.111200</td>\n      <td>-115.141654</td>\n      <td>0.0</td>\n      <td>36.111206</td>\n      <td>-115.141554</td>\n      <td>0.0</td>\n      <td>36.111211</td>\n      <td>-115.141400</td>\n      <td>0.0</td>\n      <td>...</td>\n      <td>36.110529</td>\n      <td>-115.140651</td>\n      <td>0.0</td>\n      <td>36.110555</td>\n      <td>-115.140550</td>\n      <td>0.0</td>\n      <td>36.110629</td>\n      <td>-115.140521</td>\n      <td>0.0</td>\n      <td>1</td>\n    </tr>\n    <tr>\n      <th>1</th>\n      <td>10_A_Missed.xml</td>\n      <td>36.109699</td>\n      <td>-115.140636</td>\n      <td>0.0</td>\n      <td>36.109756</td>\n      <td>-115.140660</td>\n      <td>0.0</td>\n      <td>36.109795</td>\n      <td>-115.140685</td>\n      <td>0.0</td>\n      <td>...</td>\n      <td>36.110881</td>\n      <td>-115.140836</td>\n      <td>0.0</td>\n      <td>36.110995</td>\n      <td>-115.140851</td>\n      <td>0.0</td>\n      <td>36.111160</td>\n      <td>-115.140860</td>\n      <td>0.0</td>\n      <td>0</td>\n    </tr>\n    <tr>\n      <th>2</th>\n      <td>10_B.xml</td>\n      <td>36.110692</td>\n      <td>-115.141014</td>\n      <td>0.0</td>\n      <td>36.110658</td>\n      <td>-115.140986</td>\n      <td>0.0</td>\n      <td>36.110627</td>\n      <td>-115.140952</td>\n      <td>0.0</td>\n      <td>...</td>\n      <td>36.110594</td>\n      <td>-115.139715</td>\n      <td>0.0</td>\n      <td>36.110633</td>\n      <td>-115.139636</td>\n      <td>0.0</td>\n      <td>36.110667</td>\n      <td>-115.139667</td>\n      <td>0.0</td>\n      <td>1</td>\n    </tr>\n    <tr>\n      <th>3</th>\n      <td>10_B_Missed.xml</td>\n      <td>36.110448</td>\n      <td>-115.139256</td>\n      <td>0.0</td>\n      <td>36.110419</td>\n      <td>-115.139264</td>\n      <td>0.0</td>\n      <td>36.110380</td>\n      <td>-115.139272</td>\n      <td>0.0</td>\n      <td>...</td>\n      <td>36.109740</td>\n      <td>-115.139144</td>\n      <td>0.0</td>\n      <td>36.109708</td>\n      <td>-115.139112</td>\n      <td>0.0</td>\n      <td>36.109650</td>\n      <td>-115.139100</td>\n      <td>0.0</td>\n      <td>0</td>\n    </tr>\n    <tr>\n      <th>4</th>\n      <td>11_A.xml</td>\n      <td>36.109695</td>\n      <td>-115.140862</td>\n      <td>0.0</td>\n      <td>36.109748</td>\n      <td>-115.140871</td>\n      <td>0.0</td>\n      <td>36.109808</td>\n      <td>-115.140878</td>\n      <td>0.0</td>\n      <td>...</td>\n      <td>36.110561</td>\n      <td>-115.140546</td>\n      <td>0.0</td>\n      <td>36.110599</td>\n      <td>-115.140523</td>\n      <td>0.0</td>\n      <td>36.110638</td>\n      <td>-115.140528</td>\n      <td>0.0</td>\n      <td>1</td>\n    </tr>\n  </tbody>\n</table>\n<p>5 rows × 62 columns</p>\n</div>"
     },
     "execution_count": 5,
     "metadata": {},
     "output_type": "execute_result"
    }
   ],
   "source": [
    "df.head()"
   ],
   "metadata": {
    "collapsed": false,
    "pycharm": {
     "name": "#%%\n"
    }
   }
  },
  {
   "cell_type": "code",
   "execution_count": 6,
   "outputs": [],
   "source": [
    "# Get First Coordinate Pair Only -> Columns [1, 6]\n",
    "X = df[df.columns[1:7]]\n",
    "label = df['enter-parking'].values"
   ],
   "metadata": {
    "collapsed": false,
    "pycharm": {
     "name": "#%%\n"
    }
   }
  },
  {
   "cell_type": "code",
   "execution_count": 7,
   "outputs": [
    {
     "name": "stdout",
     "output_type": "stream",
     "text": [
      "    latitude_1  longitude_1  altitude_relative_to_ground_1  latitude_2  \\\n",
      "0    36.111200  -115.141654                            0.0   36.111206   \n",
      "1    36.109699  -115.140636                            0.0   36.109756   \n",
      "2    36.110692  -115.141014                            0.0   36.110658   \n",
      "3    36.110448  -115.139256                            0.0   36.110419   \n",
      "4    36.109695  -115.140862                            0.0   36.109748   \n",
      "..         ...          ...                            ...         ...   \n",
      "87   36.110949  -115.138459                            0.0   36.110880   \n",
      "88   36.109628  -115.141544                            0.0   36.109697   \n",
      "89   36.109490  -115.140931                            0.0   36.109541   \n",
      "90   36.109708  -115.140845                            0.0   36.109824   \n",
      "91   36.110942  -115.138463                            0.0   36.110884   \n",
      "\n",
      "    longitude_2  altitude_relative_to_ground_2  \n",
      "0   -115.141554                            0.0  \n",
      "1   -115.140660                            0.0  \n",
      "2   -115.140986                            0.0  \n",
      "3   -115.139264                            0.0  \n",
      "4   -115.140871                            0.0  \n",
      "..          ...                            ...  \n",
      "87  -115.138451                            0.0  \n",
      "88  -115.141542                            0.0  \n",
      "89  -115.140940                            0.0  \n",
      "90  -115.140855                            0.0  \n",
      "91  -115.138464                            0.0  \n",
      "\n",
      "[92 rows x 6 columns]\n",
      "[1 0 1 0 1 0 1 0 1 0 1 0 1 0 1 0 1 0 1 0 1 0 1 0 1 0 1 0 1 0 1 1 0 1 1 0 1\n",
      " 1 0 0 1 0 0 1 0 1 1 0 1 1 0 1 1 0 1 1 1 0 0 1 0 0 1 0 0 1 0 1 0 0 1 0 1 0\n",
      " 1 0 1 0 1 0 1 0 1 0 1 0 1 0 1 0 1 0]\n"
     ]
    }
   ],
   "source": [
    "print(X)\n",
    "print(label)"
   ],
   "metadata": {
    "collapsed": false,
    "pycharm": {
     "name": "#%%\n"
    }
   }
  },
  {
   "cell_type": "code",
   "execution_count": 8,
   "outputs": [],
   "source": [
    "from sklearn.model_selection import train_test_split"
   ],
   "metadata": {
    "collapsed": false,
    "pycharm": {
     "name": "#%%\n"
    }
   }
  },
  {
   "cell_type": "code",
   "execution_count": 9,
   "outputs": [],
   "source": [
    "X_train, X_test, y_train, y_test = train_test_split(X,label,test_size=0.25,random_state=101)"
   ],
   "metadata": {
    "collapsed": false,
    "pycharm": {
     "name": "#%%\n"
    }
   }
  },
  {
   "cell_type": "code",
   "execution_count": null,
   "outputs": [],
   "source": [
    "# Scale data\n",
    "from sklearn.preprocessing import MinMaxScaler\n",
    "\n",
    "scaler = MinMaxScaler()\n",
    "\n",
    "scaler.fit(X_train)\n",
    "\n",
    "scaler.fit(X_train)\n",
    "\n",
    "X_train = scaler.transform(X_train)\n",
    "X_test = scaler.transform(X_test)\n"
   ],
   "metadata": {
    "collapsed": false,
    "pycharm": {
     "name": "#%%\n"
    }
   }
  }
 ],
 "metadata": {
  "kernelspec": {
   "display_name": "Python 3",
   "language": "python",
   "name": "python3"
  },
  "language_info": {
   "codemirror_mode": {
    "name": "ipython",
    "version": 2
   },
   "file_extension": ".py",
   "mimetype": "text/x-python",
   "name": "python",
   "nbconvert_exporter": "python",
   "pygments_lexer": "ipython2",
   "version": "2.7.6"
  }
 },
 "nbformat": 4,
 "nbformat_minor": 0
}