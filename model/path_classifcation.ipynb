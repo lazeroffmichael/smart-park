{
 "cells": [
  {
   "cell_type": "markdown",
   "metadata": {
    "pycharm": {
     "name": "#%% md\n"
    }
   },
   "source": [
    "# Garage Classifcation Model\n",
    "\n",
    "\n",
    "\n",
    "## Goal: Given coordinate points along a path, classify whether the points are headed towards the garage.\n",
    "\n",
    "## This notebook shows the results of training the model with 20 coordinate trajectories.\n",
    "\n",
    "---"
   ]
  },
  {
   "cell_type": "code",
   "execution_count": 242,
   "metadata": {
    "pycharm": {
     "name": "#%%\n"
    }
   },
   "outputs": [],
   "source": [
    "# Imports\n",
    "\n",
    "import pandas as pd\n",
    "from tensorflow.keras.models import Sequential\n",
    "from tensorflow.keras.layers import Dense, Dropout\n",
    "from tensorflow.keras.callbacks import EarlyStopping\n",
    "from sklearn.preprocessing import MinMaxScaler\n",
    "from sklearn.model_selection import train_test_split\n",
    "from sklearn.metrics import classification_report, confusion_matrix"
   ]
  },
  {
   "cell_type": "code",
   "execution_count": 243,
   "metadata": {
    "pycharm": {
     "name": "#%%\n"
    }
   },
   "outputs": [],
   "source": [
    "# get the main paths\n",
    "df = pd.read_csv('../simulations/data/paths.csv')"
   ]
  },
  {
   "cell_type": "code",
   "execution_count": 244,
   "metadata": {
    "pycharm": {
     "name": "#%%\n"
    }
   },
   "outputs": [
    {
     "name": "stdout",
     "output_type": "stream",
     "text": [
      "<class 'pandas.core.frame.DataFrame'>\n",
      "RangeIndex: 104 entries, 0 to 103\n",
      "Data columns (total 63 columns):\n",
      " #   Column                          Non-Null Count  Dtype  \n",
      "---  ------                          --------------  -----  \n",
      " 0   Unnamed: 0                      104 non-null    int64  \n",
      " 1   name                            104 non-null    object \n",
      " 2   latitude_1                      104 non-null    float64\n",
      " 3   longitude_1                     104 non-null    float64\n",
      " 4   altitude_relative_to_ground_1   104 non-null    float64\n",
      " 5   latitude_2                      104 non-null    float64\n",
      " 6   longitude_2                     104 non-null    float64\n",
      " 7   altitude_relative_to_ground_2   104 non-null    float64\n",
      " 8   latitude_3                      104 non-null    float64\n",
      " 9   longitude_3                     104 non-null    float64\n",
      " 10  altitude_relative_to_ground_3   104 non-null    float64\n",
      " 11  latitude_4                      104 non-null    float64\n",
      " 12  longitude_4                     104 non-null    float64\n",
      " 13  altitude_relative_to_ground_4   104 non-null    float64\n",
      " 14  latitude_5                      104 non-null    float64\n",
      " 15  longitude_5                     104 non-null    float64\n",
      " 16  altitude_relative_to_ground_5   104 non-null    float64\n",
      " 17  latitude_6                      104 non-null    float64\n",
      " 18  longitude_6                     104 non-null    float64\n",
      " 19  altitude_relative_to_ground_6   104 non-null    float64\n",
      " 20  latitude_7                      104 non-null    float64\n",
      " 21  longitude_7                     104 non-null    float64\n",
      " 22  altitude_relative_to_ground_7   104 non-null    float64\n",
      " 23  latitude_8                      104 non-null    float64\n",
      " 24  longitude_8                     104 non-null    float64\n",
      " 25  altitude_relative_to_ground_8   104 non-null    float64\n",
      " 26  latitude_9                      104 non-null    float64\n",
      " 27  longitude_9                     104 non-null    float64\n",
      " 28  altitude_relative_to_ground_9   104 non-null    float64\n",
      " 29  latitude_10                     104 non-null    float64\n",
      " 30  longitude_10                    104 non-null    float64\n",
      " 31  altitude_relative_to_ground_10  104 non-null    float64\n",
      " 32  latitude_11                     104 non-null    float64\n",
      " 33  longitude_11                    104 non-null    float64\n",
      " 34  altitude_relative_to_ground_11  104 non-null    float64\n",
      " 35  latitude_12                     104 non-null    float64\n",
      " 36  longitude_12                    104 non-null    float64\n",
      " 37  altitude_relative_to_ground_12  104 non-null    float64\n",
      " 38  latitude_13                     104 non-null    float64\n",
      " 39  longitude_13                    104 non-null    float64\n",
      " 40  altitude_relative_to_ground_13  104 non-null    float64\n",
      " 41  latitude_14                     104 non-null    float64\n",
      " 42  longitude_14                    104 non-null    float64\n",
      " 43  altitude_relative_to_ground_14  104 non-null    float64\n",
      " 44  latitude_15                     104 non-null    float64\n",
      " 45  longitude_15                    104 non-null    float64\n",
      " 46  altitude_relative_to_ground_15  104 non-null    float64\n",
      " 47  latitude_16                     104 non-null    float64\n",
      " 48  longitude_16                    104 non-null    float64\n",
      " 49  altitude_relative_to_ground_16  104 non-null    float64\n",
      " 50  latitude_17                     104 non-null    float64\n",
      " 51  longitude_17                    104 non-null    float64\n",
      " 52  altitude_relative_to_ground_17  104 non-null    float64\n",
      " 53  latitude_18                     104 non-null    float64\n",
      " 54  longitude_18                    104 non-null    float64\n",
      " 55  altitude_relative_to_ground_18  104 non-null    float64\n",
      " 56  latitude_19                     104 non-null    float64\n",
      " 57  longitude_19                    104 non-null    float64\n",
      " 58  altitude_relative_to_ground_19  104 non-null    float64\n",
      " 59  latitude_20                     104 non-null    float64\n",
      " 60  longitude_20                    104 non-null    float64\n",
      " 61  altitude_relative_to_ground_20  104 non-null    float64\n",
      " 62  enter-parking                   104 non-null    int64  \n",
      "dtypes: float64(60), int64(2), object(1)\n",
      "memory usage: 51.3+ KB\n"
     ]
    }
   ],
   "source": [
    "df.info()"
   ]
  },
  {
   "cell_type": "code",
   "execution_count": 245,
   "metadata": {
    "pycharm": {
     "name": "#%%\n"
    }
   },
   "outputs": [
    {
     "data": {
      "text/plain": "   Unnamed: 0        name  latitude_1  longitude_1  \\\n0           0  1_A_Missed   36.109640  -115.140945   \n1           1  2_A_Missed   36.109705  -115.140733   \n2           2  3_A_Missed   36.109626  -115.140134   \n3           3  4_A_Missed   36.109592  -115.140132   \n4           4  5_A_Missed   36.109642  -115.141901   \n\n   altitude_relative_to_ground_1  latitude_2  longitude_2  \\\n0                            0.0   36.109676  -115.140893   \n1                            0.0   36.109702  -115.140785   \n2                            0.0   36.109675  -115.140140   \n3                            0.0   36.109662  -115.140159   \n4                            0.0   36.109649  -115.141793   \n\n   altitude_relative_to_ground_2  latitude_3  longitude_3  ...  latitude_18  \\\n0                            0.0   36.109710  -115.140870  ...    36.110660   \n1                            0.0   36.109699  -115.140841  ...    36.110548   \n2                            0.0   36.109724  -115.140166  ...    36.110686   \n3                            0.0   36.109716  -115.140219  ...    36.110981   \n4                            0.0   36.109654  -115.141658  ...    36.110958   \n\n   longitude_18  altitude_relative_to_ground_18  latitude_19  longitude_19  \\\n0   -115.140983                             0.0    36.110684   -115.141025   \n1   -115.141190                             0.0    36.110591   -115.141199   \n2   -115.140910                             0.0    36.110808   -115.140852   \n3   -115.140853                             0.0    36.111165   -115.140856   \n4   -115.140852                             0.0    36.111102   -115.140854   \n\n   altitude_relative_to_ground_19  latitude_20  longitude_20  \\\n0                             0.0    36.110713   -115.141055   \n1                             0.0    36.110651   -115.141182   \n2                             0.0    36.111009   -115.140862   \n3                             0.0    36.111302   -115.140917   \n4                             0.0    36.111243   -115.140892   \n\n   altitude_relative_to_ground_20  enter-parking  \n0                             0.0              0  \n1                             0.0              0  \n2                             0.0              0  \n3                             0.0              0  \n4                             0.0              0  \n\n[5 rows x 63 columns]",
      "text/html": "<div>\n<style scoped>\n    .dataframe tbody tr th:only-of-type {\n        vertical-align: middle;\n    }\n\n    .dataframe tbody tr th {\n        vertical-align: top;\n    }\n\n    .dataframe thead th {\n        text-align: right;\n    }\n</style>\n<table border=\"1\" class=\"dataframe\">\n  <thead>\n    <tr style=\"text-align: right;\">\n      <th></th>\n      <th>Unnamed: 0</th>\n      <th>name</th>\n      <th>latitude_1</th>\n      <th>longitude_1</th>\n      <th>altitude_relative_to_ground_1</th>\n      <th>latitude_2</th>\n      <th>longitude_2</th>\n      <th>altitude_relative_to_ground_2</th>\n      <th>latitude_3</th>\n      <th>longitude_3</th>\n      <th>...</th>\n      <th>latitude_18</th>\n      <th>longitude_18</th>\n      <th>altitude_relative_to_ground_18</th>\n      <th>latitude_19</th>\n      <th>longitude_19</th>\n      <th>altitude_relative_to_ground_19</th>\n      <th>latitude_20</th>\n      <th>longitude_20</th>\n      <th>altitude_relative_to_ground_20</th>\n      <th>enter-parking</th>\n    </tr>\n  </thead>\n  <tbody>\n    <tr>\n      <th>0</th>\n      <td>0</td>\n      <td>1_A_Missed</td>\n      <td>36.109640</td>\n      <td>-115.140945</td>\n      <td>0.0</td>\n      <td>36.109676</td>\n      <td>-115.140893</td>\n      <td>0.0</td>\n      <td>36.109710</td>\n      <td>-115.140870</td>\n      <td>...</td>\n      <td>36.110660</td>\n      <td>-115.140983</td>\n      <td>0.0</td>\n      <td>36.110684</td>\n      <td>-115.141025</td>\n      <td>0.0</td>\n      <td>36.110713</td>\n      <td>-115.141055</td>\n      <td>0.0</td>\n      <td>0</td>\n    </tr>\n    <tr>\n      <th>1</th>\n      <td>1</td>\n      <td>2_A_Missed</td>\n      <td>36.109705</td>\n      <td>-115.140733</td>\n      <td>0.0</td>\n      <td>36.109702</td>\n      <td>-115.140785</td>\n      <td>0.0</td>\n      <td>36.109699</td>\n      <td>-115.140841</td>\n      <td>...</td>\n      <td>36.110548</td>\n      <td>-115.141190</td>\n      <td>0.0</td>\n      <td>36.110591</td>\n      <td>-115.141199</td>\n      <td>0.0</td>\n      <td>36.110651</td>\n      <td>-115.141182</td>\n      <td>0.0</td>\n      <td>0</td>\n    </tr>\n    <tr>\n      <th>2</th>\n      <td>2</td>\n      <td>3_A_Missed</td>\n      <td>36.109626</td>\n      <td>-115.140134</td>\n      <td>0.0</td>\n      <td>36.109675</td>\n      <td>-115.140140</td>\n      <td>0.0</td>\n      <td>36.109724</td>\n      <td>-115.140166</td>\n      <td>...</td>\n      <td>36.110686</td>\n      <td>-115.140910</td>\n      <td>0.0</td>\n      <td>36.110808</td>\n      <td>-115.140852</td>\n      <td>0.0</td>\n      <td>36.111009</td>\n      <td>-115.140862</td>\n      <td>0.0</td>\n      <td>0</td>\n    </tr>\n    <tr>\n      <th>3</th>\n      <td>3</td>\n      <td>4_A_Missed</td>\n      <td>36.109592</td>\n      <td>-115.140132</td>\n      <td>0.0</td>\n      <td>36.109662</td>\n      <td>-115.140159</td>\n      <td>0.0</td>\n      <td>36.109716</td>\n      <td>-115.140219</td>\n      <td>...</td>\n      <td>36.110981</td>\n      <td>-115.140853</td>\n      <td>0.0</td>\n      <td>36.111165</td>\n      <td>-115.140856</td>\n      <td>0.0</td>\n      <td>36.111302</td>\n      <td>-115.140917</td>\n      <td>0.0</td>\n      <td>0</td>\n    </tr>\n    <tr>\n      <th>4</th>\n      <td>4</td>\n      <td>5_A_Missed</td>\n      <td>36.109642</td>\n      <td>-115.141901</td>\n      <td>0.0</td>\n      <td>36.109649</td>\n      <td>-115.141793</td>\n      <td>0.0</td>\n      <td>36.109654</td>\n      <td>-115.141658</td>\n      <td>...</td>\n      <td>36.110958</td>\n      <td>-115.140852</td>\n      <td>0.0</td>\n      <td>36.111102</td>\n      <td>-115.140854</td>\n      <td>0.0</td>\n      <td>36.111243</td>\n      <td>-115.140892</td>\n      <td>0.0</td>\n      <td>0</td>\n    </tr>\n  </tbody>\n</table>\n<p>5 rows × 63 columns</p>\n</div>"
     },
     "execution_count": 245,
     "metadata": {},
     "output_type": "execute_result"
    }
   ],
   "source": [
    "df.head()"
   ]
  },
  {
   "cell_type": "code",
   "execution_count": 246,
   "metadata": {
    "pycharm": {
     "name": "#%%\n"
    }
   },
   "outputs": [],
   "source": [
    "# Get First Coordinate Pair Only\n",
    "x = df[df.columns[2:62]]\n",
    "\n",
    "y = df['enter-parking'].values"
   ]
  },
  {
   "cell_type": "code",
   "execution_count": 247,
   "metadata": {
    "pycharm": {
     "name": "#%%\n"
    }
   },
   "outputs": [
    {
     "name": "stdout",
     "output_type": "stream",
     "text": [
      "     latitude_1  longitude_1  altitude_relative_to_ground_1  latitude_2  \\\n",
      "0     36.109640  -115.140945                            0.0   36.109676   \n",
      "1     36.109705  -115.140733                            0.0   36.109702   \n",
      "2     36.109626  -115.140134                            0.0   36.109675   \n",
      "3     36.109592  -115.140132                            0.0   36.109662   \n",
      "4     36.109642  -115.141901                            0.0   36.109649   \n",
      "..          ...          ...                            ...         ...   \n",
      "99    36.111300  -115.139089                            0.0   36.111263   \n",
      "100   36.111882  -115.140172                            0.0   36.111877   \n",
      "101   36.109772  -115.139249                            0.0   36.109826   \n",
      "102   36.109605  -115.139093                            0.0   36.109654   \n",
      "103   36.109786  -115.139246                            0.0   36.109842   \n",
      "\n",
      "     longitude_2  altitude_relative_to_ground_2  latitude_3  longitude_3  \\\n",
      "0    -115.140893                            0.0   36.109710  -115.140870   \n",
      "1    -115.140785                            0.0   36.109699  -115.140841   \n",
      "2    -115.140140                            0.0   36.109724  -115.140166   \n",
      "3    -115.140159                            0.0   36.109716  -115.140219   \n",
      "4    -115.141793                            0.0   36.109654  -115.141658   \n",
      "..           ...                            ...         ...          ...   \n",
      "99   -115.139084                            0.0   36.111214  -115.139078   \n",
      "100  -115.140039                            0.0   36.111872  -115.139883   \n",
      "101  -115.139255                            0.0   36.109871  -115.139266   \n",
      "102  -115.139101                            0.0   36.109713  -115.139107   \n",
      "103  -115.139259                            0.0   36.109894  -115.139270   \n",
      "\n",
      "     altitude_relative_to_ground_3  latitude_4  ...  \\\n",
      "0                              0.0   36.109762  ...   \n",
      "1                              0.0   36.109741  ...   \n",
      "2                              0.0   36.109730  ...   \n",
      "3                              0.0   36.109716  ...   \n",
      "4                              0.0   36.109711  ...   \n",
      "..                             ...         ...  ...   \n",
      "99                             0.0   36.111171  ...   \n",
      "100                            0.0   36.111832  ...   \n",
      "101                            0.0   36.109923  ...   \n",
      "102                            0.0   36.109753  ...   \n",
      "103                            0.0   36.109950  ...   \n",
      "\n",
      "     altitude_relative_to_ground_17  latitude_18  longitude_18  \\\n",
      "0                               0.0    36.110660   -115.140983   \n",
      "1                               0.0    36.110548   -115.141190   \n",
      "2                               0.0    36.110686   -115.140910   \n",
      "3                               0.0    36.110981   -115.140853   \n",
      "4                               0.0    36.110958   -115.140852   \n",
      "..                              ...          ...           ...   \n",
      "99                              0.0    36.110664   -115.139467   \n",
      "100                             0.0    36.110961   -115.139489   \n",
      "101                             0.0    36.110592   -115.139721   \n",
      "102                             0.0    36.110775   -115.139442   \n",
      "103                             0.0    36.110582   -115.139943   \n",
      "\n",
      "     altitude_relative_to_ground_18  latitude_19  longitude_19  \\\n",
      "0                               0.0    36.110684   -115.141025   \n",
      "1                               0.0    36.110591   -115.141199   \n",
      "2                               0.0    36.110808   -115.140852   \n",
      "3                               0.0    36.111165   -115.140856   \n",
      "4                               0.0    36.111102   -115.140854   \n",
      "..                              ...          ...           ...   \n",
      "99                              0.0    36.110665   -115.139567   \n",
      "100                             0.0    36.110940   -115.139523   \n",
      "101                             0.0    36.110595   -115.139786   \n",
      "102                             0.0    36.110864   -115.139464   \n",
      "103                             0.0    36.110609   -115.139986   \n",
      "\n",
      "     altitude_relative_to_ground_19  latitude_20  longitude_20  \\\n",
      "0                               0.0    36.110713   -115.141055   \n",
      "1                               0.0    36.110651   -115.141182   \n",
      "2                               0.0    36.111009   -115.140862   \n",
      "3                               0.0    36.111302   -115.140917   \n",
      "4                               0.0    36.111243   -115.140892   \n",
      "..                              ...          ...           ...   \n",
      "99                              0.0    36.110671   -115.139664   \n",
      "100                             0.0    36.110938   -115.139585   \n",
      "101                             0.0    36.110655   -115.139813   \n",
      "102                             0.0    36.110929   -115.139591   \n",
      "103                             0.0    36.110655   -115.139993   \n",
      "\n",
      "     altitude_relative_to_ground_20  \n",
      "0                               0.0  \n",
      "1                               0.0  \n",
      "2                               0.0  \n",
      "3                               0.0  \n",
      "4                               0.0  \n",
      "..                              ...  \n",
      "99                              0.0  \n",
      "100                             0.0  \n",
      "101                             0.0  \n",
      "102                             0.0  \n",
      "103                             0.0  \n",
      "\n",
      "[104 rows x 60 columns]\n",
      "[0 0 0 0 0 0 0 0 0 0 0 0 0 0 0 0 0 0 0 0 1 1 1 1 1 1 1 1 1 0 0 0 0 0 0 1 1\n",
      " 1 1 1 1 1 1 1 1 1 1 1 1 1 1 1 1 1 1 1 1 1 1 1 0 0 0 0 0 0 0 0 0 0 0 0 0 0\n",
      " 0 0 0 0 0 1 1 1 1 1 1 1 1 1 1 1 1 1 1 1 1 1 1 1 1 1 1 1 1 1]\n"
     ]
    }
   ],
   "source": [
    "print(x)\n",
    "print(y)\n"
   ]
  },
  {
   "cell_type": "code",
   "execution_count": 248,
   "outputs": [],
   "source": [
    "x_train, x_test, y_train, y_test = train_test_split(x, y, test_size=0.30, random_state=95)"
   ],
   "metadata": {
    "collapsed": false,
    "pycharm": {
     "name": "#%%\n"
    }
   }
  },
  {
   "cell_type": "code",
   "execution_count": 249,
   "metadata": {
    "pycharm": {
     "name": "#%%\n"
    }
   },
   "outputs": [],
   "source": [
    "# Scale data\n",
    "scaler = MinMaxScaler()\n",
    "\n",
    "x_train = scaler.fit_transform(x_train)\n",
    "\n",
    "x_test = scaler.transform(x_test)"
   ]
  },
  {
   "cell_type": "code",
   "execution_count": 250,
   "metadata": {
    "pycharm": {
     "name": "#%%\n"
    }
   },
   "outputs": [
    {
     "data": {
      "text/plain": "(72, 60)"
     },
     "execution_count": 250,
     "metadata": {},
     "output_type": "execute_result"
    }
   ],
   "source": [
    "x_train.shape"
   ]
  },
  {
   "cell_type": "code",
   "execution_count": 251,
   "metadata": {
    "pycharm": {
     "name": "#%%\n"
    }
   },
   "outputs": [],
   "source": [
    "early_stop = EarlyStopping(monitor='val_loss', mode='min', verbose=1, patience=15)\n",
    "\n",
    "# Model creation\n",
    "model = Sequential()\n",
    "\n",
    "# 6 neurons for input layer\n",
    "model.add(Dense(60, activation='relu'))\n",
    "\n",
    "model.add(Dense(30, activation='relu'))\n",
    "\n",
    "model.add(Dense(15, activation='relu'))\n",
    "\n",
    "# Binary classification\n",
    "model.add(Dense(1, activation='sigmoid'))\n",
    "\n",
    "model.compile(loss='binary_crossentropy',\n",
    "              optimizer='adam')"
   ]
  },
  {
   "cell_type": "code",
   "execution_count": 252,
   "metadata": {
    "pycharm": {
     "name": "#%%\n"
    }
   },
   "outputs": [
    {
     "name": "stdout",
     "output_type": "stream",
     "text": [
      "Epoch 1/300\n",
      "3/3 [==============================] - 1s 59ms/step - loss: 0.7320 - val_loss: 0.6993\b\b\b\b\b\b\b\b\b\b\b\b\b\b\b\b\b\b\b\b\b\b\b\b\b\b\b\b\b\b\b\b\b\b\b\b\b\n",
      "Epoch 2/300\n",
      "3/3 [==============================] - 0s 10ms/step - loss: 0.6902 - val_loss: 0.6969\b\b\b\b\b\b\b\b\b\b\b\b\b\b\b\b\b\b\b\b\b\b\b\b\b\b\b\b\b\b\b\b\b\b\b\b\b\n",
      "Epoch 3/300\n",
      "3/3 [==============================] - 0s 11ms/step - loss: 0.6760 - val_loss: 0.6951\b\b\b\b\b\b\b\b\b\b\b\b\b\b\b\b\b\b\b\b\b\b\b\b\b\b\b\b\b\b\b\b\b\b\b\b\b\n",
      "Epoch 4/300\n",
      "3/3 [==============================] - 0s 10ms/step - loss: 0.6704 - val_loss: 0.6958\b\b\b\b\b\b\b\b\b\b\b\b\b\b\b\b\b\b\b\b\b\b\b\b\b\b\b\b\b\b\b\b\b\b\b\b\b\n",
      "Epoch 5/300\n",
      "3/3 [==============================] - 0s 11ms/step - loss: 0.6648 - val_loss: 0.6945\b\b\b\b\b\b\b\b\b\b\b\b\b\b\b\b\b\b\b\b\b\b\b\b\b\b\b\b\b\b\b\b\b\b\b\b\b\n",
      "Epoch 6/300\n",
      "3/3 [==============================] - 0s 10ms/step - loss: 0.6611 - val_loss: 0.6941\b\b\b\b\b\b\b\b\b\b\b\b\b\b\b\b\b\b\b\b\b\b\b\b\b\b\b\b\b\b\b\b\b\b\b\b\b\n",
      "Epoch 7/300\n",
      "3/3 [==============================] - 0s 10ms/step - loss: 0.6572 - val_loss: 0.6940\b\b\b\b\b\b\b\b\b\b\b\b\b\b\b\b\b\b\b\b\b\b\b\b\b\b\b\b\b\b\b\b\b\b\b\b\b\n",
      "Epoch 8/300\n",
      "3/3 [==============================] - 0s 14ms/step - loss: 0.6543 - val_loss: 0.6965\b\b\b\b\b\b\b\b\b\b\b\b\b\b\b\b\b\b\b\b\b\b\b\b\b\b\b\b\b\b\b\b\b\b\b\b\b\n",
      "Epoch 9/300\n",
      "3/3 [==============================] - 0s 15ms/step - loss: 0.6512 - val_loss: 0.6987\b\b\b\b\b\b\b\b\b\b\b\b\b\b\b\b\b\b\b\b\b\b\b\b\b\b\b\b\b\b\b\b\b\b\b\b\b\n",
      "Epoch 10/300\n",
      "3/3 [==============================] - 0s 9ms/step - loss: 0.6488 - val_loss: 0.6998\b\b\b\b\b\b\b\b\b\b\b\b\b\b\b\b\b\b\b\b\b\b\b\b\b\b\b\b\b\b\b\b\b\b\b\b\b\b\n",
      "Epoch 11/300\n",
      "3/3 [==============================] - 0s 10ms/step - loss: 0.6480 - val_loss: 0.6989\b\b\b\b\b\b\b\b\b\b\b\b\b\b\b\b\b\b\b\b\b\b\b\b\b\b\b\b\b\b\b\b\b\b\b\b\b\n",
      "Epoch 12/300\n",
      "3/3 [==============================] - 0s 8ms/step - loss: 0.6464 - val_loss: 0.6936\b\b\b\b\b\b\b\b\b\b\b\b\b\b\b\b\b\b\b\b\b\b\b\b\b\b\b\b\b\b\b\b\b\b\b\b\b\b\n",
      "Epoch 13/300\n",
      "3/3 [==============================] - 0s 9ms/step - loss: 0.6445 - val_loss: 0.6870\b\b\b\b\b\b\b\b\b\b\b\b\b\b\b\b\b\b\b\b\b\b\b\b\b\b\b\b\b\b\b\b\b\b\b\b\b\b\n",
      "Epoch 14/300\n",
      "3/3 [==============================] - 0s 11ms/step - loss: 0.6440 - val_loss: 0.6857\b\b\b\b\b\b\b\b\b\b\b\b\b\b\b\b\b\b\b\b\b\b\b\b\b\b\b\b\b\b\b\b\b\b\b\b\b\n",
      "Epoch 15/300\n",
      "3/3 [==============================] - 0s 14ms/step - loss: 0.6422 - val_loss: 0.6879\b\b\b\b\b\b\b\b\b\b\b\b\b\b\b\b\b\b\b\b\b\b\b\b\b\b\b\b\b\b\b\b\b\b\b\b\b\n",
      "Epoch 16/300\n",
      "3/3 [==============================] - 0s 9ms/step - loss: 0.6411 - val_loss: 0.6905\b\b\b\b\b\b\b\b\b\b\b\b\b\b\b\b\b\b\b\b\b\b\b\b\b\b\b\b\b\b\b\b\b\b\b\b\b\b\n",
      "Epoch 17/300\n",
      "3/3 [==============================] - 0s 36ms/step - loss: 0.6397 - val_loss: 0.6843\b\b\b\b\b\b\b\b\b\b\b\b\b\b\b\b\b\b\b\b\b\b\b\b\b\b\b\b\b\b\b\b\b\b\b\b\b\n",
      "Epoch 18/300\n",
      "3/3 [==============================] - 0s 19ms/step - loss: 0.6373 - val_loss: 0.6784\b\b\b\b\b\b\b\b\b\b\b\b\b\b\b\b\b\b\b\b\b\b\b\b\b\b\b\b\b\b\b\b\b\b\b\b\b\n",
      "Epoch 19/300\n",
      "3/3 [==============================] - 0s 9ms/step - loss: 0.6373 - val_loss: 0.6691\b\b\b\b\b\b\b\b\b\b\b\b\b\b\b\b\b\b\b\b\b\b\b\b\b\b\b\b\b\b\b\b\b\b\b\b\b\b\n",
      "Epoch 20/300\n",
      "3/3 [==============================] - 0s 9ms/step - loss: 0.6377 - val_loss: 0.6675\b\b\b\b\b\b\b\b\b\b\b\b\b\b\b\b\b\b\b\b\b\b\b\b\b\b\b\b\b\b\b\b\b\b\b\b\b\b\n",
      "Epoch 21/300\n",
      "3/3 [==============================] - 0s 11ms/step - loss: 0.6375 - val_loss: 0.6703\b\b\b\b\b\b\b\b\b\b\b\b\b\b\b\b\b\b\b\b\b\b\b\b\b\b\b\b\b\b\b\b\b\b\b\b\b\n",
      "Epoch 22/300\n",
      "3/3 [==============================] - 0s 13ms/step - loss: 0.6355 - val_loss: 0.6754\b\b\b\b\b\b\b\b\b\b\b\b\b\b\b\b\b\b\b\b\b\b\b\b\b\b\b\b\b\b\b\b\b\b\b\b\b\n",
      "Epoch 23/300\n",
      "3/3 [==============================] - 0s 9ms/step - loss: 0.6354 - val_loss: 0.6828\b\b\b\b\b\b\b\b\b\b\b\b\b\b\b\b\b\b\b\b\b\b\b\b\b\b\b\b\b\b\b\b\b\b\b\b\b\b\n",
      "Epoch 24/300\n",
      "3/3 [==============================] - 0s 19ms/step - loss: 0.6368 - val_loss: 0.6869\b\b\b\b\b\b\b\b\b\b\b\b\b\b\b\b\b\b\b\b\b\b\b\b\b\b\b\b\b\b\b\b\b\b\b\b\b\n",
      "Epoch 25/300\n",
      "3/3 [==============================] - 0s 9ms/step - loss: 0.6345 - val_loss: 0.6814\b\b\b\b\b\b\b\b\b\b\b\b\b\b\b\b\b\b\b\b\b\b\b\b\b\b\b\b\b\b\b\b\b\b\b\b\b\b\n",
      "Epoch 26/300\n",
      "3/3 [==============================] - 0s 9ms/step - loss: 0.6305 - val_loss: 0.6716\b\b\b\b\b\b\b\b\b\b\b\b\b\b\b\b\b\b\b\b\b\b\b\b\b\b\b\b\b\b\b\b\b\b\b\b\b\b\n",
      "Epoch 27/300\n",
      "3/3 [==============================] - 0s 9ms/step - loss: 0.6297 - val_loss: 0.6634\b\b\b\b\b\b\b\b\b\b\b\b\b\b\b\b\b\b\b\b\b\b\b\b\b\b\b\b\b\b\b\b\b\b\b\b\b\b\n",
      "Epoch 28/300\n",
      "3/3 [==============================] - 0s 11ms/step - loss: 0.6297 - val_loss: 0.6625\b\b\b\b\b\b\b\b\b\b\b\b\b\b\b\b\b\b\b\b\b\b\b\b\b\b\b\b\b\b\b\b\b\b\b\b\b\n",
      "Epoch 29/300\n",
      "3/3 [==============================] - 0s 10ms/step - loss: 0.6274 - val_loss: 0.6604\b\b\b\b\b\b\b\b\b\b\b\b\b\b\b\b\b\b\b\b\b\b\b\b\b\b\b\b\b\b\b\b\b\b\b\b\b\n",
      "Epoch 30/300\n",
      "3/3 [==============================] - 0s 10ms/step - loss: 0.6264 - val_loss: 0.6577\b\b\b\b\b\b\b\b\b\b\b\b\b\b\b\b\b\b\b\b\b\b\b\b\b\b\b\b\b\b\b\b\b\b\b\b\b\n",
      "Epoch 31/300\n",
      "3/3 [==============================] - 0s 8ms/step - loss: 0.6266 - val_loss: 0.6551\b\b\b\b\b\b\b\b\b\b\b\b\b\b\b\b\b\b\b\b\b\b\b\b\b\b\b\b\b\b\b\b\b\b\b\b\b\b\n",
      "Epoch 32/300\n",
      "3/3 [==============================] - 0s 9ms/step - loss: 0.6248 - val_loss: 0.6559\b\b\b\b\b\b\b\b\b\b\b\b\b\b\b\b\b\b\b\b\b\b\b\b\b\b\b\b\b\b\b\b\b\b\b\b\b\b\n",
      "Epoch 33/300\n",
      "3/3 [==============================] - 0s 8ms/step - loss: 0.6240 - val_loss: 0.6602\b\b\b\b\b\b\b\b\b\b\b\b\b\b\b\b\b\b\b\b\b\b\b\b\b\b\b\b\b\b\b\b\b\b\b\b\b\b\n",
      "Epoch 34/300\n",
      "3/3 [==============================] - 0s 8ms/step - loss: 0.6230 - val_loss: 0.6635\b\b\b\b\b\b\b\b\b\b\b\b\b\b\b\b\b\b\b\b\b\b\b\b\b\b\b\b\b\b\b\b\b\b\b\b\b\b\n",
      "Epoch 35/300\n",
      "3/3 [==============================] - 0s 8ms/step - loss: 0.6214 - val_loss: 0.6634\b\b\b\b\b\b\b\b\b\b\b\b\b\b\b\b\b\b\b\b\b\b\b\b\b\b\b\b\b\b\b\b\b\b\b\b\b\b\n",
      "Epoch 36/300\n",
      "3/3 [==============================] - 0s 8ms/step - loss: 0.6199 - val_loss: 0.6582\b\b\b\b\b\b\b\b\b\b\b\b\b\b\b\b\b\b\b\b\b\b\b\b\b\b\b\b\b\b\b\b\b\b\b\b\b\b\n",
      "Epoch 37/300\n",
      "3/3 [==============================] - 0s 8ms/step - loss: 0.6182 - val_loss: 0.6505\b\b\b\b\b\b\b\b\b\b\b\b\b\b\b\b\b\b\b\b\b\b\b\b\b\b\b\b\b\b\b\b\b\b\b\b\b\b\n",
      "Epoch 38/300\n",
      "3/3 [==============================] - 0s 8ms/step - loss: 0.6165 - val_loss: 0.6503\b\b\b\b\b\b\b\b\b\b\b\b\b\b\b\b\b\b\b\b\b\b\b\b\b\b\b\b\b\b\b\b\b\b\b\b\b\b\n",
      "Epoch 39/300\n",
      "3/3 [==============================] - 0s 8ms/step - loss: 0.6157 - val_loss: 0.6498\b\b\b\b\b\b\b\b\b\b\b\b\b\b\b\b\b\b\b\b\b\b\b\b\b\b\b\b\b\b\b\b\b\b\b\b\b\b\n",
      "Epoch 40/300\n",
      "3/3 [==============================] - 0s 9ms/step - loss: 0.6146 - val_loss: 0.6462\b\b\b\b\b\b\b\b\b\b\b\b\b\b\b\b\b\b\b\b\b\b\b\b\b\b\b\b\b\b\b\b\b\b\b\b\b\b\n",
      "Epoch 41/300\n",
      "3/3 [==============================] - 0s 19ms/step - loss: 0.6131 - val_loss: 0.6446\b\b\b\b\b\b\b\b\b\b\b\b\b\b\b\b\b\b\b\b\b\b\b\b\b\b\b\b\b\b\b\b\b\b\b\b\b\n",
      "Epoch 42/300\n",
      "3/3 [==============================] - 0s 8ms/step - loss: 0.6112 - val_loss: 0.6443\b\b\b\b\b\b\b\b\b\b\b\b\b\b\b\b\b\b\b\b\b\b\b\b\b\b\b\b\b\b\b\b\b\b\b\b\b\b\n",
      "Epoch 43/300\n",
      "3/3 [==============================] - 0s 8ms/step - loss: 0.6093 - val_loss: 0.6397\b\b\b\b\b\b\b\b\b\b\b\b\b\b\b\b\b\b\b\b\b\b\b\b\b\b\b\b\b\b\b\b\b\b\b\b\b\b\n",
      "Epoch 44/300\n",
      "3/3 [==============================] - 0s 8ms/step - loss: 0.6110 - val_loss: 0.6337\b\b\b\b\b\b\b\b\b\b\b\b\b\b\b\b\b\b\b\b\b\b\b\b\b\b\b\b\b\b\b\b\b\b\b\b\b\b\n",
      "Epoch 45/300\n",
      "3/3 [==============================] - 0s 8ms/step - loss: 0.6118 - val_loss: 0.6317\b\b\b\b\b\b\b\b\b\b\b\b\b\b\b\b\b\b\b\b\b\b\b\b\b\b\b\b\b\b\b\b\b\b\b\b\b\b\n",
      "Epoch 46/300\n",
      "3/3 [==============================] - 0s 8ms/step - loss: 0.6086 - val_loss: 0.6350\b\b\b\b\b\b\b\b\b\b\b\b\b\b\b\b\b\b\b\b\b\b\b\b\b\b\b\b\b\b\b\b\b\b\b\b\b\b\n",
      "Epoch 47/300\n",
      "3/3 [==============================] - 0s 8ms/step - loss: 0.6071 - val_loss: 0.6376\b\b\b\b\b\b\b\b\b\b\b\b\b\b\b\b\b\b\b\b\b\b\b\b\b\b\b\b\b\b\b\b\b\b\b\b\b\b\n",
      "Epoch 48/300\n",
      "3/3 [==============================] - 0s 8ms/step - loss: 0.6023 - val_loss: 0.6279\b\b\b\b\b\b\b\b\b\b\b\b\b\b\b\b\b\b\b\b\b\b\b\b\b\b\b\b\b\b\b\b\b\b\b\b\b\b\n",
      "Epoch 49/300\n",
      "3/3 [==============================] - 0s 12ms/step - loss: 0.5994 - val_loss: 0.6277\b\b\b\b\b\b\b\b\b\b\b\b\b\b\b\b\b\b\b\b\b\b\b\b\b\b\b\b\b\b\b\b\b\b\b\b\b\n",
      "Epoch 50/300\n",
      "3/3 [==============================] - 0s 8ms/step - loss: 0.5991 - val_loss: 0.6288\b\b\b\b\b\b\b\b\b\b\b\b\b\b\b\b\b\b\b\b\b\b\b\b\b\b\b\b\b\b\b\b\b\b\b\b\b\b\n",
      "Epoch 51/300\n",
      "3/3 [==============================] - 0s 8ms/step - loss: 0.5979 - val_loss: 0.6272\b\b\b\b\b\b\b\b\b\b\b\b\b\b\b\b\b\b\b\b\b\b\b\b\b\b\b\b\b\b\b\b\b\b\b\b\b\b\n",
      "Epoch 52/300\n",
      "3/3 [==============================] - 0s 8ms/step - loss: 0.5941 - val_loss: 0.6181\b\b\b\b\b\b\b\b\b\b\b\b\b\b\b\b\b\b\b\b\b\b\b\b\b\b\b\b\b\b\b\b\b\b\b\b\b\b\n",
      "Epoch 53/300\n",
      "3/3 [==============================] - 0s 8ms/step - loss: 0.5901 - val_loss: 0.6151\b\b\b\b\b\b\b\b\b\b\b\b\b\b\b\b\b\b\b\b\b\b\b\b\b\b\b\b\b\b\b\b\b\b\b\b\b\b\n",
      "Epoch 54/300\n",
      "3/3 [==============================] - 0s 8ms/step - loss: 0.5881 - val_loss: 0.6125\b\b\b\b\b\b\b\b\b\b\b\b\b\b\b\b\b\b\b\b\b\b\b\b\b\b\b\b\b\b\b\b\b\b\b\b\b\b\n",
      "Epoch 55/300\n",
      "3/3 [==============================] - 0s 8ms/step - loss: 0.5870 - val_loss: 0.6073\b\b\b\b\b\b\b\b\b\b\b\b\b\b\b\b\b\b\b\b\b\b\b\b\b\b\b\b\b\b\b\b\b\b\b\b\b\b\n",
      "Epoch 56/300\n",
      "3/3 [==============================] - 0s 8ms/step - loss: 0.5842 - val_loss: 0.6019\b\b\b\b\b\b\b\b\b\b\b\b\b\b\b\b\b\b\b\b\b\b\b\b\b\b\b\b\b\b\b\b\b\b\b\b\b\b\n",
      "Epoch 57/300\n",
      "3/3 [==============================] - 0s 8ms/step - loss: 0.5802 - val_loss: 0.5923\b\b\b\b\b\b\b\b\b\b\b\b\b\b\b\b\b\b\b\b\b\b\b\b\b\b\b\b\b\b\b\b\b\b\b\b\b\b\n",
      "Epoch 58/300\n",
      "3/3 [==============================] - 0s 19ms/step - loss: 0.5791 - val_loss: 0.5873\b\b\b\b\b\b\b\b\b\b\b\b\b\b\b\b\b\b\b\b\b\b\b\b\b\b\b\b\b\b\b\b\b\b\b\b\b\n",
      "Epoch 59/300\n",
      "3/3 [==============================] - 0s 17ms/step - loss: 0.5811 - val_loss: 0.5921\b\b\b\b\b\b\b\b\b\b\b\b\b\b\b\b\b\b\b\b\b\b\b\b\b\b\b\b\b\b\b\b\b\b\b\b\b\n",
      "Epoch 60/300\n",
      "3/3 [==============================] - 0s 8ms/step - loss: 0.5788 - val_loss: 0.5924\b\b\b\b\b\b\b\b\b\b\b\b\b\b\b\b\b\b\b\b\b\b\b\b\b\b\b\b\b\b\b\b\b\b\b\b\b\b\n",
      "Epoch 61/300\n",
      "3/3 [==============================] - 0s 8ms/step - loss: 0.5751 - val_loss: 0.5958\b\b\b\b\b\b\b\b\b\b\b\b\b\b\b\b\b\b\b\b\b\b\b\b\b\b\b\b\b\b\b\b\b\b\b\b\b\b\n",
      "Epoch 62/300\n",
      "3/3 [==============================] - 0s 7ms/step - loss: 0.5717 - val_loss: 0.5990\b\b\b\b\b\b\b\b\b\b\b\b\b\b\b\b\b\b\b\b\b\b\b\b\b\b\b\b\b\b\b\b\b\b\b\b\b\b\n",
      "Epoch 63/300\n",
      "3/3 [==============================] - 0s 8ms/step - loss: 0.5708 - val_loss: 0.5923\b\b\b\b\b\b\b\b\b\b\b\b\b\b\b\b\b\b\b\b\b\b\b\b\b\b\b\b\b\b\b\b\b\b\b\b\b\b\n",
      "Epoch 64/300\n",
      "3/3 [==============================] - 0s 8ms/step - loss: 0.5704 - val_loss: 0.5841\b\b\b\b\b\b\b\b\b\b\b\b\b\b\b\b\b\b\b\b\b\b\b\b\b\b\b\b\b\b\b\b\b\b\b\b\b\b\n",
      "Epoch 65/300\n",
      "3/3 [==============================] - 0s 8ms/step - loss: 0.5672 - val_loss: 0.5785\b\b\b\b\b\b\b\b\b\b\b\b\b\b\b\b\b\b\b\b\b\b\b\b\b\b\b\b\b\b\b\b\b\b\b\b\b\b\n",
      "Epoch 66/300\n",
      "3/3 [==============================] - 0s 8ms/step - loss: 0.5647 - val_loss: 0.5633\b\b\b\b\b\b\b\b\b\b\b\b\b\b\b\b\b\b\b\b\b\b\b\b\b\b\b\b\b\b\b\b\b\b\b\b\b\b\n",
      "Epoch 67/300\n",
      "3/3 [==============================] - 0s 8ms/step - loss: 0.5665 - val_loss: 0.5432\b\b\b\b\b\b\b\b\b\b\b\b\b\b\b\b\b\b\b\b\b\b\b\b\b\b\b\b\b\b\b\b\b\b\b\b\b\b\n",
      "Epoch 68/300\n",
      "3/3 [==============================] - 0s 17ms/step - loss: 0.5654 - val_loss: 0.5429\b\b\b\b\b\b\b\b\b\b\b\b\b\b\b\b\b\b\b\b\b\b\b\b\b\b\b\b\b\b\b\b\b\b\b\b\b\n",
      "Epoch 69/300\n",
      "3/3 [==============================] - 0s 9ms/step - loss: 0.5601 - val_loss: 0.5508\b\b\b\b\b\b\b\b\b\b\b\b\b\b\b\b\b\b\b\b\b\b\b\b\b\b\b\b\b\b\b\b\b\b\b\b\b\b\n",
      "Epoch 70/300\n",
      "3/3 [==============================] - 0s 8ms/step - loss: 0.5533 - val_loss: 0.5575\b\b\b\b\b\b\b\b\b\b\b\b\b\b\b\b\b\b\b\b\b\b\b\b\b\b\b\b\b\b\b\b\b\b\b\b\b\b\n",
      "Epoch 71/300\n",
      "3/3 [==============================] - 0s 9ms/step - loss: 0.5516 - val_loss: 0.5726\b\b\b\b\b\b\b\b\b\b\b\b\b\b\b\b\b\b\b\b\b\b\b\b\b\b\b\b\b\b\b\b\b\b\b\b\b\b\n",
      "Epoch 72/300\n",
      "3/3 [==============================] - 0s 8ms/step - loss: 0.5521 - val_loss: 0.5787\b\b\b\b\b\b\b\b\b\b\b\b\b\b\b\b\b\b\b\b\b\b\b\b\b\b\b\b\b\b\b\b\b\b\b\b\b\b\n",
      "Epoch 73/300\n",
      "3/3 [==============================] - 0s 8ms/step - loss: 0.5510 - val_loss: 0.5683\b\b\b\b\b\b\b\b\b\b\b\b\b\b\b\b\b\b\b\b\b\b\b\b\b\b\b\b\b\b\b\b\b\b\b\b\b\b\n",
      "Epoch 74/300\n",
      "3/3 [==============================] - 0s 8ms/step - loss: 0.5469 - val_loss: 0.5550\b\b\b\b\b\b\b\b\b\b\b\b\b\b\b\b\b\b\b\b\b\b\b\b\b\b\b\b\b\b\b\b\b\b\b\b\b\b\n",
      "Epoch 75/300\n",
      "3/3 [==============================] - 0s 8ms/step - loss: 0.5448 - val_loss: 0.5419\b\b\b\b\b\b\b\b\b\b\b\b\b\b\b\b\b\b\b\b\b\b\b\b\b\b\b\b\b\b\b\b\b\b\b\b\b\b\n",
      "Epoch 76/300\n",
      "3/3 [==============================] - 0s 8ms/step - loss: 0.5405 - val_loss: 0.5349\b\b\b\b\b\b\b\b\b\b\b\b\b\b\b\b\b\b\b\b\b\b\b\b\b\b\b\b\b\b\b\b\b\b\b\b\b\b\n",
      "Epoch 77/300\n",
      "3/3 [==============================] - 0s 12ms/step - loss: 0.5401 - val_loss: 0.5313\b\b\b\b\b\b\b\b\b\b\b\b\b\b\b\b\b\b\b\b\b\b\b\b\b\b\b\b\b\b\b\b\b\b\b\b\b\n",
      "Epoch 78/300\n",
      "3/3 [==============================] - 0s 12ms/step - loss: 0.5403 - val_loss: 0.5301\b\b\b\b\b\b\b\b\b\b\b\b\b\b\b\b\b\b\b\b\b\b\b\b\b\b\b\b\b\b\b\b\b\b\b\b\b\n",
      "Epoch 79/300\n",
      "3/3 [==============================] - 0s 8ms/step - loss: 0.5382 - val_loss: 0.5252\b\b\b\b\b\b\b\b\b\b\b\b\b\b\b\b\b\b\b\b\b\b\b\b\b\b\b\b\b\b\b\b\b\b\b\b\b\b\n",
      "Epoch 80/300\n",
      "3/3 [==============================] - 0s 9ms/step - loss: 0.5355 - val_loss: 0.5438\b\b\b\b\b\b\b\b\b\b\b\b\b\b\b\b\b\b\b\b\b\b\b\b\b\b\b\b\b\b\b\b\b\b\b\b\b\b\n",
      "Epoch 81/300\n",
      "3/3 [==============================] - 0s 7ms/step - loss: 0.5339 - val_loss: 0.5450\b\b\b\b\b\b\b\b\b\b\b\b\b\b\b\b\b\b\b\b\b\b\b\b\b\b\b\b\b\b\b\b\b\b\b\b\b\b\n",
      "Epoch 82/300\n",
      "3/3 [==============================] - 0s 8ms/step - loss: 0.5345 - val_loss: 0.5388\b\b\b\b\b\b\b\b\b\b\b\b\b\b\b\b\b\b\b\b\b\b\b\b\b\b\b\b\b\b\b\b\b\b\b\b\b\b\n",
      "Epoch 83/300\n",
      "3/3 [==============================] - 0s 9ms/step - loss: 0.5291 - val_loss: 0.5147\b\b\b\b\b\b\b\b\b\b\b\b\b\b\b\b\b\b\b\b\b\b\b\b\b\b\b\b\b\b\b\b\b\b\b\b\b\b\n",
      "Epoch 84/300\n",
      "3/3 [==============================] - 0s 8ms/step - loss: 0.5235 - val_loss: 0.4911\b\b\b\b\b\b\b\b\b\b\b\b\b\b\b\b\b\b\b\b\b\b\b\b\b\b\b\b\b\b\b\b\b\b\b\b\b\b\n",
      "Epoch 85/300\n",
      "3/3 [==============================] - 0s 8ms/step - loss: 0.5212 - val_loss: 0.4858\b\b\b\b\b\b\b\b\b\b\b\b\b\b\b\b\b\b\b\b\b\b\b\b\b\b\b\b\b\b\b\b\b\b\b\b\b\b\n",
      "Epoch 86/300\n",
      "3/3 [==============================] - 0s 8ms/step - loss: 0.5201 - val_loss: 0.4877\b\b\b\b\b\b\b\b\b\b\b\b\b\b\b\b\b\b\b\b\b\b\b\b\b\b\b\b\b\b\b\b\b\b\b\b\b\b\n",
      "Epoch 87/300\n",
      "3/3 [==============================] - 0s 8ms/step - loss: 0.5165 - val_loss: 0.5076\b\b\b\b\b\b\b\b\b\b\b\b\b\b\b\b\b\b\b\b\b\b\b\b\b\b\b\b\b\b\b\b\b\b\b\b\b\b\n",
      "Epoch 88/300\n",
      "3/3 [==============================] - 0s 15ms/step - loss: 0.5266 - val_loss: 0.5325\b\b\b\b\b\b\b\b\b\b\b\b\b\b\b\b\b\b\b\b\b\b\b\b\b\b\b\b\b\b\b\b\b\b\b\b\b\n",
      "Epoch 89/300\n",
      "3/3 [==============================] - 0s 9ms/step - loss: 0.5231 - val_loss: 0.5050\b\b\b\b\b\b\b\b\b\b\b\b\b\b\b\b\b\b\b\b\b\b\b\b\b\b\b\b\b\b\b\b\b\b\b\b\b\b\n",
      "Epoch 90/300\n",
      "3/3 [==============================] - 0s 8ms/step - loss: 0.5137 - val_loss: 0.4839\b\b\b\b\b\b\b\b\b\b\b\b\b\b\b\b\b\b\b\b\b\b\b\b\b\b\b\b\b\b\b\b\b\b\b\b\b\b\n",
      "Epoch 91/300\n",
      "3/3 [==============================] - 0s 8ms/step - loss: 0.5110 - val_loss: 0.4731\b\b\b\b\b\b\b\b\b\b\b\b\b\b\b\b\b\b\b\b\b\b\b\b\b\b\b\b\b\b\b\b\b\b\b\b\b\b\n",
      "Epoch 92/300\n",
      "3/3 [==============================] - 0s 8ms/step - loss: 0.5149 - val_loss: 0.4656\b\b\b\b\b\b\b\b\b\b\b\b\b\b\b\b\b\b\b\b\b\b\b\b\b\b\b\b\b\b\b\b\b\b\b\b\b\b\n",
      "Epoch 93/300\n",
      "3/3 [==============================] - 0s 8ms/step - loss: 0.5195 - val_loss: 0.4624\b\b\b\b\b\b\b\b\b\b\b\b\b\b\b\b\b\b\b\b\b\b\b\b\b\b\b\b\b\b\b\b\b\b\b\b\b\b\n",
      "Epoch 94/300\n",
      "3/3 [==============================] - 0s 8ms/step - loss: 0.5078 - val_loss: 0.4637\b\b\b\b\b\b\b\b\b\b\b\b\b\b\b\b\b\b\b\b\b\b\b\b\b\b\b\b\b\b\b\b\b\b\b\b\b\b\n",
      "Epoch 95/300\n",
      "3/3 [==============================] - 0s 9ms/step - loss: 0.5065 - val_loss: 0.4703\b\b\b\b\b\b\b\b\b\b\b\b\b\b\b\b\b\b\b\b\b\b\b\b\b\b\b\b\b\b\b\b\b\b\b\b\b\b\n",
      "Epoch 96/300\n",
      "3/3 [==============================] - 0s 9ms/step - loss: 0.5070 - val_loss: 0.4822\b\b\b\b\b\b\b\b\b\b\b\b\b\b\b\b\b\b\b\b\b\b\b\b\b\b\b\b\b\b\b\b\b\b\b\b\b\b\n",
      "Epoch 97/300\n",
      "3/3 [==============================] - 0s 9ms/step - loss: 0.5012 - val_loss: 0.4714\b\b\b\b\b\b\b\b\b\b\b\b\b\b\b\b\b\b\b\b\b\b\b\b\b\b\b\b\b\b\b\b\b\b\b\b\b\b\n",
      "Epoch 98/300\n",
      "3/3 [==============================] - 0s 8ms/step - loss: 0.4992 - val_loss: 0.4656\b\b\b\b\b\b\b\b\b\b\b\b\b\b\b\b\b\b\b\b\b\b\b\b\b\b\b\b\b\b\b\b\b\b\b\b\b\b\n",
      "Epoch 99/300\n",
      "3/3 [==============================] - 0s 10ms/step - loss: 0.4989 - val_loss: 0.4749\b\b\b\b\b\b\b\b\b\b\b\b\b\b\b\b\b\b\b\b\b\b\b\b\b\b\b\b\b\b\b\b\b\b\b\b\b\n",
      "Epoch 100/300\n",
      "3/3 [==============================] - 0s 9ms/step - loss: 0.5000 - val_loss: 0.4802\b\b\b\b\b\b\b\b\b\b\b\b\b\b\b\b\b\b\b\b\b\b\b\b\b\b\b\b\b\b\b\b\b\b\b\b\b\b\n",
      "Epoch 101/300\n",
      "3/3 [==============================] - 0s 10ms/step - loss: 0.4915 - val_loss: 0.4784\b\b\b\b\b\b\b\b\b\b\b\b\b\b\b\b\b\b\b\b\b\b\b\b\b\b\b\b\b\b\b\b\b\b\b\b\b\n",
      "Epoch 102/300\n",
      "3/3 [==============================] - 0s 8ms/step - loss: 0.4928 - val_loss: 0.4684\b\b\b\b\b\b\b\b\b\b\b\b\b\b\b\b\b\b\b\b\b\b\b\b\b\b\b\b\b\b\b\b\b\b\b\b\b\b\n",
      "Epoch 103/300\n",
      "3/3 [==============================] - 0s 9ms/step - loss: 0.4875 - val_loss: 0.4583\b\b\b\b\b\b\b\b\b\b\b\b\b\b\b\b\b\b\b\b\b\b\b\b\b\b\b\b\b\b\b\b\b\b\b\b\b\b\n",
      "Epoch 104/300\n",
      "3/3 [==============================] - 0s 9ms/step - loss: 0.4821 - val_loss: 0.4552\b\b\b\b\b\b\b\b\b\b\b\b\b\b\b\b\b\b\b\b\b\b\b\b\b\b\b\b\b\b\b\b\b\b\b\b\b\b\n",
      "Epoch 105/300\n",
      "3/3 [==============================] - 0s 8ms/step - loss: 0.4808 - val_loss: 0.4493\b\b\b\b\b\b\b\b\b\b\b\b\b\b\b\b\b\b\b\b\b\b\b\b\b\b\b\b\b\b\b\b\b\b\b\b\b\b\n",
      "Epoch 106/300\n",
      "3/3 [==============================] - 0s 9ms/step - loss: 0.4852 - val_loss: 0.4440\b\b\b\b\b\b\b\b\b\b\b\b\b\b\b\b\b\b\b\b\b\b\b\b\b\b\b\b\b\b\b\b\b\b\b\b\b\b\n",
      "Epoch 107/300\n",
      "3/3 [==============================] - 0s 8ms/step - loss: 0.4791 - val_loss: 0.4452\b\b\b\b\b\b\b\b\b\b\b\b\b\b\b\b\b\b\b\b\b\b\b\b\b\b\b\b\b\b\b\b\b\b\b\b\b\b\n",
      "Epoch 108/300\n",
      "3/3 [==============================] - 0s 9ms/step - loss: 0.4771 - val_loss: 0.4468\b\b\b\b\b\b\b\b\b\b\b\b\b\b\b\b\b\b\b\b\b\b\b\b\b\b\b\b\b\b\b\b\b\b\b\b\b\b\n",
      "Epoch 109/300\n",
      "3/3 [==============================] - 0s 8ms/step - loss: 0.4803 - val_loss: 0.4505\b\b\b\b\b\b\b\b\b\b\b\b\b\b\b\b\b\b\b\b\b\b\b\b\b\b\b\b\b\b\b\b\b\b\b\b\b\b\n",
      "Epoch 110/300\n",
      "3/3 [==============================] - 0s 8ms/step - loss: 0.4793 - val_loss: 0.4295\b\b\b\b\b\b\b\b\b\b\b\b\b\b\b\b\b\b\b\b\b\b\b\b\b\b\b\b\b\b\b\b\b\b\b\b\b\b\n",
      "Epoch 111/300\n",
      "3/3 [==============================] - 0s 8ms/step - loss: 0.4650 - val_loss: 0.4282\b\b\b\b\b\b\b\b\b\b\b\b\b\b\b\b\b\b\b\b\b\b\b\b\b\b\b\b\b\b\b\b\b\b\b\b\b\b\n",
      "Epoch 112/300\n",
      "3/3 [==============================] - 0s 8ms/step - loss: 0.4795 - val_loss: 0.4461\b\b\b\b\b\b\b\b\b\b\b\b\b\b\b\b\b\b\b\b\b\b\b\b\b\b\b\b\b\b\b\b\b\b\b\b\b\b\n",
      "Epoch 113/300\n",
      "3/3 [==============================] - 0s 8ms/step - loss: 0.4890 - val_loss: 0.4217\b\b\b\b\b\b\b\b\b\b\b\b\b\b\b\b\b\b\b\b\b\b\b\b\b\b\b\b\b\b\b\b\b\b\b\b\b\b\n",
      "Epoch 114/300\n",
      "3/3 [==============================] - 0s 8ms/step - loss: 0.4593 - val_loss: 0.4282\b\b\b\b\b\b\b\b\b\b\b\b\b\b\b\b\b\b\b\b\b\b\b\b\b\b\b\b\b\b\b\b\b\b\b\b\b\b\n",
      "Epoch 115/300\n",
      "3/3 [==============================] - 0s 8ms/step - loss: 0.4784 - val_loss: 0.4329\b\b\b\b\b\b\b\b\b\b\b\b\b\b\b\b\b\b\b\b\b\b\b\b\b\b\b\b\b\b\b\b\b\b\b\b\b\b\n",
      "Epoch 116/300\n",
      "3/3 [==============================] - 0s 8ms/step - loss: 0.4706 - val_loss: 0.4147\b\b\b\b\b\b\b\b\b\b\b\b\b\b\b\b\b\b\b\b\b\b\b\b\b\b\b\b\b\b\b\b\b\b\b\b\b\b\n",
      "Epoch 117/300\n",
      "3/3 [==============================] - 0s 10ms/step - loss: 0.4629 - val_loss: 0.4135\b\b\b\b\b\b\b\b\b\b\b\b\b\b\b\b\b\b\b\b\b\b\b\b\b\b\b\b\b\b\b\b\b\b\b\b\b\n",
      "Epoch 118/300\n",
      "3/3 [==============================] - 0s 12ms/step - loss: 0.4694 - val_loss: 0.4212\b\b\b\b\b\b\b\b\b\b\b\b\b\b\b\b\b\b\b\b\b\b\b\b\b\b\b\b\b\b\b\b\b\b\b\b\b\n",
      "Epoch 119/300\n",
      "3/3 [==============================] - 0s 9ms/step - loss: 0.4645 - val_loss: 0.4308\b\b\b\b\b\b\b\b\b\b\b\b\b\b\b\b\b\b\b\b\b\b\b\b\b\b\b\b\b\b\b\b\b\b\b\b\b\b\n",
      "Epoch 120/300\n",
      "3/3 [==============================] - 0s 8ms/step - loss: 0.4574 - val_loss: 0.4443\b\b\b\b\b\b\b\b\b\b\b\b\b\b\b\b\b\b\b\b\b\b\b\b\b\b\b\b\b\b\b\b\b\b\b\b\b\b\n",
      "Epoch 121/300\n",
      "3/3 [==============================] - 0s 8ms/step - loss: 0.4600 - val_loss: 0.4480\b\b\b\b\b\b\b\b\b\b\b\b\b\b\b\b\b\b\b\b\b\b\b\b\b\b\b\b\b\b\b\b\b\b\b\b\b\b\n",
      "Epoch 122/300\n",
      "3/3 [==============================] - 0s 9ms/step - loss: 0.4728 - val_loss: 0.4791\b\b\b\b\b\b\b\b\b\b\b\b\b\b\b\b\b\b\b\b\b\b\b\b\b\b\b\b\b\b\b\b\b\b\b\b\b\b\n",
      "Epoch 123/300\n",
      "3/3 [==============================] - 0s 9ms/step - loss: 0.4855 - val_loss: 0.4538\b\b\b\b\b\b\b\b\b\b\b\b\b\b\b\b\b\b\b\b\b\b\b\b\b\b\b\b\b\b\b\b\b\b\b\b\b\b\n",
      "Epoch 124/300\n",
      "3/3 [==============================] - 0s 8ms/step - loss: 0.4597 - val_loss: 0.4312\b\b\b\b\b\b\b\b\b\b\b\b\b\b\b\b\b\b\b\b\b\b\b\b\b\b\b\b\b\b\b\b\b\b\b\b\b\b\n",
      "Epoch 125/300\n",
      "3/3 [==============================] - 0s 8ms/step - loss: 0.4561 - val_loss: 0.4319\b\b\b\b\b\b\b\b\b\b\b\b\b\b\b\b\b\b\b\b\b\b\b\b\b\b\b\b\b\b\b\b\b\b\b\b\b\b\n",
      "Epoch 126/300\n",
      "3/3 [==============================] - 0s 11ms/step - loss: 0.4481 - val_loss: 0.4136\b\b\b\b\b\b\b\b\b\b\b\b\b\b\b\b\b\b\b\b\b\b\b\b\b\b\b\b\b\b\b\b\b\b\b\b\b\n",
      "Epoch 127/300\n",
      "3/3 [==============================] - 0s 10ms/step - loss: 0.4366 - val_loss: 0.4036\b\b\b\b\b\b\b\b\b\b\b\b\b\b\b\b\b\b\b\b\b\b\b\b\b\b\b\b\b\b\b\b\b\b\b\b\b\n",
      "Epoch 128/300\n",
      "3/3 [==============================] - 0s 9ms/step - loss: 0.4377 - val_loss: 0.4024\b\b\b\b\b\b\b\b\b\b\b\b\b\b\b\b\b\b\b\b\b\b\b\b\b\b\b\b\b\b\b\b\b\b\b\b\b\b\n",
      "Epoch 129/300\n",
      "3/3 [==============================] - 0s 8ms/step - loss: 0.4364 - val_loss: 0.4050\b\b\b\b\b\b\b\b\b\b\b\b\b\b\b\b\b\b\b\b\b\b\b\b\b\b\b\b\b\b\b\b\b\b\b\b\b\b\n",
      "Epoch 130/300\n",
      "3/3 [==============================] - 0s 10ms/step - loss: 0.4397 - val_loss: 0.4161\b\b\b\b\b\b\b\b\b\b\b\b\b\b\b\b\b\b\b\b\b\b\b\b\b\b\b\b\b\b\b\b\b\b\b\b\b\n",
      "Epoch 131/300\n",
      "3/3 [==============================] - 0s 9ms/step - loss: 0.4355 - val_loss: 0.4182\b\b\b\b\b\b\b\b\b\b\b\b\b\b\b\b\b\b\b\b\b\b\b\b\b\b\b\b\b\b\b\b\b\b\b\b\b\b\n",
      "Epoch 132/300\n",
      "3/3 [==============================] - 0s 8ms/step - loss: 0.4351 - val_loss: 0.4165\b\b\b\b\b\b\b\b\b\b\b\b\b\b\b\b\b\b\b\b\b\b\b\b\b\b\b\b\b\b\b\b\b\b\b\b\b\b\n",
      "Epoch 133/300\n",
      "3/3 [==============================] - 0s 9ms/step - loss: 0.4331 - val_loss: 0.4182\b\b\b\b\b\b\b\b\b\b\b\b\b\b\b\b\b\b\b\b\b\b\b\b\b\b\b\b\b\b\b\b\b\b\b\b\b\b\n",
      "Epoch 134/300\n",
      "3/3 [==============================] - 0s 18ms/step - loss: 0.4255 - val_loss: 0.4161\b\b\b\b\b\b\b\b\b\b\b\b\b\b\b\b\b\b\b\b\b\b\b\b\b\b\b\b\b\b\b\b\b\b\b\b\b\n",
      "Epoch 135/300\n",
      "3/3 [==============================] - 0s 9ms/step - loss: 0.4199 - val_loss: 0.4126\b\b\b\b\b\b\b\b\b\b\b\b\b\b\b\b\b\b\b\b\b\b\b\b\b\b\b\b\b\b\b\b\b\b\b\b\b\b\n",
      "Epoch 136/300\n",
      "3/3 [==============================] - 0s 11ms/step - loss: 0.4170 - val_loss: 0.4083\b\b\b\b\b\b\b\b\b\b\b\b\b\b\b\b\b\b\b\b\b\b\b\b\b\b\b\b\b\b\b\b\b\b\b\b\b\n",
      "Epoch 137/300\n",
      "3/3 [==============================] - 0s 19ms/step - loss: 0.4140 - val_loss: 0.4095\b\b\b\b\b\b\b\b\b\b\b\b\b\b\b\b\b\b\b\b\b\b\b\b\b\b\b\b\b\b\b\b\b\b\b\b\b\n",
      "Epoch 138/300\n",
      "3/3 [==============================] - 0s 9ms/step - loss: 0.4234 - val_loss: 0.4123\b\b\b\b\b\b\b\b\b\b\b\b\b\b\b\b\b\b\b\b\b\b\b\b\b\b\b\b\b\b\b\b\b\b\b\b\b\b\n",
      "Epoch 139/300\n",
      "3/3 [==============================] - 0s 8ms/step - loss: 0.4223 - val_loss: 0.3988\b\b\b\b\b\b\b\b\b\b\b\b\b\b\b\b\b\b\b\b\b\b\b\b\b\b\b\b\b\b\b\b\b\b\b\b\b\b\n",
      "Epoch 140/300\n",
      "3/3 [==============================] - 0s 11ms/step - loss: 0.4093 - val_loss: 0.4028\b\b\b\b\b\b\b\b\b\b\b\b\b\b\b\b\b\b\b\b\b\b\b\b\b\b\b\b\b\b\b\b\b\b\b\b\b\n",
      "Epoch 141/300\n",
      "3/3 [==============================] - 0s 9ms/step - loss: 0.4124 - val_loss: 0.4062\b\b\b\b\b\b\b\b\b\b\b\b\b\b\b\b\b\b\b\b\b\b\b\b\b\b\b\b\b\b\b\b\b\b\b\b\b\b\n",
      "Epoch 142/300\n",
      "3/3 [==============================] - 0s 9ms/step - loss: 0.4087 - val_loss: 0.4005\b\b\b\b\b\b\b\b\b\b\b\b\b\b\b\b\b\b\b\b\b\b\b\b\b\b\b\b\b\b\b\b\b\b\b\b\b\b\n",
      "Epoch 143/300\n",
      "3/3 [==============================] - 0s 17ms/step - loss: 0.3986 - val_loss: 0.4168\b\b\b\b\b\b\b\b\b\b\b\b\b\b\b\b\b\b\b\b\b\b\b\b\b\b\b\b\b\b\b\b\b\b\b\b\b\n",
      "Epoch 144/300\n",
      "3/3 [==============================] - 0s 10ms/step - loss: 0.4164 - val_loss: 0.4218\b\b\b\b\b\b\b\b\b\b\b\b\b\b\b\b\b\b\b\b\b\b\b\b\b\b\b\b\b\b\b\b\b\b\b\b\b\n",
      "Epoch 145/300\n",
      "3/3 [==============================] - 0s 8ms/step - loss: 0.4094 - val_loss: 0.4045\b\b\b\b\b\b\b\b\b\b\b\b\b\b\b\b\b\b\b\b\b\b\b\b\b\b\b\b\b\b\b\b\b\b\b\b\b\b\n",
      "Epoch 146/300\n",
      "3/3 [==============================] - 0s 9ms/step - loss: 0.4001 - val_loss: 0.4064\b\b\b\b\b\b\b\b\b\b\b\b\b\b\b\b\b\b\b\b\b\b\b\b\b\b\b\b\b\b\b\b\b\b\b\b\b\b\n",
      "Epoch 147/300\n",
      "3/3 [==============================] - 0s 8ms/step - loss: 0.3974 - val_loss: 0.3976\b\b\b\b\b\b\b\b\b\b\b\b\b\b\b\b\b\b\b\b\b\b\b\b\b\b\b\b\b\b\b\b\b\b\b\b\b\b\n",
      "Epoch 148/300\n",
      "3/3 [==============================] - 0s 8ms/step - loss: 0.3891 - val_loss: 0.3971\b\b\b\b\b\b\b\b\b\b\b\b\b\b\b\b\b\b\b\b\b\b\b\b\b\b\b\b\b\b\b\b\b\b\b\b\b\b\n",
      "Epoch 149/300\n",
      "3/3 [==============================] - 0s 8ms/step - loss: 0.3926 - val_loss: 0.3996\b\b\b\b\b\b\b\b\b\b\b\b\b\b\b\b\b\b\b\b\b\b\b\b\b\b\b\b\b\b\b\b\b\b\b\b\b\b\n",
      "Epoch 150/300\n",
      "3/3 [==============================] - 0s 8ms/step - loss: 0.3870 - val_loss: 0.3978\b\b\b\b\b\b\b\b\b\b\b\b\b\b\b\b\b\b\b\b\b\b\b\b\b\b\b\b\b\b\b\b\b\b\b\b\b\b\n",
      "Epoch 151/300\n",
      "3/3 [==============================] - 0s 8ms/step - loss: 0.3978 - val_loss: 0.4212\b\b\b\b\b\b\b\b\b\b\b\b\b\b\b\b\b\b\b\b\b\b\b\b\b\b\b\b\b\b\b\b\b\b\b\b\b\b\n",
      "Epoch 152/300\n",
      "3/3 [==============================] - 0s 8ms/step - loss: 0.3965 - val_loss: 0.4039\b\b\b\b\b\b\b\b\b\b\b\b\b\b\b\b\b\b\b\b\b\b\b\b\b\b\b\b\b\b\b\b\b\b\b\b\b\b\n",
      "Epoch 153/300\n",
      "3/3 [==============================] - 0s 9ms/step - loss: 0.3796 - val_loss: 0.3991\b\b\b\b\b\b\b\b\b\b\b\b\b\b\b\b\b\b\b\b\b\b\b\b\b\b\b\b\b\b\b\b\b\b\b\b\b\b\n",
      "Epoch 154/300\n",
      "3/3 [==============================] - 0s 10ms/step - loss: 0.3813 - val_loss: 0.4108\b\b\b\b\b\b\b\b\b\b\b\b\b\b\b\b\b\b\b\b\b\b\b\b\b\b\b\b\b\b\b\b\b\b\b\b\b\n",
      "Epoch 155/300\n",
      "3/3 [==============================] - 0s 8ms/step - loss: 0.3808 - val_loss: 0.4111\b\b\b\b\b\b\b\b\b\b\b\b\b\b\b\b\b\b\b\b\b\b\b\b\b\b\b\b\b\b\b\b\b\b\b\b\b\b\n",
      "Epoch 156/300\n",
      "3/3 [==============================] - 0s 10ms/step - loss: 0.3781 - val_loss: 0.4039\b\b\b\b\b\b\b\b\b\b\b\b\b\b\b\b\b\b\b\b\b\b\b\b\b\b\b\b\b\b\b\b\b\b\b\b\b\n",
      "Epoch 157/300\n",
      "3/3 [==============================] - 0s 9ms/step - loss: 0.3710 - val_loss: 0.4060\b\b\b\b\b\b\b\b\b\b\b\b\b\b\b\b\b\b\b\b\b\b\b\b\b\b\b\b\b\b\b\b\b\b\b\b\b\b\n",
      "Epoch 158/300\n",
      "3/3 [==============================] - 0s 8ms/step - loss: 0.3792 - val_loss: 0.4105\b\b\b\b\b\b\b\b\b\b\b\b\b\b\b\b\b\b\b\b\b\b\b\b\b\b\b\b\b\b\b\b\b\b\b\b\b\b\n",
      "Epoch 159/300\n",
      "3/3 [==============================] - 0s 8ms/step - loss: 0.3837 - val_loss: 0.3963\b\b\b\b\b\b\b\b\b\b\b\b\b\b\b\b\b\b\b\b\b\b\b\b\b\b\b\b\b\b\b\b\b\b\b\b\b\b\n",
      "Epoch 160/300\n",
      "3/3 [==============================] - 0s 9ms/step - loss: 0.3678 - val_loss: 0.4012\b\b\b\b\b\b\b\b\b\b\b\b\b\b\b\b\b\b\b\b\b\b\b\b\b\b\b\b\b\b\b\b\b\b\b\b\b\b\n",
      "Epoch 161/300\n",
      "3/3 [==============================] - 0s 8ms/step - loss: 0.3703 - val_loss: 0.4144\b\b\b\b\b\b\b\b\b\b\b\b\b\b\b\b\b\b\b\b\b\b\b\b\b\b\b\b\b\b\b\b\b\b\b\b\b\b\n",
      "Epoch 162/300\n",
      "3/3 [==============================] - 0s 8ms/step - loss: 0.3728 - val_loss: 0.4195\b\b\b\b\b\b\b\b\b\b\b\b\b\b\b\b\b\b\b\b\b\b\b\b\b\b\b\b\b\b\b\b\b\b\b\b\b\b\n",
      "Epoch 163/300\n",
      "3/3 [==============================] - 0s 9ms/step - loss: 0.3756 - val_loss: 0.4090\b\b\b\b\b\b\b\b\b\b\b\b\b\b\b\b\b\b\b\b\b\b\b\b\b\b\b\b\b\b\b\b\b\b\b\b\b\b\n",
      "Epoch 164/300\n",
      "3/3 [==============================] - 0s 8ms/step - loss: 0.3536 - val_loss: 0.3991\b\b\b\b\b\b\b\b\b\b\b\b\b\b\b\b\b\b\b\b\b\b\b\b\b\b\b\b\b\b\b\b\b\b\b\b\b\b\n",
      "Epoch 165/300\n",
      "3/3 [==============================] - 0s 18ms/step - loss: 0.3725 - val_loss: 0.4075\b\b\b\b\b\b\b\b\b\b\b\b\b\b\b\b\b\b\b\b\b\b\b\b\b\b\b\b\b\b\b\b\b\b\b\b\b\n",
      "Epoch 166/300\n",
      "3/3 [==============================] - 0s 8ms/step - loss: 0.3757 - val_loss: 0.3999\b\b\b\b\b\b\b\b\b\b\b\b\b\b\b\b\b\b\b\b\b\b\b\b\b\b\b\b\b\b\b\b\b\b\b\b\b\b\n",
      "Epoch 167/300\n",
      "3/3 [==============================] - 0s 8ms/step - loss: 0.3633 - val_loss: 0.4069\b\b\b\b\b\b\b\b\b\b\b\b\b\b\b\b\b\b\b\b\b\b\b\b\b\b\b\b\b\b\b\b\b\b\b\b\b\b\n",
      "Epoch 168/300\n",
      "3/3 [==============================] - 0s 8ms/step - loss: 0.3613 - val_loss: 0.4062\b\b\b\b\b\b\b\b\b\b\b\b\b\b\b\b\b\b\b\b\b\b\b\b\b\b\b\b\b\b\b\b\b\b\b\b\b\b\n",
      "Epoch 169/300\n",
      "3/3 [==============================] - 0s 8ms/step - loss: 0.3515 - val_loss: 0.4044\b\b\b\b\b\b\b\b\b\b\b\b\b\b\b\b\b\b\b\b\b\b\b\b\b\b\b\b\b\b\b\b\b\b\b\b\b\b\n",
      "Epoch 170/300\n",
      "3/3 [==============================] - 0s 8ms/step - loss: 0.3581 - val_loss: 0.4041\b\b\b\b\b\b\b\b\b\b\b\b\b\b\b\b\b\b\b\b\b\b\b\b\b\b\b\b\b\b\b\b\b\b\b\b\b\b\n",
      "Epoch 171/300\n",
      "3/3 [==============================] - 0s 8ms/step - loss: 0.3459 - val_loss: 0.4033\b\b\b\b\b\b\b\b\b\b\b\b\b\b\b\b\b\b\b\b\b\b\b\b\b\b\b\b\b\b\b\b\b\b\b\b\b\b\n",
      "Epoch 172/300\n",
      "3/3 [==============================] - 0s 8ms/step - loss: 0.3424 - val_loss: 0.4166\b\b\b\b\b\b\b\b\b\b\b\b\b\b\b\b\b\b\b\b\b\b\b\b\b\b\b\b\b\b\b\b\b\b\b\b\b\b\n",
      "Epoch 173/300\n",
      "3/3 [==============================] - 0s 10ms/step - loss: 0.3532 - val_loss: 0.4032\b\b\b\b\b\b\b\b\b\b\b\b\b\b\b\b\b\b\b\b\b\b\b\b\b\b\b\b\b\b\b\b\b\b\b\b\b\n",
      "Epoch 174/300\n",
      "3/3 [==============================] - 0s 11ms/step - loss: 0.3498 - val_loss: 0.4044\b\b\b\b\b\b\b\b\b\b\b\b\b\b\b\b\b\b\b\b\b\b\b\b\b\b\b\b\b\b\b\b\b\b\b\b\b\n",
      "Epoch 00174: early stopping\n"
     ]
    },
    {
     "data": {
      "text/plain": "<tensorflow.python.keras.callbacks.History at 0x7fbf02b90700>"
     },
     "execution_count": 252,
     "metadata": {},
     "output_type": "execute_result"
    }
   ],
   "source": [
    "model.fit(x=x_train,\n",
    "          y=y_train,\n",
    "          epochs=300,\n",
    "          validation_data=(x_test, y_test),\n",
    "          callbacks=early_stop)"
   ]
  },
  {
   "cell_type": "code",
   "execution_count": 253,
   "metadata": {
    "pycharm": {
     "name": "#%%\n"
    }
   },
   "outputs": [],
   "source": [
    "losses = pd.DataFrame(model.history.history)"
   ]
  },
  {
   "cell_type": "code",
   "execution_count": 254,
   "metadata": {
    "pycharm": {
     "name": "#%%\n"
    }
   },
   "outputs": [
    {
     "data": {
      "text/plain": "<AxesSubplot:>"
     },
     "execution_count": 254,
     "metadata": {},
     "output_type": "execute_result"
    },
    {
     "data": {
      "text/plain": "<Figure size 432x288 with 1 Axes>",
      "image/png": "[encoded data removed]"
     },
     "metadata": {
      "needs_background": "light"
     },
     "output_type": "display_data"
    }
   ],
   "source": [
    "losses.plot()"
   ]
  },
  {
   "cell_type": "code",
   "execution_count": 255,
   "outputs": [],
   "source": [
    "# get the training paths\n",
    "test_df = pd.read_csv('../simulations/data/test_paths.csv')"
   ],
   "metadata": {
    "collapsed": false,
    "pycharm": {
     "name": "#%%\n"
    }
   }
  },
  {
   "cell_type": "code",
   "execution_count": 256,
   "outputs": [],
   "source": [
    "# get the training paths\n",
    "test_x = test_df[test_df.columns[2:62]]\n",
    "\n",
    "test_y = test_df['enter-parking'].values"
   ],
   "metadata": {
    "collapsed": false,
    "pycharm": {
     "name": "#%%\n"
    }
   }
  },
  {
   "cell_type": "code",
   "execution_count": 257,
   "outputs": [
    {
     "name": "stdout",
     "output_type": "stream",
     "text": [
      "    latitude_1  longitude_1  altitude_relative_to_ground_1  latitude_2  \\\n",
      "0    36.109634  -115.140952                            0.0   36.109673   \n",
      "1    36.109705  -115.140334                            0.0   36.109763   \n",
      "2    36.109692  -115.140852                            0.0   36.109747   \n",
      "3    36.109773  -115.141539                            0.0   36.109831   \n",
      "4    36.109746  -115.139228                            0.0   36.109774   \n",
      "5    36.109767  -115.139191                            0.0   36.109824   \n",
      "6    36.109714  -115.140463                            0.0   36.109714   \n",
      "7    36.110594  -115.139500                            0.0   36.110644   \n",
      "8    36.111857  -115.142198                            0.0   36.111851   \n",
      "9    36.109714  -115.140162                            0.0   36.109782   \n",
      "10   36.109541  -115.140942                            0.0   36.109611   \n",
      "11   36.109518  -115.139090                            0.0   36.109587   \n",
      "12   36.109693  -115.141615                            0.0   36.109762   \n",
      "13   36.111719  -115.140866                            0.0   36.111598   \n",
      "14   36.110651  -115.141200                            0.0   36.110582   \n",
      "\n",
      "    longitude_2  altitude_relative_to_ground_2  latitude_3  longitude_3  \\\n",
      "0   -115.140936                            0.0   36.109704  -115.140880   \n",
      "1   -115.140345                            0.0   36.109812  -115.140357   \n",
      "2   -115.140855                            0.0   36.109794  -115.140859   \n",
      "3   -115.141492                            0.0   36.109883  -115.141477   \n",
      "4   -115.139238                            0.0   36.109819  -115.139256   \n",
      "5   -115.139205                            0.0   36.109882  -115.139216   \n",
      "6   -115.140550                            0.0   36.109756  -115.140606   \n",
      "7   -115.139506                            0.0   36.110681  -115.139501   \n",
      "8   -115.142107                            0.0   36.111851  -115.142022   \n",
      "9   -115.140268                            0.0   36.109859  -115.140335   \n",
      "10  -115.140951                            0.0   36.109673  -115.140919   \n",
      "11  -115.139093                            0.0   36.109652  -115.139095   \n",
      "12  -115.141600                            0.0   36.109822  -115.141555   \n",
      "13  -115.140854                            0.0   36.111511  -115.140850   \n",
      "14  -115.141202                            0.0   36.110511  -115.141193   \n",
      "\n",
      "    altitude_relative_to_ground_3  latitude_4  ...  \\\n",
      "0                             0.0   36.109778  ...   \n",
      "1                             0.0   36.109856  ...   \n",
      "2                             0.0   36.109849  ...   \n",
      "3                             0.0   36.109939  ...   \n",
      "4                             0.0   36.109862  ...   \n",
      "5                             0.0   36.109934  ...   \n",
      "6                             0.0   36.109799  ...   \n",
      "7                             0.0   36.110735  ...   \n",
      "8                             0.0   36.111844  ...   \n",
      "9                             0.0   36.109919  ...   \n",
      "10                            0.0   36.109703  ...   \n",
      "11                            0.0   36.109709  ...   \n",
      "12                            0.0   36.109878  ...   \n",
      "13                            0.0   36.111411  ...   \n",
      "14                            0.0   36.110467  ...   \n",
      "\n",
      "    altitude_relative_to_ground_17  latitude_18  longitude_18  \\\n",
      "0                              0.0    36.110526   -115.140599   \n",
      "1                              0.0    36.110501   -115.140613   \n",
      "2                              0.0    36.110515   -115.140624   \n",
      "3                              0.0    36.110525   -115.140598   \n",
      "4                              0.0    36.110567   -115.139568   \n",
      "5                              0.0    36.110617   -115.139628   \n",
      "6                              0.0    36.110525   -115.140577   \n",
      "7                              0.0    36.111749   -115.139587   \n",
      "8                              0.0    36.111680   -115.140771   \n",
      "9                              0.0    36.110657   -115.140966   \n",
      "10                             0.0    36.110578   -115.141184   \n",
      "11                             0.0    36.110407   -115.139217   \n",
      "12                             0.0    36.110622   -115.140949   \n",
      "13                             0.0    36.110152   -115.141098   \n",
      "14                             0.0    36.109704   -115.140450   \n",
      "\n",
      "    altitude_relative_to_ground_18  latitude_19  longitude_19  \\\n",
      "0                              0.0    36.110558   -115.140542   \n",
      "1                              0.0    36.110543   -115.140563   \n",
      "2                              0.0    36.110547   -115.140561   \n",
      "3                              0.0    36.110559   -115.140550   \n",
      "4                              0.0    36.110609   -115.139610   \n",
      "5                              0.0    36.110644   -115.139660   \n",
      "6                              0.0    36.110558   -115.140534   \n",
      "7                              0.0    36.111794   -115.139624   \n",
      "8                              0.0    36.111630   -115.140732   \n",
      "9                              0.0    36.110684   -115.140999   \n",
      "10                             0.0    36.110620   -115.141181   \n",
      "11                             0.0    36.110442   -115.139183   \n",
      "12                             0.0    36.110660   -115.140979   \n",
      "13                             0.0    36.110133   -115.141220   \n",
      "14                             0.0    36.109709   -115.140370   \n",
      "\n",
      "    altitude_relative_to_ground_19  latitude_20  longitude_20  \\\n",
      "0                              0.0    36.110600   -115.140509   \n",
      "1                              0.0    36.110602   -115.140512   \n",
      "2                              0.0    36.110599   -115.140516   \n",
      "3                              0.0    36.110608   -115.140520   \n",
      "4                              0.0    36.110655   -115.139655   \n",
      "5                              0.0    36.110672   -115.139675   \n",
      "6                              0.0    36.110604   -115.140516   \n",
      "7                              0.0    36.111756   -115.139664   \n",
      "8                              0.0    36.111602   -115.140683   \n",
      "9                              0.0    36.110712   -115.141021   \n",
      "10                             0.0    36.110676   -115.141161   \n",
      "11                             0.0    36.110475   -115.139146   \n",
      "12                             0.0    36.110704   -115.141020   \n",
      "13                             0.0    36.110057   -115.141330   \n",
      "14                             0.0    36.109709   -115.140284   \n",
      "\n",
      "    altitude_relative_to_ground_20  \n",
      "0                              0.0  \n",
      "1                              0.0  \n",
      "2                              0.0  \n",
      "3                              0.0  \n",
      "4                              0.0  \n",
      "5                              0.0  \n",
      "6                              0.0  \n",
      "7                              0.0  \n",
      "8                              0.0  \n",
      "9                              0.0  \n",
      "10                             0.0  \n",
      "11                             0.0  \n",
      "12                             0.0  \n",
      "13                             0.0  \n",
      "14                             0.0  \n",
      "\n",
      "[15 rows x 60 columns]\n",
      "[1 1 1 1 1 1 1 1 1 0 0 0 0 0 0]\n"
     ]
    }
   ],
   "source": [
    "print(test_x)\n",
    "\n",
    "print(test_y)"
   ],
   "metadata": {
    "collapsed": false,
    "pycharm": {
     "name": "#%%\n"
    }
   }
  },
  {
   "cell_type": "code",
   "execution_count": 258,
   "metadata": {
    "pycharm": {
     "name": "#%%\n"
    }
   },
   "outputs": [
    {
     "name": "stdout",
     "output_type": "stream",
     "text": [
      "[[0]\n",
      " [0]\n",
      " [0]\n",
      " [0]\n",
      " [0]\n",
      " [0]\n",
      " [0]\n",
      " [0]\n",
      " [0]\n",
      " [0]\n",
      " [0]\n",
      " [0]\n",
      " [0]\n",
      " [0]\n",
      " [0]]\n"
     ]
    }
   ],
   "source": [
    "predictions = (model.predict(test_x) > 0.5).astype(\"int32\")\n",
    "\n",
    "print(predictions)"
   ]
  },
  {
   "cell_type": "code",
   "execution_count": 259,
   "metadata": {
    "pycharm": {
     "name": "#%%\n"
    }
   },
   "outputs": [
    {
     "name": "stdout",
     "output_type": "stream",
     "text": [
      "              precision    recall  f1-score   support\n",
      "\n",
      "           0       0.40      1.00      0.57         6\n",
      "           1       0.00      0.00      0.00         9\n",
      "\n",
      "    accuracy                           0.40        15\n",
      "   macro avg       0.20      0.50      0.29        15\n",
      "weighted avg       0.16      0.40      0.23        15\n",
      "\n"
     ]
    },
    {
     "name": "stderr",
     "output_type": "stream",
     "text": [
      "/home/mikey/PycharmProjects/smart-park/venv/lib/python3.8/site-packages/sklearn/metrics/_classification.py:1248: UndefinedMetricWarning: Precision and F-score are ill-defined and being set to 0.0 in labels with no predicted samples. Use `zero_division` parameter to control this behavior.\n",
      "  _warn_prf(average, modifier, msg_start, len(result))\n",
      "/home/mikey/PycharmProjects/smart-park/venv/lib/python3.8/site-packages/sklearn/metrics/_classification.py:1248: UndefinedMetricWarning: Precision and F-score are ill-defined and being set to 0.0 in labels with no predicted samples. Use `zero_division` parameter to control this behavior.\n",
      "  _warn_prf(average, modifier, msg_start, len(result))\n",
      "/home/mikey/PycharmProjects/smart-park/venv/lib/python3.8/site-packages/sklearn/metrics/_classification.py:1248: UndefinedMetricWarning: Precision and F-score are ill-defined and being set to 0.0 in labels with no predicted samples. Use `zero_division` parameter to control this behavior.\n",
      "  _warn_prf(average, modifier, msg_start, len(result))\n"
     ]
    }
   ],
   "source": [
    "print(classification_report(test_y, predictions))"
   ]
  },
  {
   "cell_type": "code",
   "execution_count": 260,
   "metadata": {
    "pycharm": {
     "name": "#%%\n"
    }
   },
   "outputs": [
    {
     "name": "stdout",
     "output_type": "stream",
     "text": [
      "[[6 0]\n",
      " [9 0]]\n"
     ]
    }
   ],
   "source": [
    "print(confusion_matrix(test_y, predictions))"
   ]
  },
  {
   "cell_type": "code",
   "execution_count": 261,
   "metadata": {
    "pycharm": {
     "name": "#%%\n"
    }
   },
   "outputs": [],
   "source": [
    "# model.save('saved_model')"
   ]
  }
 ],
 "metadata": {
  "kernelspec": {
   "display_name": "Python 3",
   "language": "python",
   "name": "python3"
  },
  "language_info": {
   "codemirror_mode": {
    "name": "ipython",
    "version": 3
   },
   "file_extension": ".py",
   "mimetype": "text/x-python",
   "name": "python",
   "nbconvert_exporter": "python",
   "pygments_lexer": "ipython3",
   "version": "3.8.10"
  }
 },
 "nbformat": 4,
 "nbformat_minor": 1
}