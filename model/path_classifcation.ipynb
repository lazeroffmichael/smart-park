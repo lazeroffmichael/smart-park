{
 "cells": [
  {
   "cell_type": "code",
   "execution_count": 19,
   "metadata": {
    "collapsed": true
   },
   "outputs": [],
   "source": []
  },
  {
   "cell_type": "markdown",
   "source": [
    "# Garage Classifcation Model\n",
    "\n",
    "## Goal: Given coordinate points along a path, classify whether a person is headed towards the garage.\n",
    "\n",
    "---"
   ],
   "metadata": {
    "collapsed": false
   }
  },
  {
   "cell_type": "code",
   "execution_count": 20,
   "outputs": [],
   "source": [
    "import pandas as pd\n",
    "import numpy as np"
   ],
   "metadata": {
    "collapsed": false,
    "pycharm": {
     "name": "#%%\n"
    }
   }
  },
  {
   "cell_type": "code",
   "execution_count": 21,
   "outputs": [],
   "source": [
    "df = pd.read_csv('../simulations/csv_paths/cottage_grove_paths.csv')"
   ],
   "metadata": {
    "collapsed": false,
    "pycharm": {
     "name": "#%%\n"
    }
   }
  },
  {
   "cell_type": "code",
   "execution_count": 22,
   "outputs": [
    {
     "name": "stdout",
     "output_type": "stream",
     "text": [
      "<class 'pandas.core.frame.DataFrame'>\n",
      "RangeIndex: 92 entries, 0 to 91\n",
      "Data columns (total 62 columns):\n",
      " #   Column                          Non-Null Count  Dtype  \n",
      "---  ------                          --------------  -----  \n",
      " 0   Unnamed: 0                      92 non-null     object \n",
      " 1   latitude_1                      92 non-null     float64\n",
      " 2   longitude_1                     92 non-null     float64\n",
      " 3   altitude_relative_to_ground_1   92 non-null     float64\n",
      " 4   latitude_2                      92 non-null     float64\n",
      " 5   longitude_2                     92 non-null     float64\n",
      " 6   altitude_relative_to_ground_2   92 non-null     float64\n",
      " 7   latitude_3                      92 non-null     float64\n",
      " 8   longitude_3                     92 non-null     float64\n",
      " 9   altitude_relative_to_ground_3   92 non-null     float64\n",
      " 10  latitude_4                      92 non-null     float64\n",
      " 11  longitude_4                     92 non-null     float64\n",
      " 12  altitude_relative_to_ground_4   92 non-null     float64\n",
      " 13  latitude_5                      92 non-null     float64\n",
      " 14  longitude_5                     92 non-null     float64\n",
      " 15  altitude_relative_to_ground_5   92 non-null     float64\n",
      " 16  latitude_6                      92 non-null     float64\n",
      " 17  longitude_6                     92 non-null     float64\n",
      " 18  altitude_relative_to_ground_6   92 non-null     float64\n",
      " 19  latitude_7                      92 non-null     float64\n",
      " 20  longitude_7                     92 non-null     float64\n",
      " 21  altitude_relative_to_ground_7   92 non-null     float64\n",
      " 22  latitude_8                      92 non-null     float64\n",
      " 23  longitude_8                     92 non-null     float64\n",
      " 24  altitude_relative_to_ground_8   92 non-null     float64\n",
      " 25  latitude_9                      92 non-null     float64\n",
      " 26  longitude_9                     92 non-null     float64\n",
      " 27  altitude_relative_to_ground_9   92 non-null     float64\n",
      " 28  latitude_10                     92 non-null     float64\n",
      " 29  longitude_10                    92 non-null     float64\n",
      " 30  altitude_relative_to_ground_10  92 non-null     float64\n",
      " 31  latitude_11                     92 non-null     float64\n",
      " 32  longitude_11                    92 non-null     float64\n",
      " 33  altitude_relative_to_ground_11  92 non-null     float64\n",
      " 34  latitude_12                     92 non-null     float64\n",
      " 35  longitude_12                    92 non-null     float64\n",
      " 36  altitude_relative_to_ground_12  92 non-null     float64\n",
      " 37  latitude_13                     92 non-null     float64\n",
      " 38  longitude_13                    92 non-null     float64\n",
      " 39  altitude_relative_to_ground_13  92 non-null     float64\n",
      " 40  latitude_14                     92 non-null     float64\n",
      " 41  longitude_14                    92 non-null     float64\n",
      " 42  altitude_relative_to_ground_14  92 non-null     float64\n",
      " 43  latitude_15                     92 non-null     float64\n",
      " 44  longitude_15                    92 non-null     float64\n",
      " 45  altitude_relative_to_ground_15  92 non-null     float64\n",
      " 46  latitude_16                     92 non-null     float64\n",
      " 47  longitude_16                    92 non-null     float64\n",
      " 48  altitude_relative_to_ground_16  92 non-null     float64\n",
      " 49  latitude_17                     92 non-null     float64\n",
      " 50  longitude_17                    92 non-null     float64\n",
      " 51  altitude_relative_to_ground_17  92 non-null     float64\n",
      " 52  latitude_18                     92 non-null     float64\n",
      " 53  longitude_18                    92 non-null     float64\n",
      " 54  altitude_relative_to_ground_18  92 non-null     float64\n",
      " 55  latitude_19                     92 non-null     float64\n",
      " 56  longitude_19                    92 non-null     float64\n",
      " 57  altitude_relative_to_ground_19  92 non-null     float64\n",
      " 58  latitude_20                     92 non-null     float64\n",
      " 59  longitude_20                    92 non-null     float64\n",
      " 60  altitude_relative_to_ground_20  92 non-null     float64\n",
      " 61  enter-parking                   92 non-null     int64  \n",
      "dtypes: float64(60), int64(1), object(1)\n",
      "memory usage: 44.7+ KB\n"
     ]
    }
   ],
   "source": [
    "df.info()"
   ],
   "metadata": {
    "collapsed": false,
    "pycharm": {
     "name": "#%%\n"
    }
   }
  },
  {
   "cell_type": "code",
   "execution_count": 23,
   "outputs": [
    {
     "data": {
      "text/plain": "        Unnamed: 0  latitude_1  longitude_1  altitude_relative_to_ground_1  \\\n0         10_A.xml   36.111200  -115.141654                            0.0   \n1  10_A_Missed.xml   36.109699  -115.140636                            0.0   \n2         10_B.xml   36.110692  -115.141014                            0.0   \n3  10_B_Missed.xml   36.110448  -115.139256                            0.0   \n4         11_A.xml   36.109695  -115.140862                            0.0   \n\n   latitude_2  longitude_2  altitude_relative_to_ground_2  latitude_3  \\\n0   36.111206  -115.141554                            0.0   36.111211   \n1   36.109756  -115.140660                            0.0   36.109795   \n2   36.110658  -115.140986                            0.0   36.110627   \n3   36.110419  -115.139264                            0.0   36.110380   \n4   36.109748  -115.140871                            0.0   36.109808   \n\n   longitude_3  altitude_relative_to_ground_3  ...  latitude_18  longitude_18  \\\n0  -115.141400                            0.0  ...    36.110529   -115.140651   \n1  -115.140685                            0.0  ...    36.110881   -115.140836   \n2  -115.140952                            0.0  ...    36.110594   -115.139715   \n3  -115.139272                            0.0  ...    36.109740   -115.139144   \n4  -115.140878                            0.0  ...    36.110561   -115.140546   \n\n   altitude_relative_to_ground_18  latitude_19  longitude_19  \\\n0                             0.0    36.110555   -115.140550   \n1                             0.0    36.110995   -115.140851   \n2                             0.0    36.110633   -115.139636   \n3                             0.0    36.109708   -115.139112   \n4                             0.0    36.110599   -115.140523   \n\n   altitude_relative_to_ground_19  latitude_20  longitude_20  \\\n0                             0.0    36.110629   -115.140521   \n1                             0.0    36.111160   -115.140860   \n2                             0.0    36.110667   -115.139667   \n3                             0.0    36.109650   -115.139100   \n4                             0.0    36.110638   -115.140528   \n\n   altitude_relative_to_ground_20  enter-parking  \n0                             0.0              1  \n1                             0.0              0  \n2                             0.0              1  \n3                             0.0              0  \n4                             0.0              1  \n\n[5 rows x 62 columns]",
      "text/html": "<div>\n<style scoped>\n    .dataframe tbody tr th:only-of-type {\n        vertical-align: middle;\n    }\n\n    .dataframe tbody tr th {\n        vertical-align: top;\n    }\n\n    .dataframe thead th {\n        text-align: right;\n    }\n</style>\n<table border=\"1\" class=\"dataframe\">\n  <thead>\n    <tr style=\"text-align: right;\">\n      <th></th>\n      <th>Unnamed: 0</th>\n      <th>latitude_1</th>\n      <th>longitude_1</th>\n      <th>altitude_relative_to_ground_1</th>\n      <th>latitude_2</th>\n      <th>longitude_2</th>\n      <th>altitude_relative_to_ground_2</th>\n      <th>latitude_3</th>\n      <th>longitude_3</th>\n      <th>altitude_relative_to_ground_3</th>\n      <th>...</th>\n      <th>latitude_18</th>\n      <th>longitude_18</th>\n      <th>altitude_relative_to_ground_18</th>\n      <th>latitude_19</th>\n      <th>longitude_19</th>\n      <th>altitude_relative_to_ground_19</th>\n      <th>latitude_20</th>\n      <th>longitude_20</th>\n      <th>altitude_relative_to_ground_20</th>\n      <th>enter-parking</th>\n    </tr>\n  </thead>\n  <tbody>\n    <tr>\n      <th>0</th>\n      <td>10_A.xml</td>\n      <td>36.111200</td>\n      <td>-115.141654</td>\n      <td>0.0</td>\n      <td>36.111206</td>\n      <td>-115.141554</td>\n      <td>0.0</td>\n      <td>36.111211</td>\n      <td>-115.141400</td>\n      <td>0.0</td>\n      <td>...</td>\n      <td>36.110529</td>\n      <td>-115.140651</td>\n      <td>0.0</td>\n      <td>36.110555</td>\n      <td>-115.140550</td>\n      <td>0.0</td>\n      <td>36.110629</td>\n      <td>-115.140521</td>\n      <td>0.0</td>\n      <td>1</td>\n    </tr>\n    <tr>\n      <th>1</th>\n      <td>10_A_Missed.xml</td>\n      <td>36.109699</td>\n      <td>-115.140636</td>\n      <td>0.0</td>\n      <td>36.109756</td>\n      <td>-115.140660</td>\n      <td>0.0</td>\n      <td>36.109795</td>\n      <td>-115.140685</td>\n      <td>0.0</td>\n      <td>...</td>\n      <td>36.110881</td>\n      <td>-115.140836</td>\n      <td>0.0</td>\n      <td>36.110995</td>\n      <td>-115.140851</td>\n      <td>0.0</td>\n      <td>36.111160</td>\n      <td>-115.140860</td>\n      <td>0.0</td>\n      <td>0</td>\n    </tr>\n    <tr>\n      <th>2</th>\n      <td>10_B.xml</td>\n      <td>36.110692</td>\n      <td>-115.141014</td>\n      <td>0.0</td>\n      <td>36.110658</td>\n      <td>-115.140986</td>\n      <td>0.0</td>\n      <td>36.110627</td>\n      <td>-115.140952</td>\n      <td>0.0</td>\n      <td>...</td>\n      <td>36.110594</td>\n      <td>-115.139715</td>\n      <td>0.0</td>\n      <td>36.110633</td>\n      <td>-115.139636</td>\n      <td>0.0</td>\n      <td>36.110667</td>\n      <td>-115.139667</td>\n      <td>0.0</td>\n      <td>1</td>\n    </tr>\n    <tr>\n      <th>3</th>\n      <td>10_B_Missed.xml</td>\n      <td>36.110448</td>\n      <td>-115.139256</td>\n      <td>0.0</td>\n      <td>36.110419</td>\n      <td>-115.139264</td>\n      <td>0.0</td>\n      <td>36.110380</td>\n      <td>-115.139272</td>\n      <td>0.0</td>\n      <td>...</td>\n      <td>36.109740</td>\n      <td>-115.139144</td>\n      <td>0.0</td>\n      <td>36.109708</td>\n      <td>-115.139112</td>\n      <td>0.0</td>\n      <td>36.109650</td>\n      <td>-115.139100</td>\n      <td>0.0</td>\n      <td>0</td>\n    </tr>\n    <tr>\n      <th>4</th>\n      <td>11_A.xml</td>\n      <td>36.109695</td>\n      <td>-115.140862</td>\n      <td>0.0</td>\n      <td>36.109748</td>\n      <td>-115.140871</td>\n      <td>0.0</td>\n      <td>36.109808</td>\n      <td>-115.140878</td>\n      <td>0.0</td>\n      <td>...</td>\n      <td>36.110561</td>\n      <td>-115.140546</td>\n      <td>0.0</td>\n      <td>36.110599</td>\n      <td>-115.140523</td>\n      <td>0.0</td>\n      <td>36.110638</td>\n      <td>-115.140528</td>\n      <td>0.0</td>\n      <td>1</td>\n    </tr>\n  </tbody>\n</table>\n<p>5 rows × 62 columns</p>\n</div>"
     },
     "execution_count": 23,
     "metadata": {},
     "output_type": "execute_result"
    }
   ],
   "source": [
    "df.head()"
   ],
   "metadata": {
    "collapsed": false,
    "pycharm": {
     "name": "#%%\n"
    }
   }
  },
  {
   "cell_type": "code",
   "execution_count": 24,
   "outputs": [],
   "source": [
    "# Get First Coordinate Pair Only -> Columns [1, 6]\n",
    "X = df[df.columns[1:61]]\n",
    "label = df['enter-parking'].values"
   ],
   "metadata": {
    "collapsed": false,
    "pycharm": {
     "name": "#%%\n"
    }
   }
  },
  {
   "cell_type": "code",
   "execution_count": 25,
   "outputs": [
    {
     "name": "stdout",
     "output_type": "stream",
     "text": [
      "    latitude_1  longitude_1  altitude_relative_to_ground_1  latitude_2  \\\n",
      "0    36.111200  -115.141654                            0.0   36.111206   \n",
      "1    36.109699  -115.140636                            0.0   36.109756   \n",
      "2    36.110692  -115.141014                            0.0   36.110658   \n",
      "3    36.110448  -115.139256                            0.0   36.110419   \n",
      "4    36.109695  -115.140862                            0.0   36.109748   \n",
      "..         ...          ...                            ...         ...   \n",
      "87   36.110949  -115.138459                            0.0   36.110880   \n",
      "88   36.109628  -115.141544                            0.0   36.109697   \n",
      "89   36.109490  -115.140931                            0.0   36.109541   \n",
      "90   36.109708  -115.140845                            0.0   36.109824   \n",
      "91   36.110942  -115.138463                            0.0   36.110884   \n",
      "\n",
      "    longitude_2  altitude_relative_to_ground_2  latitude_3  longitude_3  \\\n",
      "0   -115.141554                            0.0   36.111211  -115.141400   \n",
      "1   -115.140660                            0.0   36.109795  -115.140685   \n",
      "2   -115.140986                            0.0   36.110627  -115.140952   \n",
      "3   -115.139264                            0.0   36.110380  -115.139272   \n",
      "4   -115.140871                            0.0   36.109808  -115.140878   \n",
      "..          ...                            ...         ...          ...   \n",
      "87  -115.138451                            0.0   36.110811  -115.138447   \n",
      "88  -115.141542                            0.0   36.109761  -115.141541   \n",
      "89  -115.140940                            0.0   36.109588  -115.140947   \n",
      "90  -115.140855                            0.0   36.109921  -115.140866   \n",
      "91  -115.138464                            0.0   36.110819  -115.138461   \n",
      "\n",
      "    altitude_relative_to_ground_3  latitude_4  ...  \\\n",
      "0                             0.0   36.111211  ...   \n",
      "1                             0.0   36.109845  ...   \n",
      "2                             0.0   36.110587  ...   \n",
      "3                             0.0   36.110334  ...   \n",
      "4                             0.0   36.109864  ...   \n",
      "..                            ...         ...  ...   \n",
      "87                            0.0   36.110747  ...   \n",
      "88                            0.0   36.109827  ...   \n",
      "89                            0.0   36.109674  ...   \n",
      "90                            0.0   36.109998  ...   \n",
      "91                            0.0   36.110790  ...   \n",
      "\n",
      "    altitude_relative_to_ground_17  latitude_18  longitude_18  \\\n",
      "0                              0.0    36.110529   -115.140651   \n",
      "1                              0.0    36.110881   -115.140836   \n",
      "2                              0.0    36.110594   -115.139715   \n",
      "3                              0.0    36.109740   -115.139144   \n",
      "4                              0.0    36.110561   -115.140546   \n",
      "..                             ...          ...           ...   \n",
      "87                             0.0    36.111290   -115.139083   \n",
      "88                             0.0    36.110504   -115.140622   \n",
      "89                             0.0    36.110580   -115.140934   \n",
      "90                             0.0    36.110595   -115.139659   \n",
      "91                             0.0    36.111364   -115.139093   \n",
      "\n",
      "    altitude_relative_to_ground_18  latitude_19  longitude_19  \\\n",
      "0                              0.0    36.110555   -115.140550   \n",
      "1                              0.0    36.110995   -115.140851   \n",
      "2                              0.0    36.110633   -115.139636   \n",
      "3                              0.0    36.109708   -115.139112   \n",
      "4                              0.0    36.110599   -115.140523   \n",
      "..                             ...          ...           ...   \n",
      "87                             0.0    36.111357   -115.139088   \n",
      "88                             0.0    36.110561   -115.140543   \n",
      "89                             0.0    36.110642   -115.140943   \n",
      "90                             0.0    36.110624   -115.139618   \n",
      "91                             0.0    36.111400   -115.139133   \n",
      "\n",
      "    altitude_relative_to_ground_19  latitude_20  longitude_20  \\\n",
      "0                              0.0    36.110629   -115.140521   \n",
      "1                              0.0    36.111160   -115.140860   \n",
      "2                              0.0    36.110667   -115.139667   \n",
      "3                              0.0    36.109650   -115.139100   \n",
      "4                              0.0    36.110638   -115.140528   \n",
      "..                             ...          ...           ...   \n",
      "87                             0.0    36.111418   -115.139161   \n",
      "88                             0.0    36.110629   -115.140517   \n",
      "89                             0.0    36.110693   -115.141017   \n",
      "90                             0.0    36.110667   -115.139662   \n",
      "91                             0.0    36.111449   -115.139177   \n",
      "\n",
      "    altitude_relative_to_ground_20  \n",
      "0                              0.0  \n",
      "1                              0.0  \n",
      "2                              0.0  \n",
      "3                              0.0  \n",
      "4                              0.0  \n",
      "..                             ...  \n",
      "87                             0.0  \n",
      "88                             0.0  \n",
      "89                             0.0  \n",
      "90                             0.0  \n",
      "91                             0.0  \n",
      "\n",
      "[92 rows x 60 columns]\n",
      "[1 0 1 0 1 0 1 0 1 0 1 0 1 0 1 0 1 0 1 0 1 0 1 0 1 0 1 0 1 0 1 1 0 1 1 0 1\n",
      " 1 0 0 1 0 0 1 0 1 1 0 1 1 0 1 1 0 1 1 1 0 0 1 0 0 1 0 0 1 0 1 0 0 1 0 1 0\n",
      " 1 0 1 0 1 0 1 0 1 0 1 0 1 0 1 0 1 0]\n"
     ]
    }
   ],
   "source": [
    "print(X)\n",
    "print(label)"
   ],
   "metadata": {
    "collapsed": false,
    "pycharm": {
     "name": "#%%\n"
    }
   }
  },
  {
   "cell_type": "code",
   "execution_count": 26,
   "outputs": [],
   "source": [
    "from sklearn.model_selection import train_test_split"
   ],
   "metadata": {
    "collapsed": false,
    "pycharm": {
     "name": "#%%\n"
    }
   }
  },
  {
   "cell_type": "code",
   "execution_count": 27,
   "outputs": [],
   "source": [
    "X_train, X_test, y_train, y_test = train_test_split(X,label,test_size=0.25,random_state=101)"
   ],
   "metadata": {
    "collapsed": false,
    "pycharm": {
     "name": "#%%\n"
    }
   }
  },
  {
   "cell_type": "code",
   "execution_count": 28,
   "outputs": [],
   "source": [
    "# Scale data\n",
    "from sklearn.preprocessing import MinMaxScaler\n",
    "\n",
    "scaler = MinMaxScaler()\n",
    "\n",
    "scaler.fit(X_train)\n",
    "\n",
    "scaler.fit(X_train)\n",
    "\n",
    "X_train = scaler.transform(X_train)\n",
    "X_test = scaler.transform(X_test)"
   ],
   "metadata": {
    "collapsed": false,
    "pycharm": {
     "name": "#%%\n"
    }
   }
  },
  {
   "cell_type": "code",
   "execution_count": 29,
   "outputs": [],
   "source": [
    "# Tensorflow imports\n",
    "import tensorflow as tf\n",
    "from tensorflow.keras.models import Sequential\n",
    "from tensorflow.keras.layers import Dense, Activation, Dropout\n",
    "from tensorflow.keras.callbacks import EarlyStopping"
   ],
   "metadata": {
    "collapsed": false,
    "pycharm": {
     "name": "#%%\n"
    }
   }
  },
  {
   "cell_type": "code",
   "execution_count": 30,
   "outputs": [
    {
     "data": {
      "text/plain": "(69, 60)"
     },
     "execution_count": 30,
     "metadata": {},
     "output_type": "execute_result"
    }
   ],
   "source": [
    "X_train.shape"
   ],
   "metadata": {
    "collapsed": false,
    "pycharm": {
     "name": "#%%\n"
    }
   }
  },
  {
   "cell_type": "code",
   "execution_count": 31,
   "outputs": [],
   "source": [
    "early_stop = EarlyStopping(monitor='val_loss', mode='min', verbose=1, patience=25)\n",
    "# Model creation\n",
    "model = Sequential()\n",
    "\n",
    "# 6 neurons for input layer\n",
    "model.add(Dense(60, input_dim=60, activation='relu'))\n",
    "# turn off half the neurons in each batch\n",
    "model.add(Dropout(0.3))\n",
    "\n",
    "model.add(Dense(30, activation='relu'))\n",
    "model.add(Dropout(0.3))\n",
    "\n",
    "# Binary classification\n",
    "model.add(Dense(1, activation='sigmoid'))\n",
    "\n",
    "model.compile(loss='binary_crossentropy',\n",
    "              optimizer='adam')"
   ],
   "metadata": {
    "collapsed": false,
    "pycharm": {
     "name": "#%%\n"
    }
   }
  },
  {
   "cell_type": "code",
   "execution_count": 32,
   "outputs": [
    {
     "name": "stdout",
     "output_type": "stream",
     "text": [
      "Epoch 1/300\n",
      "3/3 [==============================] - 1s 55ms/step - loss: 0.7825 - val_loss: 0.7490\b\b\b\b\b\b\b\b\b\b\b\b\b\b\b\b\b\b\b\b\b\b\b\b\b\b\b\b\b\b\b\b\b\b\b\b\b\n",
      "Epoch 2/300\n",
      "3/3 [==============================] - 0s 16ms/step - loss: 0.7297 - val_loss: 0.7173\b\b\b\b\b\b\b\b\b\b\b\b\b\b\b\b\b\b\b\b\b\b\b\b\b\b\b\b\b\b\b\b\b\b\b\b\b\n",
      "Epoch 3/300\n",
      "3/3 [==============================] - 0s 8ms/step - loss: 0.6975 - val_loss: 0.7005\b\b\b\b\b\b\b\b\b\b\b\b\b\b\b\b\b\b\b\b\b\b\b\b\b\b\b\b\b\b\b\b\b\b\b\b\b\b\n",
      "Epoch 4/300\n",
      "3/3 [==============================] - 0s 16ms/step - loss: 0.7061 - val_loss: 0.6921\b\b\b\b\b\b\b\b\b\b\b\b\b\b\b\b\b\b\b\b\b\b\b\b\b\b\b\b\b\b\b\b\b\b\b\b\b\n",
      "Epoch 5/300\n",
      "3/3 [==============================] - 0s 8ms/step - loss: 0.7048 - val_loss: 0.6869\b\b\b\b\b\b\b\b\b\b\b\b\b\b\b\b\b\b\b\b\b\b\b\b\b\b\b\b\b\b\b\b\b\b\b\b\b\b\n",
      "Epoch 6/300\n",
      "3/3 [==============================] - 0s 29ms/step - loss: 0.6714 - val_loss: 0.6809\b\b\b\b\b\b\b\b\b\b\b\b\b\b\b\b\b\b\b\b\b\b\b\b\b\b\b\b\b\b\b\b\b\b\b\b\b\n",
      "Epoch 7/300\n",
      "3/3 [==============================] - 0s 12ms/step - loss: 0.6629 - val_loss: 0.6738\b\b\b\b\b\b\b\b\b\b\b\b\b\b\b\b\b\b\b\b\b\b\b\b\b\b\b\b\b\b\b\b\b\b\b\b\b\n",
      "Epoch 8/300\n",
      "3/3 [==============================] - 0s 6ms/step - loss: 0.6902 - val_loss: 0.6682\b\b\b\b\b\b\b\b\b\b\b\b\b\b\b\b\b\b\b\b\b\b\b\b\b\b\b\b\b\b\b\b\b\b\b\b\b\b\n",
      "Epoch 9/300\n",
      "3/3 [==============================] - 0s 8ms/step - loss: 0.6716 - val_loss: 0.6660\b\b\b\b\b\b\b\b\b\b\b\b\b\b\b\b\b\b\b\b\b\b\b\b\b\b\b\b\b\b\b\b\b\b\b\b\b\b\n",
      "Epoch 10/300\n",
      "3/3 [==============================] - 0s 8ms/step - loss: 0.6686 - val_loss: 0.6682\b\b\b\b\b\b\b\b\b\b\b\b\b\b\b\b\b\b\b\b\b\b\b\b\b\b\b\b\b\b\b\b\b\b\b\b\b\b\n",
      "Epoch 11/300\n",
      "3/3 [==============================] - 0s 8ms/step - loss: 0.6521 - val_loss: 0.6719\b\b\b\b\b\b\b\b\b\b\b\b\b\b\b\b\b\b\b\b\b\b\b\b\b\b\b\b\b\b\b\b\b\b\b\b\b\b\n",
      "Epoch 12/300\n",
      "3/3 [==============================] - 0s 8ms/step - loss: 0.6754 - val_loss: 0.6764\b\b\b\b\b\b\b\b\b\b\b\b\b\b\b\b\b\b\b\b\b\b\b\b\b\b\b\b\b\b\b\b\b\b\b\b\b\b\n",
      "Epoch 13/300\n",
      "3/3 [==============================] - 0s 16ms/step - loss: 0.6742 - val_loss: 0.6792\b\b\b\b\b\b\b\b\b\b\b\b\b\b\b\b\b\b\b\b\b\b\b\b\b\b\b\b\b\b\b\b\b\b\b\b\b\n",
      "Epoch 14/300\n",
      "3/3 [==============================] - 0s 8ms/step - loss: 0.6663 - val_loss: 0.6811\b\b\b\b\b\b\b\b\b\b\b\b\b\b\b\b\b\b\b\b\b\b\b\b\b\b\b\b\b\b\b\b\b\b\b\b\b\b\n",
      "Epoch 15/300\n",
      "3/3 [==============================] - 0s 8ms/step - loss: 0.6859 - val_loss: 0.6810\b\b\b\b\b\b\b\b\b\b\b\b\b\b\b\b\b\b\b\b\b\b\b\b\b\b\b\b\b\b\b\b\b\b\b\b\b\b\n",
      "Epoch 16/300\n",
      "3/3 [==============================] - 0s 8ms/step - loss: 0.6504 - val_loss: 0.6796\b\b\b\b\b\b\b\b\b\b\b\b\b\b\b\b\b\b\b\b\b\b\b\b\b\b\b\b\b\b\b\b\b\b\b\b\b\b\n",
      "Epoch 17/300\n",
      "3/3 [==============================] - 0s 12ms/step - loss: 0.6772 - val_loss: 0.6773\b\b\b\b\b\b\b\b\b\b\b\b\b\b\b\b\b\b\b\b\b\b\b\b\b\b\b\b\b\b\b\b\b\b\b\b\b\n",
      "Epoch 18/300\n",
      "3/3 [==============================] - 0s 7ms/step - loss: 0.6657 - val_loss: 0.6744\b\b\b\b\b\b\b\b\b\b\b\b\b\b\b\b\b\b\b\b\b\b\b\b\b\b\b\b\b\b\b\b\b\b\b\b\b\b\n",
      "Epoch 19/300\n",
      "3/3 [==============================] - 0s 7ms/step - loss: 0.6476 - val_loss: 0.6703\b\b\b\b\b\b\b\b\b\b\b\b\b\b\b\b\b\b\b\b\b\b\b\b\b\b\b\b\b\b\b\b\b\b\b\b\b\b\n",
      "Epoch 20/300\n",
      "3/3 [==============================] - 0s 8ms/step - loss: 0.6537 - val_loss: 0.6668\b\b\b\b\b\b\b\b\b\b\b\b\b\b\b\b\b\b\b\b\b\b\b\b\b\b\b\b\b\b\b\b\b\b\b\b\b\b\n",
      "Epoch 21/300\n",
      "3/3 [==============================] - 0s 8ms/step - loss: 0.6680 - val_loss: 0.6631\b\b\b\b\b\b\b\b\b\b\b\b\b\b\b\b\b\b\b\b\b\b\b\b\b\b\b\b\b\b\b\b\b\b\b\b\b\b\n",
      "Epoch 22/300\n",
      "3/3 [==============================] - 0s 8ms/step - loss: 0.6388 - val_loss: 0.6622\b\b\b\b\b\b\b\b\b\b\b\b\b\b\b\b\b\b\b\b\b\b\b\b\b\b\b\b\b\b\b\b\b\b\b\b\b\b\n",
      "Epoch 23/300\n",
      "3/3 [==============================] - 0s 8ms/step - loss: 0.6589 - val_loss: 0.6657\b\b\b\b\b\b\b\b\b\b\b\b\b\b\b\b\b\b\b\b\b\b\b\b\b\b\b\b\b\b\b\b\b\b\b\b\b\b\n",
      "Epoch 24/300\n",
      "3/3 [==============================] - 0s 8ms/step - loss: 0.6576 - val_loss: 0.6708\b\b\b\b\b\b\b\b\b\b\b\b\b\b\b\b\b\b\b\b\b\b\b\b\b\b\b\b\b\b\b\b\b\b\b\b\b\b\n",
      "Epoch 25/300\n",
      "3/3 [==============================] - 0s 8ms/step - loss: 0.6326 - val_loss: 0.6727\b\b\b\b\b\b\b\b\b\b\b\b\b\b\b\b\b\b\b\b\b\b\b\b\b\b\b\b\b\b\b\b\b\b\b\b\b\b\n",
      "Epoch 26/300\n",
      "3/3 [==============================] - 0s 16ms/step - loss: 0.6294 - val_loss: 0.6722\b\b\b\b\b\b\b\b\b\b\b\b\b\b\b\b\b\b\b\b\b\b\b\b\b\b\b\b\b\b\b\b\b\b\b\b\b\n",
      "Epoch 27/300\n",
      "3/3 [==============================] - 0s 20ms/step - loss: 0.6660 - val_loss: 0.6684\b\b\b\b\b\b\b\b\b\b\b\b\b\b\b\b\b\b\b\b\b\b\b\b\b\b\b\b\b\b\b\b\b\b\b\b\b\n",
      "Epoch 28/300\n",
      "3/3 [==============================] - 0s 15ms/step - loss: 0.6318 - val_loss: 0.6642\b\b\b\b\b\b\b\b\b\b\b\b\b\b\b\b\b\b\b\b\b\b\b\b\b\b\b\b\b\b\b\b\b\b\b\b\b\n",
      "Epoch 29/300\n",
      "3/3 [==============================] - 0s 14ms/step - loss: 0.6611 - val_loss: 0.6592\b\b\b\b\b\b\b\b\b\b\b\b\b\b\b\b\b\b\b\b\b\b\b\b\b\b\b\b\b\b\b\b\b\b\b\b\b\n",
      "Epoch 30/300\n",
      "3/3 [==============================] - 0s 16ms/step - loss: 0.6360 - val_loss: 0.6551\b\b\b\b\b\b\b\b\b\b\b\b\b\b\b\b\b\b\b\b\b\b\b\b\b\b\b\b\b\b\b\b\b\b\b\b\b\n",
      "Epoch 31/300\n",
      "3/3 [==============================] - 0s 23ms/step - loss: 0.6210 - val_loss: 0.6483\b\b\b\b\b\b\b\b\b\b\b\b\b\b\b\b\b\b\b\b\b\b\b\b\b\b\b\b\b\b\b\b\b\b\b\b\b\n",
      "Epoch 32/300\n",
      "3/3 [==============================] - 0s 33ms/step - loss: 0.6133 - val_loss: 0.6373\b\b\b\b\b\b\b\b\b\b\b\b\b\b\b\b\b\b\b\b\b\b\b\b\b\b\b\b\b\b\b\b\b\b\b\b\b\n",
      "Epoch 33/300\n",
      "3/3 [==============================] - 0s 18ms/step - loss: 0.6322 - val_loss: 0.6309\b\b\b\b\b\b\b\b\b\b\b\b\b\b\b\b\b\b\b\b\b\b\b\b\b\b\b\b\b\b\b\b\b\b\b\b\b\n",
      "Epoch 34/300\n",
      "3/3 [==============================] - 0s 39ms/step - loss: 0.6477 - val_loss: 0.6284\b\b\b\b\b\b\b\b\b\b\b\b\b\b\b\b\b\b\b\b\b\b\b\b\b\b\b\b\b\b\b\b\b\b\b\b\b\n",
      "Epoch 35/300\n",
      "3/3 [==============================] - 0s 31ms/step - loss: 0.6682 - val_loss: 0.6271\b\b\b\b\b\b\b\b\b\b\b\b\b\b\b\b\b\b\b\b\b\b\b\b\b\b\b\b\b\b\b\b\b\b\b\b\b\n",
      "Epoch 36/300\n",
      "3/3 [==============================] - 0s 48ms/step - loss: 0.6405 - val_loss: 0.6272\b\b\b\b\b\b\b\b\b\b\b\b\b\b\b\b\b\b\b\b\b\b\b\b\b\b\b\b\b\b\b\b\b\b\b\b\b\n",
      "Epoch 37/300\n",
      "3/3 [==============================] - 0s 31ms/step - loss: 0.6397 - val_loss: 0.6311\b\b\b\b\b\b\b\b\b\b\b\b\b\b\b\b\b\b\b\b\b\b\b\b\b\b\b\b\b\b\b\b\b\b\b\b\b\n",
      "Epoch 38/300\n",
      "3/3 [==============================] - 0s 68ms/step - loss: 0.6425 - val_loss: 0.6342\b\b\b\b\b\b\b\b\b\b\b\b\b\b\b\b\b\b\b\b\b\b\b\b\b\b\b\b\b\b\b\b\b\b\b\b\b\n",
      "Epoch 39/300\n",
      "3/3 [==============================] - 0s 39ms/step - loss: 0.6045 - val_loss: 0.6368\b\b\b\b\b\b\b\b\b\b\b\b\b\b\b\b\b\b\b\b\b\b\b\b\b\b\b\b\b\b\b\b\b\b\b\b\b\n",
      "Epoch 40/300\n",
      "3/3 [==============================] - 0s 31ms/step - loss: 0.6501 - val_loss: 0.6398\b\b\b\b\b\b\b\b\b\b\b\b\b\b\b\b\b\b\b\b\b\b\b\b\b\b\b\b\b\b\b\b\b\b\b\b\b\n",
      "Epoch 41/300\n",
      "3/3 [==============================] - 0s 31ms/step - loss: 0.6050 - val_loss: 0.6407\b\b\b\b\b\b\b\b\b\b\b\b\b\b\b\b\b\b\b\b\b\b\b\b\b\b\b\b\b\b\b\b\b\b\b\b\b\n",
      "Epoch 42/300\n",
      "3/3 [==============================] - 0s 47ms/step - loss: 0.6260 - val_loss: 0.6400\b\b\b\b\b\b\b\b\b\b\b\b\b\b\b\b\b\b\b\b\b\b\b\b\b\b\b\b\b\b\b\b\b\b\b\b\b\n",
      "Epoch 43/300\n",
      "3/3 [==============================] - 0s 55ms/step - loss: 0.5792 - val_loss: 0.6359\b\b\b\b\b\b\b\b\b\b\b\b\b\b\b\b\b\b\b\b\b\b\b\b\b\b\b\b\b\b\b\b\b\b\b\b\b\n",
      "Epoch 44/300\n",
      "3/3 [==============================] - 0s 62ms/step - loss: 0.6108 - val_loss: 0.6302\b\b\b\b\b\b\b\b\b\b\b\b\b\b\b\b\b\b\b\b\b\b\b\b\b\b\b\b\b\b\b\b\b\b\b\b\b\n",
      "Epoch 45/300\n",
      "3/3 [==============================] - 0s 31ms/step - loss: 0.6174 - val_loss: 0.6266\b\b\b\b\b\b\b\b\b\b\b\b\b\b\b\b\b\b\b\b\b\b\b\b\b\b\b\b\b\b\b\b\b\b\b\b\b\n",
      "Epoch 46/300\n",
      "3/3 [==============================] - 0s 55ms/step - loss: 0.6190 - val_loss: 0.6195\b\b\b\b\b\b\b\b\b\b\b\b\b\b\b\b\b\b\b\b\b\b\b\b\b\b\b\b\b\b\b\b\b\b\b\b\b\n",
      "Epoch 47/300\n",
      "3/3 [==============================] - 0s 39ms/step - loss: 0.5944 - val_loss: 0.6111\b\b\b\b\b\b\b\b\b\b\b\b\b\b\b\b\b\b\b\b\b\b\b\b\b\b\b\b\b\b\b\b\b\b\b\b\b\n",
      "Epoch 48/300\n",
      "3/3 [==============================] - 0s 55ms/step - loss: 0.6398 - val_loss: 0.6032\b\b\b\b\b\b\b\b\b\b\b\b\b\b\b\b\b\b\b\b\b\b\b\b\b\b\b\b\b\b\b\b\b\b\b\b\b\n",
      "Epoch 49/300\n",
      "3/3 [==============================] - 0s 86ms/step - loss: 0.6236 - val_loss: 0.5993\b\b\b\b\b\b\b\b\b\b\b\b\b\b\b\b\b\b\b\b\b\b\b\b\b\b\b\b\b\b\b\b\b\b\b\b\b\n",
      "Epoch 50/300\n",
      "3/3 [==============================] - 0s 39ms/step - loss: 0.5970 - val_loss: 0.5935\b\b\b\b\b\b\b\b\b\b\b\b\b\b\b\b\b\b\b\b\b\b\b\b\b\b\b\b\b\b\b\b\b\b\b\b\b\n",
      "Epoch 51/300\n",
      "3/3 [==============================] - 0s 23ms/step - loss: 0.6029 - val_loss: 0.5903\b\b\b\b\b\b\b\b\b\b\b\b\b\b\b\b\b\b\b\b\b\b\b\b\b\b\b\b\b\b\b\b\b\b\b\b\b\n",
      "Epoch 52/300\n",
      "3/3 [==============================] - 0s 47ms/step - loss: 0.6163 - val_loss: 0.5908\b\b\b\b\b\b\b\b\b\b\b\b\b\b\b\b\b\b\b\b\b\b\b\b\b\b\b\b\b\b\b\b\b\b\b\b\b\n",
      "Epoch 53/300\n",
      "3/3 [==============================] - 0s 16ms/step - loss: 0.6152 - val_loss: 0.5928\b\b\b\b\b\b\b\b\b\b\b\b\b\b\b\b\b\b\b\b\b\b\b\b\b\b\b\b\b\b\b\b\b\b\b\b\b\n",
      "Epoch 54/300\n",
      "3/3 [==============================] - 0s 47ms/step - loss: 0.6042 - val_loss: 0.5942\b\b\b\b\b\b\b\b\b\b\b\b\b\b\b\b\b\b\b\b\b\b\b\b\b\b\b\b\b\b\b\b\b\b\b\b\b\n",
      "Epoch 55/300\n",
      "3/3 [==============================] - 0s 31ms/step - loss: 0.5956 - val_loss: 0.5982\b\b\b\b\b\b\b\b\b\b\b\b\b\b\b\b\b\b\b\b\b\b\b\b\b\b\b\b\b\b\b\b\b\b\b\b\b\n",
      "Epoch 56/300\n",
      "3/3 [==============================] - 0s 23ms/step - loss: 0.6185 - val_loss: 0.6057\b\b\b\b\b\b\b\b\b\b\b\b\b\b\b\b\b\b\b\b\b\b\b\b\b\b\b\b\b\b\b\b\b\b\b\b\b\n",
      "Epoch 57/300\n",
      "3/3 [==============================] - 0s 16ms/step - loss: 0.6180 - val_loss: 0.6122\b\b\b\b\b\b\b\b\b\b\b\b\b\b\b\b\b\b\b\b\b\b\b\b\b\b\b\b\b\b\b\b\b\b\b\b\b\n",
      "Epoch 58/300\n",
      "3/3 [==============================] - 0s 16ms/step - loss: 0.6001 - val_loss: 0.6163\b\b\b\b\b\b\b\b\b\b\b\b\b\b\b\b\b\b\b\b\b\b\b\b\b\b\b\b\b\b\b\b\b\b\b\b\b\n",
      "Epoch 59/300\n",
      "3/3 [==============================] - 0s 31ms/step - loss: 0.6028 - val_loss: 0.6120\b\b\b\b\b\b\b\b\b\b\b\b\b\b\b\b\b\b\b\b\b\b\b\b\b\b\b\b\b\b\b\b\b\b\b\b\b\n",
      "Epoch 60/300\n",
      "3/3 [==============================] - 0s 16ms/step - loss: 0.6117 - val_loss: 0.6018\b\b\b\b\b\b\b\b\b\b\b\b\b\b\b\b\b\b\b\b\b\b\b\b\b\b\b\b\b\b\b\b\b\b\b\b\b\n",
      "Epoch 61/300\n",
      "3/3 [==============================] - 0s 16ms/step - loss: 0.5828 - val_loss: 0.5933\b\b\b\b\b\b\b\b\b\b\b\b\b\b\b\b\b\b\b\b\b\b\b\b\b\b\b\b\b\b\b\b\b\b\b\b\b\n",
      "Epoch 62/300\n",
      "3/3 [==============================] - 0s 22ms/step - loss: 0.5846 - val_loss: 0.5887\b\b\b\b\b\b\b\b\b\b\b\b\b\b\b\b\b\b\b\b\b\b\b\b\b\b\b\b\b\b\b\b\b\b\b\b\b\n",
      "Epoch 63/300\n",
      "3/3 [==============================] - 0s 20ms/step - loss: 0.5793 - val_loss: 0.5839\b\b\b\b\b\b\b\b\b\b\b\b\b\b\b\b\b\b\b\b\b\b\b\b\b\b\b\b\b\b\b\b\b\b\b\b\b\n",
      "Epoch 64/300\n",
      "3/3 [==============================] - 0s 23ms/step - loss: 0.5830 - val_loss: 0.5810\b\b\b\b\b\b\b\b\b\b\b\b\b\b\b\b\b\b\b\b\b\b\b\b\b\b\b\b\b\b\b\b\b\b\b\b\b\n",
      "Epoch 65/300\n",
      "3/3 [==============================] - 0s 31ms/step - loss: 0.5959 - val_loss: 0.5780\b\b\b\b\b\b\b\b\b\b\b\b\b\b\b\b\b\b\b\b\b\b\b\b\b\b\b\b\b\b\b\b\b\b\b\b\b\n",
      "Epoch 66/300\n",
      "3/3 [==============================] - 0s 37ms/step - loss: 0.5836 - val_loss: 0.5730\b\b\b\b\b\b\b\b\b\b\b\b\b\b\b\b\b\b\b\b\b\b\b\b\b\b\b\b\b\b\b\b\b\b\b\b\b\n",
      "Epoch 67/300\n",
      "3/3 [==============================] - 0s 38ms/step - loss: 0.5931 - val_loss: 0.5717\b\b\b\b\b\b\b\b\b\b\b\b\b\b\b\b\b\b\b\b\b\b\b\b\b\b\b\b\b\b\b\b\b\b\b\b\b\n",
      "Epoch 68/300\n",
      "3/3 [==============================] - 0s 47ms/step - loss: 0.5779 - val_loss: 0.5744\b\b\b\b\b\b\b\b\b\b\b\b\b\b\b\b\b\b\b\b\b\b\b\b\b\b\b\b\b\b\b\b\b\b\b\b\b\n",
      "Epoch 69/300\n",
      "3/3 [==============================] - 0s 35ms/step - loss: 0.5881 - val_loss: 0.5760\b\b\b\b\b\b\b\b\b\b\b\b\b\b\b\b\b\b\b\b\b\b\b\b\b\b\b\b\b\b\b\b\b\b\b\b\b\n",
      "Epoch 70/300\n",
      "3/3 [==============================] - 0s 47ms/step - loss: 0.5649 - val_loss: 0.5714\b\b\b\b\b\b\b\b\b\b\b\b\b\b\b\b\b\b\b\b\b\b\b\b\b\b\b\b\b\b\b\b\b\b\b\b\b\n",
      "Epoch 71/300\n",
      "3/3 [==============================] - 0s 52ms/step - loss: 0.5900 - val_loss: 0.5628\b\b\b\b\b\b\b\b\b\b\b\b\b\b\b\b\b\b\b\b\b\b\b\b\b\b\b\b\b\b\b\b\b\b\b\b\b\n",
      "Epoch 72/300\n",
      "3/3 [==============================] - 0s 41ms/step - loss: 0.5530 - val_loss: 0.5592\b\b\b\b\b\b\b\b\b\b\b\b\b\b\b\b\b\b\b\b\b\b\b\b\b\b\b\b\b\b\b\b\b\b\b\b\b\n",
      "Epoch 73/300\n",
      "3/3 [==============================] - 0s 39ms/step - loss: 0.5599 - val_loss: 0.5539\b\b\b\b\b\b\b\b\b\b\b\b\b\b\b\b\b\b\b\b\b\b\b\b\b\b\b\b\b\b\b\b\b\b\b\b\b\n",
      "Epoch 74/300\n",
      "3/3 [==============================] - 0s 47ms/step - loss: 0.5703 - val_loss: 0.5515\b\b\b\b\b\b\b\b\b\b\b\b\b\b\b\b\b\b\b\b\b\b\b\b\b\b\b\b\b\b\b\b\b\b\b\b\b\n",
      "Epoch 75/300\n",
      "3/3 [==============================] - 0s 55ms/step - loss: 0.5595 - val_loss: 0.5493\b\b\b\b\b\b\b\b\b\b\b\b\b\b\b\b\b\b\b\b\b\b\b\b\b\b\b\b\b\b\b\b\b\b\b\b\b\n",
      "Epoch 76/300\n",
      "3/3 [==============================] - 0s 94ms/step - loss: 0.5870 - val_loss: 0.5451\b\b\b\b\b\b\b\b\b\b\b\b\b\b\b\b\b\b\b\b\b\b\b\b\b\b\b\b\b\b\b\b\b\b\b\b\b\n",
      "Epoch 77/300\n",
      "3/3 [==============================] - 0s 23ms/step - loss: 0.5494 - val_loss: 0.5417\b\b\b\b\b\b\b\b\b\b\b\b\b\b\b\b\b\b\b\b\b\b\b\b\b\b\b\b\b\b\b\b\b\b\b\b\b\n",
      "Epoch 78/300\n",
      "3/3 [==============================] - 0s 55ms/step - loss: 0.5830 - val_loss: 0.5422\b\b\b\b\b\b\b\b\b\b\b\b\b\b\b\b\b\b\b\b\b\b\b\b\b\b\b\b\b\b\b\b\b\b\b\b\b\n",
      "Epoch 79/300\n",
      "3/3 [==============================] - 0s 70ms/step - loss: 0.5791 - val_loss: 0.5480\b\b\b\b\b\b\b\b\b\b\b\b\b\b\b\b\b\b\b\b\b\b\b\b\b\b\b\b\b\b\b\b\b\b\b\b\b\n",
      "Epoch 80/300\n",
      "3/3 [==============================] - 0s 70ms/step - loss: 0.5803 - val_loss: 0.5578\b\b\b\b\b\b\b\b\b\b\b\b\b\b\b\b\b\b\b\b\b\b\b\b\b\b\b\b\b\b\b\b\b\b\b\b\b\n",
      "Epoch 81/300\n",
      "3/3 [==============================] - 0s 94ms/step - loss: 0.5687 - val_loss: 0.5673\b\b\b\b\b\b\b\b\b\b\b\b\b\b\b\b\b\b\b\b\b\b\b\b\b\b\b\b\b\b\b\b\b\b\b\b\b\n",
      "Epoch 82/300\n",
      "3/3 [==============================] - 0s 55ms/step - loss: 0.5661 - val_loss: 0.5736\b\b\b\b\b\b\b\b\b\b\b\b\b\b\b\b\b\b\b\b\b\b\b\b\b\b\b\b\b\b\b\b\b\b\b\b\b\n",
      "Epoch 83/300\n",
      "3/3 [==============================] - 0s 70ms/step - loss: 0.5576 - val_loss: 0.5820\b\b\b\b\b\b\b\b\b\b\b\b\b\b\b\b\b\b\b\b\b\b\b\b\b\b\b\b\b\b\b\b\b\b\b\b\b\n",
      "Epoch 84/300\n",
      "3/3 [==============================] - 0s 55ms/step - loss: 0.5797 - val_loss: 0.5791\b\b\b\b\b\b\b\b\b\b\b\b\b\b\b\b\b\b\b\b\b\b\b\b\b\b\b\b\b\b\b\b\b\b\b\b\b\n",
      "Epoch 85/300\n",
      "3/3 [==============================] - 0s 31ms/step - loss: 0.5541 - val_loss: 0.5742\b\b\b\b\b\b\b\b\b\b\b\b\b\b\b\b\b\b\b\b\b\b\b\b\b\b\b\b\b\b\b\b\b\b\b\b\b\n",
      "Epoch 86/300\n",
      "3/3 [==============================] - 0s 31ms/step - loss: 0.5673 - val_loss: 0.5683\b\b\b\b\b\b\b\b\b\b\b\b\b\b\b\b\b\b\b\b\b\b\b\b\b\b\b\b\b\b\b\b\b\b\b\b\b\n",
      "Epoch 87/300\n",
      "3/3 [==============================] - 0s 39ms/step - loss: 0.5486 - val_loss: 0.5649\b\b\b\b\b\b\b\b\b\b\b\b\b\b\b\b\b\b\b\b\b\b\b\b\b\b\b\b\b\b\b\b\b\b\b\b\b\n",
      "Epoch 88/300\n",
      "3/3 [==============================] - 0s 24ms/step - loss: 0.5657 - val_loss: 0.5637\b\b\b\b\b\b\b\b\b\b\b\b\b\b\b\b\b\b\b\b\b\b\b\b\b\b\b\b\b\b\b\b\b\b\b\b\b\n",
      "Epoch 89/300\n",
      "3/3 [==============================] - 0s 23ms/step - loss: 0.5318 - val_loss: 0.5647\b\b\b\b\b\b\b\b\b\b\b\b\b\b\b\b\b\b\b\b\b\b\b\b\b\b\b\b\b\b\b\b\b\b\b\b\b\n",
      "Epoch 90/300\n",
      "3/3 [==============================] - 0s 15ms/step - loss: 0.5255 - val_loss: 0.5658\b\b\b\b\b\b\b\b\b\b\b\b\b\b\b\b\b\b\b\b\b\b\b\b\b\b\b\b\b\b\b\b\b\b\b\b\b\n",
      "Epoch 91/300\n",
      "3/3 [==============================] - 0s 16ms/step - loss: 0.5720 - val_loss: 0.5613\b\b\b\b\b\b\b\b\b\b\b\b\b\b\b\b\b\b\b\b\b\b\b\b\b\b\b\b\b\b\b\b\b\b\b\b\b\n",
      "Epoch 92/300\n",
      "3/3 [==============================] - 0s 16ms/step - loss: 0.5463 - val_loss: 0.5538\b\b\b\b\b\b\b\b\b\b\b\b\b\b\b\b\b\b\b\b\b\b\b\b\b\b\b\b\b\b\b\b\b\b\b\b\b\n",
      "Epoch 93/300\n",
      "3/3 [==============================] - 0s 22ms/step - loss: 0.5499 - val_loss: 0.5456\b\b\b\b\b\b\b\b\b\b\b\b\b\b\b\b\b\b\b\b\b\b\b\b\b\b\b\b\b\b\b\b\b\b\b\b\b\n",
      "Epoch 94/300\n",
      "3/3 [==============================] - 0s 19ms/step - loss: 0.5396 - val_loss: 0.5375\b\b\b\b\b\b\b\b\b\b\b\b\b\b\b\b\b\b\b\b\b\b\b\b\b\b\b\b\b\b\b\b\b\b\b\b\b\n",
      "Epoch 95/300\n",
      "3/3 [==============================] - 0s 15ms/step - loss: 0.5169 - val_loss: 0.5280\b\b\b\b\b\b\b\b\b\b\b\b\b\b\b\b\b\b\b\b\b\b\b\b\b\b\b\b\b\b\b\b\b\b\b\b\b\n",
      "Epoch 96/300\n",
      "3/3 [==============================] - 0s 23ms/step - loss: 0.5280 - val_loss: 0.5184\b\b\b\b\b\b\b\b\b\b\b\b\b\b\b\b\b\b\b\b\b\b\b\b\b\b\b\b\b\b\b\b\b\b\b\b\b\n",
      "Epoch 97/300\n",
      "3/3 [==============================] - 0s 23ms/step - loss: 0.5140 - val_loss: 0.5092\b\b\b\b\b\b\b\b\b\b\b\b\b\b\b\b\b\b\b\b\b\b\b\b\b\b\b\b\b\b\b\b\b\b\b\b\b\n",
      "Epoch 98/300\n",
      "3/3 [==============================] - 0s 23ms/step - loss: 0.5578 - val_loss: 0.5047\b\b\b\b\b\b\b\b\b\b\b\b\b\b\b\b\b\b\b\b\b\b\b\b\b\b\b\b\b\b\b\b\b\b\b\b\b\n",
      "Epoch 99/300\n",
      "3/3 [==============================] - 0s 30ms/step - loss: 0.5339 - val_loss: 0.5010\b\b\b\b\b\b\b\b\b\b\b\b\b\b\b\b\b\b\b\b\b\b\b\b\b\b\b\b\b\b\b\b\b\b\b\b\b\n",
      "Epoch 100/300\n",
      "3/3 [==============================] - 0s 26ms/step - loss: 0.5330 - val_loss: 0.4964\b\b\b\b\b\b\b\b\b\b\b\b\b\b\b\b\b\b\b\b\b\b\b\b\b\b\b\b\b\b\b\b\b\b\b\b\b\n",
      "Epoch 101/300\n",
      "3/3 [==============================] - 0s 31ms/step - loss: 0.5332 - val_loss: 0.4908\b\b\b\b\b\b\b\b\b\b\b\b\b\b\b\b\b\b\b\b\b\b\b\b\b\b\b\b\b\b\b\b\b\b\b\b\b\n",
      "Epoch 102/300\n",
      "3/3 [==============================] - 0s 42ms/step - loss: 0.5337 - val_loss: 0.4837\b\b\b\b\b\b\b\b\b\b\b\b\b\b\b\b\b\b\b\b\b\b\b\b\b\b\b\b\b\b\b\b\b\b\b\b\b\n",
      "Epoch 103/300\n",
      "3/3 [==============================] - 0s 39ms/step - loss: 0.5203 - val_loss: 0.4716\b\b\b\b\b\b\b\b\b\b\b\b\b\b\b\b\b\b\b\b\b\b\b\b\b\b\b\b\b\b\b\b\b\b\b\b\b\n",
      "Epoch 104/300\n",
      "3/3 [==============================] - 0s 69ms/step - loss: 0.5382 - val_loss: 0.4620\b\b\b\b\b\b\b\b\b\b\b\b\b\b\b\b\b\b\b\b\b\b\b\b\b\b\b\b\b\b\b\b\b\b\b\b\b\n",
      "Epoch 105/300\n",
      "3/3 [==============================] - 0s 39ms/step - loss: 0.5206 - val_loss: 0.4640\b\b\b\b\b\b\b\b\b\b\b\b\b\b\b\b\b\b\b\b\b\b\b\b\b\b\b\b\b\b\b\b\b\b\b\b\b\n",
      "Epoch 106/300\n",
      "3/3 [==============================] - 0s 83ms/step - loss: 0.5347 - val_loss: 0.4732\b\b\b\b\b\b\b\b\b\b\b\b\b\b\b\b\b\b\b\b\b\b\b\b\b\b\b\b\b\b\b\b\b\b\b\b\b\n",
      "Epoch 107/300\n",
      "3/3 [==============================] - 0s 65ms/step - loss: 0.5099 - val_loss: 0.4934\b\b\b\b\b\b\b\b\b\b\b\b\b\b\b\b\b\b\b\b\b\b\b\b\b\b\b\b\b\b\b\b\b\b\b\b\b\n",
      "Epoch 108/300\n",
      "3/3 [==============================] - 0s 51ms/step - loss: 0.5063 - val_loss: 0.5148\b\b\b\b\b\b\b\b\b\b\b\b\b\b\b\b\b\b\b\b\b\b\b\b\b\b\b\b\b\b\b\b\b\b\b\b\b\n",
      "Epoch 109/300\n",
      "3/3 [==============================] - 0s 109ms/step - loss: 0.5223 - val_loss: 0.5421\b\b\b\b\b\b\b\b\b\b\b\b\b\b\b\b\b\b\b\b\b\b\b\b\b\b\b\b\b\b\b\b\b\b\b\b\n",
      "Epoch 110/300\n",
      "3/3 [==============================] - 0s 88ms/step - loss: 0.5214 - val_loss: 0.5526\b\b\b\b\b\b\b\b\b\b\b\b\b\b\b\b\b\b\b\b\b\b\b\b\b\b\b\b\b\b\b\b\b\b\b\b\b\n",
      "Epoch 111/300\n",
      "3/3 [==============================] - 0s 75ms/step - loss: 0.5130 - val_loss: 0.5471\b\b\b\b\b\b\b\b\b\b\b\b\b\b\b\b\b\b\b\b\b\b\b\b\b\b\b\b\b\b\b\b\b\b\b\b\b\n",
      "Epoch 112/300\n",
      "3/3 [==============================] - 0s 39ms/step - loss: 0.4845 - val_loss: 0.5268\b\b\b\b\b\b\b\b\b\b\b\b\b\b\b\b\b\b\b\b\b\b\b\b\b\b\b\b\b\b\b\b\b\b\b\b\b\n",
      "Epoch 113/300\n",
      "3/3 [==============================] - 0s 31ms/step - loss: 0.5100 - val_loss: 0.5162\b\b\b\b\b\b\b\b\b\b\b\b\b\b\b\b\b\b\b\b\b\b\b\b\b\b\b\b\b\b\b\b\b\b\b\b\b\n",
      "Epoch 114/300\n",
      "3/3 [==============================] - 0s 78ms/step - loss: 0.5044 - val_loss: 0.5013\b\b\b\b\b\b\b\b\b\b\b\b\b\b\b\b\b\b\b\b\b\b\b\b\b\b\b\b\b\b\b\b\b\b\b\b\b\n",
      "Epoch 115/300\n",
      "3/3 [==============================] - 0s 86ms/step - loss: 0.4937 - val_loss: 0.4807\b\b\b\b\b\b\b\b\b\b\b\b\b\b\b\b\b\b\b\b\b\b\b\b\b\b\b\b\b\b\b\b\b\b\b\b\b\n",
      "Epoch 116/300\n",
      "3/3 [==============================] - 0s 86ms/step - loss: 0.5217 - val_loss: 0.4613\b\b\b\b\b\b\b\b\b\b\b\b\b\b\b\b\b\b\b\b\b\b\b\b\b\b\b\b\b\b\b\b\b\b\b\b\b\n",
      "Epoch 117/300\n",
      "3/3 [==============================] - 0s 55ms/step - loss: 0.5244 - val_loss: 0.4531\b\b\b\b\b\b\b\b\b\b\b\b\b\b\b\b\b\b\b\b\b\b\b\b\b\b\b\b\b\b\b\b\b\b\b\b\b\n",
      "Epoch 118/300\n",
      "3/3 [==============================] - 0s 39ms/step - loss: 0.5075 - val_loss: 0.4572\b\b\b\b\b\b\b\b\b\b\b\b\b\b\b\b\b\b\b\b\b\b\b\b\b\b\b\b\b\b\b\b\b\b\b\b\b\n",
      "Epoch 119/300\n",
      "3/3 [==============================] - 0s 55ms/step - loss: 0.5106 - val_loss: 0.4598\b\b\b\b\b\b\b\b\b\b\b\b\b\b\b\b\b\b\b\b\b\b\b\b\b\b\b\b\b\b\b\b\b\b\b\b\b\n",
      "Epoch 120/300\n",
      "3/3 [==============================] - 0s 55ms/step - loss: 0.4966 - val_loss: 0.4590\b\b\b\b\b\b\b\b\b\b\b\b\b\b\b\b\b\b\b\b\b\b\b\b\b\b\b\b\b\b\b\b\b\b\b\b\b\n",
      "Epoch 121/300\n",
      "3/3 [==============================] - 0s 47ms/step - loss: 0.4867 - val_loss: 0.4547\b\b\b\b\b\b\b\b\b\b\b\b\b\b\b\b\b\b\b\b\b\b\b\b\b\b\b\b\b\b\b\b\b\b\b\b\b\n",
      "Epoch 122/300\n",
      "3/3 [==============================] - 0s 39ms/step - loss: 0.5126 - val_loss: 0.4545\b\b\b\b\b\b\b\b\b\b\b\b\b\b\b\b\b\b\b\b\b\b\b\b\b\b\b\b\b\b\b\b\b\b\b\b\b\n",
      "Epoch 123/300\n",
      "3/3 [==============================] - 0s 55ms/step - loss: 0.4813 - val_loss: 0.4582\b\b\b\b\b\b\b\b\b\b\b\b\b\b\b\b\b\b\b\b\b\b\b\b\b\b\b\b\b\b\b\b\b\b\b\b\b\n",
      "Epoch 124/300\n",
      "3/3 [==============================] - 0s 62ms/step - loss: 0.5155 - val_loss: 0.4701\b\b\b\b\b\b\b\b\b\b\b\b\b\b\b\b\b\b\b\b\b\b\b\b\b\b\b\b\b\b\b\b\b\b\b\b\b\n",
      "Epoch 125/300\n",
      "3/3 [==============================] - 0s 55ms/step - loss: 0.4870 - val_loss: 0.4784\b\b\b\b\b\b\b\b\b\b\b\b\b\b\b\b\b\b\b\b\b\b\b\b\b\b\b\b\b\b\b\b\b\b\b\b\b\n",
      "Epoch 126/300\n",
      "3/3 [==============================] - 0s 31ms/step - loss: 0.4816 - val_loss: 0.4811\b\b\b\b\b\b\b\b\b\b\b\b\b\b\b\b\b\b\b\b\b\b\b\b\b\b\b\b\b\b\b\b\b\b\b\b\b\n",
      "Epoch 127/300\n",
      "3/3 [==============================] - 0s 16ms/step - loss: 0.4928 - val_loss: 0.4847\b\b\b\b\b\b\b\b\b\b\b\b\b\b\b\b\b\b\b\b\b\b\b\b\b\b\b\b\b\b\b\b\b\b\b\b\b\n",
      "Epoch 128/300\n",
      "3/3 [==============================] - 0s 47ms/step - loss: 0.5304 - val_loss: 0.4863\b\b\b\b\b\b\b\b\b\b\b\b\b\b\b\b\b\b\b\b\b\b\b\b\b\b\b\b\b\b\b\b\b\b\b\b\b\n",
      "Epoch 129/300\n",
      "3/3 [==============================] - 0s 16ms/step - loss: 0.4979 - val_loss: 0.4933\b\b\b\b\b\b\b\b\b\b\b\b\b\b\b\b\b\b\b\b\b\b\b\b\b\b\b\b\b\b\b\b\b\b\b\b\b\n",
      "Epoch 130/300\n",
      "3/3 [==============================] - 0s 16ms/step - loss: 0.4861 - val_loss: 0.5027\b\b\b\b\b\b\b\b\b\b\b\b\b\b\b\b\b\b\b\b\b\b\b\b\b\b\b\b\b\b\b\b\b\b\b\b\b\n",
      "Epoch 131/300\n",
      "3/3 [==============================] - 0s 16ms/step - loss: 0.4714 - val_loss: 0.5047\b\b\b\b\b\b\b\b\b\b\b\b\b\b\b\b\b\b\b\b\b\b\b\b\b\b\b\b\b\b\b\b\b\b\b\b\b\n",
      "Epoch 132/300\n",
      "3/3 [==============================] - 0s 16ms/step - loss: 0.4952 - val_loss: 0.5074\b\b\b\b\b\b\b\b\b\b\b\b\b\b\b\b\b\b\b\b\b\b\b\b\b\b\b\b\b\b\b\b\b\b\b\b\b\n",
      "Epoch 133/300\n",
      "3/3 [==============================] - 0s 8ms/step - loss: 0.4573 - val_loss: 0.5049\b\b\b\b\b\b\b\b\b\b\b\b\b\b\b\b\b\b\b\b\b\b\b\b\b\b\b\b\b\b\b\b\b\b\b\b\b\b\n",
      "Epoch 134/300\n",
      "3/3 [==============================] - 0s 16ms/step - loss: 0.4612 - val_loss: 0.4914\b\b\b\b\b\b\b\b\b\b\b\b\b\b\b\b\b\b\b\b\b\b\b\b\b\b\b\b\b\b\b\b\b\b\b\b\b\n",
      "Epoch 135/300\n",
      "3/3 [==============================] - 0s 10ms/step - loss: 0.4516 - val_loss: 0.4877\b\b\b\b\b\b\b\b\b\b\b\b\b\b\b\b\b\b\b\b\b\b\b\b\b\b\b\b\b\b\b\b\b\b\b\b\b\n",
      "Epoch 136/300\n",
      "3/3 [==============================] - 0s 8ms/step - loss: 0.5055 - val_loss: 0.4915\b\b\b\b\b\b\b\b\b\b\b\b\b\b\b\b\b\b\b\b\b\b\b\b\b\b\b\b\b\b\b\b\b\b\b\b\b\b\n",
      "Epoch 137/300\n",
      "3/3 [==============================] - 0s 8ms/step - loss: 0.4857 - val_loss: 0.4937\b\b\b\b\b\b\b\b\b\b\b\b\b\b\b\b\b\b\b\b\b\b\b\b\b\b\b\b\b\b\b\b\b\b\b\b\b\b\n",
      "Epoch 138/300\n",
      "3/3 [==============================] - 0s 3ms/step - loss: 0.4703 - val_loss: 0.4959\b\b\b\b\b\b\b\b\b\b\b\b\b\b\b\b\b\b\b\b\b\b\b\b\b\b\b\b\b\b\b\b\b\b\b\b\b\b\n",
      "Epoch 139/300\n",
      "3/3 [==============================] - 0s 8ms/step - loss: 0.4625 - val_loss: 0.4881\b\b\b\b\b\b\b\b\b\b\b\b\b\b\b\b\b\b\b\b\b\b\b\b\b\b\b\b\b\b\b\b\b\b\b\b\b\b\n",
      "Epoch 140/300\n",
      "3/3 [==============================] - 0s 8ms/step - loss: 0.4782 - val_loss: 0.4807\b\b\b\b\b\b\b\b\b\b\b\b\b\b\b\b\b\b\b\b\b\b\b\b\b\b\b\b\b\b\b\b\b\b\b\b\b\b\n",
      "Epoch 141/300\n",
      "3/3 [==============================] - 0s 8ms/step - loss: 0.4663 - val_loss: 0.4741\b\b\b\b\b\b\b\b\b\b\b\b\b\b\b\b\b\b\b\b\b\b\b\b\b\b\b\b\b\b\b\b\b\b\b\b\b\b\n",
      "Epoch 142/300\n",
      "3/3 [==============================] - 0s 8ms/step - loss: 0.4840 - val_loss: 0.4751\b\b\b\b\b\b\b\b\b\b\b\b\b\b\b\b\b\b\b\b\b\b\b\b\b\b\b\b\b\b\b\b\b\b\b\b\b\b\n",
      "Epoch 00142: early stopping\n"
     ]
    },
    {
     "data": {
      "text/plain": "<tensorflow.python.keras.callbacks.History at 0x1f5f8e2c910>"
     },
     "execution_count": 32,
     "metadata": {},
     "output_type": "execute_result"
    }
   ],
   "source": [
    "model.fit(x=X_train,\n",
    "          y=y_train,\n",
    "          epochs=300,\n",
    "          validation_data=(X_test, y_test),\n",
    "          callbacks=early_stop)"
   ],
   "metadata": {
    "collapsed": false,
    "pycharm": {
     "name": "#%%\n"
    }
   }
  },
  {
   "cell_type": "code",
   "execution_count": 33,
   "outputs": [],
   "source": [
    "losses = pd.DataFrame(model.history.history)"
   ],
   "metadata": {
    "collapsed": false,
    "pycharm": {
     "name": "#%%\n"
    }
   }
  },
  {
   "cell_type": "code",
   "execution_count": 34,
   "outputs": [
    {
     "data": {
      "text/plain": "<AxesSubplot:>"
     },
     "execution_count": 34,
     "metadata": {},
     "output_type": "execute_result"
    },
    {
     "data": {
      "text/plain": "<Figure size 432x288 with 1 Axes>",
      "image/png": "[encoded data removed]"
     },
     "metadata": {
      "needs_background": "light"
     },
     "output_type": "display_data"
    }
   ],
   "source": [
    "losses.plot()"
   ],
   "metadata": {
    "collapsed": false,
    "pycharm": {
     "name": "#%%\n"
    }
   }
  },
  {
   "cell_type": "code",
   "execution_count": 35,
   "outputs": [],
   "source": [
    "predictions = (model.predict(X_test) > 0.5).astype(\"int32\")"
   ],
   "metadata": {
    "collapsed": false,
    "pycharm": {
     "name": "#%%\n"
    }
   }
  },
  {
   "cell_type": "code",
   "execution_count": 36,
   "outputs": [],
   "source": [
    "from sklearn.metrics import classification_report, confusion_matrix"
   ],
   "metadata": {
    "collapsed": false,
    "pycharm": {
     "name": "#%%\n"
    }
   }
  },
  {
   "cell_type": "code",
   "execution_count": 37,
   "outputs": [
    {
     "name": "stdout",
     "output_type": "stream",
     "text": [
      "              precision    recall  f1-score   support\n",
      "\n",
      "           0       0.78      0.64      0.70        11\n",
      "           1       0.71      0.83      0.77        12\n",
      "\n",
      "    accuracy                           0.74        23\n",
      "   macro avg       0.75      0.73      0.73        23\n",
      "weighted avg       0.74      0.74      0.74        23\n",
      "\n"
     ]
    }
   ],
   "source": [
    "print(classification_report(y_test, predictions))"
   ],
   "metadata": {
    "collapsed": false,
    "pycharm": {
     "name": "#%%\n"
    }
   }
  },
  {
   "cell_type": "code",
   "execution_count": 38,
   "outputs": [
    {
     "name": "stdout",
     "output_type": "stream",
     "text": [
      "[[ 7  4]\n",
      " [ 2 10]]\n"
     ]
    }
   ],
   "source": [
    "print(confusion_matrix(y_test, predictions))"
   ],
   "metadata": {
    "collapsed": false,
    "pycharm": {
     "name": "#%%\n"
    }
   }
  },
  {
   "cell_type": "code",
   "execution_count": 39,
   "outputs": [
    {
     "name": "stdout",
     "output_type": "stream",
     "text": [
      "INFO:tensorflow:Assets written to: saved_model/assets\n"
     ]
    }
   ],
   "source": [
    "model.save('saved_model/')"
   ],
   "metadata": {
    "collapsed": false,
    "pycharm": {
     "name": "#%%\n"
    }
   }
  }
 ],
 "metadata": {
  "kernelspec": {
   "display_name": "Python 3",
   "language": "python",
   "name": "python3"
  },
  "language_info": {
   "codemirror_mode": {
    "name": "ipython",
    "version": 2
   },
   "file_extension": ".py",
   "mimetype": "text/x-python",
   "name": "python",
   "nbconvert_exporter": "python",
   "pygments_lexer": "ipython2",
   "version": "2.7.6"
  }
 },
 "nbformat": 4,
 "nbformat_minor": 0
}