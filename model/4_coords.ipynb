{
 "cells": [
  {
   "cell_type": "markdown",
   "metadata": {
    "collapsed": true,
    "pycharm": {
     "name": "#%% md\n"
    }
   },
   "source": [
    "4 Coordinate Model"
   ]
  },
  {
   "cell_type": "code",
   "execution_count": 116,
   "outputs": [],
   "source": [
    "import pandas as pd\n",
    "import numpy as np\n",
    "import tensorflow as tf\n",
    "from matplotlib import pyplot as plt\n",
    "from tensorflow.keras.models import Sequential\n",
    "from tensorflow.keras.layers import Dense, Dropout\n",
    "from tensorflow.keras.callbacks import EarlyStopping\n",
    "from sklearn.preprocessing import MinMaxScaler\n",
    "from sklearn.model_selection import train_test_split\n",
    "from sklearn.metrics import classification_report, confusion_matrix"
   ],
   "metadata": {
    "collapsed": false,
    "pycharm": {
     "name": "#%%\n"
    }
   }
  },
  {
   "cell_type": "code",
   "execution_count": 117,
   "outputs": [],
   "source": [
    "# get the main paths\n",
    "df = pd.read_csv('../simulations/data/small_trajectories.csv')"
   ],
   "metadata": {
    "collapsed": false,
    "pycharm": {
     "name": "#%%\n"
    }
   }
  },
  {
   "cell_type": "code",
   "execution_count": 118,
   "outputs": [
    {
     "name": "stdout",
     "output_type": "stream",
     "text": [
      "<class 'pandas.core.frame.DataFrame'>\n",
      "RangeIndex: 774 entries, 0 to 773\n",
      "Data columns (total 11 columns):\n",
      " #   Column         Non-Null Count  Dtype  \n",
      "---  ------         --------------  -----  \n",
      " 0   Unnamed: 0     774 non-null    int64  \n",
      " 1   name           774 non-null    object \n",
      " 2   latitude_1     774 non-null    float64\n",
      " 3   longitude_1    774 non-null    float64\n",
      " 4   latitude_2     774 non-null    float64\n",
      " 5   longitude_2    774 non-null    float64\n",
      " 6   latitude_3     774 non-null    float64\n",
      " 7   longitude_3    774 non-null    float64\n",
      " 8   latitude_4     774 non-null    float64\n",
      " 9   longitude_4    774 non-null    float64\n",
      " 10  enter-parking  774 non-null    int64  \n",
      "dtypes: float64(8), int64(2), object(1)\n",
      "memory usage: 66.6+ KB\n"
     ]
    }
   ],
   "source": [
    "df.info()"
   ],
   "metadata": {
    "collapsed": false,
    "pycharm": {
     "name": "#%%\n"
    }
   }
  },
  {
   "cell_type": "code",
   "execution_count": 119,
   "outputs": [
    {
     "data": {
      "text/plain": "   Unnamed: 0        name  latitude_1  longitude_1  latitude_2  longitude_2  \\\n0           0  1_C_Missed   36.111036  -115.140870   36.111097  -115.140867   \n1           1  2_C_Missed   36.111100  -115.140855   36.111163  -115.140871   \n2           2  3_C_Missed   36.111139  -115.140852   36.111204  -115.140903   \n3           3  4_C_Missed   36.111150  -115.140803   36.111172  -115.140846   \n4           4  5_C_Missed   36.111163  -115.140799   36.111186  -115.140848   \n\n   latitude_3  longitude_3  latitude_4  longitude_4  enter-parking  \n0   36.111147  -115.140876   36.111202  -115.140939              0  \n1   36.111207  -115.140928   36.111219  -115.141021              0  \n2   36.111226  -115.140946   36.111226  -115.141043              0  \n3   36.111204  -115.140902   36.111213  -115.141005              0  \n4   36.111205  -115.140909   36.111206  -115.141019              0  ",
      "text/html": "<div>\n<style scoped>\n    .dataframe tbody tr th:only-of-type {\n        vertical-align: middle;\n    }\n\n    .dataframe tbody tr th {\n        vertical-align: top;\n    }\n\n    .dataframe thead th {\n        text-align: right;\n    }\n</style>\n<table border=\"1\" class=\"dataframe\">\n  <thead>\n    <tr style=\"text-align: right;\">\n      <th></th>\n      <th>Unnamed: 0</th>\n      <th>name</th>\n      <th>latitude_1</th>\n      <th>longitude_1</th>\n      <th>latitude_2</th>\n      <th>longitude_2</th>\n      <th>latitude_3</th>\n      <th>longitude_3</th>\n      <th>latitude_4</th>\n      <th>longitude_4</th>\n      <th>enter-parking</th>\n    </tr>\n  </thead>\n  <tbody>\n    <tr>\n      <th>0</th>\n      <td>0</td>\n      <td>1_C_Missed</td>\n      <td>36.111036</td>\n      <td>-115.140870</td>\n      <td>36.111097</td>\n      <td>-115.140867</td>\n      <td>36.111147</td>\n      <td>-115.140876</td>\n      <td>36.111202</td>\n      <td>-115.140939</td>\n      <td>0</td>\n    </tr>\n    <tr>\n      <th>1</th>\n      <td>1</td>\n      <td>2_C_Missed</td>\n      <td>36.111100</td>\n      <td>-115.140855</td>\n      <td>36.111163</td>\n      <td>-115.140871</td>\n      <td>36.111207</td>\n      <td>-115.140928</td>\n      <td>36.111219</td>\n      <td>-115.141021</td>\n      <td>0</td>\n    </tr>\n    <tr>\n      <th>2</th>\n      <td>2</td>\n      <td>3_C_Missed</td>\n      <td>36.111139</td>\n      <td>-115.140852</td>\n      <td>36.111204</td>\n      <td>-115.140903</td>\n      <td>36.111226</td>\n      <td>-115.140946</td>\n      <td>36.111226</td>\n      <td>-115.141043</td>\n      <td>0</td>\n    </tr>\n    <tr>\n      <th>3</th>\n      <td>3</td>\n      <td>4_C_Missed</td>\n      <td>36.111150</td>\n      <td>-115.140803</td>\n      <td>36.111172</td>\n      <td>-115.140846</td>\n      <td>36.111204</td>\n      <td>-115.140902</td>\n      <td>36.111213</td>\n      <td>-115.141005</td>\n      <td>0</td>\n    </tr>\n    <tr>\n      <th>4</th>\n      <td>4</td>\n      <td>5_C_Missed</td>\n      <td>36.111163</td>\n      <td>-115.140799</td>\n      <td>36.111186</td>\n      <td>-115.140848</td>\n      <td>36.111205</td>\n      <td>-115.140909</td>\n      <td>36.111206</td>\n      <td>-115.141019</td>\n      <td>0</td>\n    </tr>\n  </tbody>\n</table>\n</div>"
     },
     "execution_count": 119,
     "metadata": {},
     "output_type": "execute_result"
    }
   ],
   "source": [
    "df.head()"
   ],
   "metadata": {
    "collapsed": false,
    "pycharm": {
     "name": "#%%\n"
    }
   }
  },
  {
   "cell_type": "code",
   "execution_count": 120,
   "outputs": [],
   "source": [
    "# Get The cordinates for x\n",
    "x = df[df.columns[2:10]]\n",
    "\n",
    "# Get the last coordinate\n",
    "y = df['enter-parking'].values"
   ],
   "metadata": {
    "collapsed": false,
    "pycharm": {
     "name": "#%%\n"
    }
   }
  },
  {
   "cell_type": "code",
   "execution_count": 121,
   "outputs": [
    {
     "name": "stdout",
     "output_type": "stream",
     "text": [
      "     latitude_1  longitude_1  latitude_2  longitude_2  latitude_3  \\\n",
      "0     36.111036  -115.140870   36.111097  -115.140867   36.111147   \n",
      "1     36.111100  -115.140855   36.111163  -115.140871   36.111207   \n",
      "2     36.111139  -115.140852   36.111204  -115.140903   36.111226   \n",
      "3     36.111150  -115.140803   36.111172  -115.140846   36.111204   \n",
      "4     36.111163  -115.140799   36.111186  -115.140848   36.111205   \n",
      "..          ...          ...         ...          ...         ...   \n",
      "769   36.111161  -115.139535   36.111236  -115.139535   36.111315   \n",
      "770   36.111226  -115.139536   36.111330  -115.139533   36.111435   \n",
      "771   36.111286  -115.139484   36.111358  -115.139513   36.111420   \n",
      "772   36.111307  -115.139465   36.111377  -115.139499   36.111440   \n",
      "773   36.111374  -115.139479   36.111418  -115.139508   36.111491   \n",
      "\n",
      "     longitude_3  latitude_4  longitude_4  \n",
      "0    -115.140876   36.111202  -115.140939  \n",
      "1    -115.140928   36.111219  -115.141021  \n",
      "2    -115.140946   36.111226  -115.141043  \n",
      "3    -115.140902   36.111213  -115.141005  \n",
      "4    -115.140909   36.111206  -115.141019  \n",
      "..           ...         ...          ...  \n",
      "769  -115.139545   36.111405  -115.139545  \n",
      "770  -115.139541   36.111509  -115.139548  \n",
      "771  -115.139538   36.111483  -115.139549  \n",
      "772  -115.139521   36.111514  -115.139521  \n",
      "773  -115.139538   36.111561  -115.139559  \n",
      "\n",
      "[774 rows x 8 columns]\n",
      "[0 0 0 0 0 0 0 0 0 0 0 0 0 0 0 0 0 0 0 0 0 0 0 0 0 0 0 0 0 0 0 0 0 0 0 0 0\n",
      " 0 0 0 0 0 0 0 0 0 0 0 0 0 0 0 0 0 0 0 0 0 0 0 0 0 0 0 0 0 0 0 0 0 0 0 0 0\n",
      " 0 0 0 0 0 0 0 0 0 0 0 0 0 0 0 0 0 0 0 0 0 0 0 0 0 0 0 0 0 0 0 0 0 0 0 0 0\n",
      " 0 0 0 0 0 0 0 0 0 0 0 0 0 0 0 0 0 0 0 0 0 0 0 0 0 0 0 0 0 0 0 0 0 0 0 0 0\n",
      " 0 0 0 0 0 0 0 0 0 0 0 0 0 0 0 0 0 0 0 0 0 0 0 0 0 0 0 0 0 0 0 0 0 0 0 0 0\n",
      " 0 0 0 0 0 0 0 0 0 0 0 0 0 0 0 0 0 0 0 0 0 0 0 0 0 0 0 0 0 0 0 0 0 0 0 0 0\n",
      " 0 0 0 0 0 0 0 0 0 0 0 0 0 0 0 0 0 0 0 0 0 0 0 0 0 0 0 0 0 0 0 0 0 0 0 0 0\n",
      " 0 0 0 0 0 0 0 0 0 0 0 0 0 0 0 0 0 0 0 0 0 0 0 0 0 0 0 0 0 0 0 0 0 0 0 0 0\n",
      " 0 0 0 0 0 0 0 0 0 0 0 0 0 0 0 0 0 0 0 0 0 0 0 0 0 0 0 0 0 0 0 0 0 0 0 0 0\n",
      " 0 0 0 0 0 0 0 0 0 0 0 0 0 0 0 0 0 0 0 0 0 0 0 0 0 0 0 0 0 0 0 0 0 0 0 0 1\n",
      " 1 1 1 1 1 1 1 1 1 1 1 1 1 1 1 1 1 1 1 1 1 1 1 1 1 1 1 1 1 1 1 1 1 1 1 1 1\n",
      " 1 1 1 1 1 1 1 1 1 1 1 1 1 1 1 1 1 1 1 1 1 1 1 1 1 1 1 1 1 1 1 1 1 1 1 1 1\n",
      " 1 1 1 1 1 1 1 1 1 1 1 1 1 1 1 1 1 1 1 1 1 1 1 1 1 1 1 1 1 1 1 1 1 1 1 1 1\n",
      " 1 1 1 1 1 1 1 1 1 1 1 1 1 1 1 1 1 1 1 1 1 1 1 1 1 1 1 1 1 1 1 1 1 1 1 1 1\n",
      " 1 1 1 1 1 1 1 1 1 1 1 1 1 1 1 1 1 1 1 1 1 1 1 1 1 1 1 1 1 1 1 1 1 1 1 1 1\n",
      " 1 1 1 1 1 1 1 1 1 1 1 1 1 1 1 1 1 1 1 1 1 1 1 1 1 1 1 1 1 1 1 1 1 1 1 1 1\n",
      " 1 1 1 1 1 1 1 1 1 1 1 1 1 1 1 1 1 1 1 1 1 1 1 1 1 1 1 1 1 1 1 1 1 1 1 1 1\n",
      " 1 1 1 1 1 1 1 1 1 1 1 1 1 1 1 1 1 1 1 1 1 1 1 1 1 1 1 1 1 1 1 1 1 1 1 1 1\n",
      " 1 1 1 1 1 1 1 1 1 1 1 1 1 1 1 1 1 1 1 1 1 1 1 1 1 1 1 1 1 1 1 1 1 1 1 1 1\n",
      " 1 1 1 1 1 1 1 1 1 1 1 1 1 1 1 1 1 1 1 1 1 1 1 1 1 1 1 1 1 1 1 1 1 1 1 1 1\n",
      " 1 1 1 1 1 1 1 1 1 1 1 1 1 1 1 1 1 1 1 1 1 1 1 1 1 1 1 1 1 1 1 1 1 1]\n"
     ]
    }
   ],
   "source": [
    "print(x)\n",
    "print(y)"
   ],
   "metadata": {
    "collapsed": false,
    "pycharm": {
     "name": "#%%\n"
    }
   }
  },
  {
   "cell_type": "code",
   "execution_count": 122,
   "outputs": [],
   "source": [
    "x_train, x_test, y_train, y_test = train_test_split(x, y, test_size=0.25, random_state=71)"
   ],
   "metadata": {
    "collapsed": false,
    "pycharm": {
     "name": "#%%\n"
    }
   }
  },
  {
   "cell_type": "code",
   "execution_count": 123,
   "outputs": [],
   "source": [
    "# Scale data\n",
    "scaler = MinMaxScaler()\n",
    "\n",
    "x_train = scaler.fit_transform(x_train)\n",
    "\n",
    "x_test = scaler.transform(x_test)"
   ],
   "metadata": {
    "collapsed": false,
    "pycharm": {
     "name": "#%%\n"
    }
   }
  },
  {
   "cell_type": "code",
   "execution_count": 124,
   "outputs": [
    {
     "data": {
      "text/plain": "(580, 8)"
     },
     "execution_count": 124,
     "metadata": {},
     "output_type": "execute_result"
    }
   ],
   "source": [
    "x_train.shape"
   ],
   "metadata": {
    "collapsed": false,
    "pycharm": {
     "name": "#%%\n"
    }
   }
  },
  {
   "cell_type": "code",
   "execution_count": 125,
   "outputs": [],
   "source": [
    "early_stop = EarlyStopping(monitor='val_loss', mode='min', verbose=1, patience=15)\n",
    "\n",
    "# Model creation\n",
    "model = Sequential()\n",
    "\n",
    "# 8 neurons for input layer\n",
    "model.add(Dense(8, activation='relu'))\n",
    "model.add(Dropout(0.3))\n",
    "\n",
    "model.add(Dense(6, activation='relu'))\n",
    "model.add(Dropout(0.3))\n",
    "\n",
    "# Binary classification\n",
    "model.add(Dense(1, activation='sigmoid'))\n",
    "\n",
    "model.compile(loss='binary_crossentropy',\n",
    "              optimizer=tf.keras.optimizers.Adam(lr=0.01),\n",
    "              metrics=['accuracy'])"
   ],
   "metadata": {
    "collapsed": false,
    "pycharm": {
     "name": "#%%\n"
    }
   }
  },
  {
   "cell_type": "code",
   "execution_count": 126,
   "outputs": [
    {
     "name": "stdout",
     "output_type": "stream",
     "text": [
      "Epoch 1/200\n",
      "WARNING:tensorflow:AutoGraph could not transform <function Model.make_train_function.<locals>.train_function at 0x1609984c0> and will run it as-is.\n",
      "Please report this to the TensorFlow team. When filing the bug, set the verbosity to 10 (on Linux, `export AUTOGRAPH_VERBOSITY=10`) and attach the full output.\n",
      "Cause: unsupported operand type(s) for -: 'NoneType' and 'int'\n",
      "To silence this warning, decorate the function with @tf.autograph.experimental.do_not_convert\n",
      "WARNING: AutoGraph could not transform <function Model.make_train_function.<locals>.train_function at 0x1609984c0> and will run it as-is.\n",
      "Please report this to the TensorFlow team. When filing the bug, set the verbosity to 10 (on Linux, `export AUTOGRAPH_VERBOSITY=10`) and attach the full output.\n",
      "Cause: unsupported operand type(s) for -: 'NoneType' and 'int'\n",
      "To silence this warning, decorate the function with @tf.autograph.experimental.do_not_convert\n",
      " 1/19 [>.............................] - ETA: 5s - loss: 0.7833 - accuracy: 0.3438WARNING:tensorflow:AutoGraph could not transform <function Model.make_test_function.<locals>.test_function at 0x16098b550> and will run it as-is.\n",
      "Please report this to the TensorFlow team. When filing the bug, set the verbosity to 10 (on Linux, `export AUTOGRAPH_VERBOSITY=10`) and attach the full output.\n",
      "Cause: unsupported operand type(s) for -: 'NoneType' and 'int'\n",
      "To silence this warning, decorate the function with @tf.autograph.experimental.do_not_convert\n",
      "WARNING: AutoGraph could not transform <function Model.make_test_function.<locals>.test_function at 0x16098b550> and will run it as-is.\n",
      "Please report this to the TensorFlow team. When filing the bug, set the verbosity to 10 (on Linux, `export AUTOGRAPH_VERBOSITY=10`) and attach the full output.\n",
      "Cause: unsupported operand type(s) for -: 'NoneType' and 'int'\n",
      "To silence this warning, decorate the function with @tf.autograph.experimental.do_not_convert\n",
      "19/19 [==============================] - 0s 5ms/step - loss: 0.7168 - accuracy: 0.4742 - val_loss: 0.6950 - val_accuracy: 0.4845\n",
      "Epoch 2/200\n",
      "19/19 [==============================] - 0s 1ms/step - loss: 0.6932 - accuracy: 0.5089 - val_loss: 0.6925 - val_accuracy: 0.5155\b\b\b\b\b\b\b\b\b\b\b\b\b\b\b\b\b\b\b\b\b\b\b\b\b\b\b\b\b\b\b\b\b\b\b\b\n",
      "Epoch 3/200\n",
      "19/19 [==============================] - 0s 2ms/step - loss: 0.6911 - accuracy: 0.5348 - val_loss: 0.6938 - val_accuracy: 0.5155\b\b\b\b\b\b\b\b\b\b\b\b\b\b\b\b\b\b\b\b\b\b\b\b\b\b\b\b\b\b\b\b\b\b\b\b\n",
      "Epoch 4/200\n",
      "19/19 [==============================] - 0s 1ms/step - loss: 0.6945 - accuracy: 0.5134 - val_loss: 0.6984 - val_accuracy: 0.5155\b\b\b\b\b\b\b\b\b\b\b\b\b\b\b\b\b\b\b\b\b\b\b\b\b\b\b\b\b\b\b\b\b\b\b\b\n",
      "Epoch 5/200\n",
      "19/19 [==============================] - 0s 1ms/step - loss: 0.6883 - accuracy: 0.5490 - val_loss: 0.6946 - val_accuracy: 0.5155\b\b\b\b\b\b\b\b\b\b\b\b\b\b\b\b\b\b\b\b\b\b\b\b\b\b\b\b\b\b\b\b\b\b\b\b\n",
      "Epoch 6/200\n",
      "19/19 [==============================] - 0s 1ms/step - loss: 0.6899 - accuracy: 0.5481 - val_loss: 0.6959 - val_accuracy: 0.5052\b\b\b\b\b\b\b\b\b\b\b\b\b\b\b\b\b\b\b\b\b\b\b\b\b\b\b\b\b\b\b\b\b\b\b\b\n",
      "Epoch 7/200\n",
      "19/19 [==============================] - 0s 1ms/step - loss: 0.6879 - accuracy: 0.5502 - val_loss: 0.6921 - val_accuracy: 0.5155\b\b\b\b\b\b\b\b\b\b\b\b\b\b\b\b\b\b\b\b\b\b\b\b\b\b\b\b\b\b\b\b\b\b\b\b\n",
      "Epoch 8/200\n",
      "19/19 [==============================] - 0s 1ms/step - loss: 0.6947 - accuracy: 0.5272 - val_loss: 0.6900 - val_accuracy: 0.5464\b\b\b\b\b\b\b\b\b\b\b\b\b\b\b\b\b\b\b\b\b\b\b\b\b\b\b\b\b\b\b\b\b\b\b\b\n",
      "Epoch 9/200\n",
      "19/19 [==============================] - 0s 1ms/step - loss: 0.6887 - accuracy: 0.5508 - val_loss: 0.6958 - val_accuracy: 0.5052\b\b\b\b\b\b\b\b\b\b\b\b\b\b\b\b\b\b\b\b\b\b\b\b\b\b\b\b\b\b\b\b\b\b\b\b\n",
      "Epoch 10/200\n",
      "19/19 [==============================] - 0s 1ms/step - loss: 0.6884 - accuracy: 0.5425 - val_loss: 0.6938 - val_accuracy: 0.4948\b\b\b\b\b\b\b\b\b\b\b\b\b\b\b\b\b\b\b\b\b\b\b\b\b\b\b\b\b\b\b\b\b\b\b\b\n",
      "Epoch 11/200\n",
      "19/19 [==============================] - 0s 1ms/step - loss: 0.6894 - accuracy: 0.5200 - val_loss: 0.7030 - val_accuracy: 0.4794\b\b\b\b\b\b\b\b\b\b\b\b\b\b\b\b\b\b\b\b\b\b\b\b\b\b\b\b\b\b\b\b\b\b\b\b\n",
      "Epoch 12/200\n",
      "19/19 [==============================] - 0s 1ms/step - loss: 0.6924 - accuracy: 0.5201 - val_loss: 0.6929 - val_accuracy: 0.5155\b\b\b\b\b\b\b\b\b\b\b\b\b\b\b\b\b\b\b\b\b\b\b\b\b\b\b\b\b\b\b\b\b\b\b\b\n",
      "Epoch 13/200\n",
      "19/19 [==============================] - 0s 1ms/step - loss: 0.6919 - accuracy: 0.5207 - val_loss: 0.6931 - val_accuracy: 0.5155\b\b\b\b\b\b\b\b\b\b\b\b\b\b\b\b\b\b\b\b\b\b\b\b\b\b\b\b\b\b\b\b\b\b\b\b\n",
      "Epoch 14/200\n",
      "19/19 [==============================] - 0s 1ms/step - loss: 0.6914 - accuracy: 0.5354 - val_loss: 0.6930 - val_accuracy: 0.5155\b\b\b\b\b\b\b\b\b\b\b\b\b\b\b\b\b\b\b\b\b\b\b\b\b\b\b\b\b\b\b\b\b\b\b\b\n",
      "Epoch 15/200\n",
      "19/19 [==============================] - 0s 1ms/step - loss: 0.6923 - accuracy: 0.5236 - val_loss: 0.6928 - val_accuracy: 0.5155\b\b\b\b\b\b\b\b\b\b\b\b\b\b\b\b\b\b\b\b\b\b\b\b\b\b\b\b\b\b\b\b\b\b\b\b\n",
      "Epoch 16/200\n",
      "19/19 [==============================] - 0s 2ms/step - loss: 0.6939 - accuracy: 0.5037 - val_loss: 0.6928 - val_accuracy: 0.5155\b\b\b\b\b\b\b\b\b\b\b\b\b\b\b\b\b\b\b\b\b\b\b\b\b\b\b\b\b\b\b\b\b\b\b\b\n",
      "Epoch 17/200\n",
      "19/19 [==============================] - 0s 1ms/step - loss: 0.6918 - accuracy: 0.5292 - val_loss: 0.6928 - val_accuracy: 0.5155\b\b\b\b\b\b\b\b\b\b\b\b\b\b\b\b\b\b\b\b\b\b\b\b\b\b\b\b\b\b\b\b\b\b\b\b\n",
      "Epoch 18/200\n",
      "19/19 [==============================] - 0s 1ms/step - loss: 0.6921 - accuracy: 0.5176 - val_loss: 0.6933 - val_accuracy: 0.5155\b\b\b\b\b\b\b\b\b\b\b\b\b\b\b\b\b\b\b\b\b\b\b\b\b\b\b\b\b\b\b\b\b\b\b\b\n",
      "Epoch 19/200\n",
      "19/19 [==============================] - 0s 1ms/step - loss: 0.6907 - accuracy: 0.5464 - val_loss: 0.6922 - val_accuracy: 0.5155\b\b\b\b\b\b\b\b\b\b\b\b\b\b\b\b\b\b\b\b\b\b\b\b\b\b\b\b\b\b\b\b\b\b\b\b\n",
      "Epoch 20/200\n",
      "19/19 [==============================] - 0s 1ms/step - loss: 0.6920 - accuracy: 0.5259 - val_loss: 0.6935 - val_accuracy: 0.5155\b\b\b\b\b\b\b\b\b\b\b\b\b\b\b\b\b\b\b\b\b\b\b\b\b\b\b\b\b\b\b\b\b\b\b\b\n",
      "Epoch 21/200\n",
      "19/19 [==============================] - 0s 1ms/step - loss: 0.6906 - accuracy: 0.5354 - val_loss: 0.6928 - val_accuracy: 0.5155\b\b\b\b\b\b\b\b\b\b\b\b\b\b\b\b\b\b\b\b\b\b\b\b\b\b\b\b\b\b\b\b\b\b\b\b\n",
      "Epoch 22/200\n",
      "19/19 [==============================] - 0s 1ms/step - loss: 0.6938 - accuracy: 0.5128 - val_loss: 0.6930 - val_accuracy: 0.5155\b\b\b\b\b\b\b\b\b\b\b\b\b\b\b\b\b\b\b\b\b\b\b\b\b\b\b\b\b\b\b\b\b\b\b\b\n",
      "Epoch 23/200\n",
      "19/19 [==============================] - 0s 1ms/step - loss: 0.6923 - accuracy: 0.5240 - val_loss: 0.6933 - val_accuracy: 0.5155\b\b\b\b\b\b\b\b\b\b\b\b\b\b\b\b\b\b\b\b\b\b\b\b\b\b\b\b\b\b\b\b\b\b\b\b\n",
      "Epoch 24/200\n",
      "19/19 [==============================] - 0s 1ms/step - loss: 0.6922 - accuracy: 0.5242 - val_loss: 0.6935 - val_accuracy: 0.5155\b\b\b\b\b\b\b\b\b\b\b\b\b\b\b\b\b\b\b\b\b\b\b\b\b\b\b\b\b\b\b\b\b\b\b\b\n",
      "Epoch 25/200\n",
      "19/19 [==============================] - 0s 1ms/step - loss: 0.6937 - accuracy: 0.5191 - val_loss: 0.6931 - val_accuracy: 0.5155\b\b\b\b\b\b\b\b\b\b\b\b\b\b\b\b\b\b\b\b\b\b\b\b\b\b\b\b\b\b\b\b\b\b\b\b\n",
      "Epoch 26/200\n",
      "19/19 [==============================] - 0s 1ms/step - loss: 0.6946 - accuracy: 0.5082 - val_loss: 0.6934 - val_accuracy: 0.5155\b\b\b\b\b\b\b\b\b\b\b\b\b\b\b\b\b\b\b\b\b\b\b\b\b\b\b\b\b\b\b\b\b\b\b\b\n",
      "Epoch 27/200\n",
      "19/19 [==============================] - 0s 1ms/step - loss: 0.6888 - accuracy: 0.5576 - val_loss: 0.6936 - val_accuracy: 0.5155\b\b\b\b\b\b\b\b\b\b\b\b\b\b\b\b\b\b\b\b\b\b\b\b\b\b\b\b\b\b\b\b\b\b\b\b\n",
      "Epoch 28/200\n",
      "19/19 [==============================] - 0s 1ms/step - loss: 0.6976 - accuracy: 0.4829 - val_loss: 0.6930 - val_accuracy: 0.5155\b\b\b\b\b\b\b\b\b\b\b\b\b\b\b\b\b\b\b\b\b\b\b\b\b\b\b\b\b\b\b\b\b\b\b\b\n",
      "Epoch 29/200\n",
      "19/19 [==============================] - 0s 1ms/step - loss: 0.6891 - accuracy: 0.5540 - val_loss: 0.6933 - val_accuracy: 0.5155\b\b\b\b\b\b\b\b\b\b\b\b\b\b\b\b\b\b\b\b\b\b\b\b\b\b\b\b\b\b\b\b\b\b\b\b\n",
      "Epoch 30/200\n",
      "19/19 [==============================] - 0s 1ms/step - loss: 0.6931 - accuracy: 0.5191 - val_loss: 0.6935 - val_accuracy: 0.5155\b\b\b\b\b\b\b\b\b\b\b\b\b\b\b\b\b\b\b\b\b\b\b\b\b\b\b\b\b\b\b\b\b\b\b\b\n",
      "Epoch 31/200\n",
      "19/19 [==============================] - 0s 1ms/step - loss: 0.6941 - accuracy: 0.5085 - val_loss: 0.6935 - val_accuracy: 0.5155\b\b\b\b\b\b\b\b\b\b\b\b\b\b\b\b\b\b\b\b\b\b\b\b\b\b\b\b\b\b\b\b\b\b\b\b\n",
      "Epoch 32/200\n",
      "19/19 [==============================] - 0s 1ms/step - loss: 0.6890 - accuracy: 0.5442 - val_loss: 0.6937 - val_accuracy: 0.5155\b\b\b\b\b\b\b\b\b\b\b\b\b\b\b\b\b\b\b\b\b\b\b\b\b\b\b\b\b\b\b\b\b\b\b\b\n",
      "Epoch 33/200\n",
      "19/19 [==============================] - 0s 1ms/step - loss: 0.6879 - accuracy: 0.5530 - val_loss: 0.6934 - val_accuracy: 0.5155\b\b\b\b\b\b\b\b\b\b\b\b\b\b\b\b\b\b\b\b\b\b\b\b\b\b\b\b\b\b\b\b\b\b\b\b\n",
      "Epoch 34/200\n",
      "19/19 [==============================] - 0s 1ms/step - loss: 0.6908 - accuracy: 0.5366 - val_loss: 0.6940 - val_accuracy: 0.5155\b\b\b\b\b\b\b\b\b\b\b\b\b\b\b\b\b\b\b\b\b\b\b\b\b\b\b\b\b\b\b\b\b\b\b\b\n",
      "Epoch 35/200\n",
      "19/19 [==============================] - 0s 1ms/step - loss: 0.6911 - accuracy: 0.5324 - val_loss: 0.6932 - val_accuracy: 0.5155\b\b\b\b\b\b\b\b\b\b\b\b\b\b\b\b\b\b\b\b\b\b\b\b\b\b\b\b\b\b\b\b\b\b\b\b\n",
      "Epoch 36/200\n",
      "19/19 [==============================] - 0s 1ms/step - loss: 0.6898 - accuracy: 0.5423 - val_loss: 0.6940 - val_accuracy: 0.5155\b\b\b\b\b\b\b\b\b\b\b\b\b\b\b\b\b\b\b\b\b\b\b\b\b\b\b\b\b\b\b\b\b\b\b\b\n",
      "Epoch 37/200\n",
      "19/19 [==============================] - 0s 1ms/step - loss: 0.6897 - accuracy: 0.5338 - val_loss: 0.6937 - val_accuracy: 0.5155\b\b\b\b\b\b\b\b\b\b\b\b\b\b\b\b\b\b\b\b\b\b\b\b\b\b\b\b\b\b\b\b\b\b\b\b\n",
      "Epoch 38/200\n",
      "19/19 [==============================] - 0s 1ms/step - loss: 0.6913 - accuracy: 0.5331 - val_loss: 0.6937 - val_accuracy: 0.5155\b\b\b\b\b\b\b\b\b\b\b\b\b\b\b\b\b\b\b\b\b\b\b\b\b\b\b\b\b\b\b\b\b\b\b\b\n",
      "Epoch 39/200\n",
      "19/19 [==============================] - 0s 1ms/step - loss: 0.6899 - accuracy: 0.5447 - val_loss: 0.6940 - val_accuracy: 0.5155\b\b\b\b\b\b\b\b\b\b\b\b\b\b\b\b\b\b\b\b\b\b\b\b\b\b\b\b\b\b\b\b\b\b\b\b\n",
      "Epoch 40/200\n",
      "19/19 [==============================] - 0s 1ms/step - loss: 0.6963 - accuracy: 0.5025 - val_loss: 0.6911 - val_accuracy: 0.5361\b\b\b\b\b\b\b\b\b\b\b\b\b\b\b\b\b\b\b\b\b\b\b\b\b\b\b\b\b\b\b\b\b\b\b\b\n",
      "Epoch 41/200\n",
      "19/19 [==============================] - 0s 1ms/step - loss: 0.6900 - accuracy: 0.5351 - val_loss: 0.6957 - val_accuracy: 0.4948\b\b\b\b\b\b\b\b\b\b\b\b\b\b\b\b\b\b\b\b\b\b\b\b\b\b\b\b\b\b\b\b\b\b\b\b\n",
      "Epoch 42/200\n",
      "19/19 [==============================] - 0s 1ms/step - loss: 0.6916 - accuracy: 0.5300 - val_loss: 0.6954 - val_accuracy: 0.5258\b\b\b\b\b\b\b\b\b\b\b\b\b\b\b\b\b\b\b\b\b\b\b\b\b\b\b\b\b\b\b\b\b\b\b\b\n",
      "Epoch 43/200\n",
      "19/19 [==============================] - 0s 1ms/step - loss: 0.6880 - accuracy: 0.5543 - val_loss: 0.6947 - val_accuracy: 0.5155\b\b\b\b\b\b\b\b\b\b\b\b\b\b\b\b\b\b\b\b\b\b\b\b\b\b\b\b\b\b\b\b\b\b\b\b\n",
      "Epoch 44/200\n",
      "19/19 [==============================] - 0s 1ms/step - loss: 0.6885 - accuracy: 0.5397 - val_loss: 0.6933 - val_accuracy: 0.5155\b\b\b\b\b\b\b\b\b\b\b\b\b\b\b\b\b\b\b\b\b\b\b\b\b\b\b\b\b\b\b\b\b\b\b\b\n",
      "Epoch 45/200\n",
      "19/19 [==============================] - 0s 1ms/step - loss: 0.6952 - accuracy: 0.4834 - val_loss: 0.6927 - val_accuracy: 0.5155\b\b\b\b\b\b\b\b\b\b\b\b\b\b\b\b\b\b\b\b\b\b\b\b\b\b\b\b\b\b\b\b\b\b\b\b\n",
      "Epoch 46/200\n",
      "19/19 [==============================] - 0s 1ms/step - loss: 0.6903 - accuracy: 0.5406 - val_loss: 0.6940 - val_accuracy: 0.5155\b\b\b\b\b\b\b\b\b\b\b\b\b\b\b\b\b\b\b\b\b\b\b\b\b\b\b\b\b\b\b\b\b\b\b\b\n",
      "Epoch 47/200\n",
      "19/19 [==============================] - 0s 1ms/step - loss: 0.6943 - accuracy: 0.5017 - val_loss: 0.6940 - val_accuracy: 0.5361\b\b\b\b\b\b\b\b\b\b\b\b\b\b\b\b\b\b\b\b\b\b\b\b\b\b\b\b\b\b\b\b\b\b\b\b\n",
      "Epoch 48/200\n",
      "19/19 [==============================] - 0s 1ms/step - loss: 0.6897 - accuracy: 0.5480 - val_loss: 0.6925 - val_accuracy: 0.5155\b\b\b\b\b\b\b\b\b\b\b\b\b\b\b\b\b\b\b\b\b\b\b\b\b\b\b\b\b\b\b\b\b\b\b\b\n",
      "Epoch 49/200\n",
      "19/19 [==============================] - 0s 1ms/step - loss: 0.6924 - accuracy: 0.5328 - val_loss: 0.6919 - val_accuracy: 0.5361\b\b\b\b\b\b\b\b\b\b\b\b\b\b\b\b\b\b\b\b\b\b\b\b\b\b\b\b\b\b\b\b\b\b\b\b\n",
      "Epoch 50/200\n",
      "19/19 [==============================] - 0s 1ms/step - loss: 0.6910 - accuracy: 0.5352 - val_loss: 0.6948 - val_accuracy: 0.4742\b\b\b\b\b\b\b\b\b\b\b\b\b\b\b\b\b\b\b\b\b\b\b\b\b\b\b\b\b\b\b\b\b\b\b\b\n",
      "Epoch 51/200\n",
      "19/19 [==============================] - 0s 1ms/step - loss: 0.6953 - accuracy: 0.5038 - val_loss: 0.6928 - val_accuracy: 0.5155\b\b\b\b\b\b\b\b\b\b\b\b\b\b\b\b\b\b\b\b\b\b\b\b\b\b\b\b\b\b\b\b\b\b\b\b\n",
      "Epoch 52/200\n",
      "19/19 [==============================] - 0s 1ms/step - loss: 0.6899 - accuracy: 0.5404 - val_loss: 0.6911 - val_accuracy: 0.5155\b\b\b\b\b\b\b\b\b\b\b\b\b\b\b\b\b\b\b\b\b\b\b\b\b\b\b\b\b\b\b\b\b\b\b\b\n",
      "Epoch 53/200\n",
      "19/19 [==============================] - 0s 1ms/step - loss: 0.6920 - accuracy: 0.5321 - val_loss: 0.6918 - val_accuracy: 0.5258\b\b\b\b\b\b\b\b\b\b\b\b\b\b\b\b\b\b\b\b\b\b\b\b\b\b\b\b\b\b\b\b\b\b\b\b\n",
      "Epoch 54/200\n",
      "19/19 [==============================] - 0s 1ms/step - loss: 0.6923 - accuracy: 0.5242 - val_loss: 0.6933 - val_accuracy: 0.5155\b\b\b\b\b\b\b\b\b\b\b\b\b\b\b\b\b\b\b\b\b\b\b\b\b\b\b\b\b\b\b\b\b\b\b\b\n",
      "Epoch 55/200\n",
      "19/19 [==============================] - 0s 1ms/step - loss: 0.6901 - accuracy: 0.5365 - val_loss: 0.6947 - val_accuracy: 0.4948\b\b\b\b\b\b\b\b\b\b\b\b\b\b\b\b\b\b\b\b\b\b\b\b\b\b\b\b\b\b\b\b\b\b\b\b\n",
      "Epoch 56/200\n",
      "19/19 [==============================] - 0s 1ms/step - loss: 0.6931 - accuracy: 0.5098 - val_loss: 0.6942 - val_accuracy: 0.4948\b\b\b\b\b\b\b\b\b\b\b\b\b\b\b\b\b\b\b\b\b\b\b\b\b\b\b\b\b\b\b\b\b\b\b\b\n",
      "Epoch 57/200\n",
      "19/19 [==============================] - 0s 1ms/step - loss: 0.6927 - accuracy: 0.5178 - val_loss: 0.6927 - val_accuracy: 0.5258\b\b\b\b\b\b\b\b\b\b\b\b\b\b\b\b\b\b\b\b\b\b\b\b\b\b\b\b\b\b\b\b\b\b\b\b\n",
      "Epoch 58/200\n",
      "19/19 [==============================] - 0s 1ms/step - loss: 0.6927 - accuracy: 0.5168 - val_loss: 0.6923 - val_accuracy: 0.5155\b\b\b\b\b\b\b\b\b\b\b\b\b\b\b\b\b\b\b\b\b\b\b\b\b\b\b\b\b\b\b\b\b\b\b\b\n",
      "Epoch 59/200\n",
      "19/19 [==============================] - 0s 1ms/step - loss: 0.6867 - accuracy: 0.5678 - val_loss: 0.7034 - val_accuracy: 0.5155\b\b\b\b\b\b\b\b\b\b\b\b\b\b\b\b\b\b\b\b\b\b\b\b\b\b\b\b\b\b\b\b\b\b\b\b\n",
      "Epoch 60/200\n",
      "19/19 [==============================] - 0s 1ms/step - loss: 0.7034 - accuracy: 0.5154 - val_loss: 0.6933 - val_accuracy: 0.5155\b\b\b\b\b\b\b\b\b\b\b\b\b\b\b\b\b\b\b\b\b\b\b\b\b\b\b\b\b\b\b\b\b\b\b\b\n",
      "Epoch 61/200\n",
      "19/19 [==============================] - 0s 1ms/step - loss: 0.6931 - accuracy: 0.5312 - val_loss: 0.6928 - val_accuracy: 0.5155\b\b\b\b\b\b\b\b\b\b\b\b\b\b\b\b\b\b\b\b\b\b\b\b\b\b\b\b\b\b\b\b\b\b\b\b\n",
      "Epoch 62/200\n",
      "19/19 [==============================] - 0s 1ms/step - loss: 0.6901 - accuracy: 0.5463 - val_loss: 0.6938 - val_accuracy: 0.5155\b\b\b\b\b\b\b\b\b\b\b\b\b\b\b\b\b\b\b\b\b\b\b\b\b\b\b\b\b\b\b\b\b\b\b\b\n",
      "Epoch 63/200\n",
      "19/19 [==============================] - 0s 1ms/step - loss: 0.6949 - accuracy: 0.5090 - val_loss: 0.6926 - val_accuracy: 0.5155\b\b\b\b\b\b\b\b\b\b\b\b\b\b\b\b\b\b\b\b\b\b\b\b\b\b\b\b\b\b\b\b\b\b\b\b\n",
      "Epoch 64/200\n",
      "19/19 [==============================] - 0s 1ms/step - loss: 0.6937 - accuracy: 0.5052 - val_loss: 0.6925 - val_accuracy: 0.5155\b\b\b\b\b\b\b\b\b\b\b\b\b\b\b\b\b\b\b\b\b\b\b\b\b\b\b\b\b\b\b\b\b\b\b\b\n",
      "Epoch 65/200\n",
      "19/19 [==============================] - 0s 1ms/step - loss: 0.6908 - accuracy: 0.5403 - val_loss: 0.6934 - val_accuracy: 0.5155\b\b\b\b\b\b\b\b\b\b\b\b\b\b\b\b\b\b\b\b\b\b\b\b\b\b\b\b\b\b\b\b\b\b\b\b\n",
      "Epoch 66/200\n",
      "19/19 [==============================] - 0s 1ms/step - loss: 0.6934 - accuracy: 0.5066 - val_loss: 0.6929 - val_accuracy: 0.5155\b\b\b\b\b\b\b\b\b\b\b\b\b\b\b\b\b\b\b\b\b\b\b\b\b\b\b\b\b\b\b\b\b\b\b\b\n",
      "Epoch 67/200\n",
      "19/19 [==============================] - 0s 1ms/step - loss: 0.6925 - accuracy: 0.5236 - val_loss: 0.6928 - val_accuracy: 0.5155\b\b\b\b\b\b\b\b\b\b\b\b\b\b\b\b\b\b\b\b\b\b\b\b\b\b\b\b\b\b\b\b\b\b\b\b\n",
      "Epoch 68/200\n",
      "19/19 [==============================] - 0s 1ms/step - loss: 0.6894 - accuracy: 0.5561 - val_loss: 0.6933 - val_accuracy: 0.5155\b\b\b\b\b\b\b\b\b\b\b\b\b\b\b\b\b\b\b\b\b\b\b\b\b\b\b\b\b\b\b\b\b\b\b\b\n",
      "Epoch 69/200\n",
      "19/19 [==============================] - 0s 1ms/step - loss: 0.6953 - accuracy: 0.5006 - val_loss: 0.6927 - val_accuracy: 0.5155\b\b\b\b\b\b\b\b\b\b\b\b\b\b\b\b\b\b\b\b\b\b\b\b\b\b\b\b\b\b\b\b\b\b\b\b\n",
      "Epoch 70/200\n",
      "19/19 [==============================] - 0s 1ms/step - loss: 0.6914 - accuracy: 0.5311 - val_loss: 0.6929 - val_accuracy: 0.5155\b\b\b\b\b\b\b\b\b\b\b\b\b\b\b\b\b\b\b\b\b\b\b\b\b\b\b\b\b\b\b\b\b\b\b\b\n",
      "Epoch 71/200\n",
      "19/19 [==============================] - 0s 1ms/step - loss: 0.6942 - accuracy: 0.5090 - val_loss: 0.6927 - val_accuracy: 0.5155\b\b\b\b\b\b\b\b\b\b\b\b\b\b\b\b\b\b\b\b\b\b\b\b\b\b\b\b\b\b\b\b\b\b\b\b\n",
      "Epoch 72/200\n",
      "19/19 [==============================] - 0s 1ms/step - loss: 0.6914 - accuracy: 0.5354 - val_loss: 0.6925 - val_accuracy: 0.5155\b\b\b\b\b\b\b\b\b\b\b\b\b\b\b\b\b\b\b\b\b\b\b\b\b\b\b\b\b\b\b\b\b\b\b\b\n",
      "Epoch 73/200\n",
      "19/19 [==============================] - 0s 1ms/step - loss: 0.6918 - accuracy: 0.5281 - val_loss: 0.6924 - val_accuracy: 0.5155\b\b\b\b\b\b\b\b\b\b\b\b\b\b\b\b\b\b\b\b\b\b\b\b\b\b\b\b\b\b\b\b\b\b\b\b\n",
      "Epoch 74/200\n",
      "19/19 [==============================] - 0s 1ms/step - loss: 0.6926 - accuracy: 0.5123 - val_loss: 0.6930 - val_accuracy: 0.5155\b\b\b\b\b\b\b\b\b\b\b\b\b\b\b\b\b\b\b\b\b\b\b\b\b\b\b\b\b\b\b\b\b\b\b\b\n",
      "Epoch 75/200\n",
      "19/19 [==============================] - 0s 1ms/step - loss: 0.6895 - accuracy: 0.5484 - val_loss: 0.6918 - val_accuracy: 0.5155\b\b\b\b\b\b\b\b\b\b\b\b\b\b\b\b\b\b\b\b\b\b\b\b\b\b\b\b\b\b\b\b\b\b\b\b\n",
      "Epoch 76/200\n",
      "19/19 [==============================] - 0s 1ms/step - loss: 0.6923 - accuracy: 0.5205 - val_loss: 0.6922 - val_accuracy: 0.5155\b\b\b\b\b\b\b\b\b\b\b\b\b\b\b\b\b\b\b\b\b\b\b\b\b\b\b\b\b\b\b\b\b\b\b\b\n",
      "Epoch 77/200\n",
      "19/19 [==============================] - 0s 1ms/step - loss: 0.6884 - accuracy: 0.5546 - val_loss: 0.6959 - val_accuracy: 0.5155\b\b\b\b\b\b\b\b\b\b\b\b\b\b\b\b\b\b\b\b\b\b\b\b\b\b\b\b\b\b\b\b\b\b\b\b\n",
      "Epoch 78/200\n",
      "19/19 [==============================] - 0s 1ms/step - loss: 0.6885 - accuracy: 0.5509 - val_loss: 0.6898 - val_accuracy: 0.5155\b\b\b\b\b\b\b\b\b\b\b\b\b\b\b\b\b\b\b\b\b\b\b\b\b\b\b\b\b\b\b\b\b\b\b\b\n",
      "Epoch 79/200\n",
      "19/19 [==============================] - 0s 1ms/step - loss: 0.6923 - accuracy: 0.5164 - val_loss: 0.6926 - val_accuracy: 0.5155\b\b\b\b\b\b\b\b\b\b\b\b\b\b\b\b\b\b\b\b\b\b\b\b\b\b\b\b\b\b\b\b\b\b\b\b\n",
      "Epoch 80/200\n",
      "19/19 [==============================] - 0s 1ms/step - loss: 0.6894 - accuracy: 0.5489 - val_loss: 0.6939 - val_accuracy: 0.5155\b\b\b\b\b\b\b\b\b\b\b\b\b\b\b\b\b\b\b\b\b\b\b\b\b\b\b\b\b\b\b\b\b\b\b\b\n",
      "Epoch 81/200\n",
      "19/19 [==============================] - 0s 1ms/step - loss: 0.6880 - accuracy: 0.5510 - val_loss: 0.6928 - val_accuracy: 0.5155\b\b\b\b\b\b\b\b\b\b\b\b\b\b\b\b\b\b\b\b\b\b\b\b\b\b\b\b\b\b\b\b\b\b\b\b\n",
      "Epoch 82/200\n",
      "19/19 [==============================] - 0s 1ms/step - loss: 0.6909 - accuracy: 0.5333 - val_loss: 0.6937 - val_accuracy: 0.5155\b\b\b\b\b\b\b\b\b\b\b\b\b\b\b\b\b\b\b\b\b\b\b\b\b\b\b\b\b\b\b\b\b\b\b\b\n",
      "Epoch 83/200\n",
      "19/19 [==============================] - 0s 1ms/step - loss: 0.6915 - accuracy: 0.5369 - val_loss: 0.6918 - val_accuracy: 0.5155\b\b\b\b\b\b\b\b\b\b\b\b\b\b\b\b\b\b\b\b\b\b\b\b\b\b\b\b\b\b\b\b\b\b\b\b\n",
      "Epoch 84/200\n",
      "19/19 [==============================] - 0s 1ms/step - loss: 0.6928 - accuracy: 0.5161 - val_loss: 0.6947 - val_accuracy: 0.5155\b\b\b\b\b\b\b\b\b\b\b\b\b\b\b\b\b\b\b\b\b\b\b\b\b\b\b\b\b\b\b\b\b\b\b\b\n",
      "Epoch 85/200\n",
      "19/19 [==============================] - 0s 1ms/step - loss: 0.6893 - accuracy: 0.5480 - val_loss: 0.6933 - val_accuracy: 0.5155\b\b\b\b\b\b\b\b\b\b\b\b\b\b\b\b\b\b\b\b\b\b\b\b\b\b\b\b\b\b\b\b\b\b\b\b\n",
      "Epoch 86/200\n",
      "19/19 [==============================] - 0s 1ms/step - loss: 0.6940 - accuracy: 0.5094 - val_loss: 0.6923 - val_accuracy: 0.5155\b\b\b\b\b\b\b\b\b\b\b\b\b\b\b\b\b\b\b\b\b\b\b\b\b\b\b\b\b\b\b\b\b\b\b\b\n",
      "Epoch 87/200\n",
      "19/19 [==============================] - 0s 1ms/step - loss: 0.6939 - accuracy: 0.5060 - val_loss: 0.6928 - val_accuracy: 0.5155\b\b\b\b\b\b\b\b\b\b\b\b\b\b\b\b\b\b\b\b\b\b\b\b\b\b\b\b\b\b\b\b\b\b\b\b\n",
      "Epoch 88/200\n",
      "19/19 [==============================] - 0s 1ms/step - loss: 0.6891 - accuracy: 0.5528 - val_loss: 0.6930 - val_accuracy: 0.5155\b\b\b\b\b\b\b\b\b\b\b\b\b\b\b\b\b\b\b\b\b\b\b\b\b\b\b\b\b\b\b\b\b\b\b\b\n",
      "Epoch 89/200\n",
      "19/19 [==============================] - 0s 1ms/step - loss: 0.6891 - accuracy: 0.5543 - val_loss: 0.6947 - val_accuracy: 0.5155\b\b\b\b\b\b\b\b\b\b\b\b\b\b\b\b\b\b\b\b\b\b\b\b\b\b\b\b\b\b\b\b\b\b\b\b\n",
      "Epoch 90/200\n",
      "19/19 [==============================] - 0s 1ms/step - loss: 0.6930 - accuracy: 0.5275 - val_loss: 0.6922 - val_accuracy: 0.5155\b\b\b\b\b\b\b\b\b\b\b\b\b\b\b\b\b\b\b\b\b\b\b\b\b\b\b\b\b\b\b\b\b\b\b\b\n",
      "Epoch 91/200\n",
      "19/19 [==============================] - 0s 1ms/step - loss: 0.6953 - accuracy: 0.4925 - val_loss: 0.6939 - val_accuracy: 0.4948\b\b\b\b\b\b\b\b\b\b\b\b\b\b\b\b\b\b\b\b\b\b\b\b\b\b\b\b\b\b\b\b\b\b\b\b\n",
      "Epoch 92/200\n",
      "19/19 [==============================] - 0s 1ms/step - loss: 0.6899 - accuracy: 0.5769 - val_loss: 0.6914 - val_accuracy: 0.5464\b\b\b\b\b\b\b\b\b\b\b\b\b\b\b\b\b\b\b\b\b\b\b\b\b\b\b\b\b\b\b\b\b\b\b\b\n",
      "Epoch 93/200\n",
      "19/19 [==============================] - 0s 1ms/step - loss: 0.6920 - accuracy: 0.5182 - val_loss: 0.6926 - val_accuracy: 0.5258\b\b\b\b\b\b\b\b\b\b\b\b\b\b\b\b\b\b\b\b\b\b\b\b\b\b\b\b\b\b\b\b\b\b\b\b\n",
      "Epoch 94/200\n",
      "19/19 [==============================] - 0s 1ms/step - loss: 0.6915 - accuracy: 0.5444 - val_loss: 0.6924 - val_accuracy: 0.5258\b\b\b\b\b\b\b\b\b\b\b\b\b\b\b\b\b\b\b\b\b\b\b\b\b\b\b\b\b\b\b\b\b\b\b\b\n",
      "Epoch 95/200\n",
      "19/19 [==============================] - 0s 1ms/step - loss: 0.6924 - accuracy: 0.5330 - val_loss: 0.6931 - val_accuracy: 0.5052\b\b\b\b\b\b\b\b\b\b\b\b\b\b\b\b\b\b\b\b\b\b\b\b\b\b\b\b\b\b\b\b\b\b\b\b\n",
      "Epoch 96/200\n",
      "19/19 [==============================] - 0s 1ms/step - loss: 0.6916 - accuracy: 0.5120 - val_loss: 0.6994 - val_accuracy: 0.5052\b\b\b\b\b\b\b\b\b\b\b\b\b\b\b\b\b\b\b\b\b\b\b\b\b\b\b\b\b\b\b\b\b\b\b\b\n",
      "Epoch 97/200\n",
      "19/19 [==============================] - 0s 1ms/step - loss: 0.6900 - accuracy: 0.5107 - val_loss: 0.6986 - val_accuracy: 0.4948\b\b\b\b\b\b\b\b\b\b\b\b\b\b\b\b\b\b\b\b\b\b\b\b\b\b\b\b\b\b\b\b\b\b\b\b\n",
      "Epoch 98/200\n",
      "19/19 [==============================] - 0s 1ms/step - loss: 0.6929 - accuracy: 0.5179 - val_loss: 0.6932 - val_accuracy: 0.5258\b\b\b\b\b\b\b\b\b\b\b\b\b\b\b\b\b\b\b\b\b\b\b\b\b\b\b\b\b\b\b\b\b\b\b\b\n",
      "Epoch 99/200\n",
      "19/19 [==============================] - 0s 1ms/step - loss: 0.6945 - accuracy: 0.5127 - val_loss: 0.6933 - val_accuracy: 0.5052\b\b\b\b\b\b\b\b\b\b\b\b\b\b\b\b\b\b\b\b\b\b\b\b\b\b\b\b\b\b\b\b\b\b\b\b\n",
      "Epoch 100/200\n",
      "19/19 [==============================] - 0s 1ms/step - loss: 0.6889 - accuracy: 0.5339 - val_loss: 0.6875 - val_accuracy: 0.5155\b\b\b\b\b\b\b\b\b\b\b\b\b\b\b\b\b\b\b\b\b\b\b\b\b\b\b\b\b\b\b\b\b\b\b\b\n",
      "Epoch 101/200\n",
      "19/19 [==============================] - 0s 1ms/step - loss: 0.6946 - accuracy: 0.5214 - val_loss: 0.6862 - val_accuracy: 0.5670\b\b\b\b\b\b\b\b\b\b\b\b\b\b\b\b\b\b\b\b\b\b\b\b\b\b\b\b\b\b\b\b\b\b\b\b\n",
      "Epoch 102/200\n",
      "19/19 [==============================] - 0s 1ms/step - loss: 0.6958 - accuracy: 0.4857 - val_loss: 0.6930 - val_accuracy: 0.5258\b\b\b\b\b\b\b\b\b\b\b\b\b\b\b\b\b\b\b\b\b\b\b\b\b\b\b\b\b\b\b\b\b\b\b\b\n",
      "Epoch 103/200\n",
      "19/19 [==============================] - 0s 1ms/step - loss: 0.6905 - accuracy: 0.5197 - val_loss: 0.6910 - val_accuracy: 0.5155\b\b\b\b\b\b\b\b\b\b\b\b\b\b\b\b\b\b\b\b\b\b\b\b\b\b\b\b\b\b\b\b\b\b\b\b\n",
      "Epoch 104/200\n",
      "19/19 [==============================] - 0s 1ms/step - loss: 0.6908 - accuracy: 0.5214 - val_loss: 0.6970 - val_accuracy: 0.4845\b\b\b\b\b\b\b\b\b\b\b\b\b\b\b\b\b\b\b\b\b\b\b\b\b\b\b\b\b\b\b\b\b\b\b\b\n",
      "Epoch 105/200\n",
      "19/19 [==============================] - 0s 1ms/step - loss: 0.6861 - accuracy: 0.5168 - val_loss: 0.6950 - val_accuracy: 0.5052\b\b\b\b\b\b\b\b\b\b\b\b\b\b\b\b\b\b\b\b\b\b\b\b\b\b\b\b\b\b\b\b\b\b\b\b\n",
      "Epoch 106/200\n",
      "19/19 [==============================] - 0s 1ms/step - loss: 0.6902 - accuracy: 0.5526 - val_loss: 0.7018 - val_accuracy: 0.4948\b\b\b\b\b\b\b\b\b\b\b\b\b\b\b\b\b\b\b\b\b\b\b\b\b\b\b\b\b\b\b\b\b\b\b\b\n",
      "Epoch 107/200\n",
      "19/19 [==============================] - 0s 1ms/step - loss: 0.6939 - accuracy: 0.5202 - val_loss: 0.7020 - val_accuracy: 0.4948\b\b\b\b\b\b\b\b\b\b\b\b\b\b\b\b\b\b\b\b\b\b\b\b\b\b\b\b\b\b\b\b\b\b\b\b\n",
      "Epoch 108/200\n",
      "19/19 [==============================] - 0s 1ms/step - loss: 0.6814 - accuracy: 0.5495 - val_loss: 0.7052 - val_accuracy: 0.4742\b\b\b\b\b\b\b\b\b\b\b\b\b\b\b\b\b\b\b\b\b\b\b\b\b\b\b\b\b\b\b\b\b\b\b\b\n",
      "Epoch 109/200\n",
      "19/19 [==============================] - 0s 1ms/step - loss: 0.6954 - accuracy: 0.5327 - val_loss: 0.7151 - val_accuracy: 0.4639\b\b\b\b\b\b\b\b\b\b\b\b\b\b\b\b\b\b\b\b\b\b\b\b\b\b\b\b\b\b\b\b\b\b\b\b\n",
      "Epoch 110/200\n",
      "19/19 [==============================] - 0s 1ms/step - loss: 0.6964 - accuracy: 0.5141 - val_loss: 0.6893 - val_accuracy: 0.5258\b\b\b\b\b\b\b\b\b\b\b\b\b\b\b\b\b\b\b\b\b\b\b\b\b\b\b\b\b\b\b\b\b\b\b\b\n",
      "Epoch 111/200\n",
      "19/19 [==============================] - 0s 1ms/step - loss: 0.6883 - accuracy: 0.5605 - val_loss: 0.6924 - val_accuracy: 0.5361\b\b\b\b\b\b\b\b\b\b\b\b\b\b\b\b\b\b\b\b\b\b\b\b\b\b\b\b\b\b\b\b\b\b\b\b\n",
      "Epoch 112/200\n",
      "19/19 [==============================] - 0s 1ms/step - loss: 0.6781 - accuracy: 0.5629 - val_loss: 0.6959 - val_accuracy: 0.5155\b\b\b\b\b\b\b\b\b\b\b\b\b\b\b\b\b\b\b\b\b\b\b\b\b\b\b\b\b\b\b\b\b\b\b\b\n",
      "Epoch 113/200\n",
      "19/19 [==============================] - 0s 1ms/step - loss: 0.6820 - accuracy: 0.5188 - val_loss: 0.6998 - val_accuracy: 0.5155\b\b\b\b\b\b\b\b\b\b\b\b\b\b\b\b\b\b\b\b\b\b\b\b\b\b\b\b\b\b\b\b\b\b\b\b\n",
      "Epoch 114/200\n",
      "19/19 [==============================] - 0s 1ms/step - loss: 0.6889 - accuracy: 0.5633 - val_loss: 0.7064 - val_accuracy: 0.4845\b\b\b\b\b\b\b\b\b\b\b\b\b\b\b\b\b\b\b\b\b\b\b\b\b\b\b\b\b\b\b\b\b\b\b\b\n",
      "Epoch 115/200\n",
      "19/19 [==============================] - 0s 1ms/step - loss: 0.6822 - accuracy: 0.5387 - val_loss: 0.6971 - val_accuracy: 0.4845\b\b\b\b\b\b\b\b\b\b\b\b\b\b\b\b\b\b\b\b\b\b\b\b\b\b\b\b\b\b\b\b\b\b\b\b\n",
      "Epoch 116/200\n",
      "19/19 [==============================] - 0s 1ms/step - loss: 0.6851 - accuracy: 0.5381 - val_loss: 0.6876 - val_accuracy: 0.5567\b\b\b\b\b\b\b\b\b\b\b\b\b\b\b\b\b\b\b\b\b\b\b\b\b\b\b\b\b\b\b\b\b\b\b\b\n",
      "Epoch 117/200\n",
      "19/19 [==============================] - 0s 1ms/step - loss: 0.6764 - accuracy: 0.5460 - val_loss: 0.6879 - val_accuracy: 0.5155\b\b\b\b\b\b\b\b\b\b\b\b\b\b\b\b\b\b\b\b\b\b\b\b\b\b\b\b\b\b\b\b\b\b\b\b\n",
      "Epoch 118/200\n",
      "19/19 [==============================] - 0s 1ms/step - loss: 0.6869 - accuracy: 0.5282 - val_loss: 0.7108 - val_accuracy: 0.5052\b\b\b\b\b\b\b\b\b\b\b\b\b\b\b\b\b\b\b\b\b\b\b\b\b\b\b\b\b\b\b\b\b\b\b\b\n",
      "Epoch 119/200\n",
      "19/19 [==============================] - 0s 1ms/step - loss: 0.6891 - accuracy: 0.5275 - val_loss: 0.6888 - val_accuracy: 0.5464\b\b\b\b\b\b\b\b\b\b\b\b\b\b\b\b\b\b\b\b\b\b\b\b\b\b\b\b\b\b\b\b\b\b\b\b\n",
      "Epoch 120/200\n",
      "19/19 [==============================] - 0s 1ms/step - loss: 0.6882 - accuracy: 0.5433 - val_loss: 0.6975 - val_accuracy: 0.5052\b\b\b\b\b\b\b\b\b\b\b\b\b\b\b\b\b\b\b\b\b\b\b\b\b\b\b\b\b\b\b\b\b\b\b\b\n",
      "Epoch 121/200\n",
      "19/19 [==============================] - 0s 1ms/step - loss: 0.6934 - accuracy: 0.5153 - val_loss: 0.7015 - val_accuracy: 0.4948\b\b\b\b\b\b\b\b\b\b\b\b\b\b\b\b\b\b\b\b\b\b\b\b\b\b\b\b\b\b\b\b\b\b\b\b\n",
      "Epoch 122/200\n",
      "19/19 [==============================] - 0s 1ms/step - loss: 0.7013 - accuracy: 0.5181 - val_loss: 0.7042 - val_accuracy: 0.4845\b\b\b\b\b\b\b\b\b\b\b\b\b\b\b\b\b\b\b\b\b\b\b\b\b\b\b\b\b\b\b\b\b\b\b\b\n",
      "Epoch 123/200\n",
      "19/19 [==============================] - 0s 1ms/step - loss: 0.6942 - accuracy: 0.4817 - val_loss: 0.6934 - val_accuracy: 0.5052\b\b\b\b\b\b\b\b\b\b\b\b\b\b\b\b\b\b\b\b\b\b\b\b\b\b\b\b\b\b\b\b\b\b\b\b\n",
      "Epoch 124/200\n",
      "19/19 [==============================] - 0s 1ms/step - loss: 0.6813 - accuracy: 0.5672 - val_loss: 0.6933 - val_accuracy: 0.4742\b\b\b\b\b\b\b\b\b\b\b\b\b\b\b\b\b\b\b\b\b\b\b\b\b\b\b\b\b\b\b\b\b\b\b\b\n",
      "Epoch 125/200\n",
      "19/19 [==============================] - 0s 1ms/step - loss: 0.6745 - accuracy: 0.5617 - val_loss: 0.6956 - val_accuracy: 0.5052\b\b\b\b\b\b\b\b\b\b\b\b\b\b\b\b\b\b\b\b\b\b\b\b\b\b\b\b\b\b\b\b\b\b\b\b\n",
      "Epoch 126/200\n",
      "19/19 [==============================] - 0s 1ms/step - loss: 0.6933 - accuracy: 0.4963 - val_loss: 0.6872 - val_accuracy: 0.5155\b\b\b\b\b\b\b\b\b\b\b\b\b\b\b\b\b\b\b\b\b\b\b\b\b\b\b\b\b\b\b\b\b\b\b\b\n",
      "Epoch 127/200\n",
      "19/19 [==============================] - 0s 1ms/step - loss: 0.6839 - accuracy: 0.5380 - val_loss: 0.6888 - val_accuracy: 0.5155\b\b\b\b\b\b\b\b\b\b\b\b\b\b\b\b\b\b\b\b\b\b\b\b\b\b\b\b\b\b\b\b\b\b\b\b\n",
      "Epoch 128/200\n",
      "19/19 [==============================] - 0s 1ms/step - loss: 0.6795 - accuracy: 0.5398 - val_loss: 0.7022 - val_accuracy: 0.5052\b\b\b\b\b\b\b\b\b\b\b\b\b\b\b\b\b\b\b\b\b\b\b\b\b\b\b\b\b\b\b\b\b\b\b\b\n",
      "Epoch 129/200\n",
      "19/19 [==============================] - 0s 1ms/step - loss: 0.6794 - accuracy: 0.5359 - val_loss: 0.7020 - val_accuracy: 0.4948\b\b\b\b\b\b\b\b\b\b\b\b\b\b\b\b\b\b\b\b\b\b\b\b\b\b\b\b\b\b\b\b\b\b\b\b\n",
      "Epoch 130/200\n",
      "19/19 [==============================] - 0s 1ms/step - loss: 0.6810 - accuracy: 0.5472 - val_loss: 0.7147 - val_accuracy: 0.4948\b\b\b\b\b\b\b\b\b\b\b\b\b\b\b\b\b\b\b\b\b\b\b\b\b\b\b\b\b\b\b\b\b\b\b\b\n",
      "Epoch 131/200\n",
      "19/19 [==============================] - 0s 1ms/step - loss: 0.6789 - accuracy: 0.5950 - val_loss: 0.6974 - val_accuracy: 0.4948\b\b\b\b\b\b\b\b\b\b\b\b\b\b\b\b\b\b\b\b\b\b\b\b\b\b\b\b\b\b\b\b\b\b\b\b\n",
      "Epoch 132/200\n",
      "19/19 [==============================] - 0s 1ms/step - loss: 0.6744 - accuracy: 0.5899 - val_loss: 0.6904 - val_accuracy: 0.5155\b\b\b\b\b\b\b\b\b\b\b\b\b\b\b\b\b\b\b\b\b\b\b\b\b\b\b\b\b\b\b\b\b\b\b\b\n",
      "Epoch 133/200\n",
      "19/19 [==============================] - 0s 1ms/step - loss: 0.6814 - accuracy: 0.5604 - val_loss: 0.7012 - val_accuracy: 0.4948\b\b\b\b\b\b\b\b\b\b\b\b\b\b\b\b\b\b\b\b\b\b\b\b\b\b\b\b\b\b\b\b\b\b\b\b\n",
      "Epoch 134/200\n",
      "19/19 [==============================] - 0s 1ms/step - loss: 0.6748 - accuracy: 0.5605 - val_loss: 0.7302 - val_accuracy: 0.4948\b\b\b\b\b\b\b\b\b\b\b\b\b\b\b\b\b\b\b\b\b\b\b\b\b\b\b\b\b\b\b\b\b\b\b\b\n",
      "Epoch 135/200\n",
      "19/19 [==============================] - 0s 1ms/step - loss: 0.6883 - accuracy: 0.5631 - val_loss: 0.7140 - val_accuracy: 0.5155\b\b\b\b\b\b\b\b\b\b\b\b\b\b\b\b\b\b\b\b\b\b\b\b\b\b\b\b\b\b\b\b\b\b\b\b\n",
      "Epoch 136/200\n",
      "19/19 [==============================] - 0s 1ms/step - loss: 0.6802 - accuracy: 0.5211 - val_loss: 0.7074 - val_accuracy: 0.5052\b\b\b\b\b\b\b\b\b\b\b\b\b\b\b\b\b\b\b\b\b\b\b\b\b\b\b\b\b\b\b\b\b\b\b\b\n",
      "Epoch 137/200\n",
      "19/19 [==============================] - 0s 1ms/step - loss: 0.6583 - accuracy: 0.5946 - val_loss: 0.7128 - val_accuracy: 0.5052\b\b\b\b\b\b\b\b\b\b\b\b\b\b\b\b\b\b\b\b\b\b\b\b\b\b\b\b\b\b\b\b\b\b\b\b\n",
      "Epoch 138/200\n",
      "19/19 [==============================] - 0s 1ms/step - loss: 0.6695 - accuracy: 0.5720 - val_loss: 0.6807 - val_accuracy: 0.5567\b\b\b\b\b\b\b\b\b\b\b\b\b\b\b\b\b\b\b\b\b\b\b\b\b\b\b\b\b\b\b\b\b\b\b\b\n",
      "Epoch 139/200\n",
      "19/19 [==============================] - 0s 1ms/step - loss: 0.6783 - accuracy: 0.5744 - val_loss: 0.7317 - val_accuracy: 0.5052\b\b\b\b\b\b\b\b\b\b\b\b\b\b\b\b\b\b\b\b\b\b\b\b\b\b\b\b\b\b\b\b\b\b\b\b\n",
      "Epoch 140/200\n",
      "19/19 [==============================] - 0s 1ms/step - loss: 0.6715 - accuracy: 0.5556 - val_loss: 0.7024 - val_accuracy: 0.5052\b\b\b\b\b\b\b\b\b\b\b\b\b\b\b\b\b\b\b\b\b\b\b\b\b\b\b\b\b\b\b\b\b\b\b\b\n",
      "Epoch 141/200\n",
      "19/19 [==============================] - 0s 1ms/step - loss: 0.6719 - accuracy: 0.5533 - val_loss: 0.7047 - val_accuracy: 0.4845\b\b\b\b\b\b\b\b\b\b\b\b\b\b\b\b\b\b\b\b\b\b\b\b\b\b\b\b\b\b\b\b\b\b\b\b\n",
      "Epoch 142/200\n",
      "19/19 [==============================] - 0s 1ms/step - loss: 0.6673 - accuracy: 0.5712 - val_loss: 0.7012 - val_accuracy: 0.5155\b\b\b\b\b\b\b\b\b\b\b\b\b\b\b\b\b\b\b\b\b\b\b\b\b\b\b\b\b\b\b\b\b\b\b\b\n",
      "Epoch 143/200\n",
      "19/19 [==============================] - 0s 1ms/step - loss: 0.6734 - accuracy: 0.5818 - val_loss: 0.7018 - val_accuracy: 0.5361\b\b\b\b\b\b\b\b\b\b\b\b\b\b\b\b\b\b\b\b\b\b\b\b\b\b\b\b\b\b\b\b\b\b\b\b\n",
      "Epoch 144/200\n",
      "19/19 [==============================] - 0s 1ms/step - loss: 0.7057 - accuracy: 0.5383 - val_loss: 0.7360 - val_accuracy: 0.5052\b\b\b\b\b\b\b\b\b\b\b\b\b\b\b\b\b\b\b\b\b\b\b\b\b\b\b\b\b\b\b\b\b\b\b\b\n",
      "Epoch 145/200\n",
      "19/19 [==============================] - 0s 1ms/step - loss: 0.6718 - accuracy: 0.5630 - val_loss: 0.7121 - val_accuracy: 0.4742\b\b\b\b\b\b\b\b\b\b\b\b\b\b\b\b\b\b\b\b\b\b\b\b\b\b\b\b\b\b\b\b\b\b\b\b\n",
      "Epoch 146/200\n",
      "19/19 [==============================] - 0s 1ms/step - loss: 0.6741 - accuracy: 0.5361 - val_loss: 0.7316 - val_accuracy: 0.5052\b\b\b\b\b\b\b\b\b\b\b\b\b\b\b\b\b\b\b\b\b\b\b\b\b\b\b\b\b\b\b\b\b\b\b\b\n",
      "Epoch 147/200\n",
      "19/19 [==============================] - 0s 1ms/step - loss: 0.6645 - accuracy: 0.5719 - val_loss: 0.7207 - val_accuracy: 0.4948\b\b\b\b\b\b\b\b\b\b\b\b\b\b\b\b\b\b\b\b\b\b\b\b\b\b\b\b\b\b\b\b\b\b\b\b\n",
      "Epoch 148/200\n",
      "19/19 [==============================] - 0s 1ms/step - loss: 0.6928 - accuracy: 0.5484 - val_loss: 0.7048 - val_accuracy: 0.5052\b\b\b\b\b\b\b\b\b\b\b\b\b\b\b\b\b\b\b\b\b\b\b\b\b\b\b\b\b\b\b\b\b\b\b\b\n",
      "Epoch 149/200\n",
      "19/19 [==============================] - 0s 1ms/step - loss: 0.6654 - accuracy: 0.5421 - val_loss: 0.6912 - val_accuracy: 0.5464\b\b\b\b\b\b\b\b\b\b\b\b\b\b\b\b\b\b\b\b\b\b\b\b\b\b\b\b\b\b\b\b\b\b\b\b\n",
      "Epoch 150/200\n",
      "19/19 [==============================] - 0s 1ms/step - loss: 0.6588 - accuracy: 0.6052 - val_loss: 0.7402 - val_accuracy: 0.4948\b\b\b\b\b\b\b\b\b\b\b\b\b\b\b\b\b\b\b\b\b\b\b\b\b\b\b\b\b\b\b\b\b\b\b\b\n",
      "Epoch 151/200\n",
      "19/19 [==============================] - 0s 1ms/step - loss: 0.6428 - accuracy: 0.6271 - val_loss: 0.7021 - val_accuracy: 0.5258\b\b\b\b\b\b\b\b\b\b\b\b\b\b\b\b\b\b\b\b\b\b\b\b\b\b\b\b\b\b\b\b\b\b\b\b\n",
      "Epoch 152/200\n",
      "19/19 [==============================] - 0s 1ms/step - loss: 0.6952 - accuracy: 0.5499 - val_loss: 0.6924 - val_accuracy: 0.4948\b\b\b\b\b\b\b\b\b\b\b\b\b\b\b\b\b\b\b\b\b\b\b\b\b\b\b\b\b\b\b\b\b\b\b\b\n",
      "Epoch 153/200\n",
      "19/19 [==============================] - 0s 1ms/step - loss: 0.6571 - accuracy: 0.5506 - val_loss: 0.7054 - val_accuracy: 0.5052\b\b\b\b\b\b\b\b\b\b\b\b\b\b\b\b\b\b\b\b\b\b\b\b\b\b\b\b\b\b\b\b\b\b\b\b\n",
      "Epoch 154/200\n",
      "19/19 [==============================] - 0s 1ms/step - loss: 0.6845 - accuracy: 0.5332 - val_loss: 0.7104 - val_accuracy: 0.4948\b\b\b\b\b\b\b\b\b\b\b\b\b\b\b\b\b\b\b\b\b\b\b\b\b\b\b\b\b\b\b\b\b\b\b\b\n",
      "Epoch 155/200\n",
      "19/19 [==============================] - 0s 1ms/step - loss: 0.6624 - accuracy: 0.5820 - val_loss: 0.6957 - val_accuracy: 0.5155\b\b\b\b\b\b\b\b\b\b\b\b\b\b\b\b\b\b\b\b\b\b\b\b\b\b\b\b\b\b\b\b\b\b\b\b\n",
      "Epoch 156/200\n",
      "19/19 [==============================] - 0s 1ms/step - loss: 0.6589 - accuracy: 0.5731 - val_loss: 0.7201 - val_accuracy: 0.5258\b\b\b\b\b\b\b\b\b\b\b\b\b\b\b\b\b\b\b\b\b\b\b\b\b\b\b\b\b\b\b\b\b\b\b\b\n",
      "Epoch 157/200\n",
      "19/19 [==============================] - 0s 1ms/step - loss: 0.6614 - accuracy: 0.5652 - val_loss: 0.6961 - val_accuracy: 0.5258\b\b\b\b\b\b\b\b\b\b\b\b\b\b\b\b\b\b\b\b\b\b\b\b\b\b\b\b\b\b\b\b\b\b\b\b\n",
      "Epoch 158/200\n",
      "19/19 [==============================] - 0s 1ms/step - loss: 0.6527 - accuracy: 0.6050 - val_loss: 0.7179 - val_accuracy: 0.4948\b\b\b\b\b\b\b\b\b\b\b\b\b\b\b\b\b\b\b\b\b\b\b\b\b\b\b\b\b\b\b\b\b\b\b\b\n",
      "Epoch 159/200\n",
      "19/19 [==============================] - 0s 1ms/step - loss: 0.6539 - accuracy: 0.5852 - val_loss: 0.6979 - val_accuracy: 0.5464\b\b\b\b\b\b\b\b\b\b\b\b\b\b\b\b\b\b\b\b\b\b\b\b\b\b\b\b\b\b\b\b\b\b\b\b\n",
      "Epoch 160/200\n",
      "19/19 [==============================] - 0s 1ms/step - loss: 0.6847 - accuracy: 0.5237 - val_loss: 0.7191 - val_accuracy: 0.4845\b\b\b\b\b\b\b\b\b\b\b\b\b\b\b\b\b\b\b\b\b\b\b\b\b\b\b\b\b\b\b\b\b\b\b\b\n",
      "Epoch 161/200\n",
      "19/19 [==============================] - 0s 1ms/step - loss: 0.6655 - accuracy: 0.5634 - val_loss: 0.7147 - val_accuracy: 0.4948\b\b\b\b\b\b\b\b\b\b\b\b\b\b\b\b\b\b\b\b\b\b\b\b\b\b\b\b\b\b\b\b\b\b\b\b\n",
      "Epoch 162/200\n",
      "19/19 [==============================] - 0s 1ms/step - loss: 0.6757 - accuracy: 0.5365 - val_loss: 0.7103 - val_accuracy: 0.5052\b\b\b\b\b\b\b\b\b\b\b\b\b\b\b\b\b\b\b\b\b\b\b\b\b\b\b\b\b\b\b\b\b\b\b\b\n",
      "Epoch 163/200\n",
      "19/19 [==============================] - 0s 1ms/step - loss: 0.6402 - accuracy: 0.6044 - val_loss: 0.7030 - val_accuracy: 0.5464\b\b\b\b\b\b\b\b\b\b\b\b\b\b\b\b\b\b\b\b\b\b\b\b\b\b\b\b\b\b\b\b\b\b\b\b\n",
      "Epoch 164/200\n",
      "19/19 [==============================] - 0s 1ms/step - loss: 0.6880 - accuracy: 0.5631 - val_loss: 0.7417 - val_accuracy: 0.5052\b\b\b\b\b\b\b\b\b\b\b\b\b\b\b\b\b\b\b\b\b\b\b\b\b\b\b\b\b\b\b\b\b\b\b\b\n",
      "Epoch 165/200\n",
      "19/19 [==============================] - 0s 1ms/step - loss: 0.6811 - accuracy: 0.5423 - val_loss: 0.7004 - val_accuracy: 0.5155\b\b\b\b\b\b\b\b\b\b\b\b\b\b\b\b\b\b\b\b\b\b\b\b\b\b\b\b\b\b\b\b\b\b\b\b\n",
      "Epoch 166/200\n",
      "19/19 [==============================] - 0s 1ms/step - loss: 0.6858 - accuracy: 0.5256 - val_loss: 0.7529 - val_accuracy: 0.4639\b\b\b\b\b\b\b\b\b\b\b\b\b\b\b\b\b\b\b\b\b\b\b\b\b\b\b\b\b\b\b\b\b\b\b\b\n",
      "Epoch 167/200\n",
      "19/19 [==============================] - 0s 1ms/step - loss: 0.6762 - accuracy: 0.5383 - val_loss: 0.6898 - val_accuracy: 0.5567\b\b\b\b\b\b\b\b\b\b\b\b\b\b\b\b\b\b\b\b\b\b\b\b\b\b\b\b\b\b\b\b\b\b\b\b\n",
      "Epoch 168/200\n",
      "19/19 [==============================] - 0s 1ms/step - loss: 0.6613 - accuracy: 0.5553 - val_loss: 0.6866 - val_accuracy: 0.5155\b\b\b\b\b\b\b\b\b\b\b\b\b\b\b\b\b\b\b\b\b\b\b\b\b\b\b\b\b\b\b\b\b\b\b\b\n",
      "Epoch 169/200\n",
      "19/19 [==============================] - 0s 1ms/step - loss: 0.6479 - accuracy: 0.5694 - val_loss: 0.7245 - val_accuracy: 0.5155\b\b\b\b\b\b\b\b\b\b\b\b\b\b\b\b\b\b\b\b\b\b\b\b\b\b\b\b\b\b\b\b\b\b\b\b\n",
      "Epoch 170/200\n",
      "19/19 [==============================] - 0s 1ms/step - loss: 0.6707 - accuracy: 0.5419 - val_loss: 0.7120 - val_accuracy: 0.5052\b\b\b\b\b\b\b\b\b\b\b\b\b\b\b\b\b\b\b\b\b\b\b\b\b\b\b\b\b\b\b\b\b\b\b\b\n",
      "Epoch 171/200\n",
      "19/19 [==============================] - 0s 1ms/step - loss: 0.6779 - accuracy: 0.5632 - val_loss: 0.6985 - val_accuracy: 0.5052\b\b\b\b\b\b\b\b\b\b\b\b\b\b\b\b\b\b\b\b\b\b\b\b\b\b\b\b\b\b\b\b\b\b\b\b\n",
      "Epoch 172/200\n",
      "19/19 [==============================] - 0s 1ms/step - loss: 0.6838 - accuracy: 0.5363 - val_loss: 0.7208 - val_accuracy: 0.5052\b\b\b\b\b\b\b\b\b\b\b\b\b\b\b\b\b\b\b\b\b\b\b\b\b\b\b\b\b\b\b\b\b\b\b\b\n",
      "Epoch 173/200\n",
      "19/19 [==============================] - 0s 1ms/step - loss: 0.6548 - accuracy: 0.5811 - val_loss: 0.7065 - val_accuracy: 0.5052\b\b\b\b\b\b\b\b\b\b\b\b\b\b\b\b\b\b\b\b\b\b\b\b\b\b\b\b\b\b\b\b\b\b\b\b\n",
      "Epoch 174/200\n",
      "19/19 [==============================] - 0s 1ms/step - loss: 0.6660 - accuracy: 0.5601 - val_loss: 0.7249 - val_accuracy: 0.5155\b\b\b\b\b\b\b\b\b\b\b\b\b\b\b\b\b\b\b\b\b\b\b\b\b\b\b\b\b\b\b\b\b\b\b\b\n",
      "Epoch 175/200\n",
      "19/19 [==============================] - 0s 1ms/step - loss: 0.6594 - accuracy: 0.5665 - val_loss: 0.7073 - val_accuracy: 0.5155\b\b\b\b\b\b\b\b\b\b\b\b\b\b\b\b\b\b\b\b\b\b\b\b\b\b\b\b\b\b\b\b\b\b\b\b\n",
      "Epoch 176/200\n",
      "19/19 [==============================] - 0s 1ms/step - loss: 0.6658 - accuracy: 0.5599 - val_loss: 0.7218 - val_accuracy: 0.4948\b\b\b\b\b\b\b\b\b\b\b\b\b\b\b\b\b\b\b\b\b\b\b\b\b\b\b\b\b\b\b\b\b\b\b\b\n",
      "Epoch 177/200\n",
      "19/19 [==============================] - 0s 1ms/step - loss: 0.7079 - accuracy: 0.5076 - val_loss: 0.6950 - val_accuracy: 0.5567\b\b\b\b\b\b\b\b\b\b\b\b\b\b\b\b\b\b\b\b\b\b\b\b\b\b\b\b\b\b\b\b\b\b\b\b\n",
      "Epoch 178/200\n",
      "19/19 [==============================] - 0s 1ms/step - loss: 0.6603 - accuracy: 0.5691 - val_loss: 0.6903 - val_accuracy: 0.5567\b\b\b\b\b\b\b\b\b\b\b\b\b\b\b\b\b\b\b\b\b\b\b\b\b\b\b\b\b\b\b\b\b\b\b\b\n",
      "Epoch 179/200\n",
      "19/19 [==============================] - 0s 1ms/step - loss: 0.6494 - accuracy: 0.5880 - val_loss: 0.7527 - val_accuracy: 0.4948\b\b\b\b\b\b\b\b\b\b\b\b\b\b\b\b\b\b\b\b\b\b\b\b\b\b\b\b\b\b\b\b\b\b\b\b\n",
      "Epoch 180/200\n",
      "19/19 [==============================] - 0s 1ms/step - loss: 0.6786 - accuracy: 0.5765 - val_loss: 0.7224 - val_accuracy: 0.5052\b\b\b\b\b\b\b\b\b\b\b\b\b\b\b\b\b\b\b\b\b\b\b\b\b\b\b\b\b\b\b\b\b\b\b\b\n",
      "Epoch 181/200\n",
      "19/19 [==============================] - 0s 1ms/step - loss: 0.6602 - accuracy: 0.5643 - val_loss: 0.6996 - val_accuracy: 0.5258\b\b\b\b\b\b\b\b\b\b\b\b\b\b\b\b\b\b\b\b\b\b\b\b\b\b\b\b\b\b\b\b\b\b\b\b\n",
      "Epoch 182/200\n",
      "19/19 [==============================] - 0s 1ms/step - loss: 0.6552 - accuracy: 0.6090 - val_loss: 0.7454 - val_accuracy: 0.5258\b\b\b\b\b\b\b\b\b\b\b\b\b\b\b\b\b\b\b\b\b\b\b\b\b\b\b\b\b\b\b\b\b\b\b\b\n",
      "Epoch 183/200\n",
      "19/19 [==============================] - 0s 1ms/step - loss: 0.6595 - accuracy: 0.5897 - val_loss: 0.7057 - val_accuracy: 0.5464\b\b\b\b\b\b\b\b\b\b\b\b\b\b\b\b\b\b\b\b\b\b\b\b\b\b\b\b\b\b\b\b\b\b\b\b\n",
      "Epoch 184/200\n",
      "19/19 [==============================] - 0s 1ms/step - loss: 0.6526 - accuracy: 0.5889 - val_loss: 0.7507 - val_accuracy: 0.5155\b\b\b\b\b\b\b\b\b\b\b\b\b\b\b\b\b\b\b\b\b\b\b\b\b\b\b\b\b\b\b\b\b\b\b\b\n",
      "Epoch 185/200\n",
      "19/19 [==============================] - 0s 1ms/step - loss: 0.6476 - accuracy: 0.5574 - val_loss: 0.7229 - val_accuracy: 0.5052\b\b\b\b\b\b\b\b\b\b\b\b\b\b\b\b\b\b\b\b\b\b\b\b\b\b\b\b\b\b\b\b\b\b\b\b\n",
      "Epoch 186/200\n",
      "19/19 [==============================] - 0s 1ms/step - loss: 0.6471 - accuracy: 0.5815 - val_loss: 0.7179 - val_accuracy: 0.5052\b\b\b\b\b\b\b\b\b\b\b\b\b\b\b\b\b\b\b\b\b\b\b\b\b\b\b\b\b\b\b\b\b\b\b\b\n",
      "Epoch 187/200\n",
      "19/19 [==============================] - 0s 1ms/step - loss: 0.6755 - accuracy: 0.5488 - val_loss: 0.7018 - val_accuracy: 0.5052\b\b\b\b\b\b\b\b\b\b\b\b\b\b\b\b\b\b\b\b\b\b\b\b\b\b\b\b\b\b\b\b\b\b\b\b\n",
      "Epoch 188/200\n",
      "19/19 [==============================] - 0s 1ms/step - loss: 0.6569 - accuracy: 0.5496 - val_loss: 0.7555 - val_accuracy: 0.5155\b\b\b\b\b\b\b\b\b\b\b\b\b\b\b\b\b\b\b\b\b\b\b\b\b\b\b\b\b\b\b\b\b\b\b\b\n",
      "Epoch 189/200\n",
      "19/19 [==============================] - 0s 1ms/step - loss: 0.6695 - accuracy: 0.5227 - val_loss: 0.7532 - val_accuracy: 0.5052\b\b\b\b\b\b\b\b\b\b\b\b\b\b\b\b\b\b\b\b\b\b\b\b\b\b\b\b\b\b\b\b\b\b\b\b\n",
      "Epoch 190/200\n",
      "19/19 [==============================] - 0s 1ms/step - loss: 0.6635 - accuracy: 0.5843 - val_loss: 0.7616 - val_accuracy: 0.5155\b\b\b\b\b\b\b\b\b\b\b\b\b\b\b\b\b\b\b\b\b\b\b\b\b\b\b\b\b\b\b\b\b\b\b\b\n",
      "Epoch 191/200\n",
      "19/19 [==============================] - 0s 1ms/step - loss: 0.6621 - accuracy: 0.5470 - val_loss: 0.6955 - val_accuracy: 0.5052\b\b\b\b\b\b\b\b\b\b\b\b\b\b\b\b\b\b\b\b\b\b\b\b\b\b\b\b\b\b\b\b\b\b\b\b\n",
      "Epoch 192/200\n",
      "19/19 [==============================] - 0s 1ms/step - loss: 0.7228 - accuracy: 0.5407 - val_loss: 0.7254 - val_accuracy: 0.5052\b\b\b\b\b\b\b\b\b\b\b\b\b\b\b\b\b\b\b\b\b\b\b\b\b\b\b\b\b\b\b\b\b\b\b\b\n",
      "Epoch 193/200\n",
      "19/19 [==============================] - 0s 1ms/step - loss: 0.6498 - accuracy: 0.5681 - val_loss: 0.7268 - val_accuracy: 0.4948\b\b\b\b\b\b\b\b\b\b\b\b\b\b\b\b\b\b\b\b\b\b\b\b\b\b\b\b\b\b\b\b\b\b\b\b\n",
      "Epoch 194/200\n",
      "19/19 [==============================] - 0s 1ms/step - loss: 0.6661 - accuracy: 0.5634 - val_loss: 0.6876 - val_accuracy: 0.5155\b\b\b\b\b\b\b\b\b\b\b\b\b\b\b\b\b\b\b\b\b\b\b\b\b\b\b\b\b\b\b\b\b\b\b\b\n",
      "Epoch 195/200\n",
      "19/19 [==============================] - 0s 2ms/step - loss: 0.6453 - accuracy: 0.5894 - val_loss: 0.7439 - val_accuracy: 0.5258\b\b\b\b\b\b\b\b\b\b\b\b\b\b\b\b\b\b\b\b\b\b\b\b\b\b\b\b\b\b\b\b\b\b\b\b\n",
      "Epoch 196/200\n",
      "19/19 [==============================] - 0s 1ms/step - loss: 0.6597 - accuracy: 0.5819 - val_loss: 0.7087 - val_accuracy: 0.5258\b\b\b\b\b\b\b\b\b\b\b\b\b\b\b\b\b\b\b\b\b\b\b\b\b\b\b\b\b\b\b\b\b\b\b\b\n",
      "Epoch 197/200\n",
      "19/19 [==============================] - 0s 1ms/step - loss: 0.6657 - accuracy: 0.5691 - val_loss: 0.7446 - val_accuracy: 0.4845\b\b\b\b\b\b\b\b\b\b\b\b\b\b\b\b\b\b\b\b\b\b\b\b\b\b\b\b\b\b\b\b\b\b\b\b\n",
      "Epoch 198/200\n",
      "19/19 [==============================] - 0s 1ms/step - loss: 0.6675 - accuracy: 0.5607 - val_loss: 0.7924 - val_accuracy: 0.4536\b\b\b\b\b\b\b\b\b\b\b\b\b\b\b\b\b\b\b\b\b\b\b\b\b\b\b\b\b\b\b\b\b\b\b\b\n",
      "Epoch 199/200\n",
      "19/19 [==============================] - 0s 1ms/step - loss: 0.6536 - accuracy: 0.6105 - val_loss: 0.7424 - val_accuracy: 0.5258\b\b\b\b\b\b\b\b\b\b\b\b\b\b\b\b\b\b\b\b\b\b\b\b\b\b\b\b\b\b\b\b\b\b\b\b\n",
      "Epoch 200/200\n",
      "19/19 [==============================] - 0s 1ms/step - loss: 0.6541 - accuracy: 0.5416 - val_loss: 0.6835 - val_accuracy: 0.5155\b\b\b\b\b\b\b\b\b\b\b\b\b\b\b\b\b\b\b\b\b\b\b\b\b\b\b\b\b\b\b\b\b\b\b\b\n"
     ]
    }
   ],
   "source": [
    "history = model.fit(x=x_train,\n",
    "                    y=y_train,\n",
    "                    epochs=200,\n",
    "                    validation_data=(x_test, y_test),\n",
    "                    shuffle=True)"
   ],
   "metadata": {
    "collapsed": false,
    "pycharm": {
     "name": "#%%\n"
    }
   }
  },
  {
   "cell_type": "code",
   "execution_count": 127,
   "outputs": [],
   "source": [
    "losses = pd.DataFrame(model.history.history)"
   ],
   "metadata": {
    "collapsed": false,
    "pycharm": {
     "name": "#%%\n"
    }
   }
  },
  {
   "cell_type": "code",
   "execution_count": 128,
   "outputs": [
    {
     "data": {
      "text/plain": "dict_keys(['loss', 'accuracy', 'val_loss', 'val_accuracy'])"
     },
     "execution_count": 128,
     "metadata": {},
     "output_type": "execute_result"
    }
   ],
   "source": [
    "history.history.keys()"
   ],
   "metadata": {
    "collapsed": false,
    "pycharm": {
     "name": "#%%\n"
    }
   }
  },
  {
   "cell_type": "code",
   "execution_count": 129,
   "outputs": [
    {
     "data": {
      "text/plain": "<Figure size 432x288 with 1 Axes>",
      "image/png": "[encoded data removed]"
     },
     "metadata": {
      "needs_background": "light"
     },
     "output_type": "display_data"
    }
   ],
   "source": [
    "# Plot accuracy\n",
    "plt.plot(history.history['accuracy'])\n",
    "plt.plot(history.history['val_accuracy'])\n",
    "plt.title('Model Accuracy')\n",
    "plt.ylabel('accuracy')\n",
    "plt.xlabel('epoch')\n",
    "plt.legend(['train', 'val'], loc='upper left')\n",
    "plt.show()"
   ],
   "metadata": {
    "collapsed": false,
    "pycharm": {
     "name": "#%%\n"
    }
   }
  },
  {
   "cell_type": "code",
   "execution_count": 130,
   "outputs": [
    {
     "data": {
      "text/plain": "<Figure size 432x288 with 1 Axes>",
      "image/png": "[encoded data removed]"
     },
     "metadata": {
      "needs_background": "light"
     },
     "output_type": "display_data"
    }
   ],
   "source": [
    "# Plot loss\n",
    "plt.plot(history.history['loss'])\n",
    "plt.plot(history.history['val_loss'])\n",
    "plt.title('model loss')\n",
    "plt.ylabel('loss')\n",
    "plt.xlabel('epoch')\n",
    "plt.legend(['train', 'val'], loc='upper left')\n",
    "plt.show()"
   ],
   "metadata": {
    "collapsed": false,
    "pycharm": {
     "name": "#%%\n"
    }
   }
  },
  {
   "cell_type": "code",
   "execution_count": 131,
   "outputs": [],
   "source": [
    "test_df = pd.read_csv('../simulations/data/test_small_trajectories.csv')"
   ],
   "metadata": {
    "collapsed": false,
    "pycharm": {
     "name": "#%%\n"
    }
   }
  },
  {
   "cell_type": "code",
   "execution_count": 132,
   "outputs": [],
   "source": [
    "test_x = test_df[test_df.columns[2:10]]\n",
    "\n",
    "test_y = test_df['enter-parking'].values"
   ],
   "metadata": {
    "collapsed": false,
    "pycharm": {
     "name": "#%%\n"
    }
   }
  },
  {
   "cell_type": "code",
   "execution_count": 133,
   "outputs": [],
   "source": [
    "test_x = scaler.transform(test_x)"
   ],
   "metadata": {
    "collapsed": false,
    "pycharm": {
     "name": "#%%\n"
    }
   }
  },
  {
   "cell_type": "code",
   "execution_count": 134,
   "outputs": [
    {
     "name": "stdout",
     "output_type": "stream",
     "text": [
      "[[0.05107932 0.05039134 0.05642684 0.05452903 0.06268313 0.05761312\n",
      "  0.06490483 0.07384646]\n",
      " [0.05387792 0.07877601 0.05873216 0.08125741 0.05838213 0.0843944\n",
      "  0.05781392 0.09633475]\n",
      " [0.22364498 0.11621048 0.23858283 0.11933722 0.24591968 0.11869746\n",
      "  0.24641111 0.128278  ]\n",
      " [0.16992897 0.03686361 0.17531562 0.03089409 0.17791071 0.02465881\n",
      "  0.17722352 0.03524255]\n",
      " [0.239838   0.12079694 0.25131065 0.12299933 0.25413916 0.12390216\n",
      "  0.2542089  0.13337701]\n",
      " [0.1051386  0.04998308 0.11287138 0.05263917 0.1223527  0.05578508\n",
      "  0.12630174 0.06838077]\n",
      " [0.14108207 0.86641419 0.16121555 0.90310658 0.17564337 0.90748099\n",
      "  0.18544767 0.90536722]\n",
      " [0.20730728 0.87796717 0.22322352 0.91306091 0.2390283  0.91753176\n",
      "  0.24514919 0.90945083]\n",
      " [0.26730293 0.12177136 0.28608393 0.13609677 0.30485055 0.14913908\n",
      "  0.31541568 0.16588007]\n",
      " [0.17609397 0.18803267 0.18217488 0.17939541 0.18280226 0.17086726\n",
      "  0.1854599  0.1694962 ]\n",
      " [0.14916259 0.87305448 0.14987583 0.91538004 0.14800595 0.92093355\n",
      "  0.14379845 0.92604179]\n",
      " [0.0139989  0.10707397 0.02249118 0.10575346 0.03459023 0.1036822\n",
      "  0.0448159  0.11041887]\n",
      " [0.17976569 0.05282326 0.19114196 0.07684754 0.19692208 0.09643722\n",
      "  0.20302536 0.12692823]\n",
      " [0.34473925 0.12610556 0.36112441 0.14623929 0.37847502 0.16046456\n",
      "  0.40876016 0.17629844]\n",
      " [0.03201464 0.29750872 0.04373719 0.28303749 0.05529539 0.25267578\n",
      "  0.07516255 0.23905572]\n",
      " [0.19226634 0.41798117 0.18183748 0.39514312 0.17236318 0.35899344\n",
      "  0.15673547 0.32684266]\n",
      " [0.08937837 0.07775549 0.10664436 0.07221116 0.12803066 0.06531991\n",
      "  0.14042732 0.07406084]\n",
      " [0.43726004 0.14787021 0.46692873 0.14820516 0.47869283 0.15369218\n",
      "  0.50110837 0.17299909]\n",
      " [0.5283377  0.15033106 0.56003683 0.15296554 0.57578599 0.15124511\n",
      "  0.59720183 0.14665381]\n",
      " [0.60267316 0.10818404 0.62852439 0.10283719 0.64214019 0.09331472\n",
      "  0.66950053 0.08700242]\n",
      " [0.77094738 0.08521275 0.81702637 0.09387773 0.83255274 0.10926928\n",
      "  0.86200876 0.13315211]\n",
      " [0.65482975 0.10787397 0.69238355 0.10479354 0.71071343 0.09432031\n",
      "  0.73096992 0.09824631]\n",
      " [0.9656205  0.31586263 0.98496995 0.36610105 0.98781841 0.39691323\n",
      "  0.99112613 0.43871796]\n",
      " [0.25509771 0.88827787 0.27563215 0.91621736 0.29033001 0.90862009\n",
      "  0.31147547 0.89278496]\n",
      " [0.14558382 0.70623281 0.1508679  0.69689654 0.16193903 0.67870994\n",
      "  0.17341967 0.65594521]\n",
      " [0.45457784 0.89700536 0.50895311 0.91922047 0.55104387 0.9078741\n",
      "  0.60151322 0.88995082]\n",
      " [0.51324362 0.20496369 0.5549266  0.20157311 0.58546423 0.18627162\n",
      "  0.61060802 0.16888394]\n",
      " [0.00806291 0.15435958 0.00698251 0.1675033  0.00500969 0.17479782\n",
      "  0.00373473 0.19095975]\n",
      " [0.04080665 0.16598864 0.04304072 0.1767266  0.04220255 0.18484521\n",
      "  0.04102053 0.20048827]\n",
      " [0.17916313 0.12355245 0.17682969 0.14528596 0.17250031 0.16496421\n",
      "  0.16596861 0.1913567 ]\n",
      " [0.16905619 0.14205884 0.16957402 0.1623843  0.16560012 0.17976878\n",
      "  0.15902784 0.2069879 ]\n",
      " [0.18238192 0.19622131 0.18485279 0.21612625 0.18412114 0.22784853\n",
      "  0.17920667 0.24736226]\n",
      " [0.07982801 0.17870315 0.0845119  0.18801647 0.08785157 0.19585714\n",
      "  0.08697586 0.21228728]\n",
      " [0.16209061 0.76402734 0.18106796 0.77229679 0.20236969 0.75213586\n",
      "  0.22058426 0.73479583]\n",
      " [0.21554679 0.76771225 0.23183382 0.77390272 0.24528493 0.74885254\n",
      "  0.25047231 0.72157895]\n",
      " [0.14209407 0.76181339 0.15891909 0.76332551 0.16912241 0.75216782\n",
      "  0.1758651  0.73879358]\n",
      " [0.19893365 0.11747572 0.19629376 0.14717752 0.19344562 0.1853982\n",
      "  0.19043441 0.22183027]\n",
      " [0.18063289 0.7856771  0.19461281 0.79271371 0.2110023  0.77096888\n",
      "  0.21871187 0.73888358]\n",
      " [0.21916438 0.24284466 0.21830084 0.27016835 0.21787675 0.29189042\n",
      "  0.216942   0.31368227]\n",
      " [0.22372596 0.32638312 0.22707747 0.34930542 0.23129775 0.36198939\n",
      "  0.23836523 0.37702791]\n",
      " [0.24196448 0.70078971 0.24376522 0.69747657 0.24027954 0.67383891\n",
      "  0.23836554 0.64199234]\n",
      " [0.28121431 0.21662763 0.29300839 0.23873687 0.29837837 0.25345265\n",
      "  0.29657088 0.27926511]\n",
      " [0.20113893 0.19018284 0.20886306 0.21920512 0.21365922 0.24242437\n",
      "  0.21841209 0.27454622]\n",
      " [0.22353965 0.18147642 0.22675901 0.2160891  0.22399888 0.24031332\n",
      "  0.22083833 0.27317993]\n",
      " [0.35434392 0.21588052 0.33166098 0.24101828 0.3129216  0.2533913\n",
      "  0.28953162 0.27663778]\n",
      " [0.2350093  0.50872565 0.23993909 0.4929587  0.23772315 0.46493454\n",
      "  0.25719335 0.45143052]\n",
      " [0.87955885 0.14117541 0.86362228 0.16948792 0.83442183 0.19634308\n",
      "  0.8111992  0.23719747]\n",
      " [0.69536148 0.21684292 0.72839633 0.22607548 0.7571579  0.22881909\n",
      "  0.79180395 0.23979836]\n",
      " [0.48915114 0.22860052 0.52127243 0.23798665 0.55124161 0.23998482\n",
      "  0.57560893 0.24657978]\n",
      " [0.73374261 0.17693848 0.76651184 0.19613631 0.79044067 0.2151051\n",
      "  0.80642717 0.24255168]\n",
      " [0.96039482 0.67694552 0.94736382 0.70981679 0.90488262 0.71347701\n",
      "  0.87740959 0.69131518]\n",
      " [0.83745803 0.77091296 0.86881045 0.76859026 0.88051574 0.74437649\n",
      "  0.89777589 0.70085395]\n",
      " [0.19633604 0.99771514 0.19081594 0.98375828 0.18083464 0.93717304\n",
      "  0.16700306 0.89166842]\n",
      " [0.2273383  0.77973261 0.24135801 0.76916863 0.24921607 0.72347799\n",
      "  0.26368616 0.69179953]\n",
      " [0.24733446 0.79392632 0.28376441 0.79324939 0.30348248 0.76538508\n",
      "  0.33153387 0.72749493]\n",
      " [0.34152748 0.78281024 0.37826963 0.78138289 0.40881184 0.75268498\n",
      "  0.43103232 0.7247354 ]\n",
      " [0.23708616 0.78899147 0.25248643 0.79136197 0.26319136 0.75977698\n",
      "  0.27229965 0.71289427]\n",
      " [0.57089132 0.75277463 0.61569098 0.77029208 0.65034016 0.76142144\n",
      "  0.68946078 0.74888283]]\n",
      "[0 0 0 0 0 0 0 0 0 0 0 0 0 0 0 0 0 0 0 0 0 0 0 0 0 0 0 1 1 1 1 1 1 1 1 1 1\n",
      " 1 1 1 1 1 1 1 1 1 1 1 1 1 1 1 1 1 1 1 1 1]\n"
     ]
    }
   ],
   "source": [
    "print(test_x)\n",
    "\n",
    "print(test_y)"
   ],
   "metadata": {
    "collapsed": false,
    "pycharm": {
     "name": "#%%\n"
    }
   }
  },
  {
   "cell_type": "code",
   "execution_count": 135,
   "outputs": [
    {
     "name": "stdout",
     "output_type": "stream",
     "text": [
      "WARNING:tensorflow:AutoGraph could not transform <function Model.make_predict_function.<locals>.predict_function at 0x16100d9d0> and will run it as-is.\n",
      "Please report this to the TensorFlow team. When filing the bug, set the verbosity to 10 (on Linux, `export AUTOGRAPH_VERBOSITY=10`) and attach the full output.\n",
      "Cause: unsupported operand type(s) for -: 'NoneType' and 'int'\n",
      "To silence this warning, decorate the function with @tf.autograph.experimental.do_not_convert\n",
      "WARNING: AutoGraph could not transform <function Model.make_predict_function.<locals>.predict_function at 0x16100d9d0> and will run it as-is.\n",
      "Please report this to the TensorFlow team. When filing the bug, set the verbosity to 10 (on Linux, `export AUTOGRAPH_VERBOSITY=10`) and attach the full output.\n",
      "Cause: unsupported operand type(s) for -: 'NoneType' and 'int'\n",
      "To silence this warning, decorate the function with @tf.autograph.experimental.do_not_convert\n",
      "WARNING:tensorflow:6 out of the last 11 calls to <function Model.make_predict_function.<locals>.predict_function at 0x16100d9d0> triggered tf.function retracing. Tracing is expensive and the excessive number of tracings could be due to (1) creating @tf.function repeatedly in a loop, (2) passing tensors with different shapes, (3) passing Python objects instead of tensors. For (1), please define your @tf.function outside of the loop. For (2), @tf.function has experimental_relax_shapes=True option that relaxes argument shapes that can avoid unnecessary retracing. For (3), please refer to https://www.tensorflow.org/guide/function#controlling_retracing and https://www.tensorflow.org/api_docs/python/tf/function for  more details.\n",
      "[[1]\n",
      " [1]\n",
      " [1]\n",
      " [1]\n",
      " [1]\n",
      " [1]\n",
      " [1]\n",
      " [1]\n",
      " [1]\n",
      " [1]\n",
      " [1]\n",
      " [1]\n",
      " [1]\n",
      " [1]\n",
      " [1]\n",
      " [1]\n",
      " [1]\n",
      " [1]\n",
      " [1]\n",
      " [1]\n",
      " [1]\n",
      " [1]\n",
      " [1]\n",
      " [1]\n",
      " [1]\n",
      " [1]\n",
      " [1]\n",
      " [1]\n",
      " [1]\n",
      " [1]\n",
      " [1]\n",
      " [1]\n",
      " [1]\n",
      " [1]\n",
      " [1]\n",
      " [1]\n",
      " [1]\n",
      " [1]\n",
      " [1]\n",
      " [1]\n",
      " [1]\n",
      " [1]\n",
      " [1]\n",
      " [1]\n",
      " [1]\n",
      " [1]\n",
      " [1]\n",
      " [1]\n",
      " [1]\n",
      " [1]\n",
      " [1]\n",
      " [1]\n",
      " [1]\n",
      " [1]\n",
      " [1]\n",
      " [1]\n",
      " [1]\n",
      " [1]]\n"
     ]
    }
   ],
   "source": [
    "predictions = (model.predict(test_x) > 0.5).astype(\"int32\")\n",
    "\n",
    "print(predictions)"
   ],
   "metadata": {
    "collapsed": false,
    "pycharm": {
     "name": "#%%\n"
    }
   }
  },
  {
   "cell_type": "code",
   "execution_count": 136,
   "outputs": [
    {
     "name": "stdout",
     "output_type": "stream",
     "text": [
      "              precision    recall  f1-score   support\n",
      "\n",
      "           0       0.00      0.00      0.00        27\n",
      "           1       0.53      1.00      0.70        31\n",
      "\n",
      "    accuracy                           0.53        58\n",
      "   macro avg       0.27      0.50      0.35        58\n",
      "weighted avg       0.29      0.53      0.37        58\n",
      "\n"
     ]
    },
    {
     "name": "stderr",
     "output_type": "stream",
     "text": [
      "/Users/mikey/miniforge3/envs/venv/lib/python3.8/site-packages/sklearn/metrics/_classification.py:1248: UndefinedMetricWarning: Precision and F-score are ill-defined and being set to 0.0 in labels with no predicted samples. Use `zero_division` parameter to control this behavior.\n",
      "  _warn_prf(average, modifier, msg_start, len(result))\n",
      "/Users/mikey/miniforge3/envs/venv/lib/python3.8/site-packages/sklearn/metrics/_classification.py:1248: UndefinedMetricWarning: Precision and F-score are ill-defined and being set to 0.0 in labels with no predicted samples. Use `zero_division` parameter to control this behavior.\n",
      "  _warn_prf(average, modifier, msg_start, len(result))\n",
      "/Users/mikey/miniforge3/envs/venv/lib/python3.8/site-packages/sklearn/metrics/_classification.py:1248: UndefinedMetricWarning: Precision and F-score are ill-defined and being set to 0.0 in labels with no predicted samples. Use `zero_division` parameter to control this behavior.\n",
      "  _warn_prf(average, modifier, msg_start, len(result))\n"
     ]
    }
   ],
   "source": [
    "print(classification_report(test_y, predictions))"
   ],
   "metadata": {
    "collapsed": false,
    "pycharm": {
     "name": "#%%\n"
    }
   }
  },
  {
   "cell_type": "code",
   "execution_count": 137,
   "outputs": [
    {
     "name": "stdout",
     "output_type": "stream",
     "text": [
      "[[ 0 27]\n",
      " [ 0 31]]\n"
     ]
    }
   ],
   "source": [
    "print(confusion_matrix(test_y, predictions))"
   ],
   "metadata": {
    "collapsed": false,
    "pycharm": {
     "name": "#%%\n"
    }
   }
  },
  {
   "cell_type": "code",
   "execution_count": 138,
   "outputs": [],
   "source": [
    "# model.save('saved-model')"
   ],
   "metadata": {
    "collapsed": false,
    "pycharm": {
     "name": "#%%\n"
    }
   }
  }
 ],
 "metadata": {
  "kernelspec": {
   "display_name": "Python 3",
   "language": "python",
   "name": "python3"
  },
  "language_info": {
   "codemirror_mode": {
    "name": "ipython",
    "version": 2
   },
   "file_extension": ".py",
   "mimetype": "text/x-python",
   "name": "python",
   "nbconvert_exporter": "python",
   "pygments_lexer": "ipython2",
   "version": "2.7.6"
  }
 },
 "nbformat": 4,
 "nbformat_minor": 0
}