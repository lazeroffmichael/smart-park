{
 "cells": [
  {
   "cell_type": "markdown",
   "metadata": {
    "collapsed": true,
    "pycharm": {
     "name": "#%% md\n"
    }
   },
   "source": [
    "4 Coordinate Model"
   ]
  },
  {
   "cell_type": "code",
   "execution_count": 47,
   "outputs": [],
   "source": [
    "import pandas as pd\n",
    "import numpy as np\n",
    "import tensorflow as tf\n",
    "from matplotlib import pyplot as plt\n",
    "from tensorflow.keras.models import Sequential\n",
    "from tensorflow.keras.layers import Dense, Dropout\n",
    "from tensorflow.keras.callbacks import EarlyStopping\n",
    "from sklearn.preprocessing import MinMaxScaler\n",
    "from sklearn.model_selection import train_test_split\n",
    "from sklearn.metrics import classification_report, confusion_matrix"
   ],
   "metadata": {
    "collapsed": false,
    "pycharm": {
     "name": "#%%\n"
    }
   }
  },
  {
   "cell_type": "code",
   "execution_count": 48,
   "outputs": [],
   "source": [
    "# get the main paths\n",
    "df = pd.read_csv('../simulations/data/small_trajectories.csv')"
   ],
   "metadata": {
    "collapsed": false,
    "pycharm": {
     "name": "#%%\n"
    }
   }
  },
  {
   "cell_type": "code",
   "execution_count": 49,
   "outputs": [
    {
     "name": "stdout",
     "output_type": "stream",
     "text": [
      "<class 'pandas.core.frame.DataFrame'>\n",
      "RangeIndex: 280 entries, 0 to 279\n",
      "Data columns (total 11 columns):\n",
      " #   Column         Non-Null Count  Dtype  \n",
      "---  ------         --------------  -----  \n",
      " 0   Unnamed: 0     280 non-null    int64  \n",
      " 1   name           280 non-null    object \n",
      " 2   latitude_1     280 non-null    float64\n",
      " 3   longitude_1    280 non-null    float64\n",
      " 4   latitude_2     280 non-null    float64\n",
      " 5   longitude_2    280 non-null    float64\n",
      " 6   latitude_3     280 non-null    float64\n",
      " 7   longitude_3    280 non-null    float64\n",
      " 8   latitude_4     280 non-null    float64\n",
      " 9   longitude_4    280 non-null    float64\n",
      " 10  enter-parking  280 non-null    int64  \n",
      "dtypes: float64(8), int64(2), object(1)\n",
      "memory usage: 24.2+ KB\n"
     ]
    }
   ],
   "source": [
    "df.info()"
   ],
   "metadata": {
    "collapsed": false,
    "pycharm": {
     "name": "#%%\n"
    }
   }
  },
  {
   "cell_type": "code",
   "execution_count": 50,
   "outputs": [
    {
     "data": {
      "text/plain": "   Unnamed: 0        name  latitude_1  longitude_1  latitude_2  longitude_2  \\\n0           0  1_A_Missed   36.110406  -115.141087   36.110440  -115.141107   \n1           1  2_A_Missed   36.110411  -115.141099   36.110430  -115.141109   \n2           2  3_A_Missed   36.110411  -115.141082   36.110435  -115.141093   \n3           3  4_A_Missed   36.110432  -115.141133   36.110458  -115.141153   \n4           4  5_A_Missed   36.110441  -115.141155   36.110463  -115.141168   \n\n   latitude_3  longitude_3  latitude_4  longitude_4  enter-parking  \n0   36.110466  -115.141131   36.110496  -115.141159              0  \n1   36.110452  -115.141130   36.110475  -115.141151              0  \n2   36.110457  -115.141110   36.110483  -115.141131              0  \n3   36.110487  -115.141167   36.110518  -115.141178              0  \n4   36.110485  -115.141176   36.110509  -115.141185              0  ",
      "text/html": "<div>\n<style scoped>\n    .dataframe tbody tr th:only-of-type {\n        vertical-align: middle;\n    }\n\n    .dataframe tbody tr th {\n        vertical-align: top;\n    }\n\n    .dataframe thead th {\n        text-align: right;\n    }\n</style>\n<table border=\"1\" class=\"dataframe\">\n  <thead>\n    <tr style=\"text-align: right;\">\n      <th></th>\n      <th>Unnamed: 0</th>\n      <th>name</th>\n      <th>latitude_1</th>\n      <th>longitude_1</th>\n      <th>latitude_2</th>\n      <th>longitude_2</th>\n      <th>latitude_3</th>\n      <th>longitude_3</th>\n      <th>latitude_4</th>\n      <th>longitude_4</th>\n      <th>enter-parking</th>\n    </tr>\n  </thead>\n  <tbody>\n    <tr>\n      <th>0</th>\n      <td>0</td>\n      <td>1_A_Missed</td>\n      <td>36.110406</td>\n      <td>-115.141087</td>\n      <td>36.110440</td>\n      <td>-115.141107</td>\n      <td>36.110466</td>\n      <td>-115.141131</td>\n      <td>36.110496</td>\n      <td>-115.141159</td>\n      <td>0</td>\n    </tr>\n    <tr>\n      <th>1</th>\n      <td>1</td>\n      <td>2_A_Missed</td>\n      <td>36.110411</td>\n      <td>-115.141099</td>\n      <td>36.110430</td>\n      <td>-115.141109</td>\n      <td>36.110452</td>\n      <td>-115.141130</td>\n      <td>36.110475</td>\n      <td>-115.141151</td>\n      <td>0</td>\n    </tr>\n    <tr>\n      <th>2</th>\n      <td>2</td>\n      <td>3_A_Missed</td>\n      <td>36.110411</td>\n      <td>-115.141082</td>\n      <td>36.110435</td>\n      <td>-115.141093</td>\n      <td>36.110457</td>\n      <td>-115.141110</td>\n      <td>36.110483</td>\n      <td>-115.141131</td>\n      <td>0</td>\n    </tr>\n    <tr>\n      <th>3</th>\n      <td>3</td>\n      <td>4_A_Missed</td>\n      <td>36.110432</td>\n      <td>-115.141133</td>\n      <td>36.110458</td>\n      <td>-115.141153</td>\n      <td>36.110487</td>\n      <td>-115.141167</td>\n      <td>36.110518</td>\n      <td>-115.141178</td>\n      <td>0</td>\n    </tr>\n    <tr>\n      <th>4</th>\n      <td>4</td>\n      <td>5_A_Missed</td>\n      <td>36.110441</td>\n      <td>-115.141155</td>\n      <td>36.110463</td>\n      <td>-115.141168</td>\n      <td>36.110485</td>\n      <td>-115.141176</td>\n      <td>36.110509</td>\n      <td>-115.141185</td>\n      <td>0</td>\n    </tr>\n  </tbody>\n</table>\n</div>"
     },
     "execution_count": 50,
     "metadata": {},
     "output_type": "execute_result"
    }
   ],
   "source": [
    "df.head()"
   ],
   "metadata": {
    "collapsed": false,
    "pycharm": {
     "name": "#%%\n"
    }
   }
  },
  {
   "cell_type": "code",
   "execution_count": 51,
   "outputs": [],
   "source": [
    "# Split up\n",
    "def split_data(amount, data):\n",
    "    \"\"\"\n",
    "    Splits the columns of the data and returns a new data frame\n",
    "    Args:\n",
    "        amount:\n",
    "\n",
    "    Returns:\n",
    "\n",
    "    \"\"\"\n",
    "    # Create dataframe columns first\n",
    "    columns = []\n",
    "    for index in range(1, amount + 1):\n",
    "        latitude = 'latitude_' + str(index)\n",
    "        longitude = 'longitude_' + str(index)\n",
    "        altitude = 'altitude_relative_to_ground_' + str(index)\n",
    "        columns.append(latitude)\n",
    "        columns.append(longitude)\n",
    "        columns.append(altitude)\n",
    "\n",
    "    columns.append('enter-parking')\n",
    "\n",
    "    coord1 = data[data.columns[2:14]].values\n",
    "    coord1 = np.column_stack((coord1, data['enter-parking'].values))\n",
    "\n",
    "    coord2 = data[data.columns[14:26]].values\n",
    "    coord2 = np.column_stack((coord2, data['enter-parking'].values))\n",
    "\n",
    "    coord3 = data[data.columns[26:38]].values\n",
    "    coord3 = np.column_stack((coord3, data['enter-parking'].values))\n",
    "\n",
    "    coord4 = data[data.columns[38:50]].values\n",
    "    coord4 = np.column_stack((coord4, data['enter-parking'].values))\n",
    "\n",
    "    coord5 = data[data.columns[50:62]].values\n",
    "    coord5 = np.column_stack((coord5, data['enter-parking'].values))\n",
    "\n",
    "    all_coords = np.concatenate((coord1, coord2, coord3, coord4, coord5), axis=0)\n",
    "\n",
    "    new_data = pd.DataFrame(all_coords, columns=columns)\n",
    "\n",
    "    new_data = new_data.astype({'enter-parking': np.int})\n",
    "\n",
    "    return new_data\n",
    "\n",
    "# new_df = split_data(4, df)"
   ],
   "metadata": {
    "collapsed": false,
    "pycharm": {
     "name": "#%%\n"
    }
   }
  },
  {
   "cell_type": "code",
   "execution_count": 52,
   "outputs": [],
   "source": [
    "# Get The cordinates for x\n",
    "x = df[df.columns[2:10]]\n",
    "\n",
    "# Get the last coordinate\n",
    "y = df['enter-parking'].values"
   ],
   "metadata": {
    "collapsed": false,
    "pycharm": {
     "name": "#%%\n"
    }
   }
  },
  {
   "cell_type": "code",
   "execution_count": 53,
   "outputs": [
    {
     "name": "stdout",
     "output_type": "stream",
     "text": [
      "     latitude_1  longitude_1  latitude_2  longitude_2  latitude_3  \\\n",
      "0     36.110406  -115.141087   36.110440  -115.141107   36.110466   \n",
      "1     36.110411  -115.141099   36.110430  -115.141109   36.110452   \n",
      "2     36.110411  -115.141082   36.110435  -115.141093   36.110457   \n",
      "3     36.110432  -115.141133   36.110458  -115.141153   36.110487   \n",
      "4     36.110441  -115.141155   36.110463  -115.141168   36.110485   \n",
      "..          ...          ...         ...          ...         ...   \n",
      "275   36.110501  -115.139464   36.110536  -115.139494   36.110561   \n",
      "276   36.110545  -115.139474   36.110576  -115.139514   36.110621   \n",
      "277   36.110592  -115.139487   36.110610  -115.139521   36.110632   \n",
      "278   36.110570  -115.139875   36.110589  -115.139847   36.110623   \n",
      "279   36.110560  -115.139734   36.110574  -115.139757   36.110587   \n",
      "\n",
      "     longitude_3  latitude_4  longitude_4  \n",
      "0    -115.141131   36.110496  -115.141159  \n",
      "1    -115.141130   36.110475  -115.141151  \n",
      "2    -115.141110   36.110483  -115.141131  \n",
      "3    -115.141167   36.110518  -115.141178  \n",
      "4    -115.141176   36.110509  -115.141185  \n",
      "..           ...         ...          ...  \n",
      "275  -115.139521   36.110598  -115.139559  \n",
      "276  -115.139560   36.110644  -115.139597  \n",
      "277  -115.139556   36.110654  -115.139610  \n",
      "278  -115.139829   36.110658  -115.139815  \n",
      "279  -115.139783   36.110620  -115.139818  \n",
      "\n",
      "[280 rows x 8 columns]\n",
      "[0 0 0 0 0 0 0 0 0 0 0 0 0 0 0 0 0 0 0 0 0 0 0 0 0 0 0 0 0 0 0 0 0 0 0 0 0\n",
      " 0 0 0 0 0 0 0 0 0 0 0 0 0 0 0 0 0 0 0 0 0 0 0 0 0 0 0 0 0 0 0 0 0 0 0 0 0\n",
      " 0 0 1 1 1 1 1 1 1 1 1 1 1 1 1 1 1 1 1 1 1 1 1 1 1 1 1 1 1 1 1 1 1 1 1 1 1\n",
      " 1 1 1 1 1 1 1 1 1 1 1 1 1 1 1 1 1 1 1 1 1 1 1 1 1 1 1 1 1 1 1 1 1 1 1 1 1\n",
      " 1 1 1 1 1 1 0 0 0 0 0 0 0 0 0 0 0 0 0 0 0 0 0 0 0 0 0 0 0 0 0 0 0 0 0 0 0\n",
      " 0 0 0 0 0 0 0 0 0 0 0 0 0 0 0 0 0 0 0 0 0 0 0 0 0 0 0 0 0 0 1 1 1 1 1 1 1\n",
      " 1 1 1 1 1 1 1 1 1 1 1 1 1 1 1 1 1 1 1 1 1 1 1 1 1 1 1 1 1 1 1 1 1 1 1 1 1\n",
      " 1 1 1 1 1 1 1 1 1 1 1 1 1 1 1 1 1 1 1 1 1]\n"
     ]
    }
   ],
   "source": [
    "print(x)\n",
    "print(y)"
   ],
   "metadata": {
    "collapsed": false,
    "pycharm": {
     "name": "#%%\n"
    }
   }
  },
  {
   "cell_type": "code",
   "execution_count": 54,
   "outputs": [],
   "source": [
    "x_train, x_test, y_train, y_test = train_test_split(x, y, test_size=0.25, random_state=63)"
   ],
   "metadata": {
    "collapsed": false,
    "pycharm": {
     "name": "#%%\n"
    }
   }
  },
  {
   "cell_type": "code",
   "execution_count": 55,
   "outputs": [],
   "source": [
    "# Scale data\n",
    "scaler = MinMaxScaler()\n",
    "\n",
    "x_train = scaler.fit_transform(x_train)\n",
    "\n",
    "x_test = scaler.transform(x_test)"
   ],
   "metadata": {
    "collapsed": false,
    "pycharm": {
     "name": "#%%\n"
    }
   }
  },
  {
   "cell_type": "code",
   "execution_count": 56,
   "outputs": [
    {
     "data": {
      "text/plain": "(210, 8)"
     },
     "execution_count": 56,
     "metadata": {},
     "output_type": "execute_result"
    }
   ],
   "source": [
    "x_train.shape"
   ],
   "metadata": {
    "collapsed": false,
    "pycharm": {
     "name": "#%%\n"
    }
   }
  },
  {
   "cell_type": "code",
   "execution_count": 57,
   "outputs": [
    {
     "name": "stderr",
     "output_type": "stream",
     "text": [
      "/home/mikey/PycharmProjects/smart-park/venv/lib/python3.8/site-packages/tensorflow/python/keras/optimizer_v2/optimizer_v2.py:374: UserWarning: The `lr` argument is deprecated, use `learning_rate` instead.\n",
      "  warnings.warn(\n"
     ]
    }
   ],
   "source": [
    "early_stop = EarlyStopping(monitor='val_loss', mode='min', verbose=1, patience=15)\n",
    "\n",
    "# Model creation\n",
    "model = Sequential()\n",
    "\n",
    "# 8 neurons for input layer\n",
    "model.add(Dense(8, activation='relu'))\n",
    "model.add(Dropout(0.3))\n",
    "\n",
    "model.add(Dense(6, activation='relu'))\n",
    "model.add(Dropout(0.3))\n",
    "\n",
    "# Binary classification\n",
    "model.add(Dense(1, activation='sigmoid'))\n",
    "\n",
    "model.compile(loss='binary_crossentropy',\n",
    "              optimizer=tf.keras.optimizers.Adam(lr=0.01),\n",
    "              metrics=['accuracy'])"
   ],
   "metadata": {
    "collapsed": false,
    "pycharm": {
     "name": "#%%\n"
    }
   }
  },
  {
   "cell_type": "code",
   "execution_count": 58,
   "outputs": [
    {
     "name": "stdout",
     "output_type": "stream",
     "text": [
      "Epoch 1/200\n",
      "7/7 [==============================] - 1s 34ms/step - loss: 0.7174 - accuracy: 0.5143 - val_loss: 0.6888 - val_accuracy: 0.5714\b\b\b\b\b\b\b\b\b\b\b\b\b\b\b\b\b\b\b\b\b\b\b\b\b\b\b\b\b\b\b\b\b\n",
      "Epoch 2/200\n",
      "7/7 [==============================] - 0s 5ms/step - loss: 0.7105 - accuracy: 0.4762 - val_loss: 0.6883 - val_accuracy: 0.5714\b\b\b\b\b\b\b\b\b\b\b\b\b\b\b\b\b\b\b\b\b\b\b\b\b\b\b\b\b\b\b\b\b\b\n",
      "Epoch 3/200\n",
      "7/7 [==============================] - 0s 4ms/step - loss: 0.6880 - accuracy: 0.5238 - val_loss: 0.6839 - val_accuracy: 0.6429\b\b\b\b\b\b\b\b\b\b\b\b\b\b\b\b\b\b\b\b\b\b\b\b\b\b\b\b\b\b\b\b\b\b\n",
      "Epoch 4/200\n",
      "7/7 [==============================] - 0s 4ms/step - loss: 0.6753 - accuracy: 0.5905 - val_loss: 0.6755 - val_accuracy: 0.6571\b\b\b\b\b\b\b\b\b\b\b\b\b\b\b\b\b\b\b\b\b\b\b\b\b\b\b\b\b\b\b\b\b\b\n",
      "Epoch 5/200\n",
      "7/7 [==============================] - 0s 5ms/step - loss: 0.6594 - accuracy: 0.5571 - val_loss: 0.6776 - val_accuracy: 0.5429\b\b\b\b\b\b\b\b\b\b\b\b\b\b\b\b\b\b\b\b\b\b\b\b\b\b\b\b\b\b\b\b\b\b\n",
      "Epoch 6/200\n",
      "7/7 [==============================] - 0s 5ms/step - loss: 0.6678 - accuracy: 0.5190 - val_loss: 0.6612 - val_accuracy: 0.5714\b\b\b\b\b\b\b\b\b\b\b\b\b\b\b\b\b\b\b\b\b\b\b\b\b\b\b\b\b\b\b\b\b\b\n",
      "Epoch 7/200\n",
      "7/7 [==============================] - 0s 4ms/step - loss: 0.6416 - accuracy: 0.6476 - val_loss: 0.6526 - val_accuracy: 0.7286\b\b\b\b\b\b\b\b\b\b\b\b\b\b\b\b\b\b\b\b\b\b\b\b\b\b\b\b\b\b\b\b\b\b\n",
      "Epoch 8/200\n",
      "7/7 [==============================] - 0s 4ms/step - loss: 0.6311 - accuracy: 0.6952 - val_loss: 0.6407 - val_accuracy: 0.6286\b\b\b\b\b\b\b\b\b\b\b\b\b\b\b\b\b\b\b\b\b\b\b\b\b\b\b\b\b\b\b\b\b\b\n",
      "Epoch 9/200\n",
      "7/7 [==============================] - 0s 5ms/step - loss: 0.6227 - accuracy: 0.6619 - val_loss: 0.6336 - val_accuracy: 0.7000\b\b\b\b\b\b\b\b\b\b\b\b\b\b\b\b\b\b\b\b\b\b\b\b\b\b\b\b\b\b\b\b\b\b\n",
      "Epoch 10/200\n",
      "7/7 [==============================] - 0s 4ms/step - loss: 0.6236 - accuracy: 0.6667 - val_loss: 0.6152 - val_accuracy: 0.7143\b\b\b\b\b\b\b\b\b\b\b\b\b\b\b\b\b\b\b\b\b\b\b\b\b\b\b\b\b\b\b\b\b\b\n",
      "Epoch 11/200\n",
      "7/7 [==============================] - 0s 4ms/step - loss: 0.5969 - accuracy: 0.6952 - val_loss: 0.6012 - val_accuracy: 0.6857\b\b\b\b\b\b\b\b\b\b\b\b\b\b\b\b\b\b\b\b\b\b\b\b\b\b\b\b\b\b\b\b\b\b\n",
      "Epoch 12/200\n",
      "7/7 [==============================] - 0s 4ms/step - loss: 0.5630 - accuracy: 0.7571 - val_loss: 0.5967 - val_accuracy: 0.7000\b\b\b\b\b\b\b\b\b\b\b\b\b\b\b\b\b\b\b\b\b\b\b\b\b\b\b\b\b\b\b\b\b\b\n",
      "Epoch 13/200\n",
      "7/7 [==============================] - 0s 4ms/step - loss: 0.5853 - accuracy: 0.6524 - val_loss: 0.5690 - val_accuracy: 0.8286\b\b\b\b\b\b\b\b\b\b\b\b\b\b\b\b\b\b\b\b\b\b\b\b\b\b\b\b\b\b\b\b\b\b\n",
      "Epoch 14/200\n",
      "7/7 [==============================] - 0s 3ms/step - loss: 0.5650 - accuracy: 0.7333 - val_loss: 0.5557 - val_accuracy: 0.8143\b\b\b\b\b\b\b\b\b\b\b\b\b\b\b\b\b\b\b\b\b\b\b\b\b\b\b\b\b\b\b\b\b\b\n",
      "Epoch 15/200\n",
      "7/7 [==============================] - 0s 3ms/step - loss: 0.5433 - accuracy: 0.7238 - val_loss: 0.5297 - val_accuracy: 0.8286\b\b\b\b\b\b\b\b\b\b\b\b\b\b\b\b\b\b\b\b\b\b\b\b\b\b\b\b\b\b\b\b\b\b\n",
      "Epoch 16/200\n",
      "7/7 [==============================] - 0s 3ms/step - loss: 0.5265 - accuracy: 0.7238 - val_loss: 0.5164 - val_accuracy: 0.7857\b\b\b\b\b\b\b\b\b\b\b\b\b\b\b\b\b\b\b\b\b\b\b\b\b\b\b\b\b\b\b\b\b\b\n",
      "Epoch 17/200\n",
      "7/7 [==============================] - 0s 4ms/step - loss: 0.5099 - accuracy: 0.7857 - val_loss: 0.4974 - val_accuracy: 0.8143\b\b\b\b\b\b\b\b\b\b\b\b\b\b\b\b\b\b\b\b\b\b\b\b\b\b\b\b\b\b\b\b\b\b\n",
      "Epoch 18/200\n",
      "7/7 [==============================] - 0s 4ms/step - loss: 0.5020 - accuracy: 0.7429 - val_loss: 0.4792 - val_accuracy: 0.8143\b\b\b\b\b\b\b\b\b\b\b\b\b\b\b\b\b\b\b\b\b\b\b\b\b\b\b\b\b\b\b\b\b\b\n",
      "Epoch 19/200\n",
      "7/7 [==============================] - 0s 4ms/step - loss: 0.4716 - accuracy: 0.7714 - val_loss: 0.4722 - val_accuracy: 0.8571\b\b\b\b\b\b\b\b\b\b\b\b\b\b\b\b\b\b\b\b\b\b\b\b\b\b\b\b\b\b\b\b\b\b\n",
      "Epoch 20/200\n",
      "7/7 [==============================] - 0s 4ms/step - loss: 0.5370 - accuracy: 0.7000 - val_loss: 0.4824 - val_accuracy: 0.8000\b\b\b\b\b\b\b\b\b\b\b\b\b\b\b\b\b\b\b\b\b\b\b\b\b\b\b\b\b\b\b\b\b\b\n",
      "Epoch 21/200\n",
      "7/7 [==============================] - 0s 3ms/step - loss: 0.4638 - accuracy: 0.7762 - val_loss: 0.4409 - val_accuracy: 0.8571\b\b\b\b\b\b\b\b\b\b\b\b\b\b\b\b\b\b\b\b\b\b\b\b\b\b\b\b\b\b\b\b\b\b\n",
      "Epoch 22/200\n",
      "7/7 [==============================] - 0s 3ms/step - loss: 0.4775 - accuracy: 0.7762 - val_loss: 0.4312 - val_accuracy: 0.8429\b\b\b\b\b\b\b\b\b\b\b\b\b\b\b\b\b\b\b\b\b\b\b\b\b\b\b\b\b\b\b\b\b\b\n",
      "Epoch 23/200\n",
      "7/7 [==============================] - 0s 3ms/step - loss: 0.4759 - accuracy: 0.7714 - val_loss: 0.4284 - val_accuracy: 0.8143\b\b\b\b\b\b\b\b\b\b\b\b\b\b\b\b\b\b\b\b\b\b\b\b\b\b\b\b\b\b\b\b\b\b\n",
      "Epoch 24/200\n",
      "7/7 [==============================] - 0s 3ms/step - loss: 0.4964 - accuracy: 0.7619 - val_loss: 0.4225 - val_accuracy: 0.8571\b\b\b\b\b\b\b\b\b\b\b\b\b\b\b\b\b\b\b\b\b\b\b\b\b\b\b\b\b\b\b\b\b\b\n",
      "Epoch 25/200\n",
      "7/7 [==============================] - 0s 5ms/step - loss: 0.4641 - accuracy: 0.7952 - val_loss: 0.4338 - val_accuracy: 0.8571\b\b\b\b\b\b\b\b\b\b\b\b\b\b\b\b\b\b\b\b\b\b\b\b\b\b\b\b\b\b\b\b\b\b\n",
      "Epoch 26/200\n",
      "7/7 [==============================] - 0s 4ms/step - loss: 0.4467 - accuracy: 0.7905 - val_loss: 0.4060 - val_accuracy: 0.8429\b\b\b\b\b\b\b\b\b\b\b\b\b\b\b\b\b\b\b\b\b\b\b\b\b\b\b\b\b\b\b\b\b\b\n",
      "Epoch 27/200\n",
      "7/7 [==============================] - 0s 4ms/step - loss: 0.4488 - accuracy: 0.7857 - val_loss: 0.4039 - val_accuracy: 0.8571\b\b\b\b\b\b\b\b\b\b\b\b\b\b\b\b\b\b\b\b\b\b\b\b\b\b\b\b\b\b\b\b\b\b\n",
      "Epoch 28/200\n",
      "7/7 [==============================] - 0s 4ms/step - loss: 0.4569 - accuracy: 0.8000 - val_loss: 0.3929 - val_accuracy: 0.8714\b\b\b\b\b\b\b\b\b\b\b\b\b\b\b\b\b\b\b\b\b\b\b\b\b\b\b\b\b\b\b\b\b\b\n",
      "Epoch 29/200\n",
      "7/7 [==============================] - 0s 3ms/step - loss: 0.4391 - accuracy: 0.7857 - val_loss: 0.3993 - val_accuracy: 0.8429\b\b\b\b\b\b\b\b\b\b\b\b\b\b\b\b\b\b\b\b\b\b\b\b\b\b\b\b\b\b\b\b\b\b\n",
      "Epoch 30/200\n",
      "7/7 [==============================] - 0s 3ms/step - loss: 0.4004 - accuracy: 0.8429 - val_loss: 0.3812 - val_accuracy: 0.8571\b\b\b\b\b\b\b\b\b\b\b\b\b\b\b\b\b\b\b\b\b\b\b\b\b\b\b\b\b\b\b\b\b\b\n",
      "Epoch 31/200\n",
      "7/7 [==============================] - 0s 4ms/step - loss: 0.4180 - accuracy: 0.8048 - val_loss: 0.3667 - val_accuracy: 0.8714\b\b\b\b\b\b\b\b\b\b\b\b\b\b\b\b\b\b\b\b\b\b\b\b\b\b\b\b\b\b\b\b\b\b\n",
      "Epoch 32/200\n",
      "7/7 [==============================] - 0s 4ms/step - loss: 0.3935 - accuracy: 0.8238 - val_loss: 0.3615 - val_accuracy: 0.8571\b\b\b\b\b\b\b\b\b\b\b\b\b\b\b\b\b\b\b\b\b\b\b\b\b\b\b\b\b\b\b\b\b\b\n",
      "Epoch 33/200\n",
      "7/7 [==============================] - 0s 5ms/step - loss: 0.4511 - accuracy: 0.7714 - val_loss: 0.3727 - val_accuracy: 0.8429\b\b\b\b\b\b\b\b\b\b\b\b\b\b\b\b\b\b\b\b\b\b\b\b\b\b\b\b\b\b\b\b\b\b\n",
      "Epoch 34/200\n",
      "7/7 [==============================] - 0s 5ms/step - loss: 0.3916 - accuracy: 0.8619 - val_loss: 0.3775 - val_accuracy: 0.8857\b\b\b\b\b\b\b\b\b\b\b\b\b\b\b\b\b\b\b\b\b\b\b\b\b\b\b\b\b\b\b\b\b\b\n",
      "Epoch 35/200\n",
      "7/7 [==============================] - 0s 4ms/step - loss: 0.4292 - accuracy: 0.8095 - val_loss: 0.3730 - val_accuracy: 0.8714\b\b\b\b\b\b\b\b\b\b\b\b\b\b\b\b\b\b\b\b\b\b\b\b\b\b\b\b\b\b\b\b\b\b\n",
      "Epoch 36/200\n",
      "7/7 [==============================] - 0s 4ms/step - loss: 0.3885 - accuracy: 0.8429 - val_loss: 0.3515 - val_accuracy: 0.8571\b\b\b\b\b\b\b\b\b\b\b\b\b\b\b\b\b\b\b\b\b\b\b\b\b\b\b\b\b\b\b\b\b\b\n",
      "Epoch 37/200\n",
      "7/7 [==============================] - 0s 5ms/step - loss: 0.3925 - accuracy: 0.8238 - val_loss: 0.3390 - val_accuracy: 0.8571\b\b\b\b\b\b\b\b\b\b\b\b\b\b\b\b\b\b\b\b\b\b\b\b\b\b\b\b\b\b\b\b\b\b\n",
      "Epoch 38/200\n",
      "7/7 [==============================] - 0s 5ms/step - loss: 0.3951 - accuracy: 0.8238 - val_loss: 0.3359 - val_accuracy: 0.8714\b\b\b\b\b\b\b\b\b\b\b\b\b\b\b\b\b\b\b\b\b\b\b\b\b\b\b\b\b\b\b\b\b\b\n",
      "Epoch 39/200\n",
      "7/7 [==============================] - 0s 5ms/step - loss: 0.3738 - accuracy: 0.8429 - val_loss: 0.3435 - val_accuracy: 0.8857\b\b\b\b\b\b\b\b\b\b\b\b\b\b\b\b\b\b\b\b\b\b\b\b\b\b\b\b\b\b\b\b\b\b\n",
      "Epoch 40/200\n",
      "7/7 [==============================] - 0s 4ms/step - loss: 0.4279 - accuracy: 0.8095 - val_loss: 0.3265 - val_accuracy: 0.9000\b\b\b\b\b\b\b\b\b\b\b\b\b\b\b\b\b\b\b\b\b\b\b\b\b\b\b\b\b\b\b\b\b\b\n",
      "Epoch 41/200\n",
      "7/7 [==============================] - 0s 5ms/step - loss: 0.4034 - accuracy: 0.8286 - val_loss: 0.3358 - val_accuracy: 0.8857\b\b\b\b\b\b\b\b\b\b\b\b\b\b\b\b\b\b\b\b\b\b\b\b\b\b\b\b\b\b\b\b\b\b\n",
      "Epoch 42/200\n",
      "7/7 [==============================] - 0s 4ms/step - loss: 0.4106 - accuracy: 0.8000 - val_loss: 0.3427 - val_accuracy: 0.9000\b\b\b\b\b\b\b\b\b\b\b\b\b\b\b\b\b\b\b\b\b\b\b\b\b\b\b\b\b\b\b\b\b\b\n",
      "Epoch 43/200\n",
      "7/7 [==============================] - 0s 4ms/step - loss: 0.4069 - accuracy: 0.8286 - val_loss: 0.3532 - val_accuracy: 0.8571\b\b\b\b\b\b\b\b\b\b\b\b\b\b\b\b\b\b\b\b\b\b\b\b\b\b\b\b\b\b\b\b\b\b\n",
      "Epoch 44/200\n",
      "7/7 [==============================] - 0s 4ms/step - loss: 0.3831 - accuracy: 0.8238 - val_loss: 0.3317 - val_accuracy: 0.8857\b\b\b\b\b\b\b\b\b\b\b\b\b\b\b\b\b\b\b\b\b\b\b\b\b\b\b\b\b\b\b\b\b\b\n",
      "Epoch 45/200\n",
      "7/7 [==============================] - 0s 3ms/step - loss: 0.3697 - accuracy: 0.8524 - val_loss: 0.3288 - val_accuracy: 0.9000\b\b\b\b\b\b\b\b\b\b\b\b\b\b\b\b\b\b\b\b\b\b\b\b\b\b\b\b\b\b\b\b\b\b\n",
      "Epoch 46/200\n",
      "7/7 [==============================] - 0s 4ms/step - loss: 0.3617 - accuracy: 0.8857 - val_loss: 0.3332 - val_accuracy: 0.8714\b\b\b\b\b\b\b\b\b\b\b\b\b\b\b\b\b\b\b\b\b\b\b\b\b\b\b\b\b\b\b\b\b\b\n",
      "Epoch 47/200\n",
      "7/7 [==============================] - 0s 4ms/step - loss: 0.3740 - accuracy: 0.8429 - val_loss: 0.3200 - val_accuracy: 0.8714\b\b\b\b\b\b\b\b\b\b\b\b\b\b\b\b\b\b\b\b\b\b\b\b\b\b\b\b\b\b\b\b\b\b\n",
      "Epoch 48/200\n",
      "7/7 [==============================] - 0s 5ms/step - loss: 0.4012 - accuracy: 0.8190 - val_loss: 0.3187 - val_accuracy: 0.8714\b\b\b\b\b\b\b\b\b\b\b\b\b\b\b\b\b\b\b\b\b\b\b\b\b\b\b\b\b\b\b\b\b\b\n",
      "Epoch 49/200\n",
      "7/7 [==============================] - 0s 7ms/step - loss: 0.3864 - accuracy: 0.8238 - val_loss: 0.2979 - val_accuracy: 0.9000\b\b\b\b\b\b\b\b\b\b\b\b\b\b\b\b\b\b\b\b\b\b\b\b\b\b\b\b\b\b\b\b\b\b\n",
      "Epoch 50/200\n",
      "7/7 [==============================] - 0s 4ms/step - loss: 0.3421 - accuracy: 0.8667 - val_loss: 0.2839 - val_accuracy: 0.9143\b\b\b\b\b\b\b\b\b\b\b\b\b\b\b\b\b\b\b\b\b\b\b\b\b\b\b\b\b\b\b\b\b\b\n",
      "Epoch 51/200\n",
      "7/7 [==============================] - 0s 4ms/step - loss: 0.3301 - accuracy: 0.8714 - val_loss: 0.3076 - val_accuracy: 0.8857\b\b\b\b\b\b\b\b\b\b\b\b\b\b\b\b\b\b\b\b\b\b\b\b\b\b\b\b\b\b\b\b\b\b\n",
      "Epoch 52/200\n",
      "7/7 [==============================] - 0s 4ms/step - loss: 0.4103 - accuracy: 0.8286 - val_loss: 0.3128 - val_accuracy: 0.9000\b\b\b\b\b\b\b\b\b\b\b\b\b\b\b\b\b\b\b\b\b\b\b\b\b\b\b\b\b\b\b\b\b\b\n",
      "Epoch 53/200\n",
      "7/7 [==============================] - 0s 5ms/step - loss: 0.3894 - accuracy: 0.8286 - val_loss: 0.2869 - val_accuracy: 0.9143\b\b\b\b\b\b\b\b\b\b\b\b\b\b\b\b\b\b\b\b\b\b\b\b\b\b\b\b\b\b\b\b\b\b\n",
      "Epoch 54/200\n",
      "7/7 [==============================] - 0s 4ms/step - loss: 0.3824 - accuracy: 0.8238 - val_loss: 0.3011 - val_accuracy: 0.9143\b\b\b\b\b\b\b\b\b\b\b\b\b\b\b\b\b\b\b\b\b\b\b\b\b\b\b\b\b\b\b\b\b\b\n",
      "Epoch 55/200\n",
      "7/7 [==============================] - 0s 4ms/step - loss: 0.3995 - accuracy: 0.8286 - val_loss: 0.3609 - val_accuracy: 0.8143\b\b\b\b\b\b\b\b\b\b\b\b\b\b\b\b\b\b\b\b\b\b\b\b\b\b\b\b\b\b\b\b\b\b\n",
      "Epoch 56/200\n",
      "7/7 [==============================] - 0s 6ms/step - loss: 0.4641 - accuracy: 0.7810 - val_loss: 0.3464 - val_accuracy: 0.9000\b\b\b\b\b\b\b\b\b\b\b\b\b\b\b\b\b\b\b\b\b\b\b\b\b\b\b\b\b\b\b\b\b\b\n",
      "Epoch 57/200\n",
      "7/7 [==============================] - 0s 8ms/step - loss: 0.3658 - accuracy: 0.8667 - val_loss: 0.3191 - val_accuracy: 0.9000\b\b\b\b\b\b\b\b\b\b\b\b\b\b\b\b\b\b\b\b\b\b\b\b\b\b\b\b\b\b\b\b\b\b\n",
      "Epoch 58/200\n",
      "7/7 [==============================] - 0s 11ms/step - loss: 0.3785 - accuracy: 0.8524 - val_loss: 0.3116 - val_accuracy: 0.8857\b\b\b\b\b\b\b\b\b\b\b\b\b\b\b\b\b\b\b\b\b\b\b\b\b\b\b\b\b\b\b\b\b\n",
      "Epoch 59/200\n",
      "7/7 [==============================] - 0s 10ms/step - loss: 0.3185 - accuracy: 0.8810 - val_loss: 0.2775 - val_accuracy: 0.9286\b\b\b\b\b\b\b\b\b\b\b\b\b\b\b\b\b\b\b\b\b\b\b\b\b\b\b\b\b\b\b\b\b\n",
      "Epoch 60/200\n",
      "7/7 [==============================] - 0s 8ms/step - loss: 0.4062 - accuracy: 0.8238 - val_loss: 0.2908 - val_accuracy: 0.9429\b\b\b\b\b\b\b\b\b\b\b\b\b\b\b\b\b\b\b\b\b\b\b\b\b\b\b\b\b\b\b\b\b\b\n",
      "Epoch 61/200\n",
      "7/7 [==============================] - 0s 10ms/step - loss: 0.3289 - accuracy: 0.8810 - val_loss: 0.2705 - val_accuracy: 0.9143\b\b\b\b\b\b\b\b\b\b\b\b\b\b\b\b\b\b\b\b\b\b\b\b\b\b\b\b\b\b\b\b\b\n",
      "Epoch 62/200\n",
      "7/7 [==============================] - 0s 9ms/step - loss: 0.3143 - accuracy: 0.8857 - val_loss: 0.2674 - val_accuracy: 0.9143\b\b\b\b\b\b\b\b\b\b\b\b\b\b\b\b\b\b\b\b\b\b\b\b\b\b\b\b\b\b\b\b\b\b\n",
      "Epoch 63/200\n",
      "7/7 [==============================] - 0s 5ms/step - loss: 0.3067 - accuracy: 0.8952 - val_loss: 0.2695 - val_accuracy: 0.9143\b\b\b\b\b\b\b\b\b\b\b\b\b\b\b\b\b\b\b\b\b\b\b\b\b\b\b\b\b\b\b\b\b\b\n",
      "Epoch 64/200\n",
      "7/7 [==============================] - 0s 5ms/step - loss: 0.2712 - accuracy: 0.9048 - val_loss: 0.2472 - val_accuracy: 0.9429\b\b\b\b\b\b\b\b\b\b\b\b\b\b\b\b\b\b\b\b\b\b\b\b\b\b\b\b\b\b\b\b\b\b\n",
      "Epoch 65/200\n",
      "7/7 [==============================] - 0s 4ms/step - loss: 0.3317 - accuracy: 0.8762 - val_loss: 0.2420 - val_accuracy: 0.9571\b\b\b\b\b\b\b\b\b\b\b\b\b\b\b\b\b\b\b\b\b\b\b\b\b\b\b\b\b\b\b\b\b\b\n",
      "Epoch 66/200\n",
      "7/7 [==============================] - 0s 4ms/step - loss: 0.2949 - accuracy: 0.8952 - val_loss: 0.2390 - val_accuracy: 0.9571\b\b\b\b\b\b\b\b\b\b\b\b\b\b\b\b\b\b\b\b\b\b\b\b\b\b\b\b\b\b\b\b\b\b\n",
      "Epoch 67/200\n",
      "7/7 [==============================] - 0s 4ms/step - loss: 0.3237 - accuracy: 0.8667 - val_loss: 0.2226 - val_accuracy: 0.9429\b\b\b\b\b\b\b\b\b\b\b\b\b\b\b\b\b\b\b\b\b\b\b\b\b\b\b\b\b\b\b\b\b\b\n",
      "Epoch 68/200\n",
      "7/7 [==============================] - 0s 4ms/step - loss: 0.3191 - accuracy: 0.8810 - val_loss: 0.2353 - val_accuracy: 0.9429\b\b\b\b\b\b\b\b\b\b\b\b\b\b\b\b\b\b\b\b\b\b\b\b\b\b\b\b\b\b\b\b\b\b\n",
      "Epoch 69/200\n",
      "7/7 [==============================] - 0s 4ms/step - loss: 0.3121 - accuracy: 0.8952 - val_loss: 0.2335 - val_accuracy: 0.9714\b\b\b\b\b\b\b\b\b\b\b\b\b\b\b\b\b\b\b\b\b\b\b\b\b\b\b\b\b\b\b\b\b\b\n",
      "Epoch 70/200\n",
      "7/7 [==============================] - 0s 4ms/step - loss: 0.3145 - accuracy: 0.8810 - val_loss: 0.2117 - val_accuracy: 0.9571\b\b\b\b\b\b\b\b\b\b\b\b\b\b\b\b\b\b\b\b\b\b\b\b\b\b\b\b\b\b\b\b\b\b\n",
      "Epoch 71/200\n",
      "7/7 [==============================] - 0s 4ms/step - loss: 0.2880 - accuracy: 0.8905 - val_loss: 0.2068 - val_accuracy: 0.9714\b\b\b\b\b\b\b\b\b\b\b\b\b\b\b\b\b\b\b\b\b\b\b\b\b\b\b\b\b\b\b\b\b\b\n",
      "Epoch 72/200\n",
      "7/7 [==============================] - 0s 4ms/step - loss: 0.2934 - accuracy: 0.8905 - val_loss: 0.2190 - val_accuracy: 0.9714\b\b\b\b\b\b\b\b\b\b\b\b\b\b\b\b\b\b\b\b\b\b\b\b\b\b\b\b\b\b\b\b\b\b\n",
      "Epoch 73/200\n",
      "7/7 [==============================] - 0s 4ms/step - loss: 0.3185 - accuracy: 0.8810 - val_loss: 0.1913 - val_accuracy: 0.9714\b\b\b\b\b\b\b\b\b\b\b\b\b\b\b\b\b\b\b\b\b\b\b\b\b\b\b\b\b\b\b\b\b\b\n",
      "Epoch 74/200\n",
      "7/7 [==============================] - 0s 4ms/step - loss: 0.2692 - accuracy: 0.9095 - val_loss: 0.2167 - val_accuracy: 0.9714\b\b\b\b\b\b\b\b\b\b\b\b\b\b\b\b\b\b\b\b\b\b\b\b\b\b\b\b\b\b\b\b\b\b\n",
      "Epoch 75/200\n",
      "7/7 [==============================] - 0s 4ms/step - loss: 0.3362 - accuracy: 0.8619 - val_loss: 0.1882 - val_accuracy: 0.9714\b\b\b\b\b\b\b\b\b\b\b\b\b\b\b\b\b\b\b\b\b\b\b\b\b\b\b\b\b\b\b\b\b\b\n",
      "Epoch 76/200\n",
      "7/7 [==============================] - 0s 3ms/step - loss: 0.2766 - accuracy: 0.9190 - val_loss: 0.2323 - val_accuracy: 0.9714\b\b\b\b\b\b\b\b\b\b\b\b\b\b\b\b\b\b\b\b\b\b\b\b\b\b\b\b\b\b\b\b\b\b\n",
      "Epoch 77/200\n",
      "7/7 [==============================] - 0s 4ms/step - loss: 0.2696 - accuracy: 0.9095 - val_loss: 0.1905 - val_accuracy: 0.9571\b\b\b\b\b\b\b\b\b\b\b\b\b\b\b\b\b\b\b\b\b\b\b\b\b\b\b\b\b\b\b\b\b\b\n",
      "Epoch 78/200\n",
      "7/7 [==============================] - 0s 4ms/step - loss: 0.2995 - accuracy: 0.8905 - val_loss: 0.1870 - val_accuracy: 0.9714\b\b\b\b\b\b\b\b\b\b\b\b\b\b\b\b\b\b\b\b\b\b\b\b\b\b\b\b\b\b\b\b\b\b\n",
      "Epoch 79/200\n",
      "7/7 [==============================] - 0s 4ms/step - loss: 0.2654 - accuracy: 0.9095 - val_loss: 0.1861 - val_accuracy: 0.9571\b\b\b\b\b\b\b\b\b\b\b\b\b\b\b\b\b\b\b\b\b\b\b\b\b\b\b\b\b\b\b\b\b\b\n",
      "Epoch 80/200\n",
      "7/7 [==============================] - 0s 3ms/step - loss: 0.2974 - accuracy: 0.8905 - val_loss: 0.2207 - val_accuracy: 0.9429\b\b\b\b\b\b\b\b\b\b\b\b\b\b\b\b\b\b\b\b\b\b\b\b\b\b\b\b\b\b\b\b\b\b\n",
      "Epoch 81/200\n",
      "7/7 [==============================] - 0s 3ms/step - loss: 0.2925 - accuracy: 0.9143 - val_loss: 0.1938 - val_accuracy: 0.9429\b\b\b\b\b\b\b\b\b\b\b\b\b\b\b\b\b\b\b\b\b\b\b\b\b\b\b\b\b\b\b\b\b\b\n",
      "Epoch 82/200\n",
      "7/7 [==============================] - 0s 3ms/step - loss: 0.2577 - accuracy: 0.9190 - val_loss: 0.1900 - val_accuracy: 0.9571\b\b\b\b\b\b\b\b\b\b\b\b\b\b\b\b\b\b\b\b\b\b\b\b\b\b\b\b\b\b\b\b\b\b\n",
      "Epoch 83/200\n",
      "7/7 [==============================] - 0s 3ms/step - loss: 0.2832 - accuracy: 0.8952 - val_loss: 0.1861 - val_accuracy: 0.9571\b\b\b\b\b\b\b\b\b\b\b\b\b\b\b\b\b\b\b\b\b\b\b\b\b\b\b\b\b\b\b\b\b\b\n",
      "Epoch 84/200\n",
      "7/7 [==============================] - 0s 3ms/step - loss: 0.2107 - accuracy: 0.9524 - val_loss: 0.1689 - val_accuracy: 0.9714\b\b\b\b\b\b\b\b\b\b\b\b\b\b\b\b\b\b\b\b\b\b\b\b\b\b\b\b\b\b\b\b\b\b\n",
      "Epoch 85/200\n",
      "7/7 [==============================] - 0s 4ms/step - loss: 0.3072 - accuracy: 0.8810 - val_loss: 0.1549 - val_accuracy: 0.9714\b\b\b\b\b\b\b\b\b\b\b\b\b\b\b\b\b\b\b\b\b\b\b\b\b\b\b\b\b\b\b\b\b\b\n",
      "Epoch 86/200\n",
      "7/7 [==============================] - 0s 4ms/step - loss: 0.1861 - accuracy: 0.9524 - val_loss: 0.2033 - val_accuracy: 0.9429\b\b\b\b\b\b\b\b\b\b\b\b\b\b\b\b\b\b\b\b\b\b\b\b\b\b\b\b\b\b\b\b\b\b\n",
      "Epoch 87/200\n",
      "7/7 [==============================] - 0s 4ms/step - loss: 0.2685 - accuracy: 0.9143 - val_loss: 0.1668 - val_accuracy: 0.9714\b\b\b\b\b\b\b\b\b\b\b\b\b\b\b\b\b\b\b\b\b\b\b\b\b\b\b\b\b\b\b\b\b\b\n",
      "Epoch 88/200\n",
      "7/7 [==============================] - 0s 3ms/step - loss: 0.2634 - accuracy: 0.9190 - val_loss: 0.1750 - val_accuracy: 0.9429\b\b\b\b\b\b\b\b\b\b\b\b\b\b\b\b\b\b\b\b\b\b\b\b\b\b\b\b\b\b\b\b\b\b\n",
      "Epoch 89/200\n",
      "7/7 [==============================] - 0s 3ms/step - loss: 0.2540 - accuracy: 0.9143 - val_loss: 0.1730 - val_accuracy: 0.9714\b\b\b\b\b\b\b\b\b\b\b\b\b\b\b\b\b\b\b\b\b\b\b\b\b\b\b\b\b\b\b\b\b\b\n",
      "Epoch 90/200\n",
      "7/7 [==============================] - 0s 4ms/step - loss: 0.2662 - accuracy: 0.9143 - val_loss: 0.1689 - val_accuracy: 0.9571\b\b\b\b\b\b\b\b\b\b\b\b\b\b\b\b\b\b\b\b\b\b\b\b\b\b\b\b\b\b\b\b\b\b\n",
      "Epoch 91/200\n",
      "7/7 [==============================] - 0s 4ms/step - loss: 0.3221 - accuracy: 0.8762 - val_loss: 0.1566 - val_accuracy: 0.9714\b\b\b\b\b\b\b\b\b\b\b\b\b\b\b\b\b\b\b\b\b\b\b\b\b\b\b\b\b\b\b\b\b\b\n",
      "Epoch 92/200\n",
      "7/7 [==============================] - 0s 4ms/step - loss: 0.2071 - accuracy: 0.9429 - val_loss: 0.1676 - val_accuracy: 0.9714\b\b\b\b\b\b\b\b\b\b\b\b\b\b\b\b\b\b\b\b\b\b\b\b\b\b\b\b\b\b\b\b\b\b\n",
      "Epoch 93/200\n",
      "7/7 [==============================] - 0s 3ms/step - loss: 0.1899 - accuracy: 0.9524 - val_loss: 0.1495 - val_accuracy: 0.9714\b\b\b\b\b\b\b\b\b\b\b\b\b\b\b\b\b\b\b\b\b\b\b\b\b\b\b\b\b\b\b\b\b\b\n",
      "Epoch 94/200\n",
      "7/7 [==============================] - 0s 4ms/step - loss: 0.2292 - accuracy: 0.9381 - val_loss: 0.1484 - val_accuracy: 0.9714\b\b\b\b\b\b\b\b\b\b\b\b\b\b\b\b\b\b\b\b\b\b\b\b\b\b\b\b\b\b\b\b\b\b\n",
      "Epoch 95/200\n",
      "7/7 [==============================] - 0s 5ms/step - loss: 0.2340 - accuracy: 0.9238 - val_loss: 0.1465 - val_accuracy: 0.9714\b\b\b\b\b\b\b\b\b\b\b\b\b\b\b\b\b\b\b\b\b\b\b\b\b\b\b\b\b\b\b\b\b\b\n",
      "Epoch 96/200\n",
      "7/7 [==============================] - 0s 5ms/step - loss: 0.2800 - accuracy: 0.8857 - val_loss: 0.1664 - val_accuracy: 0.9714\b\b\b\b\b\b\b\b\b\b\b\b\b\b\b\b\b\b\b\b\b\b\b\b\b\b\b\b\b\b\b\b\b\b\n",
      "Epoch 97/200\n",
      "7/7 [==============================] - 0s 3ms/step - loss: 0.2528 - accuracy: 0.9048 - val_loss: 0.1551 - val_accuracy: 0.9714\b\b\b\b\b\b\b\b\b\b\b\b\b\b\b\b\b\b\b\b\b\b\b\b\b\b\b\b\b\b\b\b\b\b\n",
      "Epoch 98/200\n",
      "7/7 [==============================] - 0s 3ms/step - loss: 0.2781 - accuracy: 0.8952 - val_loss: 0.1416 - val_accuracy: 0.9714\b\b\b\b\b\b\b\b\b\b\b\b\b\b\b\b\b\b\b\b\b\b\b\b\b\b\b\b\b\b\b\b\b\b\n",
      "Epoch 99/200\n",
      "7/7 [==============================] - 0s 3ms/step - loss: 0.2767 - accuracy: 0.8952 - val_loss: 0.1633 - val_accuracy: 0.9714\b\b\b\b\b\b\b\b\b\b\b\b\b\b\b\b\b\b\b\b\b\b\b\b\b\b\b\b\b\b\b\b\b\b\n",
      "Epoch 100/200\n",
      "7/7 [==============================] - 0s 4ms/step - loss: 0.2365 - accuracy: 0.9286 - val_loss: 0.1527 - val_accuracy: 0.9714\b\b\b\b\b\b\b\b\b\b\b\b\b\b\b\b\b\b\b\b\b\b\b\b\b\b\b\b\b\b\b\b\b\b\n",
      "Epoch 101/200\n",
      "7/7 [==============================] - 0s 5ms/step - loss: 0.2571 - accuracy: 0.9190 - val_loss: 0.1793 - val_accuracy: 0.9571\b\b\b\b\b\b\b\b\b\b\b\b\b\b\b\b\b\b\b\b\b\b\b\b\b\b\b\b\b\b\b\b\b\b\n",
      "Epoch 102/200\n",
      "7/7 [==============================] - 0s 4ms/step - loss: 0.2150 - accuracy: 0.9333 - val_loss: 0.1508 - val_accuracy: 0.9714\b\b\b\b\b\b\b\b\b\b\b\b\b\b\b\b\b\b\b\b\b\b\b\b\b\b\b\b\b\b\b\b\b\b\n",
      "Epoch 103/200\n",
      "7/7 [==============================] - 0s 3ms/step - loss: 0.2195 - accuracy: 0.9333 - val_loss: 0.1406 - val_accuracy: 0.9714\b\b\b\b\b\b\b\b\b\b\b\b\b\b\b\b\b\b\b\b\b\b\b\b\b\b\b\b\b\b\b\b\b\b\n",
      "Epoch 104/200\n",
      "7/7 [==============================] - 0s 4ms/step - loss: 0.2485 - accuracy: 0.9095 - val_loss: 0.1512 - val_accuracy: 0.9714\b\b\b\b\b\b\b\b\b\b\b\b\b\b\b\b\b\b\b\b\b\b\b\b\b\b\b\b\b\b\b\b\b\b\n",
      "Epoch 105/200\n",
      "7/7 [==============================] - 0s 3ms/step - loss: 0.2311 - accuracy: 0.9190 - val_loss: 0.1455 - val_accuracy: 0.9714\b\b\b\b\b\b\b\b\b\b\b\b\b\b\b\b\b\b\b\b\b\b\b\b\b\b\b\b\b\b\b\b\b\b\n",
      "Epoch 106/200\n",
      "7/7 [==============================] - 0s 3ms/step - loss: 0.2694 - accuracy: 0.9048 - val_loss: 0.1810 - val_accuracy: 0.9714\b\b\b\b\b\b\b\b\b\b\b\b\b\b\b\b\b\b\b\b\b\b\b\b\b\b\b\b\b\b\b\b\b\b\n",
      "Epoch 107/200\n",
      "7/7 [==============================] - 0s 4ms/step - loss: 0.2757 - accuracy: 0.9095 - val_loss: 0.1624 - val_accuracy: 0.9714\b\b\b\b\b\b\b\b\b\b\b\b\b\b\b\b\b\b\b\b\b\b\b\b\b\b\b\b\b\b\b\b\b\b\n",
      "Epoch 108/200\n",
      "7/7 [==============================] - 0s 5ms/step - loss: 0.2286 - accuracy: 0.9238 - val_loss: 0.1406 - val_accuracy: 0.9714\b\b\b\b\b\b\b\b\b\b\b\b\b\b\b\b\b\b\b\b\b\b\b\b\b\b\b\b\b\b\b\b\b\b\n",
      "Epoch 109/200\n",
      "7/7 [==============================] - 0s 4ms/step - loss: 0.2325 - accuracy: 0.9381 - val_loss: 0.1472 - val_accuracy: 0.9571\b\b\b\b\b\b\b\b\b\b\b\b\b\b\b\b\b\b\b\b\b\b\b\b\b\b\b\b\b\b\b\b\b\b\n",
      "Epoch 110/200\n",
      "7/7 [==============================] - 0s 4ms/step - loss: 0.2641 - accuracy: 0.9048 - val_loss: 0.1533 - val_accuracy: 0.9714\b\b\b\b\b\b\b\b\b\b\b\b\b\b\b\b\b\b\b\b\b\b\b\b\b\b\b\b\b\b\b\b\b\b\n",
      "Epoch 111/200\n",
      "7/7 [==============================] - 0s 4ms/step - loss: 0.2223 - accuracy: 0.9381 - val_loss: 0.1615 - val_accuracy: 0.9714\b\b\b\b\b\b\b\b\b\b\b\b\b\b\b\b\b\b\b\b\b\b\b\b\b\b\b\b\b\b\b\b\b\b\n",
      "Epoch 112/200\n",
      "7/7 [==============================] - 0s 4ms/step - loss: 0.2730 - accuracy: 0.9095 - val_loss: 0.1434 - val_accuracy: 0.9714\b\b\b\b\b\b\b\b\b\b\b\b\b\b\b\b\b\b\b\b\b\b\b\b\b\b\b\b\b\b\b\b\b\b\n",
      "Epoch 113/200\n",
      "7/7 [==============================] - 0s 4ms/step - loss: 0.1751 - accuracy: 0.9524 - val_loss: 0.1347 - val_accuracy: 0.9714\b\b\b\b\b\b\b\b\b\b\b\b\b\b\b\b\b\b\b\b\b\b\b\b\b\b\b\b\b\b\b\b\b\b\n",
      "Epoch 114/200\n",
      "7/7 [==============================] - 0s 4ms/step - loss: 0.2505 - accuracy: 0.9286 - val_loss: 0.1517 - val_accuracy: 0.9714\b\b\b\b\b\b\b\b\b\b\b\b\b\b\b\b\b\b\b\b\b\b\b\b\b\b\b\b\b\b\b\b\b\b\n",
      "Epoch 115/200\n",
      "7/7 [==============================] - 0s 4ms/step - loss: 0.1884 - accuracy: 0.9429 - val_loss: 0.1384 - val_accuracy: 0.9714\b\b\b\b\b\b\b\b\b\b\b\b\b\b\b\b\b\b\b\b\b\b\b\b\b\b\b\b\b\b\b\b\b\b\n",
      "Epoch 116/200\n",
      "7/7 [==============================] - 0s 4ms/step - loss: 0.2349 - accuracy: 0.9190 - val_loss: 0.1547 - val_accuracy: 0.9714\b\b\b\b\b\b\b\b\b\b\b\b\b\b\b\b\b\b\b\b\b\b\b\b\b\b\b\b\b\b\b\b\b\b\n",
      "Epoch 117/200\n",
      "7/7 [==============================] - 0s 3ms/step - loss: 0.2370 - accuracy: 0.9238 - val_loss: 0.1482 - val_accuracy: 0.9714\b\b\b\b\b\b\b\b\b\b\b\b\b\b\b\b\b\b\b\b\b\b\b\b\b\b\b\b\b\b\b\b\b\b\n",
      "Epoch 118/200\n",
      "7/7 [==============================] - 0s 4ms/step - loss: 0.2233 - accuracy: 0.9333 - val_loss: 0.1303 - val_accuracy: 0.9714\b\b\b\b\b\b\b\b\b\b\b\b\b\b\b\b\b\b\b\b\b\b\b\b\b\b\b\b\b\b\b\b\b\b\n",
      "Epoch 119/200\n",
      "7/7 [==============================] - 0s 4ms/step - loss: 0.1956 - accuracy: 0.9429 - val_loss: 0.1239 - val_accuracy: 0.9714\b\b\b\b\b\b\b\b\b\b\b\b\b\b\b\b\b\b\b\b\b\b\b\b\b\b\b\b\b\b\b\b\b\b\n",
      "Epoch 120/200\n",
      "7/7 [==============================] - 0s 4ms/step - loss: 0.2640 - accuracy: 0.9095 - val_loss: 0.1597 - val_accuracy: 0.9714\b\b\b\b\b\b\b\b\b\b\b\b\b\b\b\b\b\b\b\b\b\b\b\b\b\b\b\b\b\b\b\b\b\b\n",
      "Epoch 121/200\n",
      "7/7 [==============================] - 0s 4ms/step - loss: 0.2423 - accuracy: 0.9286 - val_loss: 0.1398 - val_accuracy: 0.9714\b\b\b\b\b\b\b\b\b\b\b\b\b\b\b\b\b\b\b\b\b\b\b\b\b\b\b\b\b\b\b\b\b\b\n",
      "Epoch 122/200\n",
      "7/7 [==============================] - 0s 4ms/step - loss: 0.2485 - accuracy: 0.9238 - val_loss: 0.1294 - val_accuracy: 0.9714\b\b\b\b\b\b\b\b\b\b\b\b\b\b\b\b\b\b\b\b\b\b\b\b\b\b\b\b\b\b\b\b\b\b\n",
      "Epoch 123/200\n",
      "7/7 [==============================] - 0s 4ms/step - loss: 0.2216 - accuracy: 0.9143 - val_loss: 0.1238 - val_accuracy: 0.9714\b\b\b\b\b\b\b\b\b\b\b\b\b\b\b\b\b\b\b\b\b\b\b\b\b\b\b\b\b\b\b\b\b\b\n",
      "Epoch 124/200\n",
      "7/7 [==============================] - 0s 4ms/step - loss: 0.1463 - accuracy: 0.9619 - val_loss: 0.1284 - val_accuracy: 0.9714\b\b\b\b\b\b\b\b\b\b\b\b\b\b\b\b\b\b\b\b\b\b\b\b\b\b\b\b\b\b\b\b\b\b\n",
      "Epoch 125/200\n",
      "7/7 [==============================] - 0s 4ms/step - loss: 0.2164 - accuracy: 0.9286 - val_loss: 0.1509 - val_accuracy: 0.9714\b\b\b\b\b\b\b\b\b\b\b\b\b\b\b\b\b\b\b\b\b\b\b\b\b\b\b\b\b\b\b\b\b\b\n",
      "Epoch 126/200\n",
      "7/7 [==============================] - 0s 4ms/step - loss: 0.2203 - accuracy: 0.9286 - val_loss: 0.1451 - val_accuracy: 0.9714\b\b\b\b\b\b\b\b\b\b\b\b\b\b\b\b\b\b\b\b\b\b\b\b\b\b\b\b\b\b\b\b\b\b\n",
      "Epoch 127/200\n",
      "7/7 [==============================] - 0s 4ms/step - loss: 0.2246 - accuracy: 0.9190 - val_loss: 0.1428 - val_accuracy: 0.9714\b\b\b\b\b\b\b\b\b\b\b\b\b\b\b\b\b\b\b\b\b\b\b\b\b\b\b\b\b\b\b\b\b\b\n",
      "Epoch 128/200\n",
      "7/7 [==============================] - 0s 4ms/step - loss: 0.1722 - accuracy: 0.9381 - val_loss: 0.1292 - val_accuracy: 0.9714\b\b\b\b\b\b\b\b\b\b\b\b\b\b\b\b\b\b\b\b\b\b\b\b\b\b\b\b\b\b\b\b\b\b\n",
      "Epoch 129/200\n",
      "7/7 [==============================] - 0s 4ms/step - loss: 0.2158 - accuracy: 0.9238 - val_loss: 0.1219 - val_accuracy: 0.9714\b\b\b\b\b\b\b\b\b\b\b\b\b\b\b\b\b\b\b\b\b\b\b\b\b\b\b\b\b\b\b\b\b\b\n",
      "Epoch 130/200\n",
      "7/7 [==============================] - 0s 3ms/step - loss: 0.2961 - accuracy: 0.8952 - val_loss: 0.1336 - val_accuracy: 0.9714\b\b\b\b\b\b\b\b\b\b\b\b\b\b\b\b\b\b\b\b\b\b\b\b\b\b\b\b\b\b\b\b\b\b\n",
      "Epoch 131/200\n",
      "7/7 [==============================] - 0s 3ms/step - loss: 0.2264 - accuracy: 0.9333 - val_loss: 0.1363 - val_accuracy: 0.9714\b\b\b\b\b\b\b\b\b\b\b\b\b\b\b\b\b\b\b\b\b\b\b\b\b\b\b\b\b\b\b\b\b\b\n",
      "Epoch 132/200\n",
      "7/7 [==============================] - 0s 4ms/step - loss: 0.2527 - accuracy: 0.9048 - val_loss: 0.1496 - val_accuracy: 0.9714\b\b\b\b\b\b\b\b\b\b\b\b\b\b\b\b\b\b\b\b\b\b\b\b\b\b\b\b\b\b\b\b\b\b\n",
      "Epoch 133/200\n",
      "7/7 [==============================] - 0s 3ms/step - loss: 0.2547 - accuracy: 0.9095 - val_loss: 0.1678 - val_accuracy: 0.9714\b\b\b\b\b\b\b\b\b\b\b\b\b\b\b\b\b\b\b\b\b\b\b\b\b\b\b\b\b\b\b\b\b\b\n",
      "Epoch 134/200\n",
      "7/7 [==============================] - 0s 3ms/step - loss: 0.2043 - accuracy: 0.9381 - val_loss: 0.1596 - val_accuracy: 0.9714\b\b\b\b\b\b\b\b\b\b\b\b\b\b\b\b\b\b\b\b\b\b\b\b\b\b\b\b\b\b\b\b\b\b\n",
      "Epoch 135/200\n",
      "7/7 [==============================] - 0s 5ms/step - loss: 0.2001 - accuracy: 0.9524 - val_loss: 0.1542 - val_accuracy: 0.9714\b\b\b\b\b\b\b\b\b\b\b\b\b\b\b\b\b\b\b\b\b\b\b\b\b\b\b\b\b\b\b\b\b\b\n",
      "Epoch 136/200\n",
      "7/7 [==============================] - 0s 4ms/step - loss: 0.3059 - accuracy: 0.8905 - val_loss: 0.1409 - val_accuracy: 0.9714\b\b\b\b\b\b\b\b\b\b\b\b\b\b\b\b\b\b\b\b\b\b\b\b\b\b\b\b\b\b\b\b\b\b\n",
      "Epoch 137/200\n",
      "7/7 [==============================] - 0s 4ms/step - loss: 0.2648 - accuracy: 0.9095 - val_loss: 0.1286 - val_accuracy: 0.9714\b\b\b\b\b\b\b\b\b\b\b\b\b\b\b\b\b\b\b\b\b\b\b\b\b\b\b\b\b\b\b\b\b\b\n",
      "Epoch 138/200\n",
      "7/7 [==============================] - 0s 4ms/step - loss: 0.2431 - accuracy: 0.9190 - val_loss: 0.1245 - val_accuracy: 0.9714\b\b\b\b\b\b\b\b\b\b\b\b\b\b\b\b\b\b\b\b\b\b\b\b\b\b\b\b\b\b\b\b\b\b\n",
      "Epoch 139/200\n",
      "7/7 [==============================] - 0s 4ms/step - loss: 0.1778 - accuracy: 0.9524 - val_loss: 0.1537 - val_accuracy: 0.9571\b\b\b\b\b\b\b\b\b\b\b\b\b\b\b\b\b\b\b\b\b\b\b\b\b\b\b\b\b\b\b\b\b\b\n",
      "Epoch 140/200\n",
      "7/7 [==============================] - 0s 4ms/step - loss: 0.2419 - accuracy: 0.9095 - val_loss: 0.1578 - val_accuracy: 0.9714\b\b\b\b\b\b\b\b\b\b\b\b\b\b\b\b\b\b\b\b\b\b\b\b\b\b\b\b\b\b\b\b\b\b\n",
      "Epoch 141/200\n",
      "7/7 [==============================] - 0s 4ms/step - loss: 0.2183 - accuracy: 0.9238 - val_loss: 0.1573 - val_accuracy: 0.9571\b\b\b\b\b\b\b\b\b\b\b\b\b\b\b\b\b\b\b\b\b\b\b\b\b\b\b\b\b\b\b\b\b\b\n",
      "Epoch 142/200\n",
      "7/7 [==============================] - 0s 8ms/step - loss: 0.1791 - accuracy: 0.9333 - val_loss: 0.1216 - val_accuracy: 0.9714\b\b\b\b\b\b\b\b\b\b\b\b\b\b\b\b\b\b\b\b\b\b\b\b\b\b\b\b\b\b\b\b\b\b\n",
      "Epoch 143/200\n",
      "7/7 [==============================] - 0s 4ms/step - loss: 0.2520 - accuracy: 0.9143 - val_loss: 0.1246 - val_accuracy: 0.9714\b\b\b\b\b\b\b\b\b\b\b\b\b\b\b\b\b\b\b\b\b\b\b\b\b\b\b\b\b\b\b\b\b\b\n",
      "Epoch 144/200\n",
      "7/7 [==============================] - 0s 5ms/step - loss: 0.2149 - accuracy: 0.9381 - val_loss: 0.1467 - val_accuracy: 0.9714\b\b\b\b\b\b\b\b\b\b\b\b\b\b\b\b\b\b\b\b\b\b\b\b\b\b\b\b\b\b\b\b\b\b\n",
      "Epoch 145/200\n",
      "7/7 [==============================] - 0s 4ms/step - loss: 0.2234 - accuracy: 0.9286 - val_loss: 0.1502 - val_accuracy: 0.9714\b\b\b\b\b\b\b\b\b\b\b\b\b\b\b\b\b\b\b\b\b\b\b\b\b\b\b\b\b\b\b\b\b\b\n",
      "Epoch 146/200\n",
      "7/7 [==============================] - 0s 4ms/step - loss: 0.2009 - accuracy: 0.9429 - val_loss: 0.1350 - val_accuracy: 0.9571\b\b\b\b\b\b\b\b\b\b\b\b\b\b\b\b\b\b\b\b\b\b\b\b\b\b\b\b\b\b\b\b\b\b\n",
      "Epoch 147/200\n",
      "7/7 [==============================] - 0s 4ms/step - loss: 0.2957 - accuracy: 0.8905 - val_loss: 0.1168 - val_accuracy: 0.9714\b\b\b\b\b\b\b\b\b\b\b\b\b\b\b\b\b\b\b\b\b\b\b\b\b\b\b\b\b\b\b\b\b\b\n",
      "Epoch 148/200\n",
      "7/7 [==============================] - 0s 4ms/step - loss: 0.2710 - accuracy: 0.9095 - val_loss: 0.1683 - val_accuracy: 0.9714\b\b\b\b\b\b\b\b\b\b\b\b\b\b\b\b\b\b\b\b\b\b\b\b\b\b\b\b\b\b\b\b\b\b\n",
      "Epoch 149/200\n",
      "7/7 [==============================] - 0s 4ms/step - loss: 0.2381 - accuracy: 0.9190 - val_loss: 0.1648 - val_accuracy: 0.9714\b\b\b\b\b\b\b\b\b\b\b\b\b\b\b\b\b\b\b\b\b\b\b\b\b\b\b\b\b\b\b\b\b\b\n",
      "Epoch 150/200\n",
      "7/7 [==============================] - 0s 4ms/step - loss: 0.2446 - accuracy: 0.9095 - val_loss: 0.1592 - val_accuracy: 0.9714\b\b\b\b\b\b\b\b\b\b\b\b\b\b\b\b\b\b\b\b\b\b\b\b\b\b\b\b\b\b\b\b\b\b\n",
      "Epoch 151/200\n",
      "7/7 [==============================] - 0s 4ms/step - loss: 0.2320 - accuracy: 0.9238 - val_loss: 0.1478 - val_accuracy: 0.9714\b\b\b\b\b\b\b\b\b\b\b\b\b\b\b\b\b\b\b\b\b\b\b\b\b\b\b\b\b\b\b\b\b\b\n",
      "Epoch 152/200\n",
      "7/7 [==============================] - 0s 4ms/step - loss: 0.2252 - accuracy: 0.9238 - val_loss: 0.1409 - val_accuracy: 0.9714\b\b\b\b\b\b\b\b\b\b\b\b\b\b\b\b\b\b\b\b\b\b\b\b\b\b\b\b\b\b\b\b\b\b\n",
      "Epoch 153/200\n",
      "7/7 [==============================] - 0s 3ms/step - loss: 0.2319 - accuracy: 0.9190 - val_loss: 0.1397 - val_accuracy: 0.9714\b\b\b\b\b\b\b\b\b\b\b\b\b\b\b\b\b\b\b\b\b\b\b\b\b\b\b\b\b\b\b\b\b\b\n",
      "Epoch 154/200\n",
      "7/7 [==============================] - 0s 3ms/step - loss: 0.2767 - accuracy: 0.9000 - val_loss: 0.1386 - val_accuracy: 0.9714\b\b\b\b\b\b\b\b\b\b\b\b\b\b\b\b\b\b\b\b\b\b\b\b\b\b\b\b\b\b\b\b\b\b\n",
      "Epoch 155/200\n",
      "7/7 [==============================] - 0s 3ms/step - loss: 0.2131 - accuracy: 0.9238 - val_loss: 0.1442 - val_accuracy: 0.9714\b\b\b\b\b\b\b\b\b\b\b\b\b\b\b\b\b\b\b\b\b\b\b\b\b\b\b\b\b\b\b\b\b\b\n",
      "Epoch 156/200\n",
      "7/7 [==============================] - 0s 4ms/step - loss: 0.2651 - accuracy: 0.9048 - val_loss: 0.1777 - val_accuracy: 0.9571\b\b\b\b\b\b\b\b\b\b\b\b\b\b\b\b\b\b\b\b\b\b\b\b\b\b\b\b\b\b\b\b\b\b\n",
      "Epoch 157/200\n",
      "7/7 [==============================] - 0s 4ms/step - loss: 0.2001 - accuracy: 0.9381 - val_loss: 0.1641 - val_accuracy: 0.9714\b\b\b\b\b\b\b\b\b\b\b\b\b\b\b\b\b\b\b\b\b\b\b\b\b\b\b\b\b\b\b\b\b\b\n",
      "Epoch 158/200\n",
      "7/7 [==============================] - 0s 4ms/step - loss: 0.2383 - accuracy: 0.9190 - val_loss: 0.1455 - val_accuracy: 0.9714\b\b\b\b\b\b\b\b\b\b\b\b\b\b\b\b\b\b\b\b\b\b\b\b\b\b\b\b\b\b\b\b\b\b\n",
      "Epoch 159/200\n",
      "7/7 [==============================] - 0s 5ms/step - loss: 0.2319 - accuracy: 0.9238 - val_loss: 0.1438 - val_accuracy: 0.9714\b\b\b\b\b\b\b\b\b\b\b\b\b\b\b\b\b\b\b\b\b\b\b\b\b\b\b\b\b\b\b\b\b\b\n",
      "Epoch 160/200\n",
      "7/7 [==============================] - 0s 4ms/step - loss: 0.2305 - accuracy: 0.9238 - val_loss: 0.1430 - val_accuracy: 0.9714\b\b\b\b\b\b\b\b\b\b\b\b\b\b\b\b\b\b\b\b\b\b\b\b\b\b\b\b\b\b\b\b\b\b\n",
      "Epoch 161/200\n",
      "7/7 [==============================] - 0s 4ms/step - loss: 0.1772 - accuracy: 0.9238 - val_loss: 0.1341 - val_accuracy: 0.9714\b\b\b\b\b\b\b\b\b\b\b\b\b\b\b\b\b\b\b\b\b\b\b\b\b\b\b\b\b\b\b\b\b\b\n",
      "Epoch 162/200\n",
      "7/7 [==============================] - 0s 4ms/step - loss: 0.1675 - accuracy: 0.9524 - val_loss: 0.1344 - val_accuracy: 0.9714\b\b\b\b\b\b\b\b\b\b\b\b\b\b\b\b\b\b\b\b\b\b\b\b\b\b\b\b\b\b\b\b\b\b\n",
      "Epoch 00162: early stopping\n"
     ]
    }
   ],
   "source": [
    "history = model.fit(x=x_train,\n",
    "                    y=y_train,\n",
    "                    epochs=200,\n",
    "                    validation_data=(x_test, y_test),\n",
    "                    callbacks=early_stop,\n",
    "                    shuffle=True)"
   ],
   "metadata": {
    "collapsed": false,
    "pycharm": {
     "name": "#%%\n"
    }
   }
  },
  {
   "cell_type": "code",
   "execution_count": 59,
   "outputs": [],
   "source": [
    "losses = pd.DataFrame(model.history.history)"
   ],
   "metadata": {
    "collapsed": false,
    "pycharm": {
     "name": "#%%\n"
    }
   }
  },
  {
   "cell_type": "code",
   "execution_count": 60,
   "outputs": [
    {
     "data": {
      "text/plain": "dict_keys(['loss', 'accuracy', 'val_loss', 'val_accuracy'])"
     },
     "execution_count": 60,
     "metadata": {},
     "output_type": "execute_result"
    }
   ],
   "source": [
    "history.history.keys()"
   ],
   "metadata": {
    "collapsed": false,
    "pycharm": {
     "name": "#%%\n"
    }
   }
  },
  {
   "cell_type": "code",
   "execution_count": 61,
   "outputs": [
    {
     "data": {
      "text/plain": "<Figure size 432x288 with 1 Axes>",
      "image/png": "[encoded data removed]"
     },
     "metadata": {
      "needs_background": "light"
     },
     "output_type": "display_data"
    }
   ],
   "source": [
    "# Plot accuracy\n",
    "plt.plot(history.history['accuracy'])\n",
    "plt.plot(history.history['val_accuracy'])\n",
    "plt.title('Model Accuracy')\n",
    "plt.ylabel('accuracy')\n",
    "plt.xlabel('epoch')\n",
    "plt.legend(['train', 'val'], loc='upper left')\n",
    "plt.show()"
   ],
   "metadata": {
    "collapsed": false,
    "pycharm": {
     "name": "#%%\n"
    }
   }
  },
  {
   "cell_type": "code",
   "execution_count": 62,
   "outputs": [
    {
     "data": {
      "text/plain": "<Figure size 432x288 with 1 Axes>",
      "image/png": "[encoded data removed]"
     },
     "metadata": {
      "needs_background": "light"
     },
     "output_type": "display_data"
    }
   ],
   "source": [
    "# Plot loss\n",
    "plt.plot(history.history['loss'])\n",
    "plt.plot(history.history['val_loss'])\n",
    "plt.title('model loss')\n",
    "plt.ylabel('loss')\n",
    "plt.xlabel('epoch')\n",
    "plt.legend(['train', 'val'], loc='upper left')\n",
    "plt.show()"
   ],
   "metadata": {
    "collapsed": false,
    "pycharm": {
     "name": "#%%\n"
    }
   }
  },
  {
   "cell_type": "code",
   "execution_count": 63,
   "outputs": [],
   "source": [
    "test_df = pd.read_csv('../simulations/data/test_small_trajectories.csv')"
   ],
   "metadata": {
    "collapsed": false,
    "pycharm": {
     "name": "#%%\n"
    }
   }
  },
  {
   "cell_type": "code",
   "execution_count": 64,
   "outputs": [],
   "source": [
    "test_x = test_df[test_df.columns[2:10]]\n",
    "\n",
    "test_y = test_df['enter-parking'].values"
   ],
   "metadata": {
    "collapsed": false,
    "pycharm": {
     "name": "#%%\n"
    }
   }
  },
  {
   "cell_type": "code",
   "execution_count": 65,
   "outputs": [],
   "source": [
    "test_x = scaler.transform(test_x)"
   ],
   "metadata": {
    "collapsed": false,
    "pycharm": {
     "name": "#%%\n"
    }
   }
  },
  {
   "cell_type": "code",
   "execution_count": 66,
   "outputs": [
    {
     "name": "stdout",
     "output_type": "stream",
     "text": [
      "[[0.02856757 0.16115389 0.03550305 0.16809372 0.03807671 0.17828669\n",
      "  0.03485086 0.19376837]\n",
      " [0.14458135 0.17393209 0.1597797  0.17769277 0.1606351  0.18853462\n",
      "  0.15183747 0.20343704]\n",
      " [0.63478985 0.12730248 0.62089096 0.14497129 0.58999398 0.1682568\n",
      "  0.54387019 0.19417115]\n",
      " [0.59898014 0.14763762 0.59588387 0.16276619 0.5672564  0.18335687\n",
      "  0.52209308 0.21003226]\n",
      " [0.64619431 0.20715227 0.64854303 0.21869748 0.62828711 0.23239626\n",
      "  0.58540548 0.25100045]\n",
      " [0.28283726 0.18790301 0.30271247 0.18944256 0.31105835 0.19976634\n",
      "  0.29602531 0.21540958]\n",
      " [0.57430051 0.83106724 0.63549838 0.79752532 0.68841995 0.76714807\n",
      "  0.71523035 0.74560314]\n",
      " [0.7637002  0.83511628 0.8104658  0.79919668 0.82983482 0.76379922\n",
      "  0.80900606 0.73219187]\n",
      " [0.50345111 0.82863452 0.55916104 0.78818857 0.5788631  0.76718067\n",
      "  0.57492109 0.74965969]\n",
      " [0.70483846 0.12062526 0.68797495 0.14693992 0.65901324 0.18909864\n",
      "  0.62063323 0.22509293]\n",
      " [0.63999733 0.85485638 0.68218149 0.81877399 0.71686624 0.78635699\n",
      "  0.70935561 0.74975101]\n",
      " [0.77651761 0.2583828  0.7638236  0.27494115 0.73951904 0.29771639\n",
      "  0.70380251 0.31829588]\n",
      " [0.79267966 0.35017629 0.79407275 0.35730211 0.7837441  0.36921449\n",
      "  0.77101931 0.3825732 ]\n",
      " [0.85730027 0.76158066 0.85158802 0.71965707 0.81334101 0.68728836\n",
      "  0.77102027 0.6514347 ]\n",
      " [0.18097827 0.0469118  0.20591574 0.0505171  0.22812298 0.05876304\n",
      "  0.22677603 0.07493258]\n",
      " [0.19089394 0.07810136 0.21386115 0.07833435 0.21395029 0.08607886\n",
      "  0.20452782 0.09775163]\n",
      " [0.79239277 0.119235   0.83372664 0.11796546 0.83192647 0.12106659\n",
      "  0.79626378 0.1301647 ]\n",
      " [0.60207245 0.0320473  0.61567263 0.02591933 0.6078224  0.02515098\n",
      "  0.57918321 0.03576089]\n",
      " [0.84976595 0.12427468 0.87759378 0.12177676 0.85901139 0.12637517\n",
      "  0.82072985 0.1353387 ]\n",
      " [0.37251479 0.04646319 0.40045504 0.04855025 0.42474692 0.05689852\n",
      "  0.41941282 0.0693865 ]\n",
      " [0.49986549 0.94357167 0.56707594 0.93366404 0.60035105 0.92559381\n",
      "  0.60498702 0.91868328]\n",
      " [0.73450693 0.95626628 0.78078988 0.9440239  0.8092179  0.93584518\n",
      "  0.79230441 0.92282694]\n",
      " [0.94707648 0.12534539 0.99744184 0.13540776 1.02611624 0.15211581\n",
      "  1.01277012 0.16831981]\n",
      " [0.62391558 0.19815444 0.63931344 0.1804703  0.62394112 0.17427768\n",
      "  0.6050254  0.17198913]\n",
      " [0.52849544 0.95086813 0.52799296 0.9464375  0.50927987 0.93931487\n",
      "  0.47430987 0.93966193]]\n",
      "[1 1 1 1 1 1 1 1 1 1 1 1 1 1 0 0 0 0 0 0 0 0 0 0 0]\n"
     ]
    }
   ],
   "source": [
    "print(test_x)\n",
    "\n",
    "print(test_y)"
   ],
   "metadata": {
    "collapsed": false,
    "pycharm": {
     "name": "#%%\n"
    }
   }
  },
  {
   "cell_type": "code",
   "execution_count": 67,
   "outputs": [
    {
     "name": "stdout",
     "output_type": "stream",
     "text": [
      "[[1]\n",
      " [1]\n",
      " [1]\n",
      " [1]\n",
      " [1]\n",
      " [1]\n",
      " [1]\n",
      " [1]\n",
      " [1]\n",
      " [1]\n",
      " [1]\n",
      " [1]\n",
      " [1]\n",
      " [1]\n",
      " [0]\n",
      " [1]\n",
      " [0]\n",
      " [0]\n",
      " [0]\n",
      " [0]\n",
      " [0]\n",
      " [0]\n",
      " [0]\n",
      " [1]\n",
      " [0]]\n"
     ]
    }
   ],
   "source": [
    "predictions = (model.predict(test_x) > 0.5).astype(\"int32\")\n",
    "\n",
    "print(predictions)"
   ],
   "metadata": {
    "collapsed": false,
    "pycharm": {
     "name": "#%%\n"
    }
   }
  },
  {
   "cell_type": "code",
   "execution_count": 68,
   "outputs": [
    {
     "name": "stdout",
     "output_type": "stream",
     "text": [
      "              precision    recall  f1-score   support\n",
      "\n",
      "           0       1.00      0.82      0.90        11\n",
      "           1       0.88      1.00      0.93        14\n",
      "\n",
      "    accuracy                           0.92        25\n",
      "   macro avg       0.94      0.91      0.92        25\n",
      "weighted avg       0.93      0.92      0.92        25\n",
      "\n"
     ]
    }
   ],
   "source": [
    "print(classification_report(test_y, predictions))"
   ],
   "metadata": {
    "collapsed": false,
    "pycharm": {
     "name": "#%%\n"
    }
   }
  },
  {
   "cell_type": "code",
   "execution_count": 69,
   "outputs": [
    {
     "name": "stdout",
     "output_type": "stream",
     "text": [
      "[[ 9  2]\n",
      " [ 0 14]]\n"
     ]
    }
   ],
   "source": [
    "print(confusion_matrix(test_y, predictions))"
   ],
   "metadata": {
    "collapsed": false,
    "pycharm": {
     "name": "#%%\n"
    }
   }
  },
  {
   "cell_type": "code",
   "execution_count": 69,
   "outputs": [],
   "source": [],
   "metadata": {
    "collapsed": false,
    "pycharm": {
     "name": "#%%\n"
    }
   }
  }
 ],
 "metadata": {
  "kernelspec": {
   "display_name": "Python 3",
   "language": "python",
   "name": "python3"
  },
  "language_info": {
   "codemirror_mode": {
    "name": "ipython",
    "version": 2
   },
   "file_extension": ".py",
   "mimetype": "text/x-python",
   "name": "python",
   "nbconvert_exporter": "python",
   "pygments_lexer": "ipython2",
   "version": "2.7.6"
  }
 },
 "nbformat": 4,
 "nbformat_minor": 0
}