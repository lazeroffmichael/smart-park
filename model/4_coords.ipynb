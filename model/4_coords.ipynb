{
 "cells": [
  {
   "cell_type": "markdown",
   "metadata": {
    "collapsed": true,
    "pycharm": {
     "name": "#%% md\n"
    }
   },
   "source": [
    "4 Coordinate Model"
   ]
  },
  {
   "cell_type": "code",
   "execution_count": 259,
   "outputs": [],
   "source": [
    "import pandas as pd\n",
    "import numpy as np\n",
    "import tensorflow as tf\n",
    "from tensorflow.keras.models import Sequential\n",
    "from tensorflow.keras.layers import Dense, Dropout\n",
    "from tensorflow.keras.callbacks import EarlyStopping\n",
    "from sklearn.preprocessing import MinMaxScaler\n",
    "from sklearn.metrics import classification_report, confusion_matrix\n",
    "from sklearn.model_selection import train_test_split\n",
    "from sklearn.metrics import classification_report, confusion_matrix"
   ],
   "metadata": {
    "collapsed": false,
    "pycharm": {
     "name": "#%%\n"
    }
   }
  },
  {
   "cell_type": "code",
   "execution_count": 260,
   "outputs": [],
   "source": [
    "# get the main paths\n",
    "df = pd.read_csv('../simulations/data/small_trajectories.csv')"
   ],
   "metadata": {
    "collapsed": false,
    "pycharm": {
     "name": "#%%\n"
    }
   }
  },
  {
   "cell_type": "code",
   "execution_count": 261,
   "outputs": [
    {
     "name": "stdout",
     "output_type": "stream",
     "text": [
      "<class 'pandas.core.frame.DataFrame'>\n",
      "RangeIndex: 104 entries, 0 to 103\n",
      "Data columns (total 63 columns):\n",
      " #   Column                          Non-Null Count  Dtype  \n",
      "---  ------                          --------------  -----  \n",
      " 0   Unnamed: 0                      104 non-null    int64  \n",
      " 1   name                            104 non-null    object \n",
      " 2   latitude_1                      104 non-null    float64\n",
      " 3   longitude_1                     104 non-null    float64\n",
      " 4   altitude_relative_to_ground_1   104 non-null    float64\n",
      " 5   latitude_2                      104 non-null    float64\n",
      " 6   longitude_2                     104 non-null    float64\n",
      " 7   altitude_relative_to_ground_2   104 non-null    float64\n",
      " 8   latitude_3                      104 non-null    float64\n",
      " 9   longitude_3                     104 non-null    float64\n",
      " 10  altitude_relative_to_ground_3   104 non-null    float64\n",
      " 11  latitude_4                      104 non-null    float64\n",
      " 12  longitude_4                     104 non-null    float64\n",
      " 13  altitude_relative_to_ground_4   104 non-null    float64\n",
      " 14  latitude_5                      104 non-null    float64\n",
      " 15  longitude_5                     104 non-null    float64\n",
      " 16  altitude_relative_to_ground_5   104 non-null    float64\n",
      " 17  latitude_6                      104 non-null    float64\n",
      " 18  longitude_6                     104 non-null    float64\n",
      " 19  altitude_relative_to_ground_6   104 non-null    float64\n",
      " 20  latitude_7                      104 non-null    float64\n",
      " 21  longitude_7                     104 non-null    float64\n",
      " 22  altitude_relative_to_ground_7   104 non-null    float64\n",
      " 23  latitude_8                      104 non-null    float64\n",
      " 24  longitude_8                     104 non-null    float64\n",
      " 25  altitude_relative_to_ground_8   104 non-null    float64\n",
      " 26  latitude_9                      104 non-null    float64\n",
      " 27  longitude_9                     104 non-null    float64\n",
      " 28  altitude_relative_to_ground_9   104 non-null    float64\n",
      " 29  latitude_10                     104 non-null    float64\n",
      " 30  longitude_10                    104 non-null    float64\n",
      " 31  altitude_relative_to_ground_10  104 non-null    float64\n",
      " 32  latitude_11                     104 non-null    float64\n",
      " 33  longitude_11                    104 non-null    float64\n",
      " 34  altitude_relative_to_ground_11  104 non-null    float64\n",
      " 35  latitude_12                     104 non-null    float64\n",
      " 36  longitude_12                    104 non-null    float64\n",
      " 37  altitude_relative_to_ground_12  104 non-null    float64\n",
      " 38  latitude_13                     104 non-null    float64\n",
      " 39  longitude_13                    104 non-null    float64\n",
      " 40  altitude_relative_to_ground_13  104 non-null    float64\n",
      " 41  latitude_14                     104 non-null    float64\n",
      " 42  longitude_14                    104 non-null    float64\n",
      " 43  altitude_relative_to_ground_14  104 non-null    float64\n",
      " 44  latitude_15                     104 non-null    float64\n",
      " 45  longitude_15                    104 non-null    float64\n",
      " 46  altitude_relative_to_ground_15  104 non-null    float64\n",
      " 47  latitude_16                     104 non-null    float64\n",
      " 48  longitude_16                    104 non-null    float64\n",
      " 49  altitude_relative_to_ground_16  104 non-null    float64\n",
      " 50  latitude_17                     104 non-null    float64\n",
      " 51  longitude_17                    104 non-null    float64\n",
      " 52  altitude_relative_to_ground_17  104 non-null    float64\n",
      " 53  latitude_18                     104 non-null    float64\n",
      " 54  longitude_18                    104 non-null    float64\n",
      " 55  altitude_relative_to_ground_18  104 non-null    float64\n",
      " 56  latitude_19                     104 non-null    float64\n",
      " 57  longitude_19                    104 non-null    float64\n",
      " 58  altitude_relative_to_ground_19  104 non-null    float64\n",
      " 59  latitude_20                     104 non-null    float64\n",
      " 60  longitude_20                    104 non-null    float64\n",
      " 61  altitude_relative_to_ground_20  104 non-null    float64\n",
      " 62  enter-parking                   104 non-null    int64  \n",
      "dtypes: float64(60), int64(2), object(1)\n",
      "memory usage: 51.3+ KB\n"
     ]
    }
   ],
   "source": [
    "df.info()"
   ],
   "metadata": {
    "collapsed": false,
    "pycharm": {
     "name": "#%%\n"
    }
   }
  },
  {
   "cell_type": "code",
   "execution_count": 262,
   "outputs": [
    {
     "data": {
      "text/plain": "   Unnamed: 0        name  latitude_1  longitude_1  \\\n0           0  1_A_Missed   36.109640  -115.140945   \n1           1  2_A_Missed   36.109705  -115.140733   \n2           2  3_A_Missed   36.109626  -115.140134   \n3           3  4_A_Missed   36.109592  -115.140132   \n4           4  5_A_Missed   36.109642  -115.141901   \n\n   altitude_relative_to_ground_1  latitude_2  longitude_2  \\\n0                            0.0   36.109676  -115.140893   \n1                            0.0   36.109702  -115.140785   \n2                            0.0   36.109675  -115.140140   \n3                            0.0   36.109662  -115.140159   \n4                            0.0   36.109649  -115.141793   \n\n   altitude_relative_to_ground_2  latitude_3  longitude_3  ...  latitude_18  \\\n0                            0.0   36.109710  -115.140870  ...    36.110660   \n1                            0.0   36.109699  -115.140841  ...    36.110548   \n2                            0.0   36.109724  -115.140166  ...    36.110686   \n3                            0.0   36.109716  -115.140219  ...    36.110981   \n4                            0.0   36.109654  -115.141658  ...    36.110958   \n\n   longitude_18  altitude_relative_to_ground_18  latitude_19  longitude_19  \\\n0   -115.140983                             0.0    36.110684   -115.141025   \n1   -115.141190                             0.0    36.110591   -115.141199   \n2   -115.140910                             0.0    36.110808   -115.140852   \n3   -115.140853                             0.0    36.111165   -115.140856   \n4   -115.140852                             0.0    36.111102   -115.140854   \n\n   altitude_relative_to_ground_19  latitude_20  longitude_20  \\\n0                             0.0    36.110713   -115.141055   \n1                             0.0    36.110651   -115.141182   \n2                             0.0    36.111009   -115.140862   \n3                             0.0    36.111302   -115.140917   \n4                             0.0    36.111243   -115.140892   \n\n   altitude_relative_to_ground_20  enter-parking  \n0                             0.0              0  \n1                             0.0              0  \n2                             0.0              0  \n3                             0.0              0  \n4                             0.0              0  \n\n[5 rows x 63 columns]",
      "text/html": "<div>\n<style scoped>\n    .dataframe tbody tr th:only-of-type {\n        vertical-align: middle;\n    }\n\n    .dataframe tbody tr th {\n        vertical-align: top;\n    }\n\n    .dataframe thead th {\n        text-align: right;\n    }\n</style>\n<table border=\"1\" class=\"dataframe\">\n  <thead>\n    <tr style=\"text-align: right;\">\n      <th></th>\n      <th>Unnamed: 0</th>\n      <th>name</th>\n      <th>latitude_1</th>\n      <th>longitude_1</th>\n      <th>altitude_relative_to_ground_1</th>\n      <th>latitude_2</th>\n      <th>longitude_2</th>\n      <th>altitude_relative_to_ground_2</th>\n      <th>latitude_3</th>\n      <th>longitude_3</th>\n      <th>...</th>\n      <th>latitude_18</th>\n      <th>longitude_18</th>\n      <th>altitude_relative_to_ground_18</th>\n      <th>latitude_19</th>\n      <th>longitude_19</th>\n      <th>altitude_relative_to_ground_19</th>\n      <th>latitude_20</th>\n      <th>longitude_20</th>\n      <th>altitude_relative_to_ground_20</th>\n      <th>enter-parking</th>\n    </tr>\n  </thead>\n  <tbody>\n    <tr>\n      <th>0</th>\n      <td>0</td>\n      <td>1_A_Missed</td>\n      <td>36.109640</td>\n      <td>-115.140945</td>\n      <td>0.0</td>\n      <td>36.109676</td>\n      <td>-115.140893</td>\n      <td>0.0</td>\n      <td>36.109710</td>\n      <td>-115.140870</td>\n      <td>...</td>\n      <td>36.110660</td>\n      <td>-115.140983</td>\n      <td>0.0</td>\n      <td>36.110684</td>\n      <td>-115.141025</td>\n      <td>0.0</td>\n      <td>36.110713</td>\n      <td>-115.141055</td>\n      <td>0.0</td>\n      <td>0</td>\n    </tr>\n    <tr>\n      <th>1</th>\n      <td>1</td>\n      <td>2_A_Missed</td>\n      <td>36.109705</td>\n      <td>-115.140733</td>\n      <td>0.0</td>\n      <td>36.109702</td>\n      <td>-115.140785</td>\n      <td>0.0</td>\n      <td>36.109699</td>\n      <td>-115.140841</td>\n      <td>...</td>\n      <td>36.110548</td>\n      <td>-115.141190</td>\n      <td>0.0</td>\n      <td>36.110591</td>\n      <td>-115.141199</td>\n      <td>0.0</td>\n      <td>36.110651</td>\n      <td>-115.141182</td>\n      <td>0.0</td>\n      <td>0</td>\n    </tr>\n    <tr>\n      <th>2</th>\n      <td>2</td>\n      <td>3_A_Missed</td>\n      <td>36.109626</td>\n      <td>-115.140134</td>\n      <td>0.0</td>\n      <td>36.109675</td>\n      <td>-115.140140</td>\n      <td>0.0</td>\n      <td>36.109724</td>\n      <td>-115.140166</td>\n      <td>...</td>\n      <td>36.110686</td>\n      <td>-115.140910</td>\n      <td>0.0</td>\n      <td>36.110808</td>\n      <td>-115.140852</td>\n      <td>0.0</td>\n      <td>36.111009</td>\n      <td>-115.140862</td>\n      <td>0.0</td>\n      <td>0</td>\n    </tr>\n    <tr>\n      <th>3</th>\n      <td>3</td>\n      <td>4_A_Missed</td>\n      <td>36.109592</td>\n      <td>-115.140132</td>\n      <td>0.0</td>\n      <td>36.109662</td>\n      <td>-115.140159</td>\n      <td>0.0</td>\n      <td>36.109716</td>\n      <td>-115.140219</td>\n      <td>...</td>\n      <td>36.110981</td>\n      <td>-115.140853</td>\n      <td>0.0</td>\n      <td>36.111165</td>\n      <td>-115.140856</td>\n      <td>0.0</td>\n      <td>36.111302</td>\n      <td>-115.140917</td>\n      <td>0.0</td>\n      <td>0</td>\n    </tr>\n    <tr>\n      <th>4</th>\n      <td>4</td>\n      <td>5_A_Missed</td>\n      <td>36.109642</td>\n      <td>-115.141901</td>\n      <td>0.0</td>\n      <td>36.109649</td>\n      <td>-115.141793</td>\n      <td>0.0</td>\n      <td>36.109654</td>\n      <td>-115.141658</td>\n      <td>...</td>\n      <td>36.110958</td>\n      <td>-115.140852</td>\n      <td>0.0</td>\n      <td>36.111102</td>\n      <td>-115.140854</td>\n      <td>0.0</td>\n      <td>36.111243</td>\n      <td>-115.140892</td>\n      <td>0.0</td>\n      <td>0</td>\n    </tr>\n  </tbody>\n</table>\n<p>5 rows × 63 columns</p>\n</div>"
     },
     "execution_count": 262,
     "metadata": {},
     "output_type": "execute_result"
    }
   ],
   "source": [
    "df.head()"
   ],
   "metadata": {
    "collapsed": false,
    "pycharm": {
     "name": "#%%\n"
    }
   }
  },
  {
   "cell_type": "code",
   "execution_count": 263,
   "outputs": [],
   "source": [
    "# Split up\n",
    "def split_data(amount, data):\n",
    "    \"\"\"\n",
    "    Splits the columns of the data and returns a new data frame\n",
    "    Args:\n",
    "        amount:\n",
    "\n",
    "    Returns:\n",
    "\n",
    "    \"\"\"\n",
    "    # Create dataframe columns first\n",
    "    columns = []\n",
    "    for index in range(1, amount + 1):\n",
    "        latitude = 'latitude_' + str(index)\n",
    "        longitude = 'longitude_' + str(index)\n",
    "        altitude = 'altitude_relative_to_ground_' + str(index)\n",
    "        columns.append(latitude)\n",
    "        columns.append(longitude)\n",
    "        columns.append(altitude)\n",
    "\n",
    "    columns.append('enter-parking')\n",
    "\n",
    "    coord1 = data[data.columns[2:14]].values\n",
    "    coord1 = np.column_stack((coord1, data['enter-parking'].values))\n",
    "\n",
    "    coord2 = data[data.columns[14:26]].values\n",
    "    coord2 = np.column_stack((coord2, data['enter-parking'].values))\n",
    "\n",
    "    coord3 = data[data.columns[26:38]].values\n",
    "    coord3 = np.column_stack((coord3, data['enter-parking'].values))\n",
    "\n",
    "    coord4 = data[data.columns[38:50]].values\n",
    "    coord4 = np.column_stack((coord4, data['enter-parking'].values))\n",
    "\n",
    "    coord5 = data[data.columns[50:62]].values\n",
    "    coord5 = np.column_stack((coord5, data['enter-parking'].values))\n",
    "\n",
    "    all_coords = np.concatenate((coord1, coord2, coord3, coord4, coord5), axis=0)\n",
    "\n",
    "    new_data = pd.DataFrame(all_coords, columns=columns)\n",
    "\n",
    "    new_data = new_data.astype({'enter-parking': np.int})\n",
    "\n",
    "    return new_data\n",
    "\n",
    "# new_df = split_data(4, df)"
   ],
   "metadata": {
    "collapsed": false,
    "pycharm": {
     "name": "#%%\n"
    }
   }
  },
  {
   "cell_type": "code",
   "execution_count": 264,
   "outputs": [],
   "source": [
    "# Get The cordinates for x\n",
    "x = df[df.columns[2:14]]\n",
    "\n",
    "# Get the last coordinate\n",
    "y = df['enter-parking'].values"
   ],
   "metadata": {
    "collapsed": false,
    "pycharm": {
     "name": "#%%\n"
    }
   }
  },
  {
   "cell_type": "code",
   "execution_count": 265,
   "outputs": [
    {
     "name": "stdout",
     "output_type": "stream",
     "text": [
      "     latitude_8  longitude_8  altitude_relative_to_ground_8  latitude_9  \\\n",
      "0     36.109996  -115.140890                            0.0   36.110087   \n",
      "1     36.110061  -115.140881                            0.0   36.110117   \n",
      "2     36.109916  -115.140381                            0.0   36.109991   \n",
      "3     36.109898  -115.140502                            0.0   36.109977   \n",
      "4     36.110034  -115.141372                            0.0   36.110138   \n",
      "..          ...          ...                            ...         ...   \n",
      "99    36.110967  -115.139059                            0.0   36.110901   \n",
      "100   36.111491  -115.139541                            0.0   36.111427   \n",
      "101   36.110140  -115.139324                            0.0   36.110186   \n",
      "102   36.110012  -115.139241                            0.0   36.110095   \n",
      "103   36.110261  -115.139293                            0.0   36.110344   \n",
      "\n",
      "     longitude_9  altitude_relative_to_ground_9  latitude_10  longitude_10  \\\n",
      "0    -115.140907                            0.0    36.110174   -115.140937   \n",
      "1    -115.140914                            0.0    36.110171   -115.140948   \n",
      "2    -115.140410                            0.0    36.110047   -115.140431   \n",
      "3    -115.140536                            0.0    36.110073   -115.140545   \n",
      "4    -115.141279                            0.0    36.110165   -115.141067   \n",
      "..           ...                            ...          ...           ...   \n",
      "99   -115.139057                            0.0    36.110840   -115.139053   \n",
      "100  -115.139532                            0.0    36.111372   -115.139521   \n",
      "101  -115.139311                            0.0    36.110245   -115.139300   \n",
      "102  -115.139247                            0.0    36.110181   -115.139260   \n",
      "103  -115.139311                            0.0    36.110386   -115.139380   \n",
      "\n",
      "     altitude_relative_to_ground_10  latitude_11  longitude_11  \\\n",
      "0                               0.0    36.110235   -115.140938   \n",
      "1                               0.0    36.110233   -115.141002   \n",
      "2                               0.0    36.110088   -115.140481   \n",
      "3                               0.0    36.110142   -115.140557   \n",
      "4                               0.0    36.110250   -115.141061   \n",
      "..                              ...          ...           ...   \n",
      "99                              0.0    36.110769   -115.139042   \n",
      "100                             0.0    36.111312   -115.139518   \n",
      "101                             0.0    36.110301   -115.139304   \n",
      "102                             0.0    36.110269   -115.139268   \n",
      "103                             0.0    36.110428   -115.139462   \n",
      "\n",
      "     altitude_relative_to_ground_11  \n",
      "0                               0.0  \n",
      "1                               0.0  \n",
      "2                               0.0  \n",
      "3                               0.0  \n",
      "4                               0.0  \n",
      "..                              ...  \n",
      "99                              0.0  \n",
      "100                             0.0  \n",
      "101                             0.0  \n",
      "102                             0.0  \n",
      "103                             0.0  \n",
      "\n",
      "[104 rows x 12 columns]\n",
      "[0 0 0 0 0 0 0 0 0 0 0 0 0 0 0 0 0 0 0 0 1 1 1 1 1 1 1 1 1 0 0 0 0 0 0 1 1\n",
      " 1 1 1 1 1 1 1 1 1 1 1 1 1 1 1 1 1 1 1 1 1 1 1 0 0 0 0 0 0 0 0 0 0 0 0 0 0\n",
      " 0 0 0 0 0 1 1 1 1 1 1 1 1 1 1 1 1 1 1 1 1 1 1 1 1 1 1 1 1 1]\n"
     ]
    }
   ],
   "source": [
    "print(x)\n",
    "print(y)"
   ],
   "metadata": {
    "collapsed": false,
    "pycharm": {
     "name": "#%%\n"
    }
   }
  },
  {
   "cell_type": "code",
   "execution_count": 266,
   "outputs": [],
   "source": [
    "x_train, x_test, y_train, y_test = train_test_split(x, y, test_size=0.30, random_state=59)"
   ],
   "metadata": {
    "collapsed": false,
    "pycharm": {
     "name": "#%%\n"
    }
   }
  },
  {
   "cell_type": "code",
   "execution_count": 267,
   "outputs": [],
   "source": [
    "# Scale data\n",
    "scaler = MinMaxScaler()\n",
    "\n",
    "x_train = scaler.fit_transform(x_train)\n",
    "\n",
    "x_test = scaler.transform(x_test)"
   ],
   "metadata": {
    "collapsed": false,
    "pycharm": {
     "name": "#%%\n"
    }
   }
  },
  {
   "cell_type": "code",
   "execution_count": 268,
   "outputs": [
    {
     "data": {
      "text/plain": "(72, 12)"
     },
     "execution_count": 268,
     "metadata": {},
     "output_type": "execute_result"
    }
   ],
   "source": [
    "x_train.shape"
   ],
   "metadata": {
    "collapsed": false,
    "pycharm": {
     "name": "#%%\n"
    }
   }
  },
  {
   "cell_type": "code",
   "execution_count": 269,
   "outputs": [
    {
     "name": "stderr",
     "output_type": "stream",
     "text": [
      "/home/mikey/PycharmProjects/smart-park/venv/lib/python3.8/site-packages/tensorflow/python/keras/optimizer_v2/optimizer_v2.py:374: UserWarning: The `lr` argument is deprecated, use `learning_rate` instead.\n",
      "  warnings.warn(\n"
     ]
    }
   ],
   "source": [
    "early_stop = EarlyStopping(monitor='val_loss', mode='min', verbose=1, patience=20)\n",
    "\n",
    "# Model creation\n",
    "model = Sequential()\n",
    "\n",
    "# 6 neurons for input layer\n",
    "model.add(Dense(12, activation='relu'))\n",
    "\n",
    "model.add(Dense(6, activation='relu'))\n",
    "\n",
    "# Binary classification\n",
    "model.add(Dense(1, activation='sigmoid'))\n",
    "\n",
    "model.compile(loss='binary_crossentropy',\n",
    "              optimizer=tf.keras.optimizers.Adam(lr=0.001))"
   ],
   "metadata": {
    "collapsed": false,
    "pycharm": {
     "name": "#%%\n"
    }
   }
  },
  {
   "cell_type": "code",
   "execution_count": 270,
   "outputs": [
    {
     "name": "stdout",
     "output_type": "stream",
     "text": [
      "Epoch 1/500\n",
      "3/3 [==============================] - 1s 54ms/step - loss: 0.6825 - val_loss: 0.6549\b\b\b\b\b\b\b\b\b\b\b\b\b\b\b\b\b\b\b\b\b\b\b\b\b\b\b\b\b\b\b\b\b\b\b\b\b\n",
      "Epoch 2/500\n",
      "3/3 [==============================] - 0s 9ms/step - loss: 0.6807 - val_loss: 0.6539\b\b\b\b\b\b\b\b\b\b\b\b\b\b\b\b\b\b\b\b\b\b\b\b\b\b\b\b\b\b\b\b\b\b\b\b\b\b\n",
      "Epoch 3/500\n",
      "3/3 [==============================] - 0s 11ms/step - loss: 0.6803 - val_loss: 0.6526\b\b\b\b\b\b\b\b\b\b\b\b\b\b\b\b\b\b\b\b\b\b\b\b\b\b\b\b\b\b\b\b\b\b\b\b\b\n",
      "Epoch 4/500\n",
      "3/3 [==============================] - 0s 11ms/step - loss: 0.6796 - val_loss: 0.6514\b\b\b\b\b\b\b\b\b\b\b\b\b\b\b\b\b\b\b\b\b\b\b\b\b\b\b\b\b\b\b\b\b\b\b\b\b\n",
      "Epoch 5/500\n",
      "3/3 [==============================] - 0s 12ms/step - loss: 0.6792 - val_loss: 0.6502\b\b\b\b\b\b\b\b\b\b\b\b\b\b\b\b\b\b\b\b\b\b\b\b\b\b\b\b\b\b\b\b\b\b\b\b\b\n",
      "Epoch 6/500\n",
      "3/3 [==============================] - 0s 9ms/step - loss: 0.6778 - val_loss: 0.6492\b\b\b\b\b\b\b\b\b\b\b\b\b\b\b\b\b\b\b\b\b\b\b\b\b\b\b\b\b\b\b\b\b\b\b\b\b\b\n",
      "Epoch 7/500\n",
      "3/3 [==============================] - 0s 9ms/step - loss: 0.6773 - val_loss: 0.6482\b\b\b\b\b\b\b\b\b\b\b\b\b\b\b\b\b\b\b\b\b\b\b\b\b\b\b\b\b\b\b\b\b\b\b\b\b\b\n",
      "Epoch 8/500\n",
      "3/3 [==============================] - 0s 10ms/step - loss: 0.6764 - val_loss: 0.6473\b\b\b\b\b\b\b\b\b\b\b\b\b\b\b\b\b\b\b\b\b\b\b\b\b\b\b\b\b\b\b\b\b\b\b\b\b\n",
      "Epoch 9/500\n",
      "3/3 [==============================] - 0s 10ms/step - loss: 0.6759 - val_loss: 0.6465\b\b\b\b\b\b\b\b\b\b\b\b\b\b\b\b\b\b\b\b\b\b\b\b\b\b\b\b\b\b\b\b\b\b\b\b\b\n",
      "Epoch 10/500\n",
      "3/3 [==============================] - 0s 11ms/step - loss: 0.6752 - val_loss: 0.6458\b\b\b\b\b\b\b\b\b\b\b\b\b\b\b\b\b\b\b\b\b\b\b\b\b\b\b\b\b\b\b\b\b\b\b\b\b\n",
      "Epoch 11/500\n",
      "3/3 [==============================] - 0s 8ms/step - loss: 0.6743 - val_loss: 0.6453\b\b\b\b\b\b\b\b\b\b\b\b\b\b\b\b\b\b\b\b\b\b\b\b\b\b\b\b\b\b\b\b\b\b\b\b\b\b\n",
      "Epoch 12/500\n",
      "3/3 [==============================] - 0s 17ms/step - loss: 0.6739 - val_loss: 0.6448\b\b\b\b\b\b\b\b\b\b\b\b\b\b\b\b\b\b\b\b\b\b\b\b\b\b\b\b\b\b\b\b\b\b\b\b\b\n",
      "Epoch 13/500\n",
      "3/3 [==============================] - 0s 8ms/step - loss: 0.6735 - val_loss: 0.6444\b\b\b\b\b\b\b\b\b\b\b\b\b\b\b\b\b\b\b\b\b\b\b\b\b\b\b\b\b\b\b\b\b\b\b\b\b\b\n",
      "Epoch 14/500\n",
      "3/3 [==============================] - 0s 8ms/step - loss: 0.6727 - val_loss: 0.6444\b\b\b\b\b\b\b\b\b\b\b\b\b\b\b\b\b\b\b\b\b\b\b\b\b\b\b\b\b\b\b\b\b\b\b\b\b\b\n",
      "Epoch 15/500\n",
      "3/3 [==============================] - 0s 8ms/step - loss: 0.6723 - val_loss: 0.6442\b\b\b\b\b\b\b\b\b\b\b\b\b\b\b\b\b\b\b\b\b\b\b\b\b\b\b\b\b\b\b\b\b\b\b\b\b\b\n",
      "Epoch 16/500\n",
      "3/3 [==============================] - 0s 9ms/step - loss: 0.6720 - val_loss: 0.6440\b\b\b\b\b\b\b\b\b\b\b\b\b\b\b\b\b\b\b\b\b\b\b\b\b\b\b\b\b\b\b\b\b\b\b\b\b\b\n",
      "Epoch 17/500\n",
      "3/3 [==============================] - 0s 8ms/step - loss: 0.6718 - val_loss: 0.6437\b\b\b\b\b\b\b\b\b\b\b\b\b\b\b\b\b\b\b\b\b\b\b\b\b\b\b\b\b\b\b\b\b\b\b\b\b\b\n",
      "Epoch 18/500\n",
      "3/3 [==============================] - 0s 8ms/step - loss: 0.6713 - val_loss: 0.6435\b\b\b\b\b\b\b\b\b\b\b\b\b\b\b\b\b\b\b\b\b\b\b\b\b\b\b\b\b\b\b\b\b\b\b\b\b\b\n",
      "Epoch 19/500\n",
      "3/3 [==============================] - 0s 8ms/step - loss: 0.6712 - val_loss: 0.6434\b\b\b\b\b\b\b\b\b\b\b\b\b\b\b\b\b\b\b\b\b\b\b\b\b\b\b\b\b\b\b\b\b\b\b\b\b\b\n",
      "Epoch 20/500\n",
      "3/3 [==============================] - 0s 8ms/step - loss: 0.6711 - val_loss: 0.6432\b\b\b\b\b\b\b\b\b\b\b\b\b\b\b\b\b\b\b\b\b\b\b\b\b\b\b\b\b\b\b\b\b\b\b\b\b\b\n",
      "Epoch 21/500\n",
      "3/3 [==============================] - 0s 8ms/step - loss: 0.6709 - val_loss: 0.6429\b\b\b\b\b\b\b\b\b\b\b\b\b\b\b\b\b\b\b\b\b\b\b\b\b\b\b\b\b\b\b\b\b\b\b\b\b\b\n",
      "Epoch 22/500\n",
      "3/3 [==============================] - 0s 8ms/step - loss: 0.6706 - val_loss: 0.6424\b\b\b\b\b\b\b\b\b\b\b\b\b\b\b\b\b\b\b\b\b\b\b\b\b\b\b\b\b\b\b\b\b\b\b\b\b\b\n",
      "Epoch 23/500\n",
      "3/3 [==============================] - 0s 9ms/step - loss: 0.6703 - val_loss: 0.6418\b\b\b\b\b\b\b\b\b\b\b\b\b\b\b\b\b\b\b\b\b\b\b\b\b\b\b\b\b\b\b\b\b\b\b\b\b\b\n",
      "Epoch 24/500\n",
      "3/3 [==============================] - 0s 7ms/step - loss: 0.6699 - val_loss: 0.6413\b\b\b\b\b\b\b\b\b\b\b\b\b\b\b\b\b\b\b\b\b\b\b\b\b\b\b\b\b\b\b\b\b\b\b\b\b\b\n",
      "Epoch 25/500\n",
      "3/3 [==============================] - 0s 9ms/step - loss: 0.6695 - val_loss: 0.6408\b\b\b\b\b\b\b\b\b\b\b\b\b\b\b\b\b\b\b\b\b\b\b\b\b\b\b\b\b\b\b\b\b\b\b\b\b\b\n",
      "Epoch 26/500\n",
      "3/3 [==============================] - 0s 9ms/step - loss: 0.6691 - val_loss: 0.6405\b\b\b\b\b\b\b\b\b\b\b\b\b\b\b\b\b\b\b\b\b\b\b\b\b\b\b\b\b\b\b\b\b\b\b\b\b\b\n",
      "Epoch 27/500\n",
      "3/3 [==============================] - 0s 9ms/step - loss: 0.6692 - val_loss: 0.6400\b\b\b\b\b\b\b\b\b\b\b\b\b\b\b\b\b\b\b\b\b\b\b\b\b\b\b\b\b\b\b\b\b\b\b\b\b\b\n",
      "Epoch 28/500\n",
      "3/3 [==============================] - 0s 9ms/step - loss: 0.6687 - val_loss: 0.6399\b\b\b\b\b\b\b\b\b\b\b\b\b\b\b\b\b\b\b\b\b\b\b\b\b\b\b\b\b\b\b\b\b\b\b\b\b\b\n",
      "Epoch 29/500\n",
      "3/3 [==============================] - 0s 8ms/step - loss: 0.6687 - val_loss: 0.6397\b\b\b\b\b\b\b\b\b\b\b\b\b\b\b\b\b\b\b\b\b\b\b\b\b\b\b\b\b\b\b\b\b\b\b\b\b\b\n",
      "Epoch 30/500\n",
      "3/3 [==============================] - 0s 7ms/step - loss: 0.6682 - val_loss: 0.6400\b\b\b\b\b\b\b\b\b\b\b\b\b\b\b\b\b\b\b\b\b\b\b\b\b\b\b\b\b\b\b\b\b\b\b\b\b\b\n",
      "Epoch 31/500\n",
      "3/3 [==============================] - 0s 8ms/step - loss: 0.6683 - val_loss: 0.6403\b\b\b\b\b\b\b\b\b\b\b\b\b\b\b\b\b\b\b\b\b\b\b\b\b\b\b\b\b\b\b\b\b\b\b\b\b\b\n",
      "Epoch 32/500\n",
      "3/3 [==============================] - 0s 7ms/step - loss: 0.6683 - val_loss: 0.6405\b\b\b\b\b\b\b\b\b\b\b\b\b\b\b\b\b\b\b\b\b\b\b\b\b\b\b\b\b\b\b\b\b\b\b\b\b\b\n",
      "Epoch 33/500\n",
      "3/3 [==============================] - 0s 7ms/step - loss: 0.6682 - val_loss: 0.6404\b\b\b\b\b\b\b\b\b\b\b\b\b\b\b\b\b\b\b\b\b\b\b\b\b\b\b\b\b\b\b\b\b\b\b\b\b\b\n",
      "Epoch 34/500\n",
      "3/3 [==============================] - 0s 7ms/step - loss: 0.6681 - val_loss: 0.6402\b\b\b\b\b\b\b\b\b\b\b\b\b\b\b\b\b\b\b\b\b\b\b\b\b\b\b\b\b\b\b\b\b\b\b\b\b\b\n",
      "Epoch 35/500\n",
      "3/3 [==============================] - 0s 9ms/step - loss: 0.6678 - val_loss: 0.6400\b\b\b\b\b\b\b\b\b\b\b\b\b\b\b\b\b\b\b\b\b\b\b\b\b\b\b\b\b\b\b\b\b\b\b\b\b\b\n",
      "Epoch 36/500\n",
      "3/3 [==============================] - 0s 9ms/step - loss: 0.6677 - val_loss: 0.6398\b\b\b\b\b\b\b\b\b\b\b\b\b\b\b\b\b\b\b\b\b\b\b\b\b\b\b\b\b\b\b\b\b\b\b\b\b\b\n",
      "Epoch 37/500\n",
      "3/3 [==============================] - 0s 10ms/step - loss: 0.6676 - val_loss: 0.6395\b\b\b\b\b\b\b\b\b\b\b\b\b\b\b\b\b\b\b\b\b\b\b\b\b\b\b\b\b\b\b\b\b\b\b\b\b\n",
      "Epoch 38/500\n",
      "3/3 [==============================] - 0s 11ms/step - loss: 0.6675 - val_loss: 0.6391\b\b\b\b\b\b\b\b\b\b\b\b\b\b\b\b\b\b\b\b\b\b\b\b\b\b\b\b\b\b\b\b\b\b\b\b\b\n",
      "Epoch 39/500\n",
      "3/3 [==============================] - 0s 11ms/step - loss: 0.6672 - val_loss: 0.6390\b\b\b\b\b\b\b\b\b\b\b\b\b\b\b\b\b\b\b\b\b\b\b\b\b\b\b\b\b\b\b\b\b\b\b\b\b\n",
      "Epoch 40/500\n",
      "3/3 [==============================] - 0s 8ms/step - loss: 0.6671 - val_loss: 0.6387\b\b\b\b\b\b\b\b\b\b\b\b\b\b\b\b\b\b\b\b\b\b\b\b\b\b\b\b\b\b\b\b\b\b\b\b\b\b\n",
      "Epoch 41/500\n",
      "3/3 [==============================] - 0s 10ms/step - loss: 0.6672 - val_loss: 0.6383\b\b\b\b\b\b\b\b\b\b\b\b\b\b\b\b\b\b\b\b\b\b\b\b\b\b\b\b\b\b\b\b\b\b\b\b\b\n",
      "Epoch 42/500\n",
      "3/3 [==============================] - 0s 8ms/step - loss: 0.6667 - val_loss: 0.6381\b\b\b\b\b\b\b\b\b\b\b\b\b\b\b\b\b\b\b\b\b\b\b\b\b\b\b\b\b\b\b\b\b\b\b\b\b\b\n",
      "Epoch 43/500\n",
      "3/3 [==============================] - 0s 9ms/step - loss: 0.6667 - val_loss: 0.6376\b\b\b\b\b\b\b\b\b\b\b\b\b\b\b\b\b\b\b\b\b\b\b\b\b\b\b\b\b\b\b\b\b\b\b\b\b\b\n",
      "Epoch 44/500\n",
      "3/3 [==============================] - 0s 9ms/step - loss: 0.6665 - val_loss: 0.6372\b\b\b\b\b\b\b\b\b\b\b\b\b\b\b\b\b\b\b\b\b\b\b\b\b\b\b\b\b\b\b\b\b\b\b\b\b\b\n",
      "Epoch 45/500\n",
      "3/3 [==============================] - 0s 9ms/step - loss: 0.6664 - val_loss: 0.6369\b\b\b\b\b\b\b\b\b\b\b\b\b\b\b\b\b\b\b\b\b\b\b\b\b\b\b\b\b\b\b\b\b\b\b\b\b\b\n",
      "Epoch 46/500\n",
      "3/3 [==============================] - 0s 9ms/step - loss: 0.6662 - val_loss: 0.6367\b\b\b\b\b\b\b\b\b\b\b\b\b\b\b\b\b\b\b\b\b\b\b\b\b\b\b\b\b\b\b\b\b\b\b\b\b\b\n",
      "Epoch 47/500\n",
      "3/3 [==============================] - 0s 10ms/step - loss: 0.6662 - val_loss: 0.6365\b\b\b\b\b\b\b\b\b\b\b\b\b\b\b\b\b\b\b\b\b\b\b\b\b\b\b\b\b\b\b\b\b\b\b\b\b\n",
      "Epoch 48/500\n",
      "3/3 [==============================] - 0s 9ms/step - loss: 0.6659 - val_loss: 0.6365\b\b\b\b\b\b\b\b\b\b\b\b\b\b\b\b\b\b\b\b\b\b\b\b\b\b\b\b\b\b\b\b\b\b\b\b\b\b\n",
      "Epoch 49/500\n",
      "3/3 [==============================] - 0s 9ms/step - loss: 0.6658 - val_loss: 0.6365\b\b\b\b\b\b\b\b\b\b\b\b\b\b\b\b\b\b\b\b\b\b\b\b\b\b\b\b\b\b\b\b\b\b\b\b\b\b\n",
      "Epoch 50/500\n",
      "3/3 [==============================] - 0s 8ms/step - loss: 0.6658 - val_loss: 0.6364\b\b\b\b\b\b\b\b\b\b\b\b\b\b\b\b\b\b\b\b\b\b\b\b\b\b\b\b\b\b\b\b\b\b\b\b\b\b\n",
      "Epoch 51/500\n",
      "3/3 [==============================] - 0s 8ms/step - loss: 0.6656 - val_loss: 0.6362\b\b\b\b\b\b\b\b\b\b\b\b\b\b\b\b\b\b\b\b\b\b\b\b\b\b\b\b\b\b\b\b\b\b\b\b\b\b\n",
      "Epoch 52/500\n",
      "3/3 [==============================] - 0s 10ms/step - loss: 0.6655 - val_loss: 0.6361\b\b\b\b\b\b\b\b\b\b\b\b\b\b\b\b\b\b\b\b\b\b\b\b\b\b\b\b\b\b\b\b\b\b\b\b\b\n",
      "Epoch 53/500\n",
      "3/3 [==============================] - 0s 10ms/step - loss: 0.6654 - val_loss: 0.6361\b\b\b\b\b\b\b\b\b\b\b\b\b\b\b\b\b\b\b\b\b\b\b\b\b\b\b\b\b\b\b\b\b\b\b\b\b\n",
      "Epoch 54/500\n",
      "3/3 [==============================] - 0s 10ms/step - loss: 0.6652 - val_loss: 0.6360\b\b\b\b\b\b\b\b\b\b\b\b\b\b\b\b\b\b\b\b\b\b\b\b\b\b\b\b\b\b\b\b\b\b\b\b\b\n",
      "Epoch 55/500\n",
      "3/3 [==============================] - 0s 9ms/step - loss: 0.6651 - val_loss: 0.6360\b\b\b\b\b\b\b\b\b\b\b\b\b\b\b\b\b\b\b\b\b\b\b\b\b\b\b\b\b\b\b\b\b\b\b\b\b\b\n",
      "Epoch 56/500\n",
      "3/3 [==============================] - 0s 10ms/step - loss: 0.6649 - val_loss: 0.6359\b\b\b\b\b\b\b\b\b\b\b\b\b\b\b\b\b\b\b\b\b\b\b\b\b\b\b\b\b\b\b\b\b\b\b\b\b\n",
      "Epoch 57/500\n",
      "3/3 [==============================] - 0s 11ms/step - loss: 0.6648 - val_loss: 0.6359\b\b\b\b\b\b\b\b\b\b\b\b\b\b\b\b\b\b\b\b\b\b\b\b\b\b\b\b\b\b\b\b\b\b\b\b\b\n",
      "Epoch 58/500\n",
      "3/3 [==============================] - 0s 9ms/step - loss: 0.6646 - val_loss: 0.6359\b\b\b\b\b\b\b\b\b\b\b\b\b\b\b\b\b\b\b\b\b\b\b\b\b\b\b\b\b\b\b\b\b\b\b\b\b\b\n",
      "Epoch 59/500\n",
      "3/3 [==============================] - 0s 9ms/step - loss: 0.6644 - val_loss: 0.6359\b\b\b\b\b\b\b\b\b\b\b\b\b\b\b\b\b\b\b\b\b\b\b\b\b\b\b\b\b\b\b\b\b\b\b\b\b\b\n",
      "Epoch 60/500\n",
      "3/3 [==============================] - 0s 8ms/step - loss: 0.6642 - val_loss: 0.6360\b\b\b\b\b\b\b\b\b\b\b\b\b\b\b\b\b\b\b\b\b\b\b\b\b\b\b\b\b\b\b\b\b\b\b\b\b\b\n",
      "Epoch 61/500\n",
      "3/3 [==============================] - 0s 8ms/step - loss: 0.6641 - val_loss: 0.6362\b\b\b\b\b\b\b\b\b\b\b\b\b\b\b\b\b\b\b\b\b\b\b\b\b\b\b\b\b\b\b\b\b\b\b\b\b\b\n",
      "Epoch 62/500\n",
      "3/3 [==============================] - 0s 9ms/step - loss: 0.6640 - val_loss: 0.6362\b\b\b\b\b\b\b\b\b\b\b\b\b\b\b\b\b\b\b\b\b\b\b\b\b\b\b\b\b\b\b\b\b\b\b\b\b\b\n",
      "Epoch 63/500\n",
      "3/3 [==============================] - 0s 9ms/step - loss: 0.6639 - val_loss: 0.6360\b\b\b\b\b\b\b\b\b\b\b\b\b\b\b\b\b\b\b\b\b\b\b\b\b\b\b\b\b\b\b\b\b\b\b\b\b\b\n",
      "Epoch 64/500\n",
      "3/3 [==============================] - 0s 8ms/step - loss: 0.6635 - val_loss: 0.6361\b\b\b\b\b\b\b\b\b\b\b\b\b\b\b\b\b\b\b\b\b\b\b\b\b\b\b\b\b\b\b\b\b\b\b\b\b\b\n",
      "Epoch 65/500\n",
      "3/3 [==============================] - 0s 8ms/step - loss: 0.6634 - val_loss: 0.6361\b\b\b\b\b\b\b\b\b\b\b\b\b\b\b\b\b\b\b\b\b\b\b\b\b\b\b\b\b\b\b\b\b\b\b\b\b\b\n",
      "Epoch 66/500\n",
      "3/3 [==============================] - 0s 13ms/step - loss: 0.6632 - val_loss: 0.6361\b\b\b\b\b\b\b\b\b\b\b\b\b\b\b\b\b\b\b\b\b\b\b\b\b\b\b\b\b\b\b\b\b\b\b\b\b\n",
      "Epoch 67/500\n",
      "3/3 [==============================] - 0s 8ms/step - loss: 0.6629 - val_loss: 0.6360\b\b\b\b\b\b\b\b\b\b\b\b\b\b\b\b\b\b\b\b\b\b\b\b\b\b\b\b\b\b\b\b\b\b\b\b\b\b\n",
      "Epoch 68/500\n",
      "3/3 [==============================] - 0s 8ms/step - loss: 0.6628 - val_loss: 0.6359\b\b\b\b\b\b\b\b\b\b\b\b\b\b\b\b\b\b\b\b\b\b\b\b\b\b\b\b\b\b\b\b\b\b\b\b\b\b\n",
      "Epoch 69/500\n",
      "3/3 [==============================] - 0s 9ms/step - loss: 0.6627 - val_loss: 0.6357\b\b\b\b\b\b\b\b\b\b\b\b\b\b\b\b\b\b\b\b\b\b\b\b\b\b\b\b\b\b\b\b\b\b\b\b\b\b\n",
      "Epoch 70/500\n",
      "3/3 [==============================] - 0s 9ms/step - loss: 0.6625 - val_loss: 0.6354\b\b\b\b\b\b\b\b\b\b\b\b\b\b\b\b\b\b\b\b\b\b\b\b\b\b\b\b\b\b\b\b\b\b\b\b\b\b\n",
      "Epoch 71/500\n",
      "3/3 [==============================] - 0s 11ms/step - loss: 0.6625 - val_loss: 0.6353\b\b\b\b\b\b\b\b\b\b\b\b\b\b\b\b\b\b\b\b\b\b\b\b\b\b\b\b\b\b\b\b\b\b\b\b\b\n",
      "Epoch 72/500\n",
      "3/3 [==============================] - 0s 13ms/step - loss: 0.6624 - val_loss: 0.6351\b\b\b\b\b\b\b\b\b\b\b\b\b\b\b\b\b\b\b\b\b\b\b\b\b\b\b\b\b\b\b\b\b\b\b\b\b\n",
      "Epoch 73/500\n",
      "3/3 [==============================] - 0s 9ms/step - loss: 0.6623 - val_loss: 0.6349\b\b\b\b\b\b\b\b\b\b\b\b\b\b\b\b\b\b\b\b\b\b\b\b\b\b\b\b\b\b\b\b\b\b\b\b\b\b\n",
      "Epoch 74/500\n",
      "3/3 [==============================] - 0s 8ms/step - loss: 0.6621 - val_loss: 0.6349\b\b\b\b\b\b\b\b\b\b\b\b\b\b\b\b\b\b\b\b\b\b\b\b\b\b\b\b\b\b\b\b\b\b\b\b\b\b\n",
      "Epoch 75/500\n",
      "3/3 [==============================] - 0s 8ms/step - loss: 0.6620 - val_loss: 0.6347\b\b\b\b\b\b\b\b\b\b\b\b\b\b\b\b\b\b\b\b\b\b\b\b\b\b\b\b\b\b\b\b\b\b\b\b\b\b\n",
      "Epoch 76/500\n",
      "3/3 [==============================] - 0s 18ms/step - loss: 0.6618 - val_loss: 0.6344\b\b\b\b\b\b\b\b\b\b\b\b\b\b\b\b\b\b\b\b\b\b\b\b\b\b\b\b\b\b\b\b\b\b\b\b\b\n",
      "Epoch 77/500\n",
      "3/3 [==============================] - 0s 7ms/step - loss: 0.6618 - val_loss: 0.6341\b\b\b\b\b\b\b\b\b\b\b\b\b\b\b\b\b\b\b\b\b\b\b\b\b\b\b\b\b\b\b\b\b\b\b\b\b\b\n",
      "Epoch 78/500\n",
      "3/3 [==============================] - 0s 8ms/step - loss: 0.6616 - val_loss: 0.6338\b\b\b\b\b\b\b\b\b\b\b\b\b\b\b\b\b\b\b\b\b\b\b\b\b\b\b\b\b\b\b\b\b\b\b\b\b\b\n",
      "Epoch 79/500\n",
      "3/3 [==============================] - 0s 9ms/step - loss: 0.6615 - val_loss: 0.6336\b\b\b\b\b\b\b\b\b\b\b\b\b\b\b\b\b\b\b\b\b\b\b\b\b\b\b\b\b\b\b\b\b\b\b\b\b\b\n",
      "Epoch 80/500\n",
      "3/3 [==============================] - 0s 8ms/step - loss: 0.6613 - val_loss: 0.6334\b\b\b\b\b\b\b\b\b\b\b\b\b\b\b\b\b\b\b\b\b\b\b\b\b\b\b\b\b\b\b\b\b\b\b\b\b\b\n",
      "Epoch 81/500\n",
      "3/3 [==============================] - 0s 9ms/step - loss: 0.6612 - val_loss: 0.6332\b\b\b\b\b\b\b\b\b\b\b\b\b\b\b\b\b\b\b\b\b\b\b\b\b\b\b\b\b\b\b\b\b\b\b\b\b\b\n",
      "Epoch 82/500\n",
      "3/3 [==============================] - 0s 9ms/step - loss: 0.6612 - val_loss: 0.6329\b\b\b\b\b\b\b\b\b\b\b\b\b\b\b\b\b\b\b\b\b\b\b\b\b\b\b\b\b\b\b\b\b\b\b\b\b\b\n",
      "Epoch 83/500\n",
      "3/3 [==============================] - 0s 9ms/step - loss: 0.6611 - val_loss: 0.6327\b\b\b\b\b\b\b\b\b\b\b\b\b\b\b\b\b\b\b\b\b\b\b\b\b\b\b\b\b\b\b\b\b\b\b\b\b\b\n",
      "Epoch 84/500\n",
      "3/3 [==============================] - 0s 11ms/step - loss: 0.6609 - val_loss: 0.6325\b\b\b\b\b\b\b\b\b\b\b\b\b\b\b\b\b\b\b\b\b\b\b\b\b\b\b\b\b\b\b\b\b\b\b\b\b\n",
      "Epoch 85/500\n",
      "3/3 [==============================] - 0s 11ms/step - loss: 0.6607 - val_loss: 0.6323\b\b\b\b\b\b\b\b\b\b\b\b\b\b\b\b\b\b\b\b\b\b\b\b\b\b\b\b\b\b\b\b\b\b\b\b\b\n",
      "Epoch 86/500\n",
      "3/3 [==============================] - 0s 11ms/step - loss: 0.6606 - val_loss: 0.6321\b\b\b\b\b\b\b\b\b\b\b\b\b\b\b\b\b\b\b\b\b\b\b\b\b\b\b\b\b\b\b\b\b\b\b\b\b\n",
      "Epoch 87/500\n",
      "3/3 [==============================] - 0s 9ms/step - loss: 0.6604 - val_loss: 0.6320\b\b\b\b\b\b\b\b\b\b\b\b\b\b\b\b\b\b\b\b\b\b\b\b\b\b\b\b\b\b\b\b\b\b\b\b\b\b\n",
      "Epoch 88/500\n",
      "3/3 [==============================] - 0s 8ms/step - loss: 0.6602 - val_loss: 0.6319\b\b\b\b\b\b\b\b\b\b\b\b\b\b\b\b\b\b\b\b\b\b\b\b\b\b\b\b\b\b\b\b\b\b\b\b\b\b\n",
      "Epoch 89/500\n",
      "3/3 [==============================] - 0s 8ms/step - loss: 0.6602 - val_loss: 0.6319\b\b\b\b\b\b\b\b\b\b\b\b\b\b\b\b\b\b\b\b\b\b\b\b\b\b\b\b\b\b\b\b\b\b\b\b\b\b\n",
      "Epoch 90/500\n",
      "3/3 [==============================] - 0s 10ms/step - loss: 0.6601 - val_loss: 0.6320\b\b\b\b\b\b\b\b\b\b\b\b\b\b\b\b\b\b\b\b\b\b\b\b\b\b\b\b\b\b\b\b\b\b\b\b\b\n",
      "Epoch 91/500\n",
      "3/3 [==============================] - 0s 9ms/step - loss: 0.6599 - val_loss: 0.6323\b\b\b\b\b\b\b\b\b\b\b\b\b\b\b\b\b\b\b\b\b\b\b\b\b\b\b\b\b\b\b\b\b\b\b\b\b\b\n",
      "Epoch 92/500\n",
      "3/3 [==============================] - 0s 8ms/step - loss: 0.6602 - val_loss: 0.6325\b\b\b\b\b\b\b\b\b\b\b\b\b\b\b\b\b\b\b\b\b\b\b\b\b\b\b\b\b\b\b\b\b\b\b\b\b\b\n",
      "Epoch 93/500\n",
      "3/3 [==============================] - 0s 9ms/step - loss: 0.6601 - val_loss: 0.6325\b\b\b\b\b\b\b\b\b\b\b\b\b\b\b\b\b\b\b\b\b\b\b\b\b\b\b\b\b\b\b\b\b\b\b\b\b\b\n",
      "Epoch 94/500\n",
      "3/3 [==============================] - 0s 9ms/step - loss: 0.6605 - val_loss: 0.6326\b\b\b\b\b\b\b\b\b\b\b\b\b\b\b\b\b\b\b\b\b\b\b\b\b\b\b\b\b\b\b\b\b\b\b\b\b\b\n",
      "Epoch 95/500\n",
      "3/3 [==============================] - 0s 8ms/step - loss: 0.6600 - val_loss: 0.6324\b\b\b\b\b\b\b\b\b\b\b\b\b\b\b\b\b\b\b\b\b\b\b\b\b\b\b\b\b\b\b\b\b\b\b\b\b\b\n",
      "Epoch 96/500\n",
      "3/3 [==============================] - 0s 8ms/step - loss: 0.6600 - val_loss: 0.6323\b\b\b\b\b\b\b\b\b\b\b\b\b\b\b\b\b\b\b\b\b\b\b\b\b\b\b\b\b\b\b\b\b\b\b\b\b\b\n",
      "Epoch 97/500\n",
      "3/3 [==============================] - 0s 9ms/step - loss: 0.6596 - val_loss: 0.6321\b\b\b\b\b\b\b\b\b\b\b\b\b\b\b\b\b\b\b\b\b\b\b\b\b\b\b\b\b\b\b\b\b\b\b\b\b\b\n",
      "Epoch 98/500\n",
      "3/3 [==============================] - 0s 8ms/step - loss: 0.6598 - val_loss: 0.6317\b\b\b\b\b\b\b\b\b\b\b\b\b\b\b\b\b\b\b\b\b\b\b\b\b\b\b\b\b\b\b\b\b\b\b\b\b\b\n",
      "Epoch 99/500\n",
      "3/3 [==============================] - 0s 9ms/step - loss: 0.6593 - val_loss: 0.6314\b\b\b\b\b\b\b\b\b\b\b\b\b\b\b\b\b\b\b\b\b\b\b\b\b\b\b\b\b\b\b\b\b\b\b\b\b\b\n",
      "Epoch 100/500\n",
      "3/3 [==============================] - 0s 9ms/step - loss: 0.6592 - val_loss: 0.6310\b\b\b\b\b\b\b\b\b\b\b\b\b\b\b\b\b\b\b\b\b\b\b\b\b\b\b\b\b\b\b\b\b\b\b\b\b\b\n",
      "Epoch 101/500\n",
      "3/3 [==============================] - 0s 11ms/step - loss: 0.6589 - val_loss: 0.6304\b\b\b\b\b\b\b\b\b\b\b\b\b\b\b\b\b\b\b\b\b\b\b\b\b\b\b\b\b\b\b\b\b\b\b\b\b\n",
      "Epoch 102/500\n",
      "3/3 [==============================] - 0s 9ms/step - loss: 0.6591 - val_loss: 0.6300\b\b\b\b\b\b\b\b\b\b\b\b\b\b\b\b\b\b\b\b\b\b\b\b\b\b\b\b\b\b\b\b\b\b\b\b\b\b\n",
      "Epoch 103/500\n",
      "3/3 [==============================] - 0s 9ms/step - loss: 0.6587 - val_loss: 0.6295\b\b\b\b\b\b\b\b\b\b\b\b\b\b\b\b\b\b\b\b\b\b\b\b\b\b\b\b\b\b\b\b\b\b\b\b\b\b\n",
      "Epoch 104/500\n",
      "3/3 [==============================] - 0s 10ms/step - loss: 0.6587 - val_loss: 0.6291\b\b\b\b\b\b\b\b\b\b\b\b\b\b\b\b\b\b\b\b\b\b\b\b\b\b\b\b\b\b\b\b\b\b\b\b\b\n",
      "Epoch 105/500\n",
      "3/3 [==============================] - 0s 10ms/step - loss: 0.6586 - val_loss: 0.6289\b\b\b\b\b\b\b\b\b\b\b\b\b\b\b\b\b\b\b\b\b\b\b\b\b\b\b\b\b\b\b\b\b\b\b\b\b\n",
      "Epoch 106/500\n",
      "3/3 [==============================] - 0s 10ms/step - loss: 0.6584 - val_loss: 0.6288\b\b\b\b\b\b\b\b\b\b\b\b\b\b\b\b\b\b\b\b\b\b\b\b\b\b\b\b\b\b\b\b\b\b\b\b\b\n",
      "Epoch 107/500\n",
      "3/3 [==============================] - 0s 9ms/step - loss: 0.6583 - val_loss: 0.6288\b\b\b\b\b\b\b\b\b\b\b\b\b\b\b\b\b\b\b\b\b\b\b\b\b\b\b\b\b\b\b\b\b\b\b\b\b\b\n",
      "Epoch 108/500\n",
      "3/3 [==============================] - 0s 8ms/step - loss: 0.6582 - val_loss: 0.6287\b\b\b\b\b\b\b\b\b\b\b\b\b\b\b\b\b\b\b\b\b\b\b\b\b\b\b\b\b\b\b\b\b\b\b\b\b\b\n",
      "Epoch 109/500\n",
      "3/3 [==============================] - 0s 8ms/step - loss: 0.6581 - val_loss: 0.6286\b\b\b\b\b\b\b\b\b\b\b\b\b\b\b\b\b\b\b\b\b\b\b\b\b\b\b\b\b\b\b\b\b\b\b\b\b\b\n",
      "Epoch 110/500\n",
      "3/3 [==============================] - 0s 8ms/step - loss: 0.6580 - val_loss: 0.6284\b\b\b\b\b\b\b\b\b\b\b\b\b\b\b\b\b\b\b\b\b\b\b\b\b\b\b\b\b\b\b\b\b\b\b\b\b\b\n",
      "Epoch 111/500\n",
      "3/3 [==============================] - 0s 8ms/step - loss: 0.6580 - val_loss: 0.6282\b\b\b\b\b\b\b\b\b\b\b\b\b\b\b\b\b\b\b\b\b\b\b\b\b\b\b\b\b\b\b\b\b\b\b\b\b\b\n",
      "Epoch 112/500\n",
      "3/3 [==============================] - 0s 9ms/step - loss: 0.6578 - val_loss: 0.6282\b\b\b\b\b\b\b\b\b\b\b\b\b\b\b\b\b\b\b\b\b\b\b\b\b\b\b\b\b\b\b\b\b\b\b\b\b\b\n",
      "Epoch 113/500\n",
      "3/3 [==============================] - 0s 10ms/step - loss: 0.6576 - val_loss: 0.6282\b\b\b\b\b\b\b\b\b\b\b\b\b\b\b\b\b\b\b\b\b\b\b\b\b\b\b\b\b\b\b\b\b\b\b\b\b\n",
      "Epoch 114/500\n",
      "3/3 [==============================] - 0s 9ms/step - loss: 0.6575 - val_loss: 0.6282\b\b\b\b\b\b\b\b\b\b\b\b\b\b\b\b\b\b\b\b\b\b\b\b\b\b\b\b\b\b\b\b\b\b\b\b\b\b\n",
      "Epoch 115/500\n",
      "3/3 [==============================] - 0s 19ms/step - loss: 0.6575 - val_loss: 0.6283\b\b\b\b\b\b\b\b\b\b\b\b\b\b\b\b\b\b\b\b\b\b\b\b\b\b\b\b\b\b\b\b\b\b\b\b\b\n",
      "Epoch 116/500\n",
      "3/3 [==============================] - 0s 10ms/step - loss: 0.6574 - val_loss: 0.6284\b\b\b\b\b\b\b\b\b\b\b\b\b\b\b\b\b\b\b\b\b\b\b\b\b\b\b\b\b\b\b\b\b\b\b\b\b\n",
      "Epoch 117/500\n",
      "3/3 [==============================] - 0s 9ms/step - loss: 0.6573 - val_loss: 0.6283\b\b\b\b\b\b\b\b\b\b\b\b\b\b\b\b\b\b\b\b\b\b\b\b\b\b\b\b\b\b\b\b\b\b\b\b\b\b\n",
      "Epoch 118/500\n",
      "3/3 [==============================] - 0s 10ms/step - loss: 0.6573 - val_loss: 0.6280\b\b\b\b\b\b\b\b\b\b\b\b\b\b\b\b\b\b\b\b\b\b\b\b\b\b\b\b\b\b\b\b\b\b\b\b\b\n",
      "Epoch 119/500\n",
      "3/3 [==============================] - 0s 11ms/step - loss: 0.6571 - val_loss: 0.6277\b\b\b\b\b\b\b\b\b\b\b\b\b\b\b\b\b\b\b\b\b\b\b\b\b\b\b\b\b\b\b\b\b\b\b\b\b\n",
      "Epoch 120/500\n",
      "3/3 [==============================] - 0s 11ms/step - loss: 0.6569 - val_loss: 0.6273\b\b\b\b\b\b\b\b\b\b\b\b\b\b\b\b\b\b\b\b\b\b\b\b\b\b\b\b\b\b\b\b\b\b\b\b\b\n",
      "Epoch 121/500\n",
      "3/3 [==============================] - 0s 11ms/step - loss: 0.6568 - val_loss: 0.6269\b\b\b\b\b\b\b\b\b\b\b\b\b\b\b\b\b\b\b\b\b\b\b\b\b\b\b\b\b\b\b\b\b\b\b\b\b\n",
      "Epoch 122/500\n",
      "3/3 [==============================] - 0s 10ms/step - loss: 0.6567 - val_loss: 0.6265\b\b\b\b\b\b\b\b\b\b\b\b\b\b\b\b\b\b\b\b\b\b\b\b\b\b\b\b\b\b\b\b\b\b\b\b\b\n",
      "Epoch 123/500\n",
      "3/3 [==============================] - 0s 9ms/step - loss: 0.6567 - val_loss: 0.6264\b\b\b\b\b\b\b\b\b\b\b\b\b\b\b\b\b\b\b\b\b\b\b\b\b\b\b\b\b\b\b\b\b\b\b\b\b\b\n",
      "Epoch 124/500\n",
      "3/3 [==============================] - 0s 9ms/step - loss: 0.6566 - val_loss: 0.6263\b\b\b\b\b\b\b\b\b\b\b\b\b\b\b\b\b\b\b\b\b\b\b\b\b\b\b\b\b\b\b\b\b\b\b\b\b\b\n",
      "Epoch 125/500\n",
      "3/3 [==============================] - 0s 8ms/step - loss: 0.6566 - val_loss: 0.6262\b\b\b\b\b\b\b\b\b\b\b\b\b\b\b\b\b\b\b\b\b\b\b\b\b\b\b\b\b\b\b\b\b\b\b\b\b\b\n",
      "Epoch 126/500\n",
      "3/3 [==============================] - 0s 8ms/step - loss: 0.6566 - val_loss: 0.6261\b\b\b\b\b\b\b\b\b\b\b\b\b\b\b\b\b\b\b\b\b\b\b\b\b\b\b\b\b\b\b\b\b\b\b\b\b\b\n",
      "Epoch 127/500\n",
      "3/3 [==============================] - 0s 8ms/step - loss: 0.6563 - val_loss: 0.6262\b\b\b\b\b\b\b\b\b\b\b\b\b\b\b\b\b\b\b\b\b\b\b\b\b\b\b\b\b\b\b\b\b\b\b\b\b\b\n",
      "Epoch 128/500\n",
      "3/3 [==============================] - 0s 8ms/step - loss: 0.6563 - val_loss: 0.6263\b\b\b\b\b\b\b\b\b\b\b\b\b\b\b\b\b\b\b\b\b\b\b\b\b\b\b\b\b\b\b\b\b\b\b\b\b\b\n",
      "Epoch 129/500\n",
      "3/3 [==============================] - 0s 8ms/step - loss: 0.6561 - val_loss: 0.6265\b\b\b\b\b\b\b\b\b\b\b\b\b\b\b\b\b\b\b\b\b\b\b\b\b\b\b\b\b\b\b\b\b\b\b\b\b\b\n",
      "Epoch 130/500\n",
      "3/3 [==============================] - 0s 13ms/step - loss: 0.6560 - val_loss: 0.6265\b\b\b\b\b\b\b\b\b\b\b\b\b\b\b\b\b\b\b\b\b\b\b\b\b\b\b\b\b\b\b\b\b\b\b\b\b\n",
      "Epoch 131/500\n",
      "3/3 [==============================] - 0s 10ms/step - loss: 0.6561 - val_loss: 0.6266\b\b\b\b\b\b\b\b\b\b\b\b\b\b\b\b\b\b\b\b\b\b\b\b\b\b\b\b\b\b\b\b\b\b\b\b\b\n",
      "Epoch 132/500\n",
      "3/3 [==============================] - 0s 10ms/step - loss: 0.6558 - val_loss: 0.6268\b\b\b\b\b\b\b\b\b\b\b\b\b\b\b\b\b\b\b\b\b\b\b\b\b\b\b\b\b\b\b\b\b\b\b\b\b\n",
      "Epoch 133/500\n",
      "3/3 [==============================] - 0s 8ms/step - loss: 0.6557 - val_loss: 0.6271\b\b\b\b\b\b\b\b\b\b\b\b\b\b\b\b\b\b\b\b\b\b\b\b\b\b\b\b\b\b\b\b\b\b\b\b\b\b\n",
      "Epoch 134/500\n",
      "3/3 [==============================] - 0s 8ms/step - loss: 0.6556 - val_loss: 0.6273\b\b\b\b\b\b\b\b\b\b\b\b\b\b\b\b\b\b\b\b\b\b\b\b\b\b\b\b\b\b\b\b\b\b\b\b\b\b\n",
      "Epoch 135/500\n",
      "3/3 [==============================] - 0s 7ms/step - loss: 0.6556 - val_loss: 0.6275\b\b\b\b\b\b\b\b\b\b\b\b\b\b\b\b\b\b\b\b\b\b\b\b\b\b\b\b\b\b\b\b\b\b\b\b\b\b\n",
      "Epoch 136/500\n",
      "3/3 [==============================] - 0s 9ms/step - loss: 0.6555 - val_loss: 0.6275\b\b\b\b\b\b\b\b\b\b\b\b\b\b\b\b\b\b\b\b\b\b\b\b\b\b\b\b\b\b\b\b\b\b\b\b\b\b\n",
      "Epoch 137/500\n",
      "3/3 [==============================] - 0s 9ms/step - loss: 0.6555 - val_loss: 0.6275\b\b\b\b\b\b\b\b\b\b\b\b\b\b\b\b\b\b\b\b\b\b\b\b\b\b\b\b\b\b\b\b\b\b\b\b\b\b\n",
      "Epoch 138/500\n",
      "3/3 [==============================] - 0s 9ms/step - loss: 0.6553 - val_loss: 0.6275\b\b\b\b\b\b\b\b\b\b\b\b\b\b\b\b\b\b\b\b\b\b\b\b\b\b\b\b\b\b\b\b\b\b\b\b\b\b\n",
      "Epoch 139/500\n",
      "3/3 [==============================] - 0s 11ms/step - loss: 0.6555 - val_loss: 0.6273\b\b\b\b\b\b\b\b\b\b\b\b\b\b\b\b\b\b\b\b\b\b\b\b\b\b\b\b\b\b\b\b\b\b\b\b\b\n",
      "Epoch 140/500\n",
      "3/3 [==============================] - 0s 13ms/step - loss: 0.6550 - val_loss: 0.6272\b\b\b\b\b\b\b\b\b\b\b\b\b\b\b\b\b\b\b\b\b\b\b\b\b\b\b\b\b\b\b\b\b\b\b\b\b\n",
      "Epoch 141/500\n",
      "3/3 [==============================] - 0s 13ms/step - loss: 0.6550 - val_loss: 0.6271\b\b\b\b\b\b\b\b\b\b\b\b\b\b\b\b\b\b\b\b\b\b\b\b\b\b\b\b\b\b\b\b\b\b\b\b\b\n",
      "Epoch 142/500\n",
      "3/3 [==============================] - 0s 11ms/step - loss: 0.6551 - val_loss: 0.6269\b\b\b\b\b\b\b\b\b\b\b\b\b\b\b\b\b\b\b\b\b\b\b\b\b\b\b\b\b\b\b\b\b\b\b\b\b\n",
      "Epoch 143/500\n",
      "3/3 [==============================] - 0s 8ms/step - loss: 0.6548 - val_loss: 0.6269\b\b\b\b\b\b\b\b\b\b\b\b\b\b\b\b\b\b\b\b\b\b\b\b\b\b\b\b\b\b\b\b\b\b\b\b\b\b\n",
      "Epoch 144/500\n",
      "3/3 [==============================] - 0s 9ms/step - loss: 0.6546 - val_loss: 0.6270\b\b\b\b\b\b\b\b\b\b\b\b\b\b\b\b\b\b\b\b\b\b\b\b\b\b\b\b\b\b\b\b\b\b\b\b\b\b\n",
      "Epoch 145/500\n",
      "3/3 [==============================] - 0s 10ms/step - loss: 0.6544 - val_loss: 0.6270\b\b\b\b\b\b\b\b\b\b\b\b\b\b\b\b\b\b\b\b\b\b\b\b\b\b\b\b\b\b\b\b\b\b\b\b\b\n",
      "Epoch 146/500\n",
      "3/3 [==============================] - 0s 9ms/step - loss: 0.6543 - val_loss: 0.6273\b\b\b\b\b\b\b\b\b\b\b\b\b\b\b\b\b\b\b\b\b\b\b\b\b\b\b\b\b\b\b\b\b\b\b\b\b\b\n",
      "Epoch 00146: early stopping\n"
     ]
    },
    {
     "data": {
      "text/plain": "<tensorflow.python.keras.callbacks.History at 0x7f0ab077bc40>"
     },
     "execution_count": 270,
     "metadata": {},
     "output_type": "execute_result"
    }
   ],
   "source": [
    "model.fit(x=x_train,\n",
    "          y=y_train,\n",
    "          epochs=500,\n",
    "          validation_data=(x_test, y_test),\n",
    "          callbacks=early_stop)"
   ],
   "metadata": {
    "collapsed": false,
    "pycharm": {
     "name": "#%%\n"
    }
   }
  },
  {
   "cell_type": "code",
   "execution_count": 271,
   "outputs": [],
   "source": [
    "losses = pd.DataFrame(model.history.history)"
   ],
   "metadata": {
    "collapsed": false,
    "pycharm": {
     "name": "#%%\n"
    }
   }
  },
  {
   "cell_type": "code",
   "execution_count": 272,
   "outputs": [
    {
     "data": {
      "text/plain": "<AxesSubplot:>"
     },
     "execution_count": 272,
     "metadata": {},
     "output_type": "execute_result"
    },
    {
     "data": {
      "text/plain": "<Figure size 432x288 with 1 Axes>",
      "image/png": "[encoded data removed]"
     },
     "metadata": {
      "needs_background": "light"
     },
     "output_type": "display_data"
    }
   ],
   "source": [
    "losses.plot()"
   ],
   "metadata": {
    "collapsed": false,
    "pycharm": {
     "name": "#%%\n"
    }
   }
  },
  {
   "cell_type": "code",
   "execution_count": 273,
   "outputs": [],
   "source": [
    "test_df = pd.read_csv('../simulations/data/test_paths.csv')"
   ],
   "metadata": {
    "collapsed": false,
    "pycharm": {
     "name": "#%%\n"
    }
   }
  },
  {
   "cell_type": "code",
   "execution_count": 273,
   "outputs": [],
   "source": [],
   "metadata": {
    "collapsed": false,
    "pycharm": {
     "name": "#%%\n"
    }
   }
  },
  {
   "cell_type": "code",
   "execution_count": 274,
   "outputs": [],
   "source": [
    "test_x = test_df[test_df.columns[23:35]]\n",
    "\n",
    "test_y = test_df['enter-parking'].values"
   ],
   "metadata": {
    "collapsed": false,
    "pycharm": {
     "name": "#%%\n"
    }
   }
  },
  {
   "cell_type": "code",
   "execution_count": 275,
   "outputs": [
    {
     "name": "stdout",
     "output_type": "stream",
     "text": [
      "    latitude_8  longitude_8  altitude_relative_to_ground_8  latitude_9  \\\n",
      "0    36.110041  -115.140870                            0.0   36.110092   \n",
      "1    36.110038  -115.140415                            0.0   36.110073   \n",
      "2    36.110100  -115.140915                            0.0   36.110186   \n",
      "3    36.110127  -115.141243                            0.0   36.110148   \n",
      "4    36.110074  -115.139307                            0.0   36.110129   \n",
      "5    36.110194  -115.139266                            0.0   36.110245   \n",
      "6    36.109980  -115.140798                            0.0   36.110029   \n",
      "7    36.111008  -115.139515                            0.0   36.111076   \n",
      "8    36.111842  -115.141521                            0.0   36.111840   \n",
      "9    36.110157  -115.140513                            0.0   36.110201   \n",
      "10   36.109958  -115.140882                            0.0   36.110032   \n",
      "11   36.109916  -115.139202                            0.0   36.109967   \n",
      "12   36.110088  -115.141302                            0.0   36.110128   \n",
      "13   36.111020  -115.140844                            0.0   36.110888   \n",
      "14   36.110203  -115.140955                            0.0   36.110119   \n",
      "\n",
      "    longitude_9  altitude_relative_to_ground_9  latitude_10  longitude_10  \\\n",
      "0   -115.140858                            0.0    36.110144   -115.140830   \n",
      "1   -115.140457                            0.0    36.110115   -115.140496   \n",
      "2   -115.140927                            0.0    36.110267   -115.140935   \n",
      "3   -115.141147                            0.0    36.110173   -115.141084   \n",
      "4   -115.139312                            0.0    36.110185   -115.139319   \n",
      "5   -115.139286                            0.0    36.110304   -115.139320   \n",
      "6   -115.140769                            0.0    36.110090   -115.140750   \n",
      "7   -115.139532                            0.0    36.111134   -115.139535   \n",
      "8   -115.141432                            0.0    36.111840   -115.141354   \n",
      "9   -115.140555                            0.0    36.110255   -115.140634   \n",
      "10  -115.140892                            0.0    36.110108   -115.140925   \n",
      "11  -115.139205                            0.0    36.110015   -115.139208   \n",
      "12  -115.141229                            0.0    36.110147   -115.141126   \n",
      "13  -115.140850                            0.0    36.110790   -115.140864   \n",
      "14  -115.140921                            0.0    36.110032   -115.140892   \n",
      "\n",
      "    altitude_relative_to_ground_10  latitude_11  longitude_11  \\\n",
      "0                              0.0    36.110203   -115.140802   \n",
      "1                              0.0    36.110165   -115.140516   \n",
      "2                              0.0    36.110333   -115.140931   \n",
      "3                              0.0    36.110219   -115.141007   \n",
      "4                              0.0    36.110242   -115.139317   \n",
      "5                              0.0    36.110363   -115.139350   \n",
      "6                              0.0    36.110146   -115.140751   \n",
      "7                              0.0    36.111200   -115.139537   \n",
      "8                              0.0    36.111838   -115.141283   \n",
      "9                              0.0    36.110307   -115.140694   \n",
      "10                             0.0    36.110191   -115.140954   \n",
      "11                             0.0    36.110065   -115.139207   \n",
      "12                             0.0    36.110185   -115.141041   \n",
      "13                             0.0    36.110700   -115.140907   \n",
      "14                             0.0    36.109955   -115.140885   \n",
      "\n",
      "    altitude_relative_to_ground_11  \n",
      "0                              0.0  \n",
      "1                              0.0  \n",
      "2                              0.0  \n",
      "3                              0.0  \n",
      "4                              0.0  \n",
      "5                              0.0  \n",
      "6                              0.0  \n",
      "7                              0.0  \n",
      "8                              0.0  \n",
      "9                              0.0  \n",
      "10                             0.0  \n",
      "11                             0.0  \n",
      "12                             0.0  \n",
      "13                             0.0  \n",
      "14                             0.0  \n",
      "[1 1 1 1 1 1 1 1 1 0 0 0 0 0 0]\n"
     ]
    }
   ],
   "source": [
    "print(test_x)\n",
    "\n",
    "print(test_y)"
   ],
   "metadata": {
    "collapsed": false,
    "pycharm": {
     "name": "#%%\n"
    }
   }
  },
  {
   "cell_type": "code",
   "execution_count": 276,
   "outputs": [
    {
     "name": "stdout",
     "output_type": "stream",
     "text": [
      "WARNING:tensorflow:5 out of the last 13 calls to <function Model.make_predict_function.<locals>.predict_function at 0x7f0a8c498670> triggered tf.function retracing. Tracing is expensive and the excessive number of tracings could be due to (1) creating @tf.function repeatedly in a loop, (2) passing tensors with different shapes, (3) passing Python objects instead of tensors. For (1), please define your @tf.function outside of the loop. For (2), @tf.function has experimental_relax_shapes=True option that relaxes argument shapes that can avoid unnecessary retracing. For (3), please refer to https://www.tensorflow.org/guide/function#controlling_retracing and https://www.tensorflow.org/api_docs/python/tf/function for  more details.\n",
      "[[1]\n",
      " [1]\n",
      " [1]\n",
      " [1]\n",
      " [1]\n",
      " [1]\n",
      " [1]\n",
      " [1]\n",
      " [1]\n",
      " [1]\n",
      " [1]\n",
      " [1]\n",
      " [1]\n",
      " [1]\n",
      " [1]]\n"
     ]
    }
   ],
   "source": [
    "predictions = (model.predict(test_x) > 0.5).astype(\"int32\")\n",
    "\n",
    "print(predictions)"
   ],
   "metadata": {
    "collapsed": false,
    "pycharm": {
     "name": "#%%\n"
    }
   }
  },
  {
   "cell_type": "code",
   "execution_count": 277,
   "outputs": [
    {
     "name": "stdout",
     "output_type": "stream",
     "text": [
      "              precision    recall  f1-score   support\n",
      "\n",
      "           0       0.00      0.00      0.00         6\n",
      "           1       0.60      1.00      0.75         9\n",
      "\n",
      "    accuracy                           0.60        15\n",
      "   macro avg       0.30      0.50      0.37        15\n",
      "weighted avg       0.36      0.60      0.45        15\n",
      "\n"
     ]
    },
    {
     "name": "stderr",
     "output_type": "stream",
     "text": [
      "/home/mikey/PycharmProjects/smart-park/venv/lib/python3.8/site-packages/sklearn/metrics/_classification.py:1248: UndefinedMetricWarning: Precision and F-score are ill-defined and being set to 0.0 in labels with no predicted samples. Use `zero_division` parameter to control this behavior.\n",
      "  _warn_prf(average, modifier, msg_start, len(result))\n",
      "/home/mikey/PycharmProjects/smart-park/venv/lib/python3.8/site-packages/sklearn/metrics/_classification.py:1248: UndefinedMetricWarning: Precision and F-score are ill-defined and being set to 0.0 in labels with no predicted samples. Use `zero_division` parameter to control this behavior.\n",
      "  _warn_prf(average, modifier, msg_start, len(result))\n",
      "/home/mikey/PycharmProjects/smart-park/venv/lib/python3.8/site-packages/sklearn/metrics/_classification.py:1248: UndefinedMetricWarning: Precision and F-score are ill-defined and being set to 0.0 in labels with no predicted samples. Use `zero_division` parameter to control this behavior.\n",
      "  _warn_prf(average, modifier, msg_start, len(result))\n"
     ]
    }
   ],
   "source": [
    "print(classification_report(test_y, predictions))"
   ],
   "metadata": {
    "collapsed": false,
    "pycharm": {
     "name": "#%%\n"
    }
   }
  },
  {
   "cell_type": "code",
   "execution_count": 278,
   "outputs": [
    {
     "name": "stdout",
     "output_type": "stream",
     "text": [
      "[[0 6]\n",
      " [0 9]]\n"
     ]
    }
   ],
   "source": [
    "print(confusion_matrix(test_y, predictions))"
   ],
   "metadata": {
    "collapsed": false,
    "pycharm": {
     "name": "#%%\n"
    }
   }
  },
  {
   "cell_type": "code",
   "execution_count": 278,
   "outputs": [],
   "source": [],
   "metadata": {
    "collapsed": false,
    "pycharm": {
     "name": "#%%\n"
    }
   }
  }
 ],
 "metadata": {
  "kernelspec": {
   "display_name": "Python 3",
   "language": "python",
   "name": "python3"
  },
  "language_info": {
   "codemirror_mode": {
    "name": "ipython",
    "version": 2
   },
   "file_extension": ".py",
   "mimetype": "text/x-python",
   "name": "python",
   "nbconvert_exporter": "python",
   "pygments_lexer": "ipython2",
   "version": "2.7.6"
  }
 },
 "nbformat": 4,
 "nbformat_minor": 0
}