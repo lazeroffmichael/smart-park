{
 "cells": [
  {
   "cell_type": "markdown",
   "metadata": {
    "collapsed": true,
    "pycharm": {
     "name": "#%% md\n"
    }
   },
   "source": [
    "4 Coordinate Model"
   ]
  },
  {
   "cell_type": "code",
   "execution_count": 94,
   "outputs": [],
   "source": [
    "import pandas as pd\n",
    "import numpy as np\n",
    "import tensorflow as tf\n",
    "from matplotlib import pyplot as plt\n",
    "from tensorflow.keras.models import Sequential\n",
    "from tensorflow.keras.layers import Dense, Dropout\n",
    "from tensorflow.keras.callbacks import EarlyStopping\n",
    "from sklearn.preprocessing import MinMaxScaler\n",
    "from sklearn.model_selection import train_test_split\n",
    "from sklearn.metrics import classification_report, confusion_matrix\n",
    "from sklearn.utils import shuffle"
   ],
   "metadata": {
    "collapsed": false,
    "pycharm": {
     "name": "#%%\n"
    }
   }
  },
  {
   "cell_type": "code",
   "execution_count": 95,
   "outputs": [],
   "source": [
    "# get the main paths\n",
    "df = pd.read_csv('../simulations/data/small_trajectories.csv')"
   ],
   "metadata": {
    "collapsed": false,
    "pycharm": {
     "name": "#%%\n"
    }
   }
  },
  {
   "cell_type": "code",
   "execution_count": 96,
   "outputs": [
    {
     "name": "stdout",
     "output_type": "stream",
     "text": [
      "<class 'pandas.core.frame.DataFrame'>\n",
      "RangeIndex: 774 entries, 0 to 773\n",
      "Data columns (total 11 columns):\n",
      " #   Column         Non-Null Count  Dtype  \n",
      "---  ------         --------------  -----  \n",
      " 0   Unnamed: 0     774 non-null    int64  \n",
      " 1   name           774 non-null    object \n",
      " 2   latitude_1     774 non-null    float64\n",
      " 3   longitude_1    774 non-null    float64\n",
      " 4   latitude_2     774 non-null    float64\n",
      " 5   longitude_2    774 non-null    float64\n",
      " 6   latitude_3     774 non-null    float64\n",
      " 7   longitude_3    774 non-null    float64\n",
      " 8   latitude_4     774 non-null    float64\n",
      " 9   longitude_4    774 non-null    float64\n",
      " 10  enter-parking  774 non-null    int64  \n",
      "dtypes: float64(8), int64(2), object(1)\n",
      "memory usage: 66.6+ KB\n"
     ]
    }
   ],
   "source": [
    "df.info()"
   ],
   "metadata": {
    "collapsed": false,
    "pycharm": {
     "name": "#%%\n"
    }
   }
  },
  {
   "cell_type": "code",
   "execution_count": 97,
   "outputs": [
    {
     "data": {
      "text/plain": "   Unnamed: 0        name  latitude_1  longitude_1  latitude_2  longitude_2  \\\n0           0  1_C_Missed   36.111036  -115.140870   36.111097  -115.140867   \n1           1  2_C_Missed   36.111100  -115.140855   36.111163  -115.140871   \n2           2  3_C_Missed   36.111139  -115.140852   36.111204  -115.140903   \n3           3  4_C_Missed   36.111150  -115.140803   36.111172  -115.140846   \n4           4  5_C_Missed   36.111163  -115.140799   36.111186  -115.140848   \n\n   latitude_3  longitude_3  latitude_4  longitude_4  enter-parking  \n0   36.111147  -115.140876   36.111202  -115.140939              0  \n1   36.111207  -115.140928   36.111219  -115.141021              0  \n2   36.111226  -115.140946   36.111226  -115.141043              0  \n3   36.111204  -115.140902   36.111213  -115.141005              0  \n4   36.111205  -115.140909   36.111206  -115.141019              0  ",
      "text/html": "<div>\n<style scoped>\n    .dataframe tbody tr th:only-of-type {\n        vertical-align: middle;\n    }\n\n    .dataframe tbody tr th {\n        vertical-align: top;\n    }\n\n    .dataframe thead th {\n        text-align: right;\n    }\n</style>\n<table border=\"1\" class=\"dataframe\">\n  <thead>\n    <tr style=\"text-align: right;\">\n      <th></th>\n      <th>Unnamed: 0</th>\n      <th>name</th>\n      <th>latitude_1</th>\n      <th>longitude_1</th>\n      <th>latitude_2</th>\n      <th>longitude_2</th>\n      <th>latitude_3</th>\n      <th>longitude_3</th>\n      <th>latitude_4</th>\n      <th>longitude_4</th>\n      <th>enter-parking</th>\n    </tr>\n  </thead>\n  <tbody>\n    <tr>\n      <th>0</th>\n      <td>0</td>\n      <td>1_C_Missed</td>\n      <td>36.111036</td>\n      <td>-115.140870</td>\n      <td>36.111097</td>\n      <td>-115.140867</td>\n      <td>36.111147</td>\n      <td>-115.140876</td>\n      <td>36.111202</td>\n      <td>-115.140939</td>\n      <td>0</td>\n    </tr>\n    <tr>\n      <th>1</th>\n      <td>1</td>\n      <td>2_C_Missed</td>\n      <td>36.111100</td>\n      <td>-115.140855</td>\n      <td>36.111163</td>\n      <td>-115.140871</td>\n      <td>36.111207</td>\n      <td>-115.140928</td>\n      <td>36.111219</td>\n      <td>-115.141021</td>\n      <td>0</td>\n    </tr>\n    <tr>\n      <th>2</th>\n      <td>2</td>\n      <td>3_C_Missed</td>\n      <td>36.111139</td>\n      <td>-115.140852</td>\n      <td>36.111204</td>\n      <td>-115.140903</td>\n      <td>36.111226</td>\n      <td>-115.140946</td>\n      <td>36.111226</td>\n      <td>-115.141043</td>\n      <td>0</td>\n    </tr>\n    <tr>\n      <th>3</th>\n      <td>3</td>\n      <td>4_C_Missed</td>\n      <td>36.111150</td>\n      <td>-115.140803</td>\n      <td>36.111172</td>\n      <td>-115.140846</td>\n      <td>36.111204</td>\n      <td>-115.140902</td>\n      <td>36.111213</td>\n      <td>-115.141005</td>\n      <td>0</td>\n    </tr>\n    <tr>\n      <th>4</th>\n      <td>4</td>\n      <td>5_C_Missed</td>\n      <td>36.111163</td>\n      <td>-115.140799</td>\n      <td>36.111186</td>\n      <td>-115.140848</td>\n      <td>36.111205</td>\n      <td>-115.140909</td>\n      <td>36.111206</td>\n      <td>-115.141019</td>\n      <td>0</td>\n    </tr>\n  </tbody>\n</table>\n</div>"
     },
     "execution_count": 97,
     "metadata": {},
     "output_type": "execute_result"
    }
   ],
   "source": [
    "df.head()"
   ],
   "metadata": {
    "collapsed": false,
    "pycharm": {
     "name": "#%%\n"
    }
   }
  },
  {
   "cell_type": "code",
   "execution_count": 98,
   "outputs": [],
   "source": [
    "# Get The cordinates for x\n",
    "x = df[df.columns[2:10]]\n",
    "\n",
    "# Get the last coordinate\n",
    "y = df['enter-parking'].values"
   ],
   "metadata": {
    "collapsed": false,
    "pycharm": {
     "name": "#%%\n"
    }
   }
  },
  {
   "cell_type": "code",
   "execution_count": 99,
   "outputs": [
    {
     "name": "stdout",
     "output_type": "stream",
     "text": [
      "     latitude_1  longitude_1  latitude_2  longitude_2  latitude_3  \\\n",
      "0     36.111036  -115.140870   36.111097  -115.140867   36.111147   \n",
      "1     36.111100  -115.140855   36.111163  -115.140871   36.111207   \n",
      "2     36.111139  -115.140852   36.111204  -115.140903   36.111226   \n",
      "3     36.111150  -115.140803   36.111172  -115.140846   36.111204   \n",
      "4     36.111163  -115.140799   36.111186  -115.140848   36.111205   \n",
      "..          ...          ...         ...          ...         ...   \n",
      "769   36.111161  -115.139535   36.111236  -115.139535   36.111315   \n",
      "770   36.111226  -115.139536   36.111330  -115.139533   36.111435   \n",
      "771   36.111286  -115.139484   36.111358  -115.139513   36.111420   \n",
      "772   36.111307  -115.139465   36.111377  -115.139499   36.111440   \n",
      "773   36.111374  -115.139479   36.111418  -115.139508   36.111491   \n",
      "\n",
      "     longitude_3  latitude_4  longitude_4  \n",
      "0    -115.140876   36.111202  -115.140939  \n",
      "1    -115.140928   36.111219  -115.141021  \n",
      "2    -115.140946   36.111226  -115.141043  \n",
      "3    -115.140902   36.111213  -115.141005  \n",
      "4    -115.140909   36.111206  -115.141019  \n",
      "..           ...         ...          ...  \n",
      "769  -115.139545   36.111405  -115.139545  \n",
      "770  -115.139541   36.111509  -115.139548  \n",
      "771  -115.139538   36.111483  -115.139549  \n",
      "772  -115.139521   36.111514  -115.139521  \n",
      "773  -115.139538   36.111561  -115.139559  \n",
      "\n",
      "[774 rows x 8 columns]\n",
      "[0 0 0 0 0 0 0 0 0 0 0 0 0 0 0 0 0 0 0 0 0 0 0 0 0 0 0 0 0 0 0 0 0 0 0 0 0\n",
      " 0 0 0 0 0 0 0 0 0 0 0 0 0 0 0 0 0 0 0 0 0 0 0 0 0 0 0 0 0 0 0 0 0 0 0 0 0\n",
      " 0 0 0 0 0 0 0 0 0 0 0 0 0 0 0 0 0 0 0 0 0 0 0 0 0 0 0 0 0 0 0 0 0 0 0 0 0\n",
      " 0 0 0 0 0 0 0 0 0 0 0 0 0 0 0 0 0 0 0 0 0 0 0 0 0 0 0 0 0 0 0 0 0 0 0 0 0\n",
      " 0 0 0 0 0 0 0 0 0 0 0 0 0 0 0 0 0 0 0 0 0 0 0 0 0 0 0 0 0 0 0 0 0 0 0 0 0\n",
      " 0 0 0 0 0 0 0 0 0 0 0 0 0 0 0 0 0 0 0 0 0 0 0 0 0 0 0 0 0 0 0 0 0 0 0 0 0\n",
      " 0 0 0 0 0 0 0 0 0 0 0 0 0 0 0 0 0 0 0 0 0 0 0 0 0 0 0 0 0 0 0 0 0 0 0 0 0\n",
      " 0 0 0 0 0 0 0 0 0 0 0 0 0 0 0 0 0 0 0 0 0 0 0 0 0 0 0 0 0 0 0 0 0 0 0 0 0\n",
      " 0 0 0 0 0 0 0 0 0 0 0 0 0 0 0 0 0 0 0 0 0 0 0 0 0 0 0 0 0 0 0 0 0 0 0 0 0\n",
      " 0 0 0 0 0 0 0 0 0 0 0 0 0 0 0 0 0 0 0 0 0 0 0 0 0 0 0 0 0 0 0 0 0 0 0 0 1\n",
      " 1 1 1 1 1 1 1 1 1 1 1 1 1 1 1 1 1 1 1 1 1 1 1 1 1 1 1 1 1 1 1 1 1 1 1 1 1\n",
      " 1 1 1 1 1 1 1 1 1 1 1 1 1 1 1 1 1 1 1 1 1 1 1 1 1 1 1 1 1 1 1 1 1 1 1 1 1\n",
      " 1 1 1 1 1 1 1 1 1 1 1 1 1 1 1 1 1 1 1 1 1 1 1 1 1 1 1 1 1 1 1 1 1 1 1 1 1\n",
      " 1 1 1 1 1 1 1 1 1 1 1 1 1 1 1 1 1 1 1 1 1 1 1 1 1 1 1 1 1 1 1 1 1 1 1 1 1\n",
      " 1 1 1 1 1 1 1 1 1 1 1 1 1 1 1 1 1 1 1 1 1 1 1 1 1 1 1 1 1 1 1 1 1 1 1 1 1\n",
      " 1 1 1 1 1 1 1 1 1 1 1 1 1 1 1 1 1 1 1 1 1 1 1 1 1 1 1 1 1 1 1 1 1 1 1 1 1\n",
      " 1 1 1 1 1 1 1 1 1 1 1 1 1 1 1 1 1 1 1 1 1 1 1 1 1 1 1 1 1 1 1 1 1 1 1 1 1\n",
      " 1 1 1 1 1 1 1 1 1 1 1 1 1 1 1 1 1 1 1 1 1 1 1 1 1 1 1 1 1 1 1 1 1 1 1 1 1\n",
      " 1 1 1 1 1 1 1 1 1 1 1 1 1 1 1 1 1 1 1 1 1 1 1 1 1 1 1 1 1 1 1 1 1 1 1 1 1\n",
      " 1 1 1 1 1 1 1 1 1 1 1 1 1 1 1 1 1 1 1 1 1 1 1 1 1 1 1 1 1 1 1 1 1 1 1 1 1\n",
      " 1 1 1 1 1 1 1 1 1 1 1 1 1 1 1 1 1 1 1 1 1 1 1 1 1 1 1 1 1 1 1 1 1 1]\n"
     ]
    }
   ],
   "source": [
    "print(x)\n",
    "print(y)"
   ],
   "metadata": {
    "collapsed": false,
    "pycharm": {
     "name": "#%%\n"
    }
   }
  },
  {
   "cell_type": "code",
   "execution_count": 100,
   "outputs": [],
   "source": [
    "x_train, x_test, y_train, y_test = train_test_split(x, y, test_size=0.25, random_state=73)"
   ],
   "metadata": {
    "collapsed": false,
    "pycharm": {
     "name": "#%%\n"
    }
   }
  },
  {
   "cell_type": "code",
   "execution_count": 101,
   "outputs": [],
   "source": [
    "# Scale data\n",
    "scaler = MinMaxScaler()\n",
    "\n",
    "x_train = scaler.fit_transform(x_train)\n",
    "\n",
    "x_test = scaler.transform(x_test)"
   ],
   "metadata": {
    "collapsed": false,
    "pycharm": {
     "name": "#%%\n"
    }
   }
  },
  {
   "cell_type": "code",
   "execution_count": 102,
   "outputs": [
    {
     "data": {
      "text/plain": "(580, 8)"
     },
     "execution_count": 102,
     "metadata": {},
     "output_type": "execute_result"
    }
   ],
   "source": [
    "x_train.shape"
   ],
   "metadata": {
    "collapsed": false,
    "pycharm": {
     "name": "#%%\n"
    }
   }
  },
  {
   "cell_type": "code",
   "execution_count": 103,
   "outputs": [
    {
     "name": "stderr",
     "output_type": "stream",
     "text": [
      "/home/mikey/PycharmProjects/smart-park/venv/lib/python3.8/site-packages/tensorflow/python/keras/optimizer_v2/optimizer_v2.py:374: UserWarning: The `lr` argument is deprecated, use `learning_rate` instead.\n",
      "  warnings.warn(\n"
     ]
    }
   ],
   "source": [
    "early_stop = EarlyStopping(monitor='val_loss', mode='min', verbose=1, patience=15)\n",
    "\n",
    "# Model creation\n",
    "model = Sequential()\n",
    "\n",
    "# 8 neurons for input layer\n",
    "model.add(Dense(8, activation='relu'))\n",
    "\n",
    "model.add(Dense(6, activation='relu'))\n",
    "\n",
    "# Binary classification\n",
    "model.add(Dense(1, activation='sigmoid'))\n",
    "\n",
    "model.compile(loss='binary_crossentropy',\n",
    "              optimizer=tf.keras.optimizers.Adam(lr=0.01),\n",
    "              metrics=['accuracy'])"
   ],
   "metadata": {
    "collapsed": false,
    "pycharm": {
     "name": "#%%\n"
    }
   }
  },
  {
   "cell_type": "code",
   "execution_count": 104,
   "outputs": [
    {
     "name": "stdout",
     "output_type": "stream",
     "text": [
      "Epoch 1/200\n",
      "19/19 [==============================] - 1s 8ms/step - loss: 0.6896 - accuracy: 0.5207 - val_loss: 0.6848 - val_accuracy: 0.5515\b\b\b\b\b\b\b\b\b\b\b\b\b\b\b\b\b\b\b\b\b\b\b\b\b\b\b\b\b\b\b\b\b\b\b\b\n",
      "Epoch 2/200\n",
      "19/19 [==============================] - 0s 2ms/step - loss: 0.6836 - accuracy: 0.5569 - val_loss: 0.6806 - val_accuracy: 0.6340\b\b\b\b\b\b\b\b\b\b\b\b\b\b\b\b\b\b\b\b\b\b\b\b\b\b\b\b\b\b\b\b\b\b\b\b\n",
      "Epoch 3/200\n",
      "19/19 [==============================] - 0s 2ms/step - loss: 0.6810 - accuracy: 0.6052 - val_loss: 0.6828 - val_accuracy: 0.6082\b\b\b\b\b\b\b\b\b\b\b\b\b\b\b\b\b\b\b\b\b\b\b\b\b\b\b\b\b\b\b\b\b\b\b\b\n",
      "Epoch 4/200\n",
      "19/19 [==============================] - 0s 2ms/step - loss: 0.6726 - accuracy: 0.5966 - val_loss: 0.6651 - val_accuracy: 0.6237\b\b\b\b\b\b\b\b\b\b\b\b\b\b\b\b\b\b\b\b\b\b\b\b\b\b\b\b\b\b\b\b\b\b\b\b\n",
      "Epoch 5/200\n",
      "19/19 [==============================] - 0s 2ms/step - loss: 0.6531 - accuracy: 0.6379 - val_loss: 0.6325 - val_accuracy: 0.6443\b\b\b\b\b\b\b\b\b\b\b\b\b\b\b\b\b\b\b\b\b\b\b\b\b\b\b\b\b\b\b\b\b\b\b\b\n",
      "Epoch 6/200\n",
      "19/19 [==============================] - 0s 2ms/step - loss: 0.6186 - accuracy: 0.7000 - val_loss: 0.6080 - val_accuracy: 0.7062\b\b\b\b\b\b\b\b\b\b\b\b\b\b\b\b\b\b\b\b\b\b\b\b\b\b\b\b\b\b\b\b\b\b\b\b\n",
      "Epoch 7/200\n",
      "19/19 [==============================] - 0s 2ms/step - loss: 0.5949 - accuracy: 0.7138 - val_loss: 0.5741 - val_accuracy: 0.7216\b\b\b\b\b\b\b\b\b\b\b\b\b\b\b\b\b\b\b\b\b\b\b\b\b\b\b\b\b\b\b\b\b\b\b\b\n",
      "Epoch 8/200\n",
      "19/19 [==============================] - 0s 2ms/step - loss: 0.5705 - accuracy: 0.7345 - val_loss: 0.5624 - val_accuracy: 0.7577\b\b\b\b\b\b\b\b\b\b\b\b\b\b\b\b\b\b\b\b\b\b\b\b\b\b\b\b\b\b\b\b\b\b\b\b\n",
      "Epoch 9/200\n",
      "19/19 [==============================] - 0s 2ms/step - loss: 0.5544 - accuracy: 0.7276 - val_loss: 0.5526 - val_accuracy: 0.7526\b\b\b\b\b\b\b\b\b\b\b\b\b\b\b\b\b\b\b\b\b\b\b\b\b\b\b\b\b\b\b\b\b\b\b\b\n",
      "Epoch 10/200\n",
      "19/19 [==============================] - 0s 2ms/step - loss: 0.5481 - accuracy: 0.7190 - val_loss: 0.5437 - val_accuracy: 0.7526\b\b\b\b\b\b\b\b\b\b\b\b\b\b\b\b\b\b\b\b\b\b\b\b\b\b\b\b\b\b\b\b\b\b\b\b\n",
      "Epoch 11/200\n",
      "19/19 [==============================] - 0s 2ms/step - loss: 0.5279 - accuracy: 0.7707 - val_loss: 0.5124 - val_accuracy: 0.7784\b\b\b\b\b\b\b\b\b\b\b\b\b\b\b\b\b\b\b\b\b\b\b\b\b\b\b\b\b\b\b\b\b\b\b\b\n",
      "Epoch 12/200\n",
      "19/19 [==============================] - 0s 2ms/step - loss: 0.5137 - accuracy: 0.7569 - val_loss: 0.5019 - val_accuracy: 0.7526\b\b\b\b\b\b\b\b\b\b\b\b\b\b\b\b\b\b\b\b\b\b\b\b\b\b\b\b\b\b\b\b\b\b\b\b\n",
      "Epoch 13/200\n",
      "19/19 [==============================] - 0s 2ms/step - loss: 0.5066 - accuracy: 0.7690 - val_loss: 0.4871 - val_accuracy: 0.7732\b\b\b\b\b\b\b\b\b\b\b\b\b\b\b\b\b\b\b\b\b\b\b\b\b\b\b\b\b\b\b\b\b\b\b\b\n",
      "Epoch 14/200\n",
      "19/19 [==============================] - 0s 2ms/step - loss: 0.5485 - accuracy: 0.7069 - val_loss: 0.4698 - val_accuracy: 0.8093\b\b\b\b\b\b\b\b\b\b\b\b\b\b\b\b\b\b\b\b\b\b\b\b\b\b\b\b\b\b\b\b\b\b\b\b\n",
      "Epoch 15/200\n",
      "19/19 [==============================] - 0s 2ms/step - loss: 0.4731 - accuracy: 0.8121 - val_loss: 0.4563 - val_accuracy: 0.8144\b\b\b\b\b\b\b\b\b\b\b\b\b\b\b\b\b\b\b\b\b\b\b\b\b\b\b\b\b\b\b\b\b\b\b\b\n",
      "Epoch 16/200\n",
      "19/19 [==============================] - 0s 2ms/step - loss: 0.4632 - accuracy: 0.7983 - val_loss: 0.4428 - val_accuracy: 0.8351\b\b\b\b\b\b\b\b\b\b\b\b\b\b\b\b\b\b\b\b\b\b\b\b\b\b\b\b\b\b\b\b\b\b\b\b\n",
      "Epoch 17/200\n",
      "19/19 [==============================] - 0s 2ms/step - loss: 0.4341 - accuracy: 0.8448 - val_loss: 0.4339 - val_accuracy: 0.7784\b\b\b\b\b\b\b\b\b\b\b\b\b\b\b\b\b\b\b\b\b\b\b\b\b\b\b\b\b\b\b\b\b\b\b\b\n",
      "Epoch 18/200\n",
      "19/19 [==============================] - 0s 2ms/step - loss: 0.4200 - accuracy: 0.8328 - val_loss: 0.4029 - val_accuracy: 0.8608\b\b\b\b\b\b\b\b\b\b\b\b\b\b\b\b\b\b\b\b\b\b\b\b\b\b\b\b\b\b\b\b\b\b\b\b\n",
      "Epoch 19/200\n",
      "19/19 [==============================] - 0s 2ms/step - loss: 0.3979 - accuracy: 0.8707 - val_loss: 0.3938 - val_accuracy: 0.8557\b\b\b\b\b\b\b\b\b\b\b\b\b\b\b\b\b\b\b\b\b\b\b\b\b\b\b\b\b\b\b\b\b\b\b\b\n",
      "Epoch 20/200\n",
      "19/19 [==============================] - 0s 2ms/step - loss: 0.3799 - accuracy: 0.8690 - val_loss: 0.3660 - val_accuracy: 0.8557\b\b\b\b\b\b\b\b\b\b\b\b\b\b\b\b\b\b\b\b\b\b\b\b\b\b\b\b\b\b\b\b\b\b\b\b\n",
      "Epoch 21/200\n",
      "19/19 [==============================] - 0s 3ms/step - loss: 0.3702 - accuracy: 0.8707 - val_loss: 0.3716 - val_accuracy: 0.8608\b\b\b\b\b\b\b\b\b\b\b\b\b\b\b\b\b\b\b\b\b\b\b\b\b\b\b\b\b\b\b\b\b\b\b\b\n",
      "Epoch 22/200\n",
      "19/19 [==============================] - 0s 2ms/step - loss: 0.3586 - accuracy: 0.8741 - val_loss: 0.3701 - val_accuracy: 0.8351\b\b\b\b\b\b\b\b\b\b\b\b\b\b\b\b\b\b\b\b\b\b\b\b\b\b\b\b\b\b\b\b\b\b\b\b\n",
      "Epoch 23/200\n",
      "19/19 [==============================] - 0s 2ms/step - loss: 0.3451 - accuracy: 0.8741 - val_loss: 0.3581 - val_accuracy: 0.8814\b\b\b\b\b\b\b\b\b\b\b\b\b\b\b\b\b\b\b\b\b\b\b\b\b\b\b\b\b\b\b\b\b\b\b\b\n",
      "Epoch 24/200\n",
      "19/19 [==============================] - 0s 2ms/step - loss: 0.3385 - accuracy: 0.8879 - val_loss: 0.3601 - val_accuracy: 0.8711\b\b\b\b\b\b\b\b\b\b\b\b\b\b\b\b\b\b\b\b\b\b\b\b\b\b\b\b\b\b\b\b\b\b\b\b\n",
      "Epoch 25/200\n",
      "19/19 [==============================] - 0s 2ms/step - loss: 0.3451 - accuracy: 0.8638 - val_loss: 0.3257 - val_accuracy: 0.9021\b\b\b\b\b\b\b\b\b\b\b\b\b\b\b\b\b\b\b\b\b\b\b\b\b\b\b\b\b\b\b\b\b\b\b\b\n",
      "Epoch 26/200\n",
      "19/19 [==============================] - 0s 2ms/step - loss: 0.3128 - accuracy: 0.8828 - val_loss: 0.3672 - val_accuracy: 0.8557\b\b\b\b\b\b\b\b\b\b\b\b\b\b\b\b\b\b\b\b\b\b\b\b\b\b\b\b\b\b\b\b\b\b\b\b\n",
      "Epoch 27/200\n",
      "19/19 [==============================] - 0s 2ms/step - loss: 0.3303 - accuracy: 0.8741 - val_loss: 0.3164 - val_accuracy: 0.9072\b\b\b\b\b\b\b\b\b\b\b\b\b\b\b\b\b\b\b\b\b\b\b\b\b\b\b\b\b\b\b\b\b\b\b\b\n",
      "Epoch 28/200\n",
      "19/19 [==============================] - 0s 2ms/step - loss: 0.3176 - accuracy: 0.8810 - val_loss: 0.3146 - val_accuracy: 0.8763\b\b\b\b\b\b\b\b\b\b\b\b\b\b\b\b\b\b\b\b\b\b\b\b\b\b\b\b\b\b\b\b\b\b\b\b\n",
      "Epoch 29/200\n",
      "19/19 [==============================] - 0s 2ms/step - loss: 0.2961 - accuracy: 0.8862 - val_loss: 0.3092 - val_accuracy: 0.8918\b\b\b\b\b\b\b\b\b\b\b\b\b\b\b\b\b\b\b\b\b\b\b\b\b\b\b\b\b\b\b\b\b\b\b\b\n",
      "Epoch 30/200\n",
      "19/19 [==============================] - 0s 2ms/step - loss: 0.3218 - accuracy: 0.8810 - val_loss: 0.3049 - val_accuracy: 0.8711\b\b\b\b\b\b\b\b\b\b\b\b\b\b\b\b\b\b\b\b\b\b\b\b\b\b\b\b\b\b\b\b\b\b\b\b\n",
      "Epoch 31/200\n",
      "19/19 [==============================] - 0s 2ms/step - loss: 0.3005 - accuracy: 0.8672 - val_loss: 0.3064 - val_accuracy: 0.8918\b\b\b\b\b\b\b\b\b\b\b\b\b\b\b\b\b\b\b\b\b\b\b\b\b\b\b\b\b\b\b\b\b\b\b\b\n",
      "Epoch 32/200\n",
      "19/19 [==============================] - 0s 2ms/step - loss: 0.3318 - accuracy: 0.8534 - val_loss: 0.2846 - val_accuracy: 0.8763\b\b\b\b\b\b\b\b\b\b\b\b\b\b\b\b\b\b\b\b\b\b\b\b\b\b\b\b\b\b\b\b\b\b\b\b\n",
      "Epoch 33/200\n",
      "19/19 [==============================] - 0s 3ms/step - loss: 0.3613 - accuracy: 0.8483 - val_loss: 0.3343 - val_accuracy: 0.8660\b\b\b\b\b\b\b\b\b\b\b\b\b\b\b\b\b\b\b\b\b\b\b\b\b\b\b\b\b\b\b\b\b\b\b\b\n",
      "Epoch 34/200\n",
      "19/19 [==============================] - 0s 2ms/step - loss: 0.3214 - accuracy: 0.8500 - val_loss: 0.2843 - val_accuracy: 0.8866\b\b\b\b\b\b\b\b\b\b\b\b\b\b\b\b\b\b\b\b\b\b\b\b\b\b\b\b\b\b\b\b\b\b\b\b\n",
      "Epoch 35/200\n",
      "19/19 [==============================] - 0s 2ms/step - loss: 0.2741 - accuracy: 0.8966 - val_loss: 0.2914 - val_accuracy: 0.8711\b\b\b\b\b\b\b\b\b\b\b\b\b\b\b\b\b\b\b\b\b\b\b\b\b\b\b\b\b\b\b\b\b\b\b\b\n",
      "Epoch 36/200\n",
      "19/19 [==============================] - 0s 2ms/step - loss: 0.2702 - accuracy: 0.8931 - val_loss: 0.2751 - val_accuracy: 0.8918\b\b\b\b\b\b\b\b\b\b\b\b\b\b\b\b\b\b\b\b\b\b\b\b\b\b\b\b\b\b\b\b\b\b\b\b\n",
      "Epoch 37/200\n",
      "19/19 [==============================] - 0s 2ms/step - loss: 0.2808 - accuracy: 0.8810 - val_loss: 0.2806 - val_accuracy: 0.8969\b\b\b\b\b\b\b\b\b\b\b\b\b\b\b\b\b\b\b\b\b\b\b\b\b\b\b\b\b\b\b\b\b\b\b\b\n",
      "Epoch 38/200\n",
      "19/19 [==============================] - 0s 2ms/step - loss: 0.2518 - accuracy: 0.9000 - val_loss: 0.3253 - val_accuracy: 0.8763\b\b\b\b\b\b\b\b\b\b\b\b\b\b\b\b\b\b\b\b\b\b\b\b\b\b\b\b\b\b\b\b\b\b\b\b\n",
      "Epoch 39/200\n",
      "19/19 [==============================] - 0s 2ms/step - loss: 0.2627 - accuracy: 0.9000 - val_loss: 0.2649 - val_accuracy: 0.8969\b\b\b\b\b\b\b\b\b\b\b\b\b\b\b\b\b\b\b\b\b\b\b\b\b\b\b\b\b\b\b\b\b\b\b\b\n",
      "Epoch 40/200\n",
      "19/19 [==============================] - 0s 2ms/step - loss: 0.2646 - accuracy: 0.9017 - val_loss: 0.2763 - val_accuracy: 0.8866\b\b\b\b\b\b\b\b\b\b\b\b\b\b\b\b\b\b\b\b\b\b\b\b\b\b\b\b\b\b\b\b\b\b\b\b\n",
      "Epoch 41/200\n",
      "19/19 [==============================] - 0s 2ms/step - loss: 0.2781 - accuracy: 0.8862 - val_loss: 0.3019 - val_accuracy: 0.8711\b\b\b\b\b\b\b\b\b\b\b\b\b\b\b\b\b\b\b\b\b\b\b\b\b\b\b\b\b\b\b\b\b\b\b\b\n",
      "Epoch 42/200\n",
      "19/19 [==============================] - 0s 3ms/step - loss: 0.2605 - accuracy: 0.8966 - val_loss: 0.2723 - val_accuracy: 0.8814\b\b\b\b\b\b\b\b\b\b\b\b\b\b\b\b\b\b\b\b\b\b\b\b\b\b\b\b\b\b\b\b\b\b\b\b\n",
      "Epoch 43/200\n",
      "19/19 [==============================] - 0s 2ms/step - loss: 0.2584 - accuracy: 0.8931 - val_loss: 0.2756 - val_accuracy: 0.9021\b\b\b\b\b\b\b\b\b\b\b\b\b\b\b\b\b\b\b\b\b\b\b\b\b\b\b\b\b\b\b\b\b\b\b\b\n",
      "Epoch 44/200\n",
      "19/19 [==============================] - 0s 2ms/step - loss: 0.2515 - accuracy: 0.9121 - val_loss: 0.2766 - val_accuracy: 0.8814\b\b\b\b\b\b\b\b\b\b\b\b\b\b\b\b\b\b\b\b\b\b\b\b\b\b\b\b\b\b\b\b\b\b\b\b\n",
      "Epoch 45/200\n",
      "19/19 [==============================] - 0s 2ms/step - loss: 0.2459 - accuracy: 0.9017 - val_loss: 0.2924 - val_accuracy: 0.8763\b\b\b\b\b\b\b\b\b\b\b\b\b\b\b\b\b\b\b\b\b\b\b\b\b\b\b\b\b\b\b\b\b\b\b\b\n",
      "Epoch 46/200\n",
      "19/19 [==============================] - 0s 2ms/step - loss: 0.2450 - accuracy: 0.9052 - val_loss: 0.2396 - val_accuracy: 0.9021\b\b\b\b\b\b\b\b\b\b\b\b\b\b\b\b\b\b\b\b\b\b\b\b\b\b\b\b\b\b\b\b\b\b\b\b\n",
      "Epoch 47/200\n",
      "19/19 [==============================] - 0s 2ms/step - loss: 0.2153 - accuracy: 0.9241 - val_loss: 0.2506 - val_accuracy: 0.9021\b\b\b\b\b\b\b\b\b\b\b\b\b\b\b\b\b\b\b\b\b\b\b\b\b\b\b\b\b\b\b\b\b\b\b\b\n",
      "Epoch 48/200\n",
      "19/19 [==============================] - 0s 2ms/step - loss: 0.2447 - accuracy: 0.9017 - val_loss: 0.2599 - val_accuracy: 0.8969\b\b\b\b\b\b\b\b\b\b\b\b\b\b\b\b\b\b\b\b\b\b\b\b\b\b\b\b\b\b\b\b\b\b\b\b\n",
      "Epoch 49/200\n",
      "19/19 [==============================] - 0s 2ms/step - loss: 0.2354 - accuracy: 0.9155 - val_loss: 0.2611 - val_accuracy: 0.9021\b\b\b\b\b\b\b\b\b\b\b\b\b\b\b\b\b\b\b\b\b\b\b\b\b\b\b\b\b\b\b\b\b\b\b\b\n",
      "Epoch 50/200\n",
      "19/19 [==============================] - 0s 2ms/step - loss: 0.2253 - accuracy: 0.9000 - val_loss: 0.2288 - val_accuracy: 0.8969\b\b\b\b\b\b\b\b\b\b\b\b\b\b\b\b\b\b\b\b\b\b\b\b\b\b\b\b\b\b\b\b\b\b\b\b\n",
      "Epoch 51/200\n",
      "19/19 [==============================] - 0s 2ms/step - loss: 0.2165 - accuracy: 0.9190 - val_loss: 0.2436 - val_accuracy: 0.9021\b\b\b\b\b\b\b\b\b\b\b\b\b\b\b\b\b\b\b\b\b\b\b\b\b\b\b\b\b\b\b\b\b\b\b\b\n",
      "Epoch 52/200\n",
      "19/19 [==============================] - 0s 2ms/step - loss: 0.2384 - accuracy: 0.9069 - val_loss: 0.2305 - val_accuracy: 0.9175\b\b\b\b\b\b\b\b\b\b\b\b\b\b\b\b\b\b\b\b\b\b\b\b\b\b\b\b\b\b\b\b\b\b\b\b\n",
      "Epoch 53/200\n",
      "19/19 [==============================] - 0s 2ms/step - loss: 0.2104 - accuracy: 0.9155 - val_loss: 0.2099 - val_accuracy: 0.9072\b\b\b\b\b\b\b\b\b\b\b\b\b\b\b\b\b\b\b\b\b\b\b\b\b\b\b\b\b\b\b\b\b\b\b\b\n",
      "Epoch 54/200\n",
      "19/19 [==============================] - 0s 2ms/step - loss: 0.2149 - accuracy: 0.9121 - val_loss: 0.2215 - val_accuracy: 0.9124\b\b\b\b\b\b\b\b\b\b\b\b\b\b\b\b\b\b\b\b\b\b\b\b\b\b\b\b\b\b\b\b\b\b\b\b\n",
      "Epoch 55/200\n",
      "19/19 [==============================] - 0s 2ms/step - loss: 0.2155 - accuracy: 0.9052 - val_loss: 0.2187 - val_accuracy: 0.9175\b\b\b\b\b\b\b\b\b\b\b\b\b\b\b\b\b\b\b\b\b\b\b\b\b\b\b\b\b\b\b\b\b\b\b\b\n",
      "Epoch 56/200\n",
      "19/19 [==============================] - 0s 2ms/step - loss: 0.2140 - accuracy: 0.9155 - val_loss: 0.2083 - val_accuracy: 0.9227\b\b\b\b\b\b\b\b\b\b\b\b\b\b\b\b\b\b\b\b\b\b\b\b\b\b\b\b\b\b\b\b\b\b\b\b\n",
      "Epoch 57/200\n",
      "19/19 [==============================] - 0s 2ms/step - loss: 0.2291 - accuracy: 0.9034 - val_loss: 0.2386 - val_accuracy: 0.9072\b\b\b\b\b\b\b\b\b\b\b\b\b\b\b\b\b\b\b\b\b\b\b\b\b\b\b\b\b\b\b\b\b\b\b\b\n",
      "Epoch 58/200\n",
      "19/19 [==============================] - 0s 2ms/step - loss: 0.2789 - accuracy: 0.8759 - val_loss: 0.2500 - val_accuracy: 0.8814\b\b\b\b\b\b\b\b\b\b\b\b\b\b\b\b\b\b\b\b\b\b\b\b\b\b\b\b\b\b\b\b\b\b\b\b\n",
      "Epoch 59/200\n",
      "19/19 [==============================] - 0s 2ms/step - loss: 0.2360 - accuracy: 0.9017 - val_loss: 0.2154 - val_accuracy: 0.9072\b\b\b\b\b\b\b\b\b\b\b\b\b\b\b\b\b\b\b\b\b\b\b\b\b\b\b\b\b\b\b\b\b\b\b\b\n",
      "Epoch 60/200\n",
      "19/19 [==============================] - 0s 2ms/step - loss: 0.2930 - accuracy: 0.8741 - val_loss: 0.2729 - val_accuracy: 0.8763\b\b\b\b\b\b\b\b\b\b\b\b\b\b\b\b\b\b\b\b\b\b\b\b\b\b\b\b\b\b\b\b\b\b\b\b\n",
      "Epoch 61/200\n",
      "19/19 [==============================] - 0s 2ms/step - loss: 0.2523 - accuracy: 0.8897 - val_loss: 0.2470 - val_accuracy: 0.9021\b\b\b\b\b\b\b\b\b\b\b\b\b\b\b\b\b\b\b\b\b\b\b\b\b\b\b\b\b\b\b\b\b\b\b\b\n",
      "Epoch 62/200\n",
      "19/19 [==============================] - 0s 3ms/step - loss: 0.2552 - accuracy: 0.8931 - val_loss: 0.2151 - val_accuracy: 0.9124\b\b\b\b\b\b\b\b\b\b\b\b\b\b\b\b\b\b\b\b\b\b\b\b\b\b\b\b\b\b\b\b\b\b\b\b\n",
      "Epoch 63/200\n",
      "19/19 [==============================] - 0s 2ms/step - loss: 0.2281 - accuracy: 0.9017 - val_loss: 0.2304 - val_accuracy: 0.9175\b\b\b\b\b\b\b\b\b\b\b\b\b\b\b\b\b\b\b\b\b\b\b\b\b\b\b\b\b\b\b\b\b\b\b\b\n",
      "Epoch 64/200\n",
      "19/19 [==============================] - 0s 2ms/step - loss: 0.2231 - accuracy: 0.9121 - val_loss: 0.2914 - val_accuracy: 0.8763\b\b\b\b\b\b\b\b\b\b\b\b\b\b\b\b\b\b\b\b\b\b\b\b\b\b\b\b\b\b\b\b\b\b\b\b\n",
      "Epoch 65/200\n",
      "19/19 [==============================] - 0s 2ms/step - loss: 0.2069 - accuracy: 0.9190 - val_loss: 0.1963 - val_accuracy: 0.9175\b\b\b\b\b\b\b\b\b\b\b\b\b\b\b\b\b\b\b\b\b\b\b\b\b\b\b\b\b\b\b\b\b\b\b\b\n",
      "Epoch 66/200\n",
      "19/19 [==============================] - 0s 2ms/step - loss: 0.1961 - accuracy: 0.9207 - val_loss: 0.2033 - val_accuracy: 0.9124\b\b\b\b\b\b\b\b\b\b\b\b\b\b\b\b\b\b\b\b\b\b\b\b\b\b\b\b\b\b\b\b\b\b\b\b\n",
      "Epoch 67/200\n",
      "19/19 [==============================] - 0s 2ms/step - loss: 0.1918 - accuracy: 0.9259 - val_loss: 0.2272 - val_accuracy: 0.8969\b\b\b\b\b\b\b\b\b\b\b\b\b\b\b\b\b\b\b\b\b\b\b\b\b\b\b\b\b\b\b\b\b\b\b\b\n",
      "Epoch 68/200\n",
      "19/19 [==============================] - 0s 2ms/step - loss: 0.1897 - accuracy: 0.9259 - val_loss: 0.2179 - val_accuracy: 0.9175\b\b\b\b\b\b\b\b\b\b\b\b\b\b\b\b\b\b\b\b\b\b\b\b\b\b\b\b\b\b\b\b\b\b\b\b\n",
      "Epoch 69/200\n",
      "19/19 [==============================] - 0s 2ms/step - loss: 0.1905 - accuracy: 0.9224 - val_loss: 0.2361 - val_accuracy: 0.8866\b\b\b\b\b\b\b\b\b\b\b\b\b\b\b\b\b\b\b\b\b\b\b\b\b\b\b\b\b\b\b\b\b\b\b\b\n",
      "Epoch 70/200\n",
      "19/19 [==============================] - 0s 2ms/step - loss: 0.1800 - accuracy: 0.9259 - val_loss: 0.1964 - val_accuracy: 0.9124\b\b\b\b\b\b\b\b\b\b\b\b\b\b\b\b\b\b\b\b\b\b\b\b\b\b\b\b\b\b\b\b\b\b\b\b\n",
      "Epoch 71/200\n",
      "19/19 [==============================] - 0s 2ms/step - loss: 0.1962 - accuracy: 0.9276 - val_loss: 0.2148 - val_accuracy: 0.9175\b\b\b\b\b\b\b\b\b\b\b\b\b\b\b\b\b\b\b\b\b\b\b\b\b\b\b\b\b\b\b\b\b\b\b\b\n",
      "Epoch 72/200\n",
      "19/19 [==============================] - 0s 2ms/step - loss: 0.2090 - accuracy: 0.9121 - val_loss: 0.1916 - val_accuracy: 0.9175\b\b\b\b\b\b\b\b\b\b\b\b\b\b\b\b\b\b\b\b\b\b\b\b\b\b\b\b\b\b\b\b\b\b\b\b\n",
      "Epoch 73/200\n",
      "19/19 [==============================] - 0s 2ms/step - loss: 0.1990 - accuracy: 0.9241 - val_loss: 0.1939 - val_accuracy: 0.9227\b\b\b\b\b\b\b\b\b\b\b\b\b\b\b\b\b\b\b\b\b\b\b\b\b\b\b\b\b\b\b\b\b\b\b\b\n",
      "Epoch 74/200\n",
      "19/19 [==============================] - 0s 2ms/step - loss: 0.1852 - accuracy: 0.9276 - val_loss: 0.2687 - val_accuracy: 0.8814\b\b\b\b\b\b\b\b\b\b\b\b\b\b\b\b\b\b\b\b\b\b\b\b\b\b\b\b\b\b\b\b\b\b\b\b\n",
      "Epoch 75/200\n",
      "19/19 [==============================] - 0s 2ms/step - loss: 0.2005 - accuracy: 0.9155 - val_loss: 0.2079 - val_accuracy: 0.9124\b\b\b\b\b\b\b\b\b\b\b\b\b\b\b\b\b\b\b\b\b\b\b\b\b\b\b\b\b\b\b\b\b\b\b\b\n",
      "Epoch 76/200\n",
      "19/19 [==============================] - 0s 2ms/step - loss: 0.2087 - accuracy: 0.9034 - val_loss: 0.1978 - val_accuracy: 0.9072\b\b\b\b\b\b\b\b\b\b\b\b\b\b\b\b\b\b\b\b\b\b\b\b\b\b\b\b\b\b\b\b\b\b\b\b\n",
      "Epoch 77/200\n",
      "19/19 [==============================] - 0s 2ms/step - loss: 0.2053 - accuracy: 0.9190 - val_loss: 0.1779 - val_accuracy: 0.9433\b\b\b\b\b\b\b\b\b\b\b\b\b\b\b\b\b\b\b\b\b\b\b\b\b\b\b\b\b\b\b\b\b\b\b\b\n",
      "Epoch 78/200\n",
      "19/19 [==============================] - 0s 2ms/step - loss: 0.1791 - accuracy: 0.9276 - val_loss: 0.1826 - val_accuracy: 0.9227\b\b\b\b\b\b\b\b\b\b\b\b\b\b\b\b\b\b\b\b\b\b\b\b\b\b\b\b\b\b\b\b\b\b\b\b\n",
      "Epoch 79/200\n",
      "19/19 [==============================] - 0s 2ms/step - loss: 0.1730 - accuracy: 0.9310 - val_loss: 0.1714 - val_accuracy: 0.9330\b\b\b\b\b\b\b\b\b\b\b\b\b\b\b\b\b\b\b\b\b\b\b\b\b\b\b\b\b\b\b\b\b\b\b\b\n",
      "Epoch 80/200\n",
      "19/19 [==============================] - 0s 2ms/step - loss: 0.1662 - accuracy: 0.9328 - val_loss: 0.1897 - val_accuracy: 0.9278\b\b\b\b\b\b\b\b\b\b\b\b\b\b\b\b\b\b\b\b\b\b\b\b\b\b\b\b\b\b\b\b\b\b\b\b\n",
      "Epoch 81/200\n",
      "19/19 [==============================] - 0s 2ms/step - loss: 0.1963 - accuracy: 0.9190 - val_loss: 0.2265 - val_accuracy: 0.9175\b\b\b\b\b\b\b\b\b\b\b\b\b\b\b\b\b\b\b\b\b\b\b\b\b\b\b\b\b\b\b\b\b\b\b\b\n",
      "Epoch 82/200\n",
      "19/19 [==============================] - 0s 2ms/step - loss: 0.1790 - accuracy: 0.9310 - val_loss: 0.1899 - val_accuracy: 0.9381\b\b\b\b\b\b\b\b\b\b\b\b\b\b\b\b\b\b\b\b\b\b\b\b\b\b\b\b\b\b\b\b\b\b\b\b\n",
      "Epoch 83/200\n",
      "19/19 [==============================] - 0s 2ms/step - loss: 0.1820 - accuracy: 0.9310 - val_loss: 0.2342 - val_accuracy: 0.9124\b\b\b\b\b\b\b\b\b\b\b\b\b\b\b\b\b\b\b\b\b\b\b\b\b\b\b\b\b\b\b\b\b\b\b\b\n",
      "Epoch 84/200\n",
      "19/19 [==============================] - 0s 2ms/step - loss: 0.2277 - accuracy: 0.9103 - val_loss: 0.1902 - val_accuracy: 0.9227\b\b\b\b\b\b\b\b\b\b\b\b\b\b\b\b\b\b\b\b\b\b\b\b\b\b\b\b\b\b\b\b\b\b\b\b\n",
      "Epoch 85/200\n",
      "19/19 [==============================] - 0s 2ms/step - loss: 0.1861 - accuracy: 0.9328 - val_loss: 0.2406 - val_accuracy: 0.9021\b\b\b\b\b\b\b\b\b\b\b\b\b\b\b\b\b\b\b\b\b\b\b\b\b\b\b\b\b\b\b\b\b\b\b\b\n",
      "Epoch 86/200\n",
      "19/19 [==============================] - 0s 3ms/step - loss: 0.2539 - accuracy: 0.8845 - val_loss: 0.2429 - val_accuracy: 0.8918\b\b\b\b\b\b\b\b\b\b\b\b\b\b\b\b\b\b\b\b\b\b\b\b\b\b\b\b\b\b\b\b\b\b\b\b\n",
      "Epoch 87/200\n",
      "19/19 [==============================] - 0s 2ms/step - loss: 0.1900 - accuracy: 0.9138 - val_loss: 0.1949 - val_accuracy: 0.9330\b\b\b\b\b\b\b\b\b\b\b\b\b\b\b\b\b\b\b\b\b\b\b\b\b\b\b\b\b\b\b\b\b\b\b\b\n",
      "Epoch 88/200\n",
      "19/19 [==============================] - 0s 2ms/step - loss: 0.1902 - accuracy: 0.9241 - val_loss: 0.2327 - val_accuracy: 0.8918\b\b\b\b\b\b\b\b\b\b\b\b\b\b\b\b\b\b\b\b\b\b\b\b\b\b\b\b\b\b\b\b\b\b\b\b\n",
      "Epoch 89/200\n",
      "19/19 [==============================] - 0s 2ms/step - loss: 0.1880 - accuracy: 0.9276 - val_loss: 0.1667 - val_accuracy: 0.9381\b\b\b\b\b\b\b\b\b\b\b\b\b\b\b\b\b\b\b\b\b\b\b\b\b\b\b\b\b\b\b\b\b\b\b\b\n",
      "Epoch 90/200\n",
      "19/19 [==============================] - 0s 2ms/step - loss: 0.1588 - accuracy: 0.9431 - val_loss: 0.1871 - val_accuracy: 0.8969\b\b\b\b\b\b\b\b\b\b\b\b\b\b\b\b\b\b\b\b\b\b\b\b\b\b\b\b\b\b\b\b\b\b\b\b\n",
      "Epoch 91/200\n",
      "19/19 [==============================] - 0s 2ms/step - loss: 0.1620 - accuracy: 0.9328 - val_loss: 0.1754 - val_accuracy: 0.9278\b\b\b\b\b\b\b\b\b\b\b\b\b\b\b\b\b\b\b\b\b\b\b\b\b\b\b\b\b\b\b\b\b\b\b\b\n",
      "Epoch 92/200\n",
      "19/19 [==============================] - 0s 2ms/step - loss: 0.1585 - accuracy: 0.9328 - val_loss: 0.2005 - val_accuracy: 0.9021\b\b\b\b\b\b\b\b\b\b\b\b\b\b\b\b\b\b\b\b\b\b\b\b\b\b\b\b\b\b\b\b\b\b\b\b\n",
      "Epoch 93/200\n",
      "19/19 [==============================] - 0s 2ms/step - loss: 0.1713 - accuracy: 0.9310 - val_loss: 0.1840 - val_accuracy: 0.9330\b\b\b\b\b\b\b\b\b\b\b\b\b\b\b\b\b\b\b\b\b\b\b\b\b\b\b\b\b\b\b\b\b\b\b\b\n",
      "Epoch 94/200\n",
      "19/19 [==============================] - 0s 2ms/step - loss: 0.1555 - accuracy: 0.9345 - val_loss: 0.1749 - val_accuracy: 0.9278\b\b\b\b\b\b\b\b\b\b\b\b\b\b\b\b\b\b\b\b\b\b\b\b\b\b\b\b\b\b\b\b\b\b\b\b\n",
      "Epoch 95/200\n",
      "19/19 [==============================] - 0s 2ms/step - loss: 0.1744 - accuracy: 0.9448 - val_loss: 0.2035 - val_accuracy: 0.9175\b\b\b\b\b\b\b\b\b\b\b\b\b\b\b\b\b\b\b\b\b\b\b\b\b\b\b\b\b\b\b\b\b\b\b\b\n",
      "Epoch 96/200\n",
      "19/19 [==============================] - 0s 3ms/step - loss: 0.1817 - accuracy: 0.9276 - val_loss: 0.2354 - val_accuracy: 0.9021\b\b\b\b\b\b\b\b\b\b\b\b\b\b\b\b\b\b\b\b\b\b\b\b\b\b\b\b\b\b\b\b\b\b\b\b\n",
      "Epoch 97/200\n",
      "19/19 [==============================] - 0s 3ms/step - loss: 0.1831 - accuracy: 0.9345 - val_loss: 0.1974 - val_accuracy: 0.9124\b\b\b\b\b\b\b\b\b\b\b\b\b\b\b\b\b\b\b\b\b\b\b\b\b\b\b\b\b\b\b\b\b\b\b\b\n",
      "Epoch 98/200\n",
      "19/19 [==============================] - 0s 3ms/step - loss: 0.1726 - accuracy: 0.9362 - val_loss: 0.1607 - val_accuracy: 0.9381\b\b\b\b\b\b\b\b\b\b\b\b\b\b\b\b\b\b\b\b\b\b\b\b\b\b\b\b\b\b\b\b\b\b\b\b\n",
      "Epoch 99/200\n",
      "19/19 [==============================] - 0s 2ms/step - loss: 0.1734 - accuracy: 0.9310 - val_loss: 0.1918 - val_accuracy: 0.9072\b\b\b\b\b\b\b\b\b\b\b\b\b\b\b\b\b\b\b\b\b\b\b\b\b\b\b\b\b\b\b\b\b\b\b\b\n",
      "Epoch 100/200\n",
      "19/19 [==============================] - 0s 2ms/step - loss: 0.1781 - accuracy: 0.9310 - val_loss: 0.1821 - val_accuracy: 0.9227\b\b\b\b\b\b\b\b\b\b\b\b\b\b\b\b\b\b\b\b\b\b\b\b\b\b\b\b\b\b\b\b\b\b\b\b\n",
      "Epoch 101/200\n",
      "19/19 [==============================] - 0s 2ms/step - loss: 0.1610 - accuracy: 0.9345 - val_loss: 0.1771 - val_accuracy: 0.9227\b\b\b\b\b\b\b\b\b\b\b\b\b\b\b\b\b\b\b\b\b\b\b\b\b\b\b\b\b\b\b\b\b\b\b\b\n",
      "Epoch 102/200\n",
      "19/19 [==============================] - 0s 3ms/step - loss: 0.1564 - accuracy: 0.9431 - val_loss: 0.2133 - val_accuracy: 0.9072\b\b\b\b\b\b\b\b\b\b\b\b\b\b\b\b\b\b\b\b\b\b\b\b\b\b\b\b\b\b\b\b\b\b\b\b\n",
      "Epoch 103/200\n",
      "19/19 [==============================] - 0s 3ms/step - loss: 0.1895 - accuracy: 0.9293 - val_loss: 0.1700 - val_accuracy: 0.9330\b\b\b\b\b\b\b\b\b\b\b\b\b\b\b\b\b\b\b\b\b\b\b\b\b\b\b\b\b\b\b\b\b\b\b\b\n",
      "Epoch 104/200\n",
      "19/19 [==============================] - 0s 2ms/step - loss: 0.1536 - accuracy: 0.9397 - val_loss: 0.1515 - val_accuracy: 0.9381\b\b\b\b\b\b\b\b\b\b\b\b\b\b\b\b\b\b\b\b\b\b\b\b\b\b\b\b\b\b\b\b\b\b\b\b\n",
      "Epoch 105/200\n",
      "19/19 [==============================] - 0s 2ms/step - loss: 0.1520 - accuracy: 0.9466 - val_loss: 0.1569 - val_accuracy: 0.9381\b\b\b\b\b\b\b\b\b\b\b\b\b\b\b\b\b\b\b\b\b\b\b\b\b\b\b\b\b\b\b\b\b\b\b\b\n",
      "Epoch 106/200\n",
      "19/19 [==============================] - 0s 2ms/step - loss: 0.1491 - accuracy: 0.9483 - val_loss: 0.1523 - val_accuracy: 0.9381\b\b\b\b\b\b\b\b\b\b\b\b\b\b\b\b\b\b\b\b\b\b\b\b\b\b\b\b\b\b\b\b\b\b\b\b\n",
      "Epoch 107/200\n",
      "19/19 [==============================] - 0s 2ms/step - loss: 0.1493 - accuracy: 0.9414 - val_loss: 0.2003 - val_accuracy: 0.9175\b\b\b\b\b\b\b\b\b\b\b\b\b\b\b\b\b\b\b\b\b\b\b\b\b\b\b\b\b\b\b\b\b\b\b\b\n",
      "Epoch 108/200\n",
      "19/19 [==============================] - 0s 2ms/step - loss: 0.1871 - accuracy: 0.9293 - val_loss: 0.1792 - val_accuracy: 0.9381\b\b\b\b\b\b\b\b\b\b\b\b\b\b\b\b\b\b\b\b\b\b\b\b\b\b\b\b\b\b\b\b\b\b\b\b\n",
      "Epoch 109/200\n",
      "19/19 [==============================] - 0s 2ms/step - loss: 0.1463 - accuracy: 0.9414 - val_loss: 0.1664 - val_accuracy: 0.9485\b\b\b\b\b\b\b\b\b\b\b\b\b\b\b\b\b\b\b\b\b\b\b\b\b\b\b\b\b\b\b\b\b\b\b\b\n",
      "Epoch 110/200\n",
      "19/19 [==============================] - 0s 2ms/step - loss: 0.1457 - accuracy: 0.9466 - val_loss: 0.1490 - val_accuracy: 0.9381\b\b\b\b\b\b\b\b\b\b\b\b\b\b\b\b\b\b\b\b\b\b\b\b\b\b\b\b\b\b\b\b\b\b\b\b\n",
      "Epoch 111/200\n",
      "19/19 [==============================] - 0s 2ms/step - loss: 0.1663 - accuracy: 0.9362 - val_loss: 0.2821 - val_accuracy: 0.8660\b\b\b\b\b\b\b\b\b\b\b\b\b\b\b\b\b\b\b\b\b\b\b\b\b\b\b\b\b\b\b\b\b\b\b\b\n",
      "Epoch 112/200\n",
      "19/19 [==============================] - 0s 2ms/step - loss: 0.1807 - accuracy: 0.9310 - val_loss: 0.1517 - val_accuracy: 0.9227\b\b\b\b\b\b\b\b\b\b\b\b\b\b\b\b\b\b\b\b\b\b\b\b\b\b\b\b\b\b\b\b\b\b\b\b\n",
      "Epoch 113/200\n",
      "19/19 [==============================] - 0s 4ms/step - loss: 0.1468 - accuracy: 0.9448 - val_loss: 0.1624 - val_accuracy: 0.9433\b\b\b\b\b\b\b\b\b\b\b\b\b\b\b\b\b\b\b\b\b\b\b\b\b\b\b\b\b\b\b\b\b\b\b\b\n",
      "Epoch 114/200\n",
      "19/19 [==============================] - 0s 2ms/step - loss: 0.2521 - accuracy: 0.8983 - val_loss: 0.1656 - val_accuracy: 0.9330\b\b\b\b\b\b\b\b\b\b\b\b\b\b\b\b\b\b\b\b\b\b\b\b\b\b\b\b\b\b\b\b\b\b\b\b\n",
      "Epoch 115/200\n",
      "19/19 [==============================] - 0s 2ms/step - loss: 0.1619 - accuracy: 0.9379 - val_loss: 0.1576 - val_accuracy: 0.9330\b\b\b\b\b\b\b\b\b\b\b\b\b\b\b\b\b\b\b\b\b\b\b\b\b\b\b\b\b\b\b\b\b\b\b\b\n",
      "Epoch 116/200\n",
      "19/19 [==============================] - 0s 2ms/step - loss: 0.1506 - accuracy: 0.9379 - val_loss: 0.1588 - val_accuracy: 0.9433\b\b\b\b\b\b\b\b\b\b\b\b\b\b\b\b\b\b\b\b\b\b\b\b\b\b\b\b\b\b\b\b\b\b\b\b\n",
      "Epoch 117/200\n",
      "19/19 [==============================] - 0s 3ms/step - loss: 0.1452 - accuracy: 0.9448 - val_loss: 0.1434 - val_accuracy: 0.9330\b\b\b\b\b\b\b\b\b\b\b\b\b\b\b\b\b\b\b\b\b\b\b\b\b\b\b\b\b\b\b\b\b\b\b\b\n",
      "Epoch 118/200\n",
      "19/19 [==============================] - 0s 2ms/step - loss: 0.1479 - accuracy: 0.9483 - val_loss: 0.1399 - val_accuracy: 0.9536\b\b\b\b\b\b\b\b\b\b\b\b\b\b\b\b\b\b\b\b\b\b\b\b\b\b\b\b\b\b\b\b\b\b\b\b\n",
      "Epoch 119/200\n",
      "19/19 [==============================] - 0s 3ms/step - loss: 0.1457 - accuracy: 0.9500 - val_loss: 0.1907 - val_accuracy: 0.8969\b\b\b\b\b\b\b\b\b\b\b\b\b\b\b\b\b\b\b\b\b\b\b\b\b\b\b\b\b\b\b\b\b\b\b\b\n",
      "Epoch 120/200\n",
      "19/19 [==============================] - 0s 2ms/step - loss: 0.1406 - accuracy: 0.9397 - val_loss: 0.1745 - val_accuracy: 0.9227\b\b\b\b\b\b\b\b\b\b\b\b\b\b\b\b\b\b\b\b\b\b\b\b\b\b\b\b\b\b\b\b\b\b\b\b\n",
      "Epoch 121/200\n",
      "19/19 [==============================] - 0s 2ms/step - loss: 0.1623 - accuracy: 0.9379 - val_loss: 0.1776 - val_accuracy: 0.9072\b\b\b\b\b\b\b\b\b\b\b\b\b\b\b\b\b\b\b\b\b\b\b\b\b\b\b\b\b\b\b\b\b\b\b\b\n",
      "Epoch 122/200\n",
      "19/19 [==============================] - 0s 2ms/step - loss: 0.1545 - accuracy: 0.9379 - val_loss: 0.1355 - val_accuracy: 0.9485\b\b\b\b\b\b\b\b\b\b\b\b\b\b\b\b\b\b\b\b\b\b\b\b\b\b\b\b\b\b\b\b\b\b\b\b\n",
      "Epoch 123/200\n",
      "19/19 [==============================] - 0s 2ms/step - loss: 0.1564 - accuracy: 0.9466 - val_loss: 0.2575 - val_accuracy: 0.8866\b\b\b\b\b\b\b\b\b\b\b\b\b\b\b\b\b\b\b\b\b\b\b\b\b\b\b\b\b\b\b\b\b\b\b\b\n",
      "Epoch 124/200\n",
      "19/19 [==============================] - 0s 3ms/step - loss: 0.1533 - accuracy: 0.9345 - val_loss: 0.1765 - val_accuracy: 0.9227\b\b\b\b\b\b\b\b\b\b\b\b\b\b\b\b\b\b\b\b\b\b\b\b\b\b\b\b\b\b\b\b\b\b\b\b\n",
      "Epoch 125/200\n",
      "19/19 [==============================] - 0s 2ms/step - loss: 0.1293 - accuracy: 0.9483 - val_loss: 0.1417 - val_accuracy: 0.9433\b\b\b\b\b\b\b\b\b\b\b\b\b\b\b\b\b\b\b\b\b\b\b\b\b\b\b\b\b\b\b\b\b\b\b\b\n",
      "Epoch 126/200\n",
      "19/19 [==============================] - 0s 3ms/step - loss: 0.1425 - accuracy: 0.9483 - val_loss: 0.2096 - val_accuracy: 0.8969\b\b\b\b\b\b\b\b\b\b\b\b\b\b\b\b\b\b\b\b\b\b\b\b\b\b\b\b\b\b\b\b\b\b\b\b\n",
      "Epoch 127/200\n",
      "19/19 [==============================] - 0s 2ms/step - loss: 0.1783 - accuracy: 0.9190 - val_loss: 0.1375 - val_accuracy: 0.9433\b\b\b\b\b\b\b\b\b\b\b\b\b\b\b\b\b\b\b\b\b\b\b\b\b\b\b\b\b\b\b\b\b\b\b\b\n",
      "Epoch 128/200\n",
      "19/19 [==============================] - 0s 2ms/step - loss: 0.1985 - accuracy: 0.9259 - val_loss: 0.2015 - val_accuracy: 0.9021\b\b\b\b\b\b\b\b\b\b\b\b\b\b\b\b\b\b\b\b\b\b\b\b\b\b\b\b\b\b\b\b\b\b\b\b\n",
      "Epoch 129/200\n",
      "19/19 [==============================] - 0s 3ms/step - loss: 0.1752 - accuracy: 0.9328 - val_loss: 0.1449 - val_accuracy: 0.9227\b\b\b\b\b\b\b\b\b\b\b\b\b\b\b\b\b\b\b\b\b\b\b\b\b\b\b\b\b\b\b\b\b\b\b\b\n",
      "Epoch 130/200\n",
      "19/19 [==============================] - 0s 2ms/step - loss: 0.1224 - accuracy: 0.9569 - val_loss: 0.1292 - val_accuracy: 0.9536\b\b\b\b\b\b\b\b\b\b\b\b\b\b\b\b\b\b\b\b\b\b\b\b\b\b\b\b\b\b\b\b\b\b\b\b\n",
      "Epoch 131/200\n",
      "19/19 [==============================] - 0s 2ms/step - loss: 0.1694 - accuracy: 0.9362 - val_loss: 0.1820 - val_accuracy: 0.9072\b\b\b\b\b\b\b\b\b\b\b\b\b\b\b\b\b\b\b\b\b\b\b\b\b\b\b\b\b\b\b\b\b\b\b\b\n",
      "Epoch 132/200\n",
      "19/19 [==============================] - 0s 2ms/step - loss: 0.1689 - accuracy: 0.9328 - val_loss: 0.1392 - val_accuracy: 0.9485\b\b\b\b\b\b\b\b\b\b\b\b\b\b\b\b\b\b\b\b\b\b\b\b\b\b\b\b\b\b\b\b\b\b\b\b\n",
      "Epoch 133/200\n",
      "19/19 [==============================] - 0s 2ms/step - loss: 0.1496 - accuracy: 0.9345 - val_loss: 0.1716 - val_accuracy: 0.9175\b\b\b\b\b\b\b\b\b\b\b\b\b\b\b\b\b\b\b\b\b\b\b\b\b\b\b\b\b\b\b\b\b\b\b\b\n",
      "Epoch 134/200\n",
      "19/19 [==============================] - 0s 2ms/step - loss: 0.1523 - accuracy: 0.9362 - val_loss: 0.1580 - val_accuracy: 0.9330\b\b\b\b\b\b\b\b\b\b\b\b\b\b\b\b\b\b\b\b\b\b\b\b\b\b\b\b\b\b\b\b\b\b\b\b\n",
      "Epoch 135/200\n",
      "19/19 [==============================] - 0s 2ms/step - loss: 0.1539 - accuracy: 0.9276 - val_loss: 0.1732 - val_accuracy: 0.9072\b\b\b\b\b\b\b\b\b\b\b\b\b\b\b\b\b\b\b\b\b\b\b\b\b\b\b\b\b\b\b\b\b\b\b\b\n",
      "Epoch 136/200\n",
      "19/19 [==============================] - 0s 2ms/step - loss: 0.1344 - accuracy: 0.9500 - val_loss: 0.1234 - val_accuracy: 0.9536\b\b\b\b\b\b\b\b\b\b\b\b\b\b\b\b\b\b\b\b\b\b\b\b\b\b\b\b\b\b\b\b\b\b\b\b\n",
      "Epoch 137/200\n",
      "19/19 [==============================] - 0s 2ms/step - loss: 0.1119 - accuracy: 0.9586 - val_loss: 0.1482 - val_accuracy: 0.9278\b\b\b\b\b\b\b\b\b\b\b\b\b\b\b\b\b\b\b\b\b\b\b\b\b\b\b\b\b\b\b\b\b\b\b\b\n",
      "Epoch 138/200\n",
      "19/19 [==============================] - 0s 3ms/step - loss: 0.1213 - accuracy: 0.9552 - val_loss: 0.1359 - val_accuracy: 0.9433\b\b\b\b\b\b\b\b\b\b\b\b\b\b\b\b\b\b\b\b\b\b\b\b\b\b\b\b\b\b\b\b\b\b\b\b\n",
      "Epoch 139/200\n",
      "19/19 [==============================] - 0s 2ms/step - loss: 0.1220 - accuracy: 0.9534 - val_loss: 0.1539 - val_accuracy: 0.9278\b\b\b\b\b\b\b\b\b\b\b\b\b\b\b\b\b\b\b\b\b\b\b\b\b\b\b\b\b\b\b\b\b\b\b\b\n",
      "Epoch 140/200\n",
      "19/19 [==============================] - 0s 2ms/step - loss: 0.1223 - accuracy: 0.9517 - val_loss: 0.1571 - val_accuracy: 0.9381\b\b\b\b\b\b\b\b\b\b\b\b\b\b\b\b\b\b\b\b\b\b\b\b\b\b\b\b\b\b\b\b\b\b\b\b\n",
      "Epoch 141/200\n",
      "19/19 [==============================] - 0s 2ms/step - loss: 0.1200 - accuracy: 0.9569 - val_loss: 0.1371 - val_accuracy: 0.9485\b\b\b\b\b\b\b\b\b\b\b\b\b\b\b\b\b\b\b\b\b\b\b\b\b\b\b\b\b\b\b\b\b\b\b\b\n",
      "Epoch 142/200\n",
      "19/19 [==============================] - 0s 2ms/step - loss: 0.1228 - accuracy: 0.9517 - val_loss: 0.1408 - val_accuracy: 0.9330\b\b\b\b\b\b\b\b\b\b\b\b\b\b\b\b\b\b\b\b\b\b\b\b\b\b\b\b\b\b\b\b\b\b\b\b\n",
      "Epoch 143/200\n",
      "19/19 [==============================] - 0s 3ms/step - loss: 0.1480 - accuracy: 0.9379 - val_loss: 0.1420 - val_accuracy: 0.9433\b\b\b\b\b\b\b\b\b\b\b\b\b\b\b\b\b\b\b\b\b\b\b\b\b\b\b\b\b\b\b\b\b\b\b\b\n",
      "Epoch 144/200\n",
      "19/19 [==============================] - 0s 2ms/step - loss: 0.1193 - accuracy: 0.9517 - val_loss: 0.1232 - val_accuracy: 0.9485\b\b\b\b\b\b\b\b\b\b\b\b\b\b\b\b\b\b\b\b\b\b\b\b\b\b\b\b\b\b\b\b\b\b\b\b\n",
      "Epoch 145/200\n",
      "19/19 [==============================] - 0s 2ms/step - loss: 0.1410 - accuracy: 0.9345 - val_loss: 0.1542 - val_accuracy: 0.9330\b\b\b\b\b\b\b\b\b\b\b\b\b\b\b\b\b\b\b\b\b\b\b\b\b\b\b\b\b\b\b\b\b\b\b\b\n",
      "Epoch 146/200\n",
      "19/19 [==============================] - 0s 2ms/step - loss: 0.1201 - accuracy: 0.9552 - val_loss: 0.1368 - val_accuracy: 0.9278\b\b\b\b\b\b\b\b\b\b\b\b\b\b\b\b\b\b\b\b\b\b\b\b\b\b\b\b\b\b\b\b\b\b\b\b\n",
      "Epoch 147/200\n",
      "19/19 [==============================] - 0s 2ms/step - loss: 0.1422 - accuracy: 0.9379 - val_loss: 0.2083 - val_accuracy: 0.9072\b\b\b\b\b\b\b\b\b\b\b\b\b\b\b\b\b\b\b\b\b\b\b\b\b\b\b\b\b\b\b\b\b\b\b\b\n",
      "Epoch 148/200\n",
      "19/19 [==============================] - 0s 3ms/step - loss: 0.1592 - accuracy: 0.9397 - val_loss: 0.1386 - val_accuracy: 0.9485\b\b\b\b\b\b\b\b\b\b\b\b\b\b\b\b\b\b\b\b\b\b\b\b\b\b\b\b\b\b\b\b\b\b\b\b\n",
      "Epoch 149/200\n",
      "19/19 [==============================] - 0s 2ms/step - loss: 0.1274 - accuracy: 0.9483 - val_loss: 0.1302 - val_accuracy: 0.9536\b\b\b\b\b\b\b\b\b\b\b\b\b\b\b\b\b\b\b\b\b\b\b\b\b\b\b\b\b\b\b\b\b\b\b\b\n",
      "Epoch 150/200\n",
      "19/19 [==============================] - 0s 2ms/step - loss: 0.1987 - accuracy: 0.9121 - val_loss: 0.1317 - val_accuracy: 0.9433\b\b\b\b\b\b\b\b\b\b\b\b\b\b\b\b\b\b\b\b\b\b\b\b\b\b\b\b\b\b\b\b\b\b\b\b\n",
      "Epoch 151/200\n",
      "19/19 [==============================] - 0s 2ms/step - loss: 0.1254 - accuracy: 0.9466 - val_loss: 0.1714 - val_accuracy: 0.9227\b\b\b\b\b\b\b\b\b\b\b\b\b\b\b\b\b\b\b\b\b\b\b\b\b\b\b\b\b\b\b\b\b\b\b\b\n",
      "Epoch 152/200\n",
      "19/19 [==============================] - 0s 2ms/step - loss: 0.1230 - accuracy: 0.9552 - val_loss: 0.1316 - val_accuracy: 0.9330\b\b\b\b\b\b\b\b\b\b\b\b\b\b\b\b\b\b\b\b\b\b\b\b\b\b\b\b\b\b\b\b\b\b\b\b\n",
      "Epoch 153/200\n",
      "19/19 [==============================] - 0s 3ms/step - loss: 0.1099 - accuracy: 0.9586 - val_loss: 0.1295 - val_accuracy: 0.9536\b\b\b\b\b\b\b\b\b\b\b\b\b\b\b\b\b\b\b\b\b\b\b\b\b\b\b\b\b\b\b\b\b\b\b\b\n",
      "Epoch 154/200\n",
      "19/19 [==============================] - 0s 2ms/step - loss: 0.1454 - accuracy: 0.9448 - val_loss: 0.1475 - val_accuracy: 0.9433\b\b\b\b\b\b\b\b\b\b\b\b\b\b\b\b\b\b\b\b\b\b\b\b\b\b\b\b\b\b\b\b\b\b\b\b\n",
      "Epoch 155/200\n",
      "19/19 [==============================] - 0s 2ms/step - loss: 0.1613 - accuracy: 0.9276 - val_loss: 0.1427 - val_accuracy: 0.9485\b\b\b\b\b\b\b\b\b\b\b\b\b\b\b\b\b\b\b\b\b\b\b\b\b\b\b\b\b\b\b\b\b\b\b\b\n",
      "Epoch 156/200\n",
      "19/19 [==============================] - 0s 2ms/step - loss: 0.1499 - accuracy: 0.9379 - val_loss: 0.1233 - val_accuracy: 0.9536\b\b\b\b\b\b\b\b\b\b\b\b\b\b\b\b\b\b\b\b\b\b\b\b\b\b\b\b\b\b\b\b\b\b\b\b\n",
      "Epoch 157/200\n",
      "19/19 [==============================] - 0s 3ms/step - loss: 0.1360 - accuracy: 0.9483 - val_loss: 0.1495 - val_accuracy: 0.9278\b\b\b\b\b\b\b\b\b\b\b\b\b\b\b\b\b\b\b\b\b\b\b\b\b\b\b\b\b\b\b\b\b\b\b\b\n",
      "Epoch 158/200\n",
      "19/19 [==============================] - 0s 2ms/step - loss: 0.1189 - accuracy: 0.9552 - val_loss: 0.1556 - val_accuracy: 0.9330\b\b\b\b\b\b\b\b\b\b\b\b\b\b\b\b\b\b\b\b\b\b\b\b\b\b\b\b\b\b\b\b\b\b\b\b\n",
      "Epoch 159/200\n",
      "19/19 [==============================] - 0s 2ms/step - loss: 0.1293 - accuracy: 0.9448 - val_loss: 0.2099 - val_accuracy: 0.9021\b\b\b\b\b\b\b\b\b\b\b\b\b\b\b\b\b\b\b\b\b\b\b\b\b\b\b\b\b\b\b\b\b\b\b\b\n",
      "Epoch 00159: early stopping\n"
     ]
    }
   ],
   "source": [
    "history = model.fit(x=x_train,\n",
    "                    y=y_train,\n",
    "                    epochs=200,\n",
    "                    validation_data=(x_test, y_test),\n",
    "                    callbacks=early_stop,\n",
    "                    shuffle=True)"
   ],
   "metadata": {
    "collapsed": false,
    "pycharm": {
     "name": "#%%\n"
    }
   }
  },
  {
   "cell_type": "code",
   "execution_count": 105,
   "outputs": [],
   "source": [
    "losses = pd.DataFrame(model.history.history)"
   ],
   "metadata": {
    "collapsed": false,
    "pycharm": {
     "name": "#%%\n"
    }
   }
  },
  {
   "cell_type": "code",
   "execution_count": 106,
   "outputs": [
    {
     "data": {
      "text/plain": "dict_keys(['loss', 'accuracy', 'val_loss', 'val_accuracy'])"
     },
     "execution_count": 106,
     "metadata": {},
     "output_type": "execute_result"
    }
   ],
   "source": [
    "history.history.keys()"
   ],
   "metadata": {
    "collapsed": false,
    "pycharm": {
     "name": "#%%\n"
    }
   }
  },
  {
   "cell_type": "code",
   "execution_count": 107,
   "outputs": [
    {
     "data": {
      "text/plain": "<Figure size 432x288 with 1 Axes>",
      "image/png": "[encoded data removed]"
     },
     "metadata": {
      "needs_background": "light"
     },
     "output_type": "display_data"
    }
   ],
   "source": [
    "# Plot accuracy\n",
    "plt.plot(history.history['accuracy'])\n",
    "plt.plot(history.history['val_accuracy'])\n",
    "plt.title('Model Accuracy')\n",
    "plt.ylabel('accuracy')\n",
    "plt.xlabel('epoch')\n",
    "plt.legend(['train', 'val'], loc='upper left')\n",
    "plt.show()"
   ],
   "metadata": {
    "collapsed": false,
    "pycharm": {
     "name": "#%%\n"
    }
   }
  },
  {
   "cell_type": "code",
   "execution_count": 108,
   "outputs": [
    {
     "data": {
      "text/plain": "<Figure size 432x288 with 1 Axes>",
      "image/png": "[encoded data removed]"
     },
     "metadata": {
      "needs_background": "light"
     },
     "output_type": "display_data"
    }
   ],
   "source": [
    "# Plot loss\n",
    "plt.plot(history.history['loss'])\n",
    "plt.plot(history.history['val_loss'])\n",
    "plt.title('model loss')\n",
    "plt.ylabel('loss')\n",
    "plt.xlabel('epoch')\n",
    "plt.legend(['train', 'val'], loc='upper left')\n",
    "plt.show()"
   ],
   "metadata": {
    "collapsed": false,
    "pycharm": {
     "name": "#%%\n"
    }
   }
  },
  {
   "cell_type": "code",
   "execution_count": 109,
   "outputs": [],
   "source": [
    "test_df = pd.read_csv('../simulations/data/test_small_trajectories.csv')"
   ],
   "metadata": {
    "collapsed": false,
    "pycharm": {
     "name": "#%%\n"
    }
   }
  },
  {
   "cell_type": "code",
   "execution_count": 110,
   "outputs": [],
   "source": [
    "test_x = test_df[test_df.columns[2:10]]\n",
    "\n",
    "test_y = test_df['enter-parking'].values"
   ],
   "metadata": {
    "collapsed": false,
    "pycharm": {
     "name": "#%%\n"
    }
   }
  },
  {
   "cell_type": "code",
   "execution_count": 111,
   "outputs": [],
   "source": [
    "test_x = scaler.transform(test_x)"
   ],
   "metadata": {
    "collapsed": false,
    "pycharm": {
     "name": "#%%\n"
    }
   }
  },
  {
   "cell_type": "code",
   "execution_count": 112,
   "outputs": [
    {
     "name": "stdout",
     "output_type": "stream",
     "text": [
      "[[0.05057052 0.05046689 0.05954774 0.05412111 0.06877841 0.05787\n",
      "  0.07160678 0.0738116 ]\n",
      " [0.0533649  0.07889412 0.06184544 0.08064954 0.06450539 0.08477069\n",
      "  0.06458169 0.09628928]\n",
      " [0.22287568 0.11638472 0.24110125 0.11844449 0.25082339 0.11922671\n",
      "  0.2514282  0.12821745]\n",
      " [0.16924075 0.03691888 0.1780433  0.03066298 0.18325667 0.02476876\n",
      "  0.18288285 0.03522592]\n",
      " [0.23904424 0.12097805 0.25378697 0.12207921 0.25898942 0.12445461\n",
      "  0.2591536  0.13331405]\n",
      " [0.10454819 0.05005802 0.11580559 0.05224539 0.12805995 0.05603381\n",
      "  0.13243376 0.06834849]\n",
      " [0.1404374  0.86771321 0.16398986 0.89635067 0.18100408 0.91152726\n",
      "  0.19103066 0.90493991]\n",
      " [0.20656264 0.87928351 0.22579273 0.90623054 0.24397683 0.92162284\n",
      "  0.25017799 0.90902158]\n",
      " [0.26646771 0.12195394 0.28844523 0.13507867 0.30937104 0.14980406\n",
      "  0.31979222 0.16580177]\n",
      " [0.17539645 0.18831458 0.18487986 0.1780534  0.18811642 0.17162912\n",
      "  0.19104278 0.1694162 ]\n",
      " [0.14850572 0.87436345 0.15268765 0.90853232 0.15354639 0.9250398\n",
      "  0.14976805 0.92560472]\n",
      " [0.01354609 0.1072345  0.02572432 0.10496235 0.0408682  0.10414449\n",
      "  0.05170432 0.11036675]\n",
      " [0.17906263 0.05290246 0.19381729 0.07627266 0.20214442 0.09686721\n",
      "  0.20844518 0.12686832]\n",
      " [0.34378713 0.12629463 0.36323751 0.14514531 0.38251674 0.16118004\n",
      "  0.41227022 0.17621523]\n",
      " [0.03153463 0.29795477 0.04690006 0.28092016 0.06143872 0.25380241\n",
      "  0.08176928 0.23894289]\n",
      " [0.19154441 0.41860784 0.18454358 0.39218715 0.17774523 0.36059411\n",
      "  0.16258499 0.32668839]\n",
      " [0.08881176 0.07787207 0.10959916 0.07167097 0.133701   0.06561116\n",
      "  0.14642822 0.07402589]\n",
      " [0.43616824 0.14809191 0.46869189 0.14709648 0.48208284 0.15437746\n",
      "  0.50376119 0.17291744]\n",
      " [0.5271084  0.15055645 0.56149203 0.15182124 0.57854461 0.15191948\n",
      "  0.59896264 0.1465846 ]\n",
      " [0.60133165 0.10834624 0.62975306 0.10206789 0.64446732 0.0937308\n",
      "  0.67059022 0.08696135]\n",
      " [0.76935183 0.08534051 0.81763156 0.09317546 0.83364163 0.10975649\n",
      "  0.86131146 0.13308926]\n",
      " [0.65340949 0.1080357  0.69340101 0.10400961 0.71259464 0.09474087\n",
      "  0.73148901 0.09819994]\n",
      " [0.96373105 0.3163362  0.98501967 0.36336235 0.98789763 0.39868298\n",
      "  0.98923027 0.4385109 ]\n",
      " [0.25428092 0.88960966 0.27802802 0.90936338 0.29494493 0.91267144\n",
      "  0.31588858 0.89236358]\n",
      " [0.14493235 0.70729166 0.15367644 0.69168324 0.16738886 0.68173617\n",
      "  0.17911431 0.65563562]\n",
      " [0.4534599  0.89835024 0.51057726 0.91234402 0.55396339 0.91192212\n",
      "  0.60323401 0.88953078]\n",
      " [0.51203712 0.20527099 0.55639869 0.2000652  0.58815992 0.18710217\n",
      "  0.61224439 0.16880423]\n",
      " [0.00761906 0.15459102 0.01026695 0.16625025 0.01148002 0.1755772\n",
      "  0.0110045  0.19086963]\n",
      " [0.04031336 0.16623751 0.04620589 0.17540455 0.04843101 0.1856694\n",
      "  0.04794419 0.20039365]\n",
      " [0.17846097 0.1237377  0.17955236 0.14419911 0.17788146 0.16569975\n",
      "  0.17173241 0.19126638]\n",
      " [0.16836929 0.14227183 0.17232068 0.16116955 0.17102614 0.18057033\n",
      "  0.16485608 0.20689021]\n",
      " [0.18167491 0.19651551 0.18754892 0.21450947 0.18942673 0.22886445\n",
      "  0.18484759 0.24724551]\n",
      " [0.07927581 0.17897108 0.08753991 0.18660996 0.09378318 0.19673043\n",
      "  0.09347293 0.21218709]\n",
      " [0.16141423 0.76517284 0.18377661 0.76651944 0.2075566  0.75548948\n",
      "  0.22584109 0.73444902]\n",
      " [0.21478971 0.76886328 0.23437456 0.76811336 0.25019277 0.75219152\n",
      "  0.2554517  0.72123838]\n",
      " [0.14144788 0.76295558 0.16170099 0.75761527 0.17452553 0.75552158\n",
      "  0.18153704 0.73844488]\n",
      " [0.19820165 0.11765185 0.19895204 0.14607652 0.19869056 0.18622485\n",
      "  0.19597111 0.22172557]\n",
      " [0.17992851 0.78685507 0.19727666 0.78678362 0.21613307 0.77440647\n",
      "  0.22398608 0.73853484]\n",
      " [0.21840184 0.24320875 0.22088634 0.26814729 0.22296282 0.29319189\n",
      "  0.22223263 0.31353422]\n",
      " [0.22295653 0.32687246 0.22963394 0.34669235 0.23629655 0.36360342\n",
      "  0.24345701 0.37684996]\n",
      " [0.24116752 0.70184041 0.24626649 0.69225893 0.24521993 0.67684342\n",
      "  0.24345731 0.64168933]\n",
      " [0.28035809 0.21695242 0.29534679 0.23695094 0.30294095 0.25458274\n",
      "  0.30112235 0.2791333 ]\n",
      " [0.2004036  0.19046798 0.21147977 0.2175653  0.21877271 0.24350529\n",
      "  0.22368908 0.27441664]\n",
      " [0.2227705  0.1817485  0.22931653 0.2144726  0.22904514 0.24138482\n",
      "  0.2260928  0.27305099]\n",
      " [0.3533773  0.21620419 0.33387153 0.23921528 0.3173896  0.25452112\n",
      "  0.29414844 0.27650721]\n",
      " [0.23422284 0.50948838 0.24245302 0.48927101 0.24268017 0.46700759\n",
      "  0.26211035 0.45121746]\n",
      " [0.87779933 0.14138707 0.86407336 0.16822002 0.83549857 0.19721853\n",
      "  0.81097355 0.23708552]\n",
      " [0.69388004 0.21716803 0.72929467 0.22438427 0.75873708 0.22983934\n",
      "  0.79175834 0.23968518]\n",
      " [0.48798101 0.22894326 0.52285584 0.23620634 0.55415985 0.24105486\n",
      "  0.57757019 0.2464634 ]\n",
      " [0.73220322 0.17720376 0.76728411 0.19466906 0.79180341 0.21606421\n",
      "  0.80624581 0.2424372 ]\n",
      " [0.95851327 0.67796047 0.94753792 0.70450683 0.90550116 0.71665826\n",
      "  0.87656933 0.69098889]\n",
      " [0.83576206 0.77206879 0.86924436 0.76284064 0.88129273 0.74769551\n",
      "  0.89674658 0.70052316]\n",
      " [0.19560795 0.99921102 0.19349234 0.97639903 0.1861616  0.94135169\n",
      "  0.17275726 0.89124757]\n",
      " [0.22656341 0.78090167 0.24386724 0.76341468 0.25409835 0.72670382\n",
      "  0.26854289 0.69147301]\n",
      " [0.24652939 0.79511666 0.28613338 0.7873153  0.30801187 0.76879778\n",
      "  0.33576079 0.72715157]\n",
      " [0.34058021 0.78398391 0.38032603 0.77553756 0.41265628 0.75604104\n",
      "  0.43433563 0.72439334]\n",
      " [0.23629656 0.7901744  0.25495886 0.785442   0.26798276 0.76316466\n",
      "  0.27707642 0.7125578 ]\n",
      " [0.56959778 0.75390327 0.61696209 0.76452973 0.65261397 0.76481646\n",
      "  0.69036518 0.74852937]]\n",
      "[0 0 0 0 0 0 0 0 0 0 0 0 0 0 0 0 0 0 0 0 0 0 0 0 0 0 0 1 1 1 1 1 1 1 1 1 1\n",
      " 1 1 1 1 1 1 1 1 1 1 1 1 1 1 1 1 1 1 1 1 1]\n"
     ]
    }
   ],
   "source": [
    "print(test_x)\n",
    "\n",
    "print(test_y)"
   ],
   "metadata": {
    "collapsed": false,
    "pycharm": {
     "name": "#%%\n"
    }
   }
  },
  {
   "cell_type": "code",
   "execution_count": 113,
   "outputs": [
    {
     "name": "stdout",
     "output_type": "stream",
     "text": [
      "WARNING:tensorflow:5 out of the last 9 calls to <function Model.make_predict_function.<locals>.predict_function at 0x7f14cc79cd30> triggered tf.function retracing. Tracing is expensive and the excessive number of tracings could be due to (1) creating @tf.function repeatedly in a loop, (2) passing tensors with different shapes, (3) passing Python objects instead of tensors. For (1), please define your @tf.function outside of the loop. For (2), @tf.function has experimental_relax_shapes=True option that relaxes argument shapes that can avoid unnecessary retracing. For (3), please refer to https://www.tensorflow.org/guide/function#controlling_retracing and https://www.tensorflow.org/api_docs/python/tf/function for  more details.\n",
      "[[0]\n",
      " [0]\n",
      " [0]\n",
      " [0]\n",
      " [0]\n",
      " [0]\n",
      " [0]\n",
      " [0]\n",
      " [0]\n",
      " [0]\n",
      " [0]\n",
      " [0]\n",
      " [0]\n",
      " [0]\n",
      " [0]\n",
      " [0]\n",
      " [0]\n",
      " [0]\n",
      " [0]\n",
      " [0]\n",
      " [0]\n",
      " [0]\n",
      " [0]\n",
      " [0]\n",
      " [1]\n",
      " [0]\n",
      " [0]\n",
      " [1]\n",
      " [1]\n",
      " [1]\n",
      " [1]\n",
      " [1]\n",
      " [1]\n",
      " [1]\n",
      " [1]\n",
      " [1]\n",
      " [1]\n",
      " [1]\n",
      " [1]\n",
      " [1]\n",
      " [1]\n",
      " [1]\n",
      " [1]\n",
      " [1]\n",
      " [1]\n",
      " [1]\n",
      " [1]\n",
      " [1]\n",
      " [1]\n",
      " [1]\n",
      " [1]\n",
      " [1]\n",
      " [1]\n",
      " [1]\n",
      " [1]\n",
      " [1]\n",
      " [1]\n",
      " [1]]\n"
     ]
    }
   ],
   "source": [
    "predictions = (model.predict(test_x) > 0.5).astype(\"int32\")\n",
    "\n",
    "print(predictions)"
   ],
   "metadata": {
    "collapsed": false,
    "pycharm": {
     "name": "#%%\n"
    }
   }
  },
  {
   "cell_type": "code",
   "execution_count": 114,
   "outputs": [
    {
     "name": "stdout",
     "output_type": "stream",
     "text": [
      "              precision    recall  f1-score   support\n",
      "\n",
      "           0       1.00      0.96      0.98        27\n",
      "           1       0.97      1.00      0.98        31\n",
      "\n",
      "    accuracy                           0.98        58\n",
      "   macro avg       0.98      0.98      0.98        58\n",
      "weighted avg       0.98      0.98      0.98        58\n",
      "\n"
     ]
    }
   ],
   "source": [
    "print(classification_report(test_y, predictions))"
   ],
   "metadata": {
    "collapsed": false,
    "pycharm": {
     "name": "#%%\n"
    }
   }
  },
  {
   "cell_type": "code",
   "execution_count": 115,
   "outputs": [
    {
     "name": "stdout",
     "output_type": "stream",
     "text": [
      "[[26  1]\n",
      " [ 0 31]]\n"
     ]
    }
   ],
   "source": [
    "print(confusion_matrix(test_y, predictions))"
   ],
   "metadata": {
    "collapsed": false,
    "pycharm": {
     "name": "#%%\n"
    }
   }
  },
  {
   "cell_type": "code",
   "execution_count": 116,
   "outputs": [
    {
     "name": "stdout",
     "output_type": "stream",
     "text": [
      "INFO:tensorflow:Assets written to: saved-model/assets\n"
     ]
    }
   ],
   "source": [
    "model.save('saved-model')"
   ],
   "metadata": {
    "collapsed": false,
    "pycharm": {
     "name": "#%%\n"
    }
   }
  }
 ],
 "metadata": {
  "kernelspec": {
   "display_name": "Python 3",
   "language": "python",
   "name": "python3"
  },
  "language_info": {
   "codemirror_mode": {
    "name": "ipython",
    "version": 2
   },
   "file_extension": ".py",
   "mimetype": "text/x-python",
   "name": "python",
   "nbconvert_exporter": "python",
   "pygments_lexer": "ipython2",
   "version": "2.7.6"
  }
 },
 "nbformat": 4,
 "nbformat_minor": 0
}